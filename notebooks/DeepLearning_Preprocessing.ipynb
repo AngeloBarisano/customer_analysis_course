{
 "cells": [
  {
   "cell_type": "markdown",
   "metadata": {},
   "source": [
    "# Audiobooks business case"
   ]
  },
  {
   "cell_type": "markdown",
   "metadata": {},
   "source": [
    "## Preprocess the data. Balance the dataset. Standardize the data. Create 3 datasets: training, validation, and test. Save the newly created sets in a tensor friendly format (e.g. *.npz)\n",
    "\n",
    "Since we are dealing with real life data, we will need to preprocess it a bit.\n",
    "\n",
    "If you want to know how to do that, go through the code with comments. In any case, this should do the trick for most datasets organized in the way: many inputs, and then 1 cell containing the targets (supersized learning datasets). Keep in mind that a specific problem may require additional preprocessing.\n",
    "\n",
    "Note that we have removed the header row, which contains the names of the categories. We simply need the numerical data."
   ]
  },
  {
   "cell_type": "markdown",
   "metadata": {},
   "source": [
    "## Extract Data from the csv"
   ]
  },
  {
   "cell_type": "code",
   "execution_count": 45,
   "metadata": {},
   "outputs": [],
   "source": [
    "import numpy as np\n",
    "\n",
    "from sklearn.preprocessing import StandardScaler\n",
    "\n",
    "import pickle"
   ]
  },
  {
   "cell_type": "code",
   "execution_count": 46,
   "metadata": {},
   "outputs": [],
   "source": [
    "raw_csv_data = np.loadtxt(\n",
    "    \"/home/angelo/repos/vscode_repos/customer_analytics_2022/Data/Audiobooks_data.csv\",\n",
    "    delimiter=\",\",\n",
    ")"
   ]
  },
  {
   "cell_type": "code",
   "execution_count": 47,
   "metadata": {},
   "outputs": [],
   "source": [
    "# we want all but the first and last column\n",
    "unscalled_inputs_all = raw_csv_data[:, 1:-1]\n",
    "\n",
    "# dependent feature\n",
    "targets_all = raw_csv_data[:, -1]"
   ]
  },
  {
   "cell_type": "markdown",
   "metadata": {},
   "source": [
    "## Balance the dataset"
   ]
  },
  {
   "cell_type": "code",
   "execution_count": 48,
   "metadata": {},
   "outputs": [],
   "source": [
    "# 1. count the number of targets == 1 by summing the column\n",
    "num_one_targets = int(np.sum(targets_all))\n",
    "\n",
    "\n",
    "# 2. randomly keep as many 0s as there are 1s\n",
    "zero_targets_counter = 0\n",
    "\n",
    "# list to collect indices to be removed\n",
    "indicies_to_remove = []\n",
    "\n",
    "# targets_all.shape[0] is length of the vector\n",
    "for i in range(targets_all.shape[0]):\n",
    "    # increase coutner +=1 if target is 0\n",
    "    if targets_all[i] == 0:\n",
    "        zero_targets_counter += 1\n",
    "\n",
    "        # as long as there are not enough 0s, continue filling\n",
    "        if zero_targets_counter > num_one_targets:\n",
    "            indicies_to_remove.append(i)\n",
    "\n",
    "unscaled_inputs_equal_priors = np.delete(\n",
    "    unscalled_inputs_all, indicies_to_remove, axis=0\n",
    ")\n",
    "targets_equals_priors = np.delete(targets_all, indicies_to_remove, axis=0)"
   ]
  },
  {
   "cell_type": "markdown",
   "metadata": {},
   "source": [
    "## Standardize the inputs "
   ]
  },
  {
   "cell_type": "code",
   "execution_count": 49,
   "metadata": {},
   "outputs": [],
   "source": [
    "scaler_deep_learning = StandardScaler()\n",
    "scaler_inputs = scaler_deep_learning.fit_transform(unscaled_inputs_equal_priors)"
   ]
  },
  {
   "cell_type": "markdown",
   "metadata": {},
   "source": [
    "## Shuffle the data to randomize it a litte \n",
    "\n",
    "Becasue assume that the data is ordered according to date; as batches of inputs will be used, the data from one specifci date may be more homogenoeus; this will confuse the stochastic gradient descent  "
   ]
  },
  {
   "cell_type": "code",
   "execution_count": 50,
   "metadata": {},
   "outputs": [],
   "source": [
    "# When the data was collected it was actually arranged by date\n",
    "# Shuffle the indices of the data, so the data is not arranged in any way when we feed it.\n",
    "# Since we will be batching, we want the data to be as randomly spread out as possible\n",
    "shuffled_indices = np.arange(scaler_inputs.shape[0])\n",
    "np.random.shuffle(shuffled_indices)\n",
    "\n",
    "# Use the shuffled indices to shuffle the inputs and targets.\n",
    "shuffled_inputs = scaler_inputs[shuffled_indices]\n",
    "shuffled_targets = targets_equals_priors[shuffled_indices]"
   ]
  },
  {
   "cell_type": "markdown",
   "metadata": {},
   "source": [
    "## Split the dataset into train, validation, and test"
   ]
  },
  {
   "cell_type": "code",
   "execution_count": 51,
   "metadata": {},
   "outputs": [
    {
     "name": "stdout",
     "output_type": "stream",
     "text": [
      "1791.0 3579 0.5004191114836547\n",
      "213.0 447 0.47651006711409394\n",
      "233.0 448 0.5200892857142857\n"
     ]
    }
   ],
   "source": [
    "samples_count = shuffled_inputs.shape[0]\n",
    "\n",
    "# use 80-10-10 split (train, val, test)\n",
    "train_samples_count = int(0.8 * samples_count)\n",
    "validation_samples_count = int(0.1 * samples_count)\n",
    "test_samples_count = samples_count - train_samples_count - validation_samples_count\n",
    "\n",
    "\n",
    "# now extract them\n",
    "train_inputs = shuffled_inputs[:train_samples_count]\n",
    "train_targets = shuffled_targets[:train_samples_count]\n",
    "\n",
    "validation_inputs = shuffled_targets[\n",
    "    train_samples_count : train_samples_count + validation_samples_count\n",
    "]\n",
    "validation_targets = shuffled_targets[\n",
    "    train_samples_count : train_samples_count + validation_samples_count\n",
    "]\n",
    "\n",
    "test_inputs = shuffled_targets[train_samples_count + validation_samples_count :]\n",
    "test_targets = shuffled_targets[train_samples_count + validation_samples_count :]\n",
    "\n",
    "\n",
    "# Print the number of targets that are 1s, the total number of samples, and the proportion for training, validation, and test.\n",
    "print(\n",
    "    np.sum(train_targets),\n",
    "    train_samples_count,\n",
    "    np.sum(train_targets) / train_samples_count,\n",
    ")\n",
    "print(\n",
    "    np.sum(validation_targets),\n",
    "    validation_samples_count,\n",
    "    np.sum(validation_targets) / validation_samples_count,\n",
    ")\n",
    "print(\n",
    "    np.sum(test_targets), test_samples_count, np.sum(test_targets) / test_samples_count\n",
    ")"
   ]
  },
  {
   "cell_type": "markdown",
   "metadata": {},
   "source": [
    "## Save the three datasets in *.npz"
   ]
  },
  {
   "cell_type": "code",
   "execution_count": 52,
   "metadata": {},
   "outputs": [],
   "source": [
    "# Save the three datasets in *.npz.\n",
    "# In the next lesson, you will see that it is extremely valuable to name them in such a coherent way!\n",
    "\n",
    "np.savez(\"Audiobooks_data_train\", inputs=train_inputs, targets=train_targets)\n",
    "np.savez(\n",
    "    \"Audiobooks_data_validation\", inputs=validation_inputs, targets=validation_targets\n",
    ")\n",
    "np.savez(\"Audiobooks_data_test\", inputs=test_inputs, targets=test_targets)"
   ]
  },
  {
   "cell_type": "markdown",
   "metadata": {},
   "source": [
    "### Save the scaler"
   ]
  },
  {
   "cell_type": "code",
   "execution_count": 53,
   "metadata": {},
   "outputs": [],
   "source": [
    "# Similar to how we have saved the scaler files before, we also save this scaler, so we can apply in on new data\n",
    "pickle.dump(\n",
    "    scaler_deep_learning,\n",
    "    open(\n",
    "        \"/home/angelo/repos/vscode_repos/customer_analytics_2022/pickle_data_models/scaler_deep_learning.pickle\",\n",
    "        \"wb\",\n",
    "    ),\n",
    ")"
   ]
  }
 ],
 "metadata": {
  "kernelspec": {
   "display_name": "Python 3.10.5 ('customer_analytics_2022': venv)",
   "language": "python",
   "name": "python3"
  },
  "language_info": {
   "codemirror_mode": {
    "name": "ipython",
    "version": 3
   },
   "file_extension": ".py",
   "mimetype": "text/x-python",
   "name": "python",
   "nbconvert_exporter": "python",
   "pygments_lexer": "ipython3",
   "version": "3.10.5"
  },
  "orig_nbformat": 4,
  "vscode": {
   "interpreter": {
    "hash": "9bbaf45eba04bc734665b055254105252edb0a2110284d0fcd20190490706899"
   }
  }
 },
 "nbformat": 4,
 "nbformat_minor": 2
}
