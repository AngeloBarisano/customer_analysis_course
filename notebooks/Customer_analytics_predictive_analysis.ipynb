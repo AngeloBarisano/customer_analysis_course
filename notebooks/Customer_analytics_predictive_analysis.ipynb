{
 "cells": [
  {
   "cell_type": "markdown",
   "metadata": {},
   "source": [
    "# Libraries"
   ]
  },
  {
   "cell_type": "code",
   "execution_count": 253,
   "metadata": {},
   "outputs": [],
   "source": [
    "import pandas as pd\n",
    "import numpy as np\n",
    "\n",
    "\n",
    "import matplotlib.pyplot as plt\n",
    "import seaborn as sns\n",
    "sns.set()\n",
    "\n",
    "import pickle\n",
    "\n",
    "from sklearn.preprocessing import StandardScaler\n",
    "from sklearn.decomposition import PCA\n",
    "from sklearn.cluster import KMeans\n",
    "\n",
    "from sklearn.linear_model import LogisticRegression"
   ]
  },
  {
   "cell_type": "markdown",
   "metadata": {},
   "source": [
    "## Data Prep"
   ]
  },
  {
   "cell_type": "code",
   "execution_count": 254,
   "metadata": {},
   "outputs": [],
   "source": [
    "df_purchase = pd.read_csv(\n",
    "    \"/home/angelo/repos/vscode_repos/customer_analytics_2022/Data/purchase data.csv\"\n",
    ")"
   ]
  },
  {
   "cell_type": "code",
   "execution_count": 255,
   "metadata": {},
   "outputs": [],
   "source": [
    "scaler = pickle.load(\n",
    "    open(\n",
    "        \"/home/angelo/repos/vscode_repos/customer_analytics_2022/pickle_data_models/scaler.pickle\",\n",
    "        \"rb\",\n",
    "    )\n",
    ")\n",
    "\n",
    "pca = pickle.load(\n",
    "    open(\n",
    "        \"/home/angelo/repos/vscode_repos/customer_analytics_2022/pickle_data_models/pca_3.pickle\",\n",
    "        \"rb\",\n",
    "    )\n",
    ")\n",
    "\n",
    "kmeans_pca = pickle.load(\n",
    "    open(\n",
    "        \"/home/angelo/repos/vscode_repos/customer_analytics_2022/pickle_data_models/kmeans_pca_4.pickle\",\n",
    "        \"rb\",\n",
    "    )\n",
    ")"
   ]
  },
  {
   "cell_type": "markdown",
   "metadata": {},
   "source": [
    "#### Apply imported models \n",
    "\n"
   ]
  },
  {
   "cell_type": "code",
   "execution_count": 256,
   "metadata": {},
   "outputs": [],
   "source": [
    "# only apply transform; fit would mean that the model is retrained; here we only want to apply it on the data --> so only transform\n",
    "features = df_purchase.iloc[:, -7:]\n",
    "\n",
    "# apply the scaler\n",
    "df_purchase_segm_std = scaler.transform(features)"
   ]
  },
  {
   "cell_type": "code",
   "execution_count": 257,
   "metadata": {},
   "outputs": [],
   "source": [
    "#### apply the already trained scaler on the new data \n",
    "# remember that customers may be duplicates\n",
    "df_purchase_segm_pca = pca.transform(df_purchase_segm_std)"
   ]
  },
  {
   "cell_type": "code",
   "execution_count": 258,
   "metadata": {},
   "outputs": [],
   "source": [
    "#### apply the already trained pca_3 (here just pca) on the data \n",
    "# now apply the kmeans on it: use the predict method here\n",
    "purchase_segm_kmeans_pca = kmeans_pca.predict(df_purchase_segm_pca)"
   ]
  },
  {
   "cell_type": "code",
   "execution_count": 259,
   "metadata": {},
   "outputs": [],
   "source": [
    "#### apply the already trained kmeans model which was trained on the 3 components of the pca model and had k = 4 groups\n",
    "df_purchase_predictors = df_purchase.copy()\n",
    "df_purchase_predictors[\"Segment\"] = purchase_segm_kmeans_pca"
   ]
  },
  {
   "cell_type": "code",
   "execution_count": 260,
   "metadata": {},
   "outputs": [],
   "source": [
    "#### this is now the new dataframe containing the predicted segments for the customers\n",
    "df_purchase_predictors = df_purchase.copy()\n",
    "df_purchase_predictors[\"Segment\"] = purchase_segm_kmeans_pca"
   ]
  },
  {
   "cell_type": "code",
   "execution_count": 261,
   "metadata": {},
   "outputs": [],
   "source": [
    "segment_dummies = pd.get_dummies(purchase_segm_kmeans_pca, \n",
    "                                prefix = 'Segment',\n",
    "                                prefix_sep = '_')"
   ]
  },
  {
   "cell_type": "code",
   "execution_count": 262,
   "metadata": {},
   "outputs": [],
   "source": [
    "df_purchase_predictors = pd.concat([df_purchase_predictors, segment_dummies], axis = 1)"
   ]
  },
  {
   "cell_type": "code",
   "execution_count": 263,
   "metadata": {},
   "outputs": [],
   "source": [
    "df_pa = df_purchase_predictors.copy()"
   ]
  },
  {
   "cell_type": "code",
   "execution_count": 264,
   "metadata": {},
   "outputs": [
    {
     "data": {
      "text/html": [
       "<div>\n",
       "<style scoped>\n",
       "    .dataframe tbody tr th:only-of-type {\n",
       "        vertical-align: middle;\n",
       "    }\n",
       "\n",
       "    .dataframe tbody tr th {\n",
       "        vertical-align: top;\n",
       "    }\n",
       "\n",
       "    .dataframe thead th {\n",
       "        text-align: right;\n",
       "    }\n",
       "</style>\n",
       "<table border=\"1\" class=\"dataframe\">\n",
       "  <thead>\n",
       "    <tr style=\"text-align: right;\">\n",
       "      <th></th>\n",
       "      <th>ID</th>\n",
       "      <th>Day</th>\n",
       "      <th>Incidence</th>\n",
       "      <th>Brand</th>\n",
       "      <th>Quantity</th>\n",
       "      <th>Last_Inc_Brand</th>\n",
       "      <th>Last_Inc_Quantity</th>\n",
       "      <th>Price_1</th>\n",
       "      <th>Price_2</th>\n",
       "      <th>Price_3</th>\n",
       "      <th>...</th>\n",
       "      <th>Age</th>\n",
       "      <th>Education</th>\n",
       "      <th>Income</th>\n",
       "      <th>Occupation</th>\n",
       "      <th>Settlement size</th>\n",
       "      <th>Segment</th>\n",
       "      <th>Segment_0</th>\n",
       "      <th>Segment_1</th>\n",
       "      <th>Segment_2</th>\n",
       "      <th>Segment_3</th>\n",
       "    </tr>\n",
       "  </thead>\n",
       "  <tbody>\n",
       "    <tr>\n",
       "      <th>0</th>\n",
       "      <td>200000001</td>\n",
       "      <td>1</td>\n",
       "      <td>0</td>\n",
       "      <td>0</td>\n",
       "      <td>0</td>\n",
       "      <td>0</td>\n",
       "      <td>0</td>\n",
       "      <td>1.59</td>\n",
       "      <td>1.87</td>\n",
       "      <td>2.01</td>\n",
       "      <td>...</td>\n",
       "      <td>47</td>\n",
       "      <td>1</td>\n",
       "      <td>110866</td>\n",
       "      <td>1</td>\n",
       "      <td>0</td>\n",
       "      <td>2</td>\n",
       "      <td>0</td>\n",
       "      <td>0</td>\n",
       "      <td>1</td>\n",
       "      <td>0</td>\n",
       "    </tr>\n",
       "    <tr>\n",
       "      <th>1</th>\n",
       "      <td>200000001</td>\n",
       "      <td>11</td>\n",
       "      <td>0</td>\n",
       "      <td>0</td>\n",
       "      <td>0</td>\n",
       "      <td>0</td>\n",
       "      <td>0</td>\n",
       "      <td>1.51</td>\n",
       "      <td>1.89</td>\n",
       "      <td>1.99</td>\n",
       "      <td>...</td>\n",
       "      <td>47</td>\n",
       "      <td>1</td>\n",
       "      <td>110866</td>\n",
       "      <td>1</td>\n",
       "      <td>0</td>\n",
       "      <td>2</td>\n",
       "      <td>0</td>\n",
       "      <td>0</td>\n",
       "      <td>1</td>\n",
       "      <td>0</td>\n",
       "    </tr>\n",
       "    <tr>\n",
       "      <th>2</th>\n",
       "      <td>200000001</td>\n",
       "      <td>12</td>\n",
       "      <td>0</td>\n",
       "      <td>0</td>\n",
       "      <td>0</td>\n",
       "      <td>0</td>\n",
       "      <td>0</td>\n",
       "      <td>1.51</td>\n",
       "      <td>1.89</td>\n",
       "      <td>1.99</td>\n",
       "      <td>...</td>\n",
       "      <td>47</td>\n",
       "      <td>1</td>\n",
       "      <td>110866</td>\n",
       "      <td>1</td>\n",
       "      <td>0</td>\n",
       "      <td>2</td>\n",
       "      <td>0</td>\n",
       "      <td>0</td>\n",
       "      <td>1</td>\n",
       "      <td>0</td>\n",
       "    </tr>\n",
       "    <tr>\n",
       "      <th>3</th>\n",
       "      <td>200000001</td>\n",
       "      <td>16</td>\n",
       "      <td>0</td>\n",
       "      <td>0</td>\n",
       "      <td>0</td>\n",
       "      <td>0</td>\n",
       "      <td>0</td>\n",
       "      <td>1.52</td>\n",
       "      <td>1.89</td>\n",
       "      <td>1.98</td>\n",
       "      <td>...</td>\n",
       "      <td>47</td>\n",
       "      <td>1</td>\n",
       "      <td>110866</td>\n",
       "      <td>1</td>\n",
       "      <td>0</td>\n",
       "      <td>2</td>\n",
       "      <td>0</td>\n",
       "      <td>0</td>\n",
       "      <td>1</td>\n",
       "      <td>0</td>\n",
       "    </tr>\n",
       "    <tr>\n",
       "      <th>4</th>\n",
       "      <td>200000001</td>\n",
       "      <td>18</td>\n",
       "      <td>0</td>\n",
       "      <td>0</td>\n",
       "      <td>0</td>\n",
       "      <td>0</td>\n",
       "      <td>0</td>\n",
       "      <td>1.52</td>\n",
       "      <td>1.89</td>\n",
       "      <td>1.99</td>\n",
       "      <td>...</td>\n",
       "      <td>47</td>\n",
       "      <td>1</td>\n",
       "      <td>110866</td>\n",
       "      <td>1</td>\n",
       "      <td>0</td>\n",
       "      <td>2</td>\n",
       "      <td>0</td>\n",
       "      <td>0</td>\n",
       "      <td>1</td>\n",
       "      <td>0</td>\n",
       "    </tr>\n",
       "  </tbody>\n",
       "</table>\n",
       "<p>5 rows × 29 columns</p>\n",
       "</div>"
      ],
      "text/plain": [
       "          ID  Day  Incidence  Brand  Quantity  Last_Inc_Brand  \\\n",
       "0  200000001    1          0      0         0               0   \n",
       "1  200000001   11          0      0         0               0   \n",
       "2  200000001   12          0      0         0               0   \n",
       "3  200000001   16          0      0         0               0   \n",
       "4  200000001   18          0      0         0               0   \n",
       "\n",
       "   Last_Inc_Quantity  Price_1  Price_2  Price_3  ...  Age  Education  Income  \\\n",
       "0                  0     1.59     1.87     2.01  ...   47          1  110866   \n",
       "1                  0     1.51     1.89     1.99  ...   47          1  110866   \n",
       "2                  0     1.51     1.89     1.99  ...   47          1  110866   \n",
       "3                  0     1.52     1.89     1.98  ...   47          1  110866   \n",
       "4                  0     1.52     1.89     1.99  ...   47          1  110866   \n",
       "\n",
       "   Occupation  Settlement size  Segment  Segment_0  Segment_1  Segment_2  \\\n",
       "0           1                0        2          0          0          1   \n",
       "1           1                0        2          0          0          1   \n",
       "2           1                0        2          0          0          1   \n",
       "3           1                0        2          0          0          1   \n",
       "4           1                0        2          0          0          1   \n",
       "\n",
       "   Segment_3  \n",
       "0          0  \n",
       "1          0  \n",
       "2          0  \n",
       "3          0  \n",
       "4          0  \n",
       "\n",
       "[5 rows x 29 columns]"
      ]
     },
     "execution_count": 264,
     "metadata": {},
     "output_type": "execute_result"
    }
   ],
   "source": [
    "df_pa.head()"
   ]
  },
  {
   "cell_type": "markdown",
   "metadata": {},
   "source": [
    "## Purchase Probability Model\n",
    "\n",
    "The model task:\n",
    "dependent: Incidence varaible\n",
    "\n",
    "independent: Price\n",
    "\n",
    "We want to know whether a purchase has happened based on the purchase price of a product assuming that purchase probabaility is influenced by price."
   ]
  },
  {
   "cell_type": "code",
   "execution_count": 265,
   "metadata": {},
   "outputs": [],
   "source": [
    "Y = df_pa['Incidence']\n"
   ]
  },
  {
   "cell_type": "markdown",
   "metadata": {},
   "source": [
    "create price variable irrespective of the brand;\n",
    "\n",
    "possible choices to consider here:\n",
    "- i) min and max price which are good indicators how expensive a new product is\n",
    "- ii) mean or median price\n",
    "\n",
    "\n",
    "NOTE: the choice here is mean of all prices (while in a store, the customer has the choice to grab 5 different brands... we just average these 5 prices together into one per purchase opportunity in the dataset 8per instance) to see how much of the variance in Incidence can be explained by the average price of all brands together )\n",
    "\n",
    "We take mean price here as we are only looking for the pruchase probability -- meaning we are lloking for the probability that the customer buys from a CATEGORY and not specific item; so the average price of the category is a good way"
   ]
  },
  {
   "cell_type": "code",
   "execution_count": 266,
   "metadata": {},
   "outputs": [],
   "source": [
    "# create price variable irrespective of the brand\n",
    "## mean price is chosen for all prices (Price_1 to Price_5) per row\n",
    "X = pd.DataFrame()\n",
    "\n",
    "X['Mean_Price'] = (df_pa['Price_1'] +\n",
    "                    df_pa['Price_2'] +\n",
    "                    df_pa['Price_3'] +\n",
    "                    df_pa['Price_4'] +\n",
    "                    df_pa['Price_5'] ) / 5\n",
    "\n"
   ]
  },
  {
   "cell_type": "markdown",
   "metadata": {},
   "source": [
    "a solver in a models such as LogisticRegression is the technique for the iteration-optimization problem in logisitc regression such as 'sag'"
   ]
  },
  {
   "cell_type": "code",
   "execution_count": 267,
   "metadata": {},
   "outputs": [
    {
     "data": {
      "text/html": [
       "<style>#sk-container-id-24 {color: black;background-color: white;}#sk-container-id-24 pre{padding: 0;}#sk-container-id-24 div.sk-toggleable {background-color: white;}#sk-container-id-24 label.sk-toggleable__label {cursor: pointer;display: block;width: 100%;margin-bottom: 0;padding: 0.3em;box-sizing: border-box;text-align: center;}#sk-container-id-24 label.sk-toggleable__label-arrow:before {content: \"▸\";float: left;margin-right: 0.25em;color: #696969;}#sk-container-id-24 label.sk-toggleable__label-arrow:hover:before {color: black;}#sk-container-id-24 div.sk-estimator:hover label.sk-toggleable__label-arrow:before {color: black;}#sk-container-id-24 div.sk-toggleable__content {max-height: 0;max-width: 0;overflow: hidden;text-align: left;background-color: #f0f8ff;}#sk-container-id-24 div.sk-toggleable__content pre {margin: 0.2em;color: black;border-radius: 0.25em;background-color: #f0f8ff;}#sk-container-id-24 input.sk-toggleable__control:checked~div.sk-toggleable__content {max-height: 200px;max-width: 100%;overflow: auto;}#sk-container-id-24 input.sk-toggleable__control:checked~label.sk-toggleable__label-arrow:before {content: \"▾\";}#sk-container-id-24 div.sk-estimator input.sk-toggleable__control:checked~label.sk-toggleable__label {background-color: #d4ebff;}#sk-container-id-24 div.sk-label input.sk-toggleable__control:checked~label.sk-toggleable__label {background-color: #d4ebff;}#sk-container-id-24 input.sk-hidden--visually {border: 0;clip: rect(1px 1px 1px 1px);clip: rect(1px, 1px, 1px, 1px);height: 1px;margin: -1px;overflow: hidden;padding: 0;position: absolute;width: 1px;}#sk-container-id-24 div.sk-estimator {font-family: monospace;background-color: #f0f8ff;border: 1px dotted black;border-radius: 0.25em;box-sizing: border-box;margin-bottom: 0.5em;}#sk-container-id-24 div.sk-estimator:hover {background-color: #d4ebff;}#sk-container-id-24 div.sk-parallel-item::after {content: \"\";width: 100%;border-bottom: 1px solid gray;flex-grow: 1;}#sk-container-id-24 div.sk-label:hover label.sk-toggleable__label {background-color: #d4ebff;}#sk-container-id-24 div.sk-serial::before {content: \"\";position: absolute;border-left: 1px solid gray;box-sizing: border-box;top: 0;bottom: 0;left: 50%;z-index: 0;}#sk-container-id-24 div.sk-serial {display: flex;flex-direction: column;align-items: center;background-color: white;padding-right: 0.2em;padding-left: 0.2em;position: relative;}#sk-container-id-24 div.sk-item {position: relative;z-index: 1;}#sk-container-id-24 div.sk-parallel {display: flex;align-items: stretch;justify-content: center;background-color: white;position: relative;}#sk-container-id-24 div.sk-item::before, #sk-container-id-24 div.sk-parallel-item::before {content: \"\";position: absolute;border-left: 1px solid gray;box-sizing: border-box;top: 0;bottom: 0;left: 50%;z-index: -1;}#sk-container-id-24 div.sk-parallel-item {display: flex;flex-direction: column;z-index: 1;position: relative;background-color: white;}#sk-container-id-24 div.sk-parallel-item:first-child::after {align-self: flex-end;width: 50%;}#sk-container-id-24 div.sk-parallel-item:last-child::after {align-self: flex-start;width: 50%;}#sk-container-id-24 div.sk-parallel-item:only-child::after {width: 0;}#sk-container-id-24 div.sk-dashed-wrapped {border: 1px dashed gray;margin: 0 0.4em 0.5em 0.4em;box-sizing: border-box;padding-bottom: 0.4em;background-color: white;}#sk-container-id-24 div.sk-label label {font-family: monospace;font-weight: bold;display: inline-block;line-height: 1.2em;}#sk-container-id-24 div.sk-label-container {text-align: center;}#sk-container-id-24 div.sk-container {/* jupyter's `normalize.less` sets `[hidden] { display: none; }` but bootstrap.min.css set `[hidden] { display: none !important; }` so we also need the `!important` here to be able to override the default hidden behavior on the sphinx rendered scikit-learn.org. See: https://github.com/scikit-learn/scikit-learn/issues/21755 */display: inline-block !important;position: relative;}#sk-container-id-24 div.sk-text-repr-fallback {display: none;}</style><div id=\"sk-container-id-24\" class=\"sk-top-container\"><div class=\"sk-text-repr-fallback\"><pre>LogisticRegression(solver=&#x27;sag&#x27;)</pre><b>In a Jupyter environment, please rerun this cell to show the HTML representation or trust the notebook. <br />On GitHub, the HTML representation is unable to render, please try loading this page with nbviewer.org.</b></div><div class=\"sk-container\" hidden><div class=\"sk-item\"><div class=\"sk-estimator sk-toggleable\"><input class=\"sk-toggleable__control sk-hidden--visually\" id=\"sk-estimator-id-24\" type=\"checkbox\" checked><label for=\"sk-estimator-id-24\" class=\"sk-toggleable__label sk-toggleable__label-arrow\">LogisticRegression</label><div class=\"sk-toggleable__content\"><pre>LogisticRegression(solver=&#x27;sag&#x27;)</pre></div></div></div></div></div>"
      ],
      "text/plain": [
       "LogisticRegression(solver='sag')"
      ]
     },
     "execution_count": 267,
     "metadata": {},
     "output_type": "execute_result"
    }
   ],
   "source": [
    "model_purchase = LogisticRegression(solver = 'sag')\n",
    "model_purchase.fit(X, Y)"
   ]
  },
  {
   "cell_type": "markdown",
   "metadata": {},
   "source": [
    "by fitting a logistic regression on this data, this command estimates the purchase probabaiility and stores the results in the model_purchase instance of the trained LogisticRegression model.\n",
    "\n"
   ]
  },
  {
   "cell_type": "code",
   "execution_count": 268,
   "metadata": {},
   "outputs": [
    {
     "data": {
      "text/plain": [
       "array([[-2.34771593]])"
      ]
     },
     "execution_count": 268,
     "metadata": {},
     "output_type": "execute_result"
    }
   ],
   "source": [
    "# coef_ holds the coefficients for a model; here univariate price\n",
    "model_purchase.coef_"
   ]
  },
  {
   "cell_type": "markdown",
   "metadata": {},
   "source": [
    "Analysis: negative coefficient indicates that an increase in price will decrease the probabaility of purchase and vice versa\n",
    "\n",
    "However, logistic regression can do more: this model also quantifies the exact  relationship between pruice and probability of purchase in addition to magnitude (elasiticity)"
   ]
  },
  {
   "cell_type": "markdown",
   "metadata": {},
   "source": [
    "## Price Elasticity of Purchase Probability\n",
    "\n",
    "Price elasitiy of purchase probabauility is the percentage change in prucahse probability in response to a one percent change in price in the product category\n",
    "\n",
    "\n",
    "the coefficient for price here array([[-2.34904564]]) is the change in probabaility given the price; this is what the coefficient shows:\n",
    "\n",
    "As such we want to see different values for mean price and see how the probabaility "
   ]
  },
  {
   "cell_type": "code",
   "execution_count": 269,
   "metadata": {},
   "outputs": [
    {
     "data": {
      "text/html": [
       "<div>\n",
       "<style scoped>\n",
       "    .dataframe tbody tr th:only-of-type {\n",
       "        vertical-align: middle;\n",
       "    }\n",
       "\n",
       "    .dataframe tbody tr th {\n",
       "        vertical-align: top;\n",
       "    }\n",
       "\n",
       "    .dataframe thead th {\n",
       "        text-align: right;\n",
       "    }\n",
       "</style>\n",
       "<table border=\"1\" class=\"dataframe\">\n",
       "  <thead>\n",
       "    <tr style=\"text-align: right;\">\n",
       "      <th></th>\n",
       "      <th>Price_1</th>\n",
       "      <th>Price_2</th>\n",
       "      <th>Price_3</th>\n",
       "      <th>Price_4</th>\n",
       "      <th>Price_5</th>\n",
       "    </tr>\n",
       "  </thead>\n",
       "  <tbody>\n",
       "    <tr>\n",
       "      <th>count</th>\n",
       "      <td>58693.000000</td>\n",
       "      <td>58693.000000</td>\n",
       "      <td>58693.000000</td>\n",
       "      <td>58693.000000</td>\n",
       "      <td>58693.000000</td>\n",
       "    </tr>\n",
       "    <tr>\n",
       "      <th>mean</th>\n",
       "      <td>1.392074</td>\n",
       "      <td>1.780999</td>\n",
       "      <td>2.006789</td>\n",
       "      <td>2.159945</td>\n",
       "      <td>2.654798</td>\n",
       "    </tr>\n",
       "    <tr>\n",
       "      <th>std</th>\n",
       "      <td>0.091139</td>\n",
       "      <td>0.170868</td>\n",
       "      <td>0.046867</td>\n",
       "      <td>0.089825</td>\n",
       "      <td>0.098272</td>\n",
       "    </tr>\n",
       "    <tr>\n",
       "      <th>min</th>\n",
       "      <td>1.100000</td>\n",
       "      <td>1.260000</td>\n",
       "      <td>1.870000</td>\n",
       "      <td>1.760000</td>\n",
       "      <td>2.110000</td>\n",
       "    </tr>\n",
       "    <tr>\n",
       "      <th>25%</th>\n",
       "      <td>1.340000</td>\n",
       "      <td>1.580000</td>\n",
       "      <td>1.970000</td>\n",
       "      <td>2.120000</td>\n",
       "      <td>2.630000</td>\n",
       "    </tr>\n",
       "    <tr>\n",
       "      <th>50%</th>\n",
       "      <td>1.390000</td>\n",
       "      <td>1.880000</td>\n",
       "      <td>2.010000</td>\n",
       "      <td>2.170000</td>\n",
       "      <td>2.670000</td>\n",
       "    </tr>\n",
       "    <tr>\n",
       "      <th>75%</th>\n",
       "      <td>1.470000</td>\n",
       "      <td>1.890000</td>\n",
       "      <td>2.060000</td>\n",
       "      <td>2.240000</td>\n",
       "      <td>2.700000</td>\n",
       "    </tr>\n",
       "    <tr>\n",
       "      <th>max</th>\n",
       "      <td>1.590000</td>\n",
       "      <td>1.900000</td>\n",
       "      <td>2.140000</td>\n",
       "      <td>2.260000</td>\n",
       "      <td>2.800000</td>\n",
       "    </tr>\n",
       "  </tbody>\n",
       "</table>\n",
       "</div>"
      ],
      "text/plain": [
       "            Price_1       Price_2       Price_3       Price_4       Price_5\n",
       "count  58693.000000  58693.000000  58693.000000  58693.000000  58693.000000\n",
       "mean       1.392074      1.780999      2.006789      2.159945      2.654798\n",
       "std        0.091139      0.170868      0.046867      0.089825      0.098272\n",
       "min        1.100000      1.260000      1.870000      1.760000      2.110000\n",
       "25%        1.340000      1.580000      1.970000      2.120000      2.630000\n",
       "50%        1.390000      1.880000      2.010000      2.170000      2.670000\n",
       "75%        1.470000      1.890000      2.060000      2.240000      2.700000\n",
       "max        1.590000      1.900000      2.140000      2.260000      2.800000"
      ]
     },
     "execution_count": 269,
     "metadata": {},
     "output_type": "execute_result"
    }
   ],
   "source": [
    "# create a price range to test\n",
    "df_pa.loc[:, ['Price_1', 'Price_2', 'Price_3', 'Price_4', 'Price_5']].describe()"
   ]
  },
  {
   "cell_type": "markdown",
   "metadata": {},
   "source": [
    "minprice is 1.1€; and maxprice is 2.8€\n",
    "\n",
    "--> expand this range a little got get a better understanding of the elasiticity such as [0.5; 3.5] or even [0 ; 5]"
   ]
  },
  {
   "cell_type": "code",
   "execution_count": 270,
   "metadata": {},
   "outputs": [],
   "source": [
    "# add a 0.01 price change \n",
    "price_range = np.arange(0.5, 3.5, 0.01)"
   ]
  },
  {
   "cell_type": "code",
   "execution_count": 271,
   "metadata": {},
   "outputs": [],
   "source": [
    "df_price_range = pd.DataFrame(price_range)"
   ]
  },
  {
   "cell_type": "code",
   "execution_count": 272,
   "metadata": {},
   "outputs": [
    {
     "name": "stderr",
     "output_type": "stream",
     "text": [
      "/home/angelo/repos/vscode_repos/customer_analytics_2022/lib64/python3.10/site-packages/sklearn/base.py:450: UserWarning: X does not have valid feature names, but LogisticRegression was fitted with feature names\n",
      "  warnings.warn(\n"
     ]
    }
   ],
   "source": [
    "# now predict the purchase probabability using the trained model\n",
    "Y_pr = model_purchase.predict_proba(df_price_range)"
   ]
  },
  {
   "cell_type": "code",
   "execution_count": 273,
   "metadata": {},
   "outputs": [
    {
     "data": {
      "text/plain": [
       "array([[0.08210522, 0.91789478],\n",
       "       [0.083892  , 0.916108  ],\n",
       "       [0.08571403, 0.91428597],\n",
       "       [0.08757185, 0.91242815],\n",
       "       [0.089466  , 0.910534  ],\n",
       "       [0.09139701, 0.90860299],\n",
       "       [0.09336543, 0.90663457],\n",
       "       [0.0953718 , 0.9046282 ],\n",
       "       [0.09741665, 0.90258335],\n",
       "       [0.09950051, 0.90049949],\n",
       "       [0.10162394, 0.89837606],\n",
       "       [0.10378746, 0.89621254],\n",
       "       [0.1059916 , 0.8940084 ],\n",
       "       [0.1082369 , 0.8917631 ],\n",
       "       [0.11052389, 0.88947611],\n",
       "       [0.11285308, 0.88714692],\n",
       "       [0.115225  , 0.884775  ],\n",
       "       [0.11764016, 0.88235984],\n",
       "       [0.12009907, 0.87990093],\n",
       "       [0.12260223, 0.87739777],\n",
       "       [0.12515015, 0.87484985],\n",
       "       [0.12774331, 0.87225669],\n",
       "       [0.13038219, 0.86961781],\n",
       "       [0.13306727, 0.86693273],\n",
       "       [0.13579901, 0.86420099],\n",
       "       [0.13857787, 0.86142213],\n",
       "       [0.14140429, 0.85859571],\n",
       "       [0.1442787 , 0.8557213 ],\n",
       "       [0.14720152, 0.85279848],\n",
       "       [0.15017316, 0.84982684],\n",
       "       [0.15319401, 0.84680599],\n",
       "       [0.15626446, 0.84373554],\n",
       "       [0.15938486, 0.84061514],\n",
       "       [0.16255557, 0.83744443],\n",
       "       [0.16577692, 0.83422308],\n",
       "       [0.16904922, 0.83095078],\n",
       "       [0.17237276, 0.82762724],\n",
       "       [0.17574783, 0.82425217],\n",
       "       [0.17917467, 0.82082533],\n",
       "       [0.18265353, 0.81734647],\n",
       "       [0.18618461, 0.81381539],\n",
       "       [0.1897681 , 0.8102319 ],\n",
       "       [0.19340418, 0.80659582],\n",
       "       [0.19709297, 0.80290703],\n",
       "       [0.20083461, 0.79916539],\n",
       "       [0.20462917, 0.79537083],\n",
       "       [0.20847672, 0.79152328],\n",
       "       [0.2123773 , 0.7876227 ],\n",
       "       [0.21633092, 0.78366908],\n",
       "       [0.22033754, 0.77966246],\n",
       "       [0.22439713, 0.77560287],\n",
       "       [0.22850958, 0.77149042],\n",
       "       [0.2326748 , 0.7673252 ],\n",
       "       [0.23689262, 0.76310738],\n",
       "       [0.24116288, 0.75883712],\n",
       "       [0.24548534, 0.75451466],\n",
       "       [0.24985977, 0.75014023],\n",
       "       [0.25428588, 0.74571412],\n",
       "       [0.25876335, 0.74123665],\n",
       "       [0.26329183, 0.73670817],\n",
       "       [0.26787091, 0.73212909],\n",
       "       [0.27250017, 0.72749983],\n",
       "       [0.27717915, 0.72282085],\n",
       "       [0.28190734, 0.71809266],\n",
       "       [0.28668419, 0.71331581],\n",
       "       [0.29150912, 0.70849088],\n",
       "       [0.29638152, 0.70361848],\n",
       "       [0.30130073, 0.69869927],\n",
       "       [0.30626604, 0.69373396],\n",
       "       [0.31127673, 0.68872327],\n",
       "       [0.31633201, 0.68366799],\n",
       "       [0.32143108, 0.67856892],\n",
       "       [0.32657307, 0.67342693],\n",
       "       [0.33175711, 0.66824289],\n",
       "       [0.33698226, 0.66301774],\n",
       "       [0.34224756, 0.65775244],\n",
       "       [0.34755201, 0.65244799],\n",
       "       [0.35289455, 0.64710545],\n",
       "       [0.35827413, 0.64172587],\n",
       "       [0.36368962, 0.63631038],\n",
       "       [0.36913989, 0.63086011],\n",
       "       [0.37462374, 0.62537626],\n",
       "       [0.38013997, 0.61986003],\n",
       "       [0.38568733, 0.61431267],\n",
       "       [0.39126455, 0.60873545],\n",
       "       [0.39687031, 0.60312969],\n",
       "       [0.40250329, 0.59749671],\n",
       "       [0.4081621 , 0.5918379 ],\n",
       "       [0.41384537, 0.58615463],\n",
       "       [0.41955168, 0.58044832],\n",
       "       [0.42527959, 0.57472041],\n",
       "       [0.43102762, 0.56897238],\n",
       "       [0.4367943 , 0.5632057 ],\n",
       "       [0.44257811, 0.55742189],\n",
       "       [0.44837754, 0.55162246],\n",
       "       [0.45419105, 0.54580895],\n",
       "       [0.46001707, 0.53998293],\n",
       "       [0.46585404, 0.53414596],\n",
       "       [0.47170037, 0.52829963],\n",
       "       [0.47755448, 0.52244552],\n",
       "       [0.48341476, 0.51658524],\n",
       "       [0.48927961, 0.51072039],\n",
       "       [0.49514741, 0.50485259],\n",
       "       [0.50101654, 0.49898346],\n",
       "       [0.5068854 , 0.4931146 ],\n",
       "       [0.51275236, 0.48724764],\n",
       "       [0.51861581, 0.48138419],\n",
       "       [0.52447413, 0.47552587],\n",
       "       [0.53032573, 0.46967427],\n",
       "       [0.536169  , 0.463831  ],\n",
       "       [0.54200235, 0.45799765],\n",
       "       [0.54782422, 0.45217578],\n",
       "       [0.55363302, 0.44636698],\n",
       "       [0.55942722, 0.44057278],\n",
       "       [0.56520527, 0.43479473],\n",
       "       [0.57096566, 0.42903434],\n",
       "       [0.57670688, 0.42329312],\n",
       "       [0.58242747, 0.41757253],\n",
       "       [0.58812596, 0.41187404],\n",
       "       [0.59380092, 0.40619908],\n",
       "       [0.59945094, 0.40054906],\n",
       "       [0.60507464, 0.39492536],\n",
       "       [0.61067067, 0.38932933],\n",
       "       [0.61623769, 0.38376231],\n",
       "       [0.62177441, 0.37822559],\n",
       "       [0.62727957, 0.37272043],\n",
       "       [0.63275192, 0.36724808],\n",
       "       [0.63819027, 0.36180973],\n",
       "       [0.64359345, 0.35640655],\n",
       "       [0.64896032, 0.35103968],\n",
       "       [0.65428979, 0.34571021],\n",
       "       [0.65958079, 0.34041921],\n",
       "       [0.6648323 , 0.3351677 ],\n",
       "       [0.67004331, 0.32995669],\n",
       "       [0.67521289, 0.32478711],\n",
       "       [0.68034012, 0.31965988],\n",
       "       [0.68542411, 0.31457589],\n",
       "       [0.69046404, 0.30953596],\n",
       "       [0.69545909, 0.30454091],\n",
       "       [0.70040851, 0.29959149],\n",
       "       [0.70531158, 0.29468842],\n",
       "       [0.71016761, 0.28983239],\n",
       "       [0.71497596, 0.28502404],\n",
       "       [0.71973602, 0.28026398],\n",
       "       [0.72444722, 0.27555278],\n",
       "       [0.72910903, 0.27089097],\n",
       "       [0.73372096, 0.26627904],\n",
       "       [0.73828256, 0.26171744],\n",
       "       [0.74279341, 0.25720659],\n",
       "       [0.74725313, 0.25274687],\n",
       "       [0.75166137, 0.24833863],\n",
       "       [0.75601783, 0.24398217],\n",
       "       [0.76032224, 0.23967776],\n",
       "       [0.76457436, 0.23542564],\n",
       "       [0.76877397, 0.23122603],\n",
       "       [0.77292093, 0.22707907],\n",
       "       [0.77701508, 0.22298492],\n",
       "       [0.78105633, 0.21894367],\n",
       "       [0.7850446 , 0.2149554 ],\n",
       "       [0.78897984, 0.21102016],\n",
       "       [0.79286205, 0.20713795],\n",
       "       [0.79669125, 0.20330875],\n",
       "       [0.80046747, 0.19953253],\n",
       "       [0.80419078, 0.19580922],\n",
       "       [0.8078613 , 0.1921387 ],\n",
       "       [0.81147915, 0.18852085],\n",
       "       [0.81504446, 0.18495554],\n",
       "       [0.81855743, 0.18144257],\n",
       "       [0.82201824, 0.17798176],\n",
       "       [0.82542712, 0.17457288],\n",
       "       [0.82878431, 0.17121569],\n",
       "       [0.83209007, 0.16790993],\n",
       "       [0.83534469, 0.16465531],\n",
       "       [0.83854846, 0.16145154],\n",
       "       [0.84170171, 0.15829829],\n",
       "       [0.84480477, 0.15519523],\n",
       "       [0.84785799, 0.15214201],\n",
       "       [0.85086176, 0.14913824],\n",
       "       [0.85381644, 0.14618356],\n",
       "       [0.85672244, 0.14327756],\n",
       "       [0.85958018, 0.14041982],\n",
       "       [0.86239007, 0.13760993],\n",
       "       [0.86515256, 0.13484744],\n",
       "       [0.86786808, 0.13213192],\n",
       "       [0.87053711, 0.12946289],\n",
       "       [0.8731601 , 0.1268399 ],\n",
       "       [0.87573753, 0.12426247],\n",
       "       [0.87826989, 0.12173011],\n",
       "       [0.88075767, 0.11924233],\n",
       "       [0.88320137, 0.11679863],\n",
       "       [0.88560149, 0.11439851],\n",
       "       [0.88795855, 0.11204145],\n",
       "       [0.89027307, 0.10972693],\n",
       "       [0.89254555, 0.10745445],\n",
       "       [0.89477654, 0.10522346],\n",
       "       [0.89696655, 0.10303345],\n",
       "       [0.89911612, 0.10088388],\n",
       "       [0.90122578, 0.09877422],\n",
       "       [0.90329607, 0.09670393],\n",
       "       [0.90532752, 0.09467248],\n",
       "       [0.90732068, 0.09267932],\n",
       "       [0.90927609, 0.09072391],\n",
       "       [0.91119427, 0.08880573],\n",
       "       [0.91307578, 0.08692422],\n",
       "       [0.91492114, 0.08507886],\n",
       "       [0.9167309 , 0.0832691 ],\n",
       "       [0.91850559, 0.08149441],\n",
       "       [0.92024575, 0.07975425],\n",
       "       [0.92195191, 0.07804809],\n",
       "       [0.9236246 , 0.0763754 ],\n",
       "       [0.92526435, 0.07473565],\n",
       "       [0.92687168, 0.07312832],\n",
       "       [0.92844711, 0.07155289],\n",
       "       [0.92999117, 0.07000883],\n",
       "       [0.93150437, 0.06849563],\n",
       "       [0.93298721, 0.06701279],\n",
       "       [0.93444022, 0.06555978],\n",
       "       [0.93586388, 0.06413612],\n",
       "       [0.93725871, 0.06274129],\n",
       "       [0.93862519, 0.06137481],\n",
       "       [0.93996381, 0.06003619],\n",
       "       [0.94127506, 0.05872494],\n",
       "       [0.94255943, 0.05744057],\n",
       "       [0.94381738, 0.05618262],\n",
       "       [0.94504939, 0.05495061],\n",
       "       [0.94625592, 0.05374408],\n",
       "       [0.94743744, 0.05256256],\n",
       "       [0.94859439, 0.05140561],\n",
       "       [0.94972722, 0.05027278],\n",
       "       [0.95083639, 0.04916361],\n",
       "       [0.95192232, 0.04807768],\n",
       "       [0.95298545, 0.04701455],\n",
       "       [0.95402621, 0.04597379],\n",
       "       [0.95504502, 0.04495498],\n",
       "       [0.95604229, 0.04395771],\n",
       "       [0.95701843, 0.04298157],\n",
       "       [0.95797385, 0.04202615],\n",
       "       [0.95890894, 0.04109106],\n",
       "       [0.9598241 , 0.0401759 ],\n",
       "       [0.96071971, 0.03928029],\n",
       "       [0.96159616, 0.03840384],\n",
       "       [0.96245381, 0.03754619],\n",
       "       [0.96329304, 0.03670696],\n",
       "       [0.96411421, 0.03588579],\n",
       "       [0.96491769, 0.03508231],\n",
       "       [0.96570381, 0.03429619],\n",
       "       [0.96647293, 0.03352707],\n",
       "       [0.96722538, 0.03277462],\n",
       "       [0.96796151, 0.03203849],\n",
       "       [0.96868164, 0.03131836],\n",
       "       [0.96938609, 0.03061391],\n",
       "       [0.97007519, 0.02992481],\n",
       "       [0.97074925, 0.02925075],\n",
       "       [0.97140857, 0.02859143],\n",
       "       [0.97205346, 0.02794654],\n",
       "       [0.97268421, 0.02731579],\n",
       "       [0.97330111, 0.02669889],\n",
       "       [0.97390446, 0.02609554],\n",
       "       [0.97449453, 0.02550547],\n",
       "       [0.9750716 , 0.0249284 ],\n",
       "       [0.97563593, 0.02436407],\n",
       "       [0.97618781, 0.02381219],\n",
       "       [0.97672748, 0.02327252],\n",
       "       [0.97725521, 0.02274479],\n",
       "       [0.97777124, 0.02222876],\n",
       "       [0.97827583, 0.02172417],\n",
       "       [0.97876921, 0.02123079],\n",
       "       [0.97925162, 0.02074838],\n",
       "       [0.97972329, 0.02027671],\n",
       "       [0.98018447, 0.01981553],\n",
       "       [0.98063536, 0.01936464],\n",
       "       [0.98107619, 0.01892381],\n",
       "       [0.98150717, 0.01849283],\n",
       "       [0.98192852, 0.01807148],\n",
       "       [0.98234044, 0.01765956],\n",
       "       [0.98274313, 0.01725687],\n",
       "       [0.9831368 , 0.0168632 ],\n",
       "       [0.98352164, 0.01647836],\n",
       "       [0.98389785, 0.01610215],\n",
       "       [0.9842656 , 0.0157344 ],\n",
       "       [0.98462508, 0.01537492],\n",
       "       [0.98497648, 0.01502352],\n",
       "       [0.98531996, 0.01468004],\n",
       "       [0.98565571, 0.01434429],\n",
       "       [0.98598388, 0.01401612],\n",
       "       [0.98630465, 0.01369535],\n",
       "       [0.98661818, 0.01338182],\n",
       "       [0.98692463, 0.01307537],\n",
       "       [0.98722415, 0.01277585],\n",
       "       [0.9875169 , 0.0124831 ],\n",
       "       [0.98780302, 0.01219698],\n",
       "       [0.98808266, 0.01191734],\n",
       "       [0.98835597, 0.01164403],\n",
       "       [0.98862308, 0.01137692],\n",
       "       [0.98888413, 0.01111587],\n",
       "       [0.98913926, 0.01086074],\n",
       "       [0.9893886 , 0.0106114 ],\n",
       "       [0.98963227, 0.01036773],\n",
       "       [0.9898704 , 0.0101296 ],\n",
       "       [0.99010312, 0.00989688]])"
      ]
     },
     "execution_count": 273,
     "metadata": {},
     "output_type": "execute_result"
    }
   ],
   "source": [
    "Y_pr"
   ]
  },
  {
   "cell_type": "markdown",
   "metadata": {},
   "source": [
    "the predicted output above for the different prices shows the class probabilities for 0 & 1 (so unsucessful and successfull); each row == 100%\n",
    "\n",
    "Probabbility of pruchase (== 1) is the second column"
   ]
  },
  {
   "cell_type": "code",
   "execution_count": 274,
   "metadata": {},
   "outputs": [],
   "source": [
    "# get only the second column\n",
    "purchase_pr = Y_pr[:][:, 1]"
   ]
  },
  {
   "cell_type": "markdown",
   "metadata": {},
   "source": [
    "Question now is:\n",
    "\n",
    "How is demand for the product change for a given change in price? --> elasiticies will answer this\n",
    "\n",
    "\n",
    "Definition of price elasiticiy \n",
    "\n",
    "E = (delta_Pr(purchase) / (Pr(purchase)) / (delta_Price/Price))\n",
    "\n",
    "(=) E = beta * price * (1 - Pr(purchase))"
   ]
  },
  {
   "cell_type": "code",
   "execution_count": 275,
   "metadata": {},
   "outputs": [],
   "source": [
    "# price elastiticity == price coeff of the model\n",
    "pe = model_purchase.coef_[:, 0] * price_range * (1 - purchase_pr)"
   ]
  },
  {
   "cell_type": "markdown",
   "metadata": {},
   "source": [
    "#### The above array contains the price elasticity at each price point"
   ]
  },
  {
   "cell_type": "code",
   "execution_count": 276,
   "metadata": {},
   "outputs": [],
   "source": [
    "df_price_elasticities = pd.DataFrame(price_range)"
   ]
  },
  {
   "cell_type": "code",
   "execution_count": 277,
   "metadata": {},
   "outputs": [],
   "source": [
    "df_price_elasticities = df_price_elasticities.rename(columns = {0: 'Price_Point'})"
   ]
  },
  {
   "cell_type": "code",
   "execution_count": 278,
   "metadata": {},
   "outputs": [],
   "source": [
    "df_price_elasticities['Mean_PE'] = pe"
   ]
  },
  {
   "cell_type": "markdown",
   "metadata": {},
   "source": [
    "each row we have the price point and the price elastitiy of that price point (so a one percent change in price at price point x will increase/decrease the purchase probabaility by xxx%)\n",
    "\n",
    "Mean_PE is already in percent; eg the first instqance at price point 0.5 --> a price increase of 1% results in a purchase probability decrease of 0.096% "
   ]
  },
  {
   "cell_type": "code",
   "execution_count": 279,
   "metadata": {},
   "outputs": [
    {
     "data": {
      "text/html": [
       "<div>\n",
       "<style scoped>\n",
       "    .dataframe tbody tr th:only-of-type {\n",
       "        vertical-align: middle;\n",
       "    }\n",
       "\n",
       "    .dataframe tbody tr th {\n",
       "        vertical-align: top;\n",
       "    }\n",
       "\n",
       "    .dataframe thead th {\n",
       "        text-align: right;\n",
       "    }\n",
       "</style>\n",
       "<table border=\"1\" class=\"dataframe\">\n",
       "  <thead>\n",
       "    <tr style=\"text-align: right;\">\n",
       "      <th></th>\n",
       "      <th>Price_Point</th>\n",
       "      <th>Mean_PE</th>\n",
       "    </tr>\n",
       "  </thead>\n",
       "  <tbody>\n",
       "    <tr>\n",
       "      <th>0</th>\n",
       "      <td>0.50</td>\n",
       "      <td>-0.096380</td>\n",
       "    </tr>\n",
       "    <tr>\n",
       "      <th>1</th>\n",
       "      <td>0.51</td>\n",
       "      <td>-0.100447</td>\n",
       "    </tr>\n",
       "    <tr>\n",
       "      <th>2</th>\n",
       "      <td>0.52</td>\n",
       "      <td>-0.104641</td>\n",
       "    </tr>\n",
       "    <tr>\n",
       "      <th>3</th>\n",
       "      <td>0.53</td>\n",
       "      <td>-0.108965</td>\n",
       "    </tr>\n",
       "    <tr>\n",
       "      <th>4</th>\n",
       "      <td>0.54</td>\n",
       "      <td>-0.113422</td>\n",
       "    </tr>\n",
       "    <tr>\n",
       "      <th>...</th>\n",
       "      <td>...</td>\n",
       "      <td>...</td>\n",
       "    </tr>\n",
       "    <tr>\n",
       "      <th>295</th>\n",
       "      <td>3.45</td>\n",
       "      <td>-8.011652</td>\n",
       "    </tr>\n",
       "    <tr>\n",
       "      <th>296</th>\n",
       "      <td>3.46</td>\n",
       "      <td>-8.036900</td>\n",
       "    </tr>\n",
       "    <tr>\n",
       "      <th>297</th>\n",
       "      <td>3.47</td>\n",
       "      <td>-8.062113</td>\n",
       "    </tr>\n",
       "    <tr>\n",
       "      <th>298</th>\n",
       "      <td>3.48</td>\n",
       "      <td>-8.087292</td>\n",
       "    </tr>\n",
       "    <tr>\n",
       "      <th>299</th>\n",
       "      <td>3.49</td>\n",
       "      <td>-8.112438</td>\n",
       "    </tr>\n",
       "  </tbody>\n",
       "</table>\n",
       "<p>300 rows × 2 columns</p>\n",
       "</div>"
      ],
      "text/plain": [
       "     Price_Point   Mean_PE\n",
       "0           0.50 -0.096380\n",
       "1           0.51 -0.100447\n",
       "2           0.52 -0.104641\n",
       "3           0.53 -0.108965\n",
       "4           0.54 -0.113422\n",
       "..           ...       ...\n",
       "295         3.45 -8.011652\n",
       "296         3.46 -8.036900\n",
       "297         3.47 -8.062113\n",
       "298         3.48 -8.087292\n",
       "299         3.49 -8.112438\n",
       "\n",
       "[300 rows x 2 columns]"
      ]
     },
     "execution_count": 279,
     "metadata": {},
     "output_type": "execute_result"
    }
   ],
   "source": [
    "df_price_elasticities"
   ]
  },
  {
   "cell_type": "code",
   "execution_count": 280,
   "metadata": {},
   "outputs": [
    {
     "data": {
      "text/html": [
       "<div>\n",
       "<style scoped>\n",
       "    .dataframe tbody tr th:only-of-type {\n",
       "        vertical-align: middle;\n",
       "    }\n",
       "\n",
       "    .dataframe tbody tr th {\n",
       "        vertical-align: top;\n",
       "    }\n",
       "\n",
       "    .dataframe thead th {\n",
       "        text-align: right;\n",
       "    }\n",
       "</style>\n",
       "<table border=\"1\" class=\"dataframe\">\n",
       "  <thead>\n",
       "    <tr style=\"text-align: right;\">\n",
       "      <th></th>\n",
       "      <th>Price_Point</th>\n",
       "      <th>Mean_PE</th>\n",
       "    </tr>\n",
       "  </thead>\n",
       "  <tbody>\n",
       "    <tr>\n",
       "      <th>0</th>\n",
       "      <td>0.50</td>\n",
       "      <td>-0.096380</td>\n",
       "    </tr>\n",
       "    <tr>\n",
       "      <th>1</th>\n",
       "      <td>0.51</td>\n",
       "      <td>-0.100447</td>\n",
       "    </tr>\n",
       "    <tr>\n",
       "      <th>2</th>\n",
       "      <td>0.52</td>\n",
       "      <td>-0.104641</td>\n",
       "    </tr>\n",
       "    <tr>\n",
       "      <th>3</th>\n",
       "      <td>0.53</td>\n",
       "      <td>-0.108965</td>\n",
       "    </tr>\n",
       "    <tr>\n",
       "      <th>4</th>\n",
       "      <td>0.54</td>\n",
       "      <td>-0.113422</td>\n",
       "    </tr>\n",
       "    <tr>\n",
       "      <th>...</th>\n",
       "      <td>...</td>\n",
       "      <td>...</td>\n",
       "    </tr>\n",
       "    <tr>\n",
       "      <th>295</th>\n",
       "      <td>3.45</td>\n",
       "      <td>-8.011652</td>\n",
       "    </tr>\n",
       "    <tr>\n",
       "      <th>296</th>\n",
       "      <td>3.46</td>\n",
       "      <td>-8.036900</td>\n",
       "    </tr>\n",
       "    <tr>\n",
       "      <th>297</th>\n",
       "      <td>3.47</td>\n",
       "      <td>-8.062113</td>\n",
       "    </tr>\n",
       "    <tr>\n",
       "      <th>298</th>\n",
       "      <td>3.48</td>\n",
       "      <td>-8.087292</td>\n",
       "    </tr>\n",
       "    <tr>\n",
       "      <th>299</th>\n",
       "      <td>3.49</td>\n",
       "      <td>-8.112438</td>\n",
       "    </tr>\n",
       "  </tbody>\n",
       "</table>\n",
       "<p>300 rows × 2 columns</p>\n",
       "</div>"
      ],
      "text/plain": [
       "     Price_Point   Mean_PE\n",
       "0           0.50 -0.096380\n",
       "1           0.51 -0.100447\n",
       "2           0.52 -0.104641\n",
       "3           0.53 -0.108965\n",
       "4           0.54 -0.113422\n",
       "..           ...       ...\n",
       "295         3.45 -8.011652\n",
       "296         3.46 -8.036900\n",
       "297         3.47 -8.062113\n",
       "298         3.48 -8.087292\n",
       "299         3.49 -8.112438\n",
       "\n",
       "[300 rows x 2 columns]"
      ]
     },
     "execution_count": 280,
     "metadata": {},
     "output_type": "execute_result"
    }
   ],
   "source": [
    "# pd.options.display.max_rows = None\n",
    "df_price_elasticities"
   ]
  },
  {
   "cell_type": "markdown",
   "metadata": {},
   "source": [
    "## Analyse the elastitiy result"
   ]
  },
  {
   "cell_type": "code",
   "execution_count": 281,
   "metadata": {},
   "outputs": [
    {
     "data": {
      "text/plain": [
       "Text(0.5, 1.0, 'Price Elastiticy of Purchase Probabaility')"
      ]
     },
     "execution_count": 281,
     "metadata": {},
     "output_type": "execute_result"
    },
    {
     "data": {
      "image/png": "[encoded data removed]",
      "text/plain": [
       "<Figure size 648x432 with 1 Axes>"
      ]
     },
     "metadata": {},
     "output_type": "display_data"
    }
   ],
   "source": [
    "plt.figure(figsize = (9,6))\n",
    "plt.plot(price_range, pe, color = 'grey')\n",
    "plt.xlabel('Price')\n",
    "plt.ylabel('Elasticity')\n",
    "plt.title('Price Elastiticy of Purchase Probabaility')"
   ]
  },
  {
   "cell_type": "markdown",
   "metadata": {},
   "source": [
    "More towards the right, the leass likely it is for people to buy from a category; \n",
    "\n",
    "However, this plot of price elasitiyty is very interresting with regards to the rate of decrease --> the decrease in puchase probabauility is leveling off around the 1.1 mark and turning quite steep\n",
    "\n",
    "Additionally, all price elastiticies are negative: the reason is simple: an increased price will decrease the lieklyhood of buying the product (and coef_ is negative: inverse proportionality of price and purcahse probabuility)\n",
    "\n",
    "Remember: Price elastiticy measures the percentage change in an outcome (here Purchase probability); example: at price 1.1€ the E = -0.6919 (this is already in percent)--> So for a 1% price increase, the probability of puirchase decreases by 0.69%\n",
    "\n",
    "\n",
    "|E| < 1 % --> inelastic (y-axis)\n",
    "\n",
    "|E| >= 1 % --> elastic (y-axis)\n",
    "\n",
    "is it inelastic or elastic? \n",
    "- A change in price by 1% at price point 0.5 leads to LESS then 1% decrease in purchase probabaiulity --> so it is inelastic (all below 1%!!!)\n",
    "- A price change at 1.5 is MORE than 1% decrease in purchase probabaiulity --> so here it is elastic\n",
    "\n",
    "\n",
    "recommendation: for inelastic values we should increase the Price ; BUT FOR elastic prices we should decrease our prices!\n",
    "\n",
    "\n",
    "To do: find those prices that are inelastic and those that are elastic; so find where price elastiticiy turns from elastic to inelastic ---> this is at price point 1.25 ; so at product prices lower that 1.25 we can increase the product price; For prices higher than 1.25 we have more to gain from lower prices\n",
    "\n"
   ]
  },
  {
   "cell_type": "markdown",
   "metadata": {},
   "source": [
    "## Purchase Probabaility by Segments\n",
    "\n",
    "Now proceed to purchase probabaility of category but now of the different segments!"
   ]
  },
  {
   "cell_type": "markdown",
   "metadata": {},
   "source": [
    "### Segement 1 - Career Focused"
   ]
  },
  {
   "cell_type": "code",
   "execution_count": 282,
   "metadata": {},
   "outputs": [],
   "source": [
    "# df purchase analytics segment 1 only\n",
    "df_pa_segment_1 = df_pa[df_pa.Segment == 1]"
   ]
  },
  {
   "cell_type": "code",
   "execution_count": 283,
   "metadata": {},
   "outputs": [],
   "source": [
    "# now perform the modeling; \n",
    "# Estimate the coefficient of price on the purcahse probabaility\n",
    "\n",
    "# get the Y (incidence)\n",
    "Y = df_pa_segment_1.Incidence\n",
    "\n",
    "# create the X (average price)\n",
    "X = pd.DataFrame()\n",
    "X['Mean_Price'] = df_pa_segment_1.loc[:,['Price_1', \"Price_2\", \"Price_3\", \"Price_4\", \"Price_5\"]].mean(axis = 1)\n"
   ]
  },
  {
   "cell_type": "code",
   "execution_count": 284,
   "metadata": {},
   "outputs": [
    {
     "data": {
      "text/html": [
       "<style>#sk-container-id-25 {color: black;background-color: white;}#sk-container-id-25 pre{padding: 0;}#sk-container-id-25 div.sk-toggleable {background-color: white;}#sk-container-id-25 label.sk-toggleable__label {cursor: pointer;display: block;width: 100%;margin-bottom: 0;padding: 0.3em;box-sizing: border-box;text-align: center;}#sk-container-id-25 label.sk-toggleable__label-arrow:before {content: \"▸\";float: left;margin-right: 0.25em;color: #696969;}#sk-container-id-25 label.sk-toggleable__label-arrow:hover:before {color: black;}#sk-container-id-25 div.sk-estimator:hover label.sk-toggleable__label-arrow:before {color: black;}#sk-container-id-25 div.sk-toggleable__content {max-height: 0;max-width: 0;overflow: hidden;text-align: left;background-color: #f0f8ff;}#sk-container-id-25 div.sk-toggleable__content pre {margin: 0.2em;color: black;border-radius: 0.25em;background-color: #f0f8ff;}#sk-container-id-25 input.sk-toggleable__control:checked~div.sk-toggleable__content {max-height: 200px;max-width: 100%;overflow: auto;}#sk-container-id-25 input.sk-toggleable__control:checked~label.sk-toggleable__label-arrow:before {content: \"▾\";}#sk-container-id-25 div.sk-estimator input.sk-toggleable__control:checked~label.sk-toggleable__label {background-color: #d4ebff;}#sk-container-id-25 div.sk-label input.sk-toggleable__control:checked~label.sk-toggleable__label {background-color: #d4ebff;}#sk-container-id-25 input.sk-hidden--visually {border: 0;clip: rect(1px 1px 1px 1px);clip: rect(1px, 1px, 1px, 1px);height: 1px;margin: -1px;overflow: hidden;padding: 0;position: absolute;width: 1px;}#sk-container-id-25 div.sk-estimator {font-family: monospace;background-color: #f0f8ff;border: 1px dotted black;border-radius: 0.25em;box-sizing: border-box;margin-bottom: 0.5em;}#sk-container-id-25 div.sk-estimator:hover {background-color: #d4ebff;}#sk-container-id-25 div.sk-parallel-item::after {content: \"\";width: 100%;border-bottom: 1px solid gray;flex-grow: 1;}#sk-container-id-25 div.sk-label:hover label.sk-toggleable__label {background-color: #d4ebff;}#sk-container-id-25 div.sk-serial::before {content: \"\";position: absolute;border-left: 1px solid gray;box-sizing: border-box;top: 0;bottom: 0;left: 50%;z-index: 0;}#sk-container-id-25 div.sk-serial {display: flex;flex-direction: column;align-items: center;background-color: white;padding-right: 0.2em;padding-left: 0.2em;position: relative;}#sk-container-id-25 div.sk-item {position: relative;z-index: 1;}#sk-container-id-25 div.sk-parallel {display: flex;align-items: stretch;justify-content: center;background-color: white;position: relative;}#sk-container-id-25 div.sk-item::before, #sk-container-id-25 div.sk-parallel-item::before {content: \"\";position: absolute;border-left: 1px solid gray;box-sizing: border-box;top: 0;bottom: 0;left: 50%;z-index: -1;}#sk-container-id-25 div.sk-parallel-item {display: flex;flex-direction: column;z-index: 1;position: relative;background-color: white;}#sk-container-id-25 div.sk-parallel-item:first-child::after {align-self: flex-end;width: 50%;}#sk-container-id-25 div.sk-parallel-item:last-child::after {align-self: flex-start;width: 50%;}#sk-container-id-25 div.sk-parallel-item:only-child::after {width: 0;}#sk-container-id-25 div.sk-dashed-wrapped {border: 1px dashed gray;margin: 0 0.4em 0.5em 0.4em;box-sizing: border-box;padding-bottom: 0.4em;background-color: white;}#sk-container-id-25 div.sk-label label {font-family: monospace;font-weight: bold;display: inline-block;line-height: 1.2em;}#sk-container-id-25 div.sk-label-container {text-align: center;}#sk-container-id-25 div.sk-container {/* jupyter's `normalize.less` sets `[hidden] { display: none; }` but bootstrap.min.css set `[hidden] { display: none !important; }` so we also need the `!important` here to be able to override the default hidden behavior on the sphinx rendered scikit-learn.org. See: https://github.com/scikit-learn/scikit-learn/issues/21755 */display: inline-block !important;position: relative;}#sk-container-id-25 div.sk-text-repr-fallback {display: none;}</style><div id=\"sk-container-id-25\" class=\"sk-top-container\"><div class=\"sk-text-repr-fallback\"><pre>LogisticRegression(solver=&#x27;sag&#x27;)</pre><b>In a Jupyter environment, please rerun this cell to show the HTML representation or trust the notebook. <br />On GitHub, the HTML representation is unable to render, please try loading this page with nbviewer.org.</b></div><div class=\"sk-container\" hidden><div class=\"sk-item\"><div class=\"sk-estimator sk-toggleable\"><input class=\"sk-toggleable__control sk-hidden--visually\" id=\"sk-estimator-id-25\" type=\"checkbox\" checked><label for=\"sk-estimator-id-25\" class=\"sk-toggleable__label sk-toggleable__label-arrow\">LogisticRegression</label><div class=\"sk-toggleable__content\"><pre>LogisticRegression(solver=&#x27;sag&#x27;)</pre></div></div></div></div></div>"
      ],
      "text/plain": [
       "LogisticRegression(solver='sag')"
      ]
     },
     "execution_count": 284,
     "metadata": {},
     "output_type": "execute_result"
    }
   ],
   "source": [
    "# now perform the model again\n",
    "# create instance\n",
    "model_incidence_segment_1 = LogisticRegression(solver='sag')\n",
    "\n",
    "model_incidence_segment_1.fit(X, Y)"
   ]
  },
  {
   "cell_type": "code",
   "execution_count": 285,
   "metadata": {},
   "outputs": [
    {
     "data": {
      "text/plain": [
       "array([[-1.71208415]])"
      ]
     },
     "execution_count": 285,
     "metadata": {},
     "output_type": "execute_result"
    }
   ],
   "source": [
    "model_incidence_segment_1.coef_"
   ]
  },
  {
   "cell_type": "markdown",
   "metadata": {},
   "source": [
    "The beta here is lower than the beta of all other segments together; This might suggest a lower elasticity!"
   ]
  },
  {
   "cell_type": "code",
   "execution_count": 286,
   "metadata": {},
   "outputs": [
    {
     "name": "stderr",
     "output_type": "stream",
     "text": [
      "/home/angelo/repos/vscode_repos/customer_analytics_2022/lib64/python3.10/site-packages/sklearn/base.py:450: UserWarning: X does not have valid feature names, but LogisticRegression was fitted with feature names\n",
      "  warnings.warn(\n"
     ]
    }
   ],
   "source": [
    "# calcualte the elastiticty for the segment\n",
    "\n",
    "# now predict the purchase probabability using the trained model\n",
    "Y_pr_segment_1 = model_incidence_segment_1.predict_proba(df_price_range)\n",
    "# get only the second column\n",
    "purchase_pr_segment_1 = Y_pr_segment_1[:][:, 1]\n",
    "\n",
    "# price elastiticity == price coeff of the model\n",
    "pe_segment_1 = model_incidence_segment_1.coef_[:, 0] * price_range * (1 - purchase_pr_segment_1)"
   ]
  },
  {
   "cell_type": "code",
   "execution_count": 287,
   "metadata": {},
   "outputs": [
    {
     "data": {
      "text/html": [
       "<div>\n",
       "<style scoped>\n",
       "    .dataframe tbody tr th:only-of-type {\n",
       "        vertical-align: middle;\n",
       "    }\n",
       "\n",
       "    .dataframe tbody tr th {\n",
       "        vertical-align: top;\n",
       "    }\n",
       "\n",
       "    .dataframe thead th {\n",
       "        text-align: right;\n",
       "    }\n",
       "</style>\n",
       "<table border=\"1\" class=\"dataframe\">\n",
       "  <thead>\n",
       "    <tr style=\"text-align: right;\">\n",
       "      <th></th>\n",
       "      <th>Price_Point</th>\n",
       "      <th>Mean_PE</th>\n",
       "      <th>PE_Segment_1</th>\n",
       "    </tr>\n",
       "  </thead>\n",
       "  <tbody>\n",
       "    <tr>\n",
       "      <th>0</th>\n",
       "      <td>0.50</td>\n",
       "      <td>-0.096380</td>\n",
       "      <td>-0.119174</td>\n",
       "    </tr>\n",
       "    <tr>\n",
       "      <th>1</th>\n",
       "      <td>0.51</td>\n",
       "      <td>-0.100447</td>\n",
       "      <td>-0.123360</td>\n",
       "    </tr>\n",
       "    <tr>\n",
       "      <th>2</th>\n",
       "      <td>0.52</td>\n",
       "      <td>-0.104641</td>\n",
       "      <td>-0.127639</td>\n",
       "    </tr>\n",
       "    <tr>\n",
       "      <th>3</th>\n",
       "      <td>0.53</td>\n",
       "      <td>-0.108965</td>\n",
       "      <td>-0.132014</td>\n",
       "    </tr>\n",
       "    <tr>\n",
       "      <th>4</th>\n",
       "      <td>0.54</td>\n",
       "      <td>-0.113422</td>\n",
       "      <td>-0.136484</td>\n",
       "    </tr>\n",
       "    <tr>\n",
       "      <th>...</th>\n",
       "      <td>...</td>\n",
       "      <td>...</td>\n",
       "      <td>...</td>\n",
       "    </tr>\n",
       "    <tr>\n",
       "      <th>295</th>\n",
       "      <td>3.45</td>\n",
       "      <td>-8.011652</td>\n",
       "      <td>-5.681673</td>\n",
       "    </tr>\n",
       "    <tr>\n",
       "      <th>296</th>\n",
       "      <td>3.46</td>\n",
       "      <td>-8.036900</td>\n",
       "      <td>-5.701829</td>\n",
       "    </tr>\n",
       "    <tr>\n",
       "      <th>297</th>\n",
       "      <td>3.47</td>\n",
       "      <td>-8.062113</td>\n",
       "      <td>-5.721948</td>\n",
       "    </tr>\n",
       "    <tr>\n",
       "      <th>298</th>\n",
       "      <td>3.48</td>\n",
       "      <td>-8.087292</td>\n",
       "      <td>-5.742030</td>\n",
       "    </tr>\n",
       "    <tr>\n",
       "      <th>299</th>\n",
       "      <td>3.49</td>\n",
       "      <td>-8.112438</td>\n",
       "      <td>-5.762077</td>\n",
       "    </tr>\n",
       "  </tbody>\n",
       "</table>\n",
       "<p>300 rows × 3 columns</p>\n",
       "</div>"
      ],
      "text/plain": [
       "     Price_Point   Mean_PE  PE_Segment_1\n",
       "0           0.50 -0.096380     -0.119174\n",
       "1           0.51 -0.100447     -0.123360\n",
       "2           0.52 -0.104641     -0.127639\n",
       "3           0.53 -0.108965     -0.132014\n",
       "4           0.54 -0.113422     -0.136484\n",
       "..           ...       ...           ...\n",
       "295         3.45 -8.011652     -5.681673\n",
       "296         3.46 -8.036900     -5.701829\n",
       "297         3.47 -8.062113     -5.721948\n",
       "298         3.48 -8.087292     -5.742030\n",
       "299         3.49 -8.112438     -5.762077\n",
       "\n",
       "[300 rows x 3 columns]"
      ]
     },
     "execution_count": 287,
     "metadata": {},
     "output_type": "execute_result"
    }
   ],
   "source": [
    "# put the price elastiticity of segement 1 into a dataframe\n",
    "df_price_elasticities['PE_Segment_1'] = pe_segment_1\n",
    "df_price_elasticities\n"
   ]
  },
  {
   "cell_type": "code",
   "execution_count": 288,
   "metadata": {},
   "outputs": [
    {
     "data": {
      "text/plain": [
       "Text(0.5, 1.0, 'Price Elastiticy of Purchase Probabaility')"
      ]
     },
     "execution_count": 288,
     "metadata": {},
     "output_type": "execute_result"
    },
    {
     "data": {
      "image/png": "[encoded data removed]",
      "text/plain": [
       "<Figure size 648x432 with 1 Axes>"
      ]
     },
     "metadata": {},
     "output_type": "display_data"
    }
   ],
   "source": [
    "# display both \n",
    "\n",
    "plt.figure(figsize = (9,6))\n",
    "plt.plot(price_range, pe, color = 'grey')\n",
    "plt.plot(price_range, pe_segment_1, color = 'green')\n",
    "plt.xlabel('Price')\n",
    "plt.ylabel('Elasticity')\n",
    "plt.title('Price Elastiticy of Purchase Probabaility')"
   ]
  },
  {
   "cell_type": "markdown",
   "metadata": {},
   "source": [
    "### interpretation\n",
    "\n",
    "- In the 0.5 - 1.0 range of price points both elastitictiy curves lie very closely together \n",
    "- but then the average for all segments starts having a higher elasticitiy, while the elasticitiy of the first segment (career focused) does not really change after the increase in elastitiy between the pricve points 1.0 and 1.5.\n",
    "\n",
    "Segement 1 only turns elastic at 1.39€ price point! --> So increase priceses if we are in the 0.5 to 1.39€ price point rrange, while decreasing the price above that price point!"
   ]
  },
  {
   "cell_type": "markdown",
   "metadata": {},
   "source": [
    "#### Segment 2 Fewer Opportunities\n",
    "\n",
    "\n"
   ]
  },
  {
   "cell_type": "code",
   "execution_count": 289,
   "metadata": {},
   "outputs": [
    {
     "data": {
      "text/html": [
       "<style>#sk-container-id-26 {color: black;background-color: white;}#sk-container-id-26 pre{padding: 0;}#sk-container-id-26 div.sk-toggleable {background-color: white;}#sk-container-id-26 label.sk-toggleable__label {cursor: pointer;display: block;width: 100%;margin-bottom: 0;padding: 0.3em;box-sizing: border-box;text-align: center;}#sk-container-id-26 label.sk-toggleable__label-arrow:before {content: \"▸\";float: left;margin-right: 0.25em;color: #696969;}#sk-container-id-26 label.sk-toggleable__label-arrow:hover:before {color: black;}#sk-container-id-26 div.sk-estimator:hover label.sk-toggleable__label-arrow:before {color: black;}#sk-container-id-26 div.sk-toggleable__content {max-height: 0;max-width: 0;overflow: hidden;text-align: left;background-color: #f0f8ff;}#sk-container-id-26 div.sk-toggleable__content pre {margin: 0.2em;color: black;border-radius: 0.25em;background-color: #f0f8ff;}#sk-container-id-26 input.sk-toggleable__control:checked~div.sk-toggleable__content {max-height: 200px;max-width: 100%;overflow: auto;}#sk-container-id-26 input.sk-toggleable__control:checked~label.sk-toggleable__label-arrow:before {content: \"▾\";}#sk-container-id-26 div.sk-estimator input.sk-toggleable__control:checked~label.sk-toggleable__label {background-color: #d4ebff;}#sk-container-id-26 div.sk-label input.sk-toggleable__control:checked~label.sk-toggleable__label {background-color: #d4ebff;}#sk-container-id-26 input.sk-hidden--visually {border: 0;clip: rect(1px 1px 1px 1px);clip: rect(1px, 1px, 1px, 1px);height: 1px;margin: -1px;overflow: hidden;padding: 0;position: absolute;width: 1px;}#sk-container-id-26 div.sk-estimator {font-family: monospace;background-color: #f0f8ff;border: 1px dotted black;border-radius: 0.25em;box-sizing: border-box;margin-bottom: 0.5em;}#sk-container-id-26 div.sk-estimator:hover {background-color: #d4ebff;}#sk-container-id-26 div.sk-parallel-item::after {content: \"\";width: 100%;border-bottom: 1px solid gray;flex-grow: 1;}#sk-container-id-26 div.sk-label:hover label.sk-toggleable__label {background-color: #d4ebff;}#sk-container-id-26 div.sk-serial::before {content: \"\";position: absolute;border-left: 1px solid gray;box-sizing: border-box;top: 0;bottom: 0;left: 50%;z-index: 0;}#sk-container-id-26 div.sk-serial {display: flex;flex-direction: column;align-items: center;background-color: white;padding-right: 0.2em;padding-left: 0.2em;position: relative;}#sk-container-id-26 div.sk-item {position: relative;z-index: 1;}#sk-container-id-26 div.sk-parallel {display: flex;align-items: stretch;justify-content: center;background-color: white;position: relative;}#sk-container-id-26 div.sk-item::before, #sk-container-id-26 div.sk-parallel-item::before {content: \"\";position: absolute;border-left: 1px solid gray;box-sizing: border-box;top: 0;bottom: 0;left: 50%;z-index: -1;}#sk-container-id-26 div.sk-parallel-item {display: flex;flex-direction: column;z-index: 1;position: relative;background-color: white;}#sk-container-id-26 div.sk-parallel-item:first-child::after {align-self: flex-end;width: 50%;}#sk-container-id-26 div.sk-parallel-item:last-child::after {align-self: flex-start;width: 50%;}#sk-container-id-26 div.sk-parallel-item:only-child::after {width: 0;}#sk-container-id-26 div.sk-dashed-wrapped {border: 1px dashed gray;margin: 0 0.4em 0.5em 0.4em;box-sizing: border-box;padding-bottom: 0.4em;background-color: white;}#sk-container-id-26 div.sk-label label {font-family: monospace;font-weight: bold;display: inline-block;line-height: 1.2em;}#sk-container-id-26 div.sk-label-container {text-align: center;}#sk-container-id-26 div.sk-container {/* jupyter's `normalize.less` sets `[hidden] { display: none; }` but bootstrap.min.css set `[hidden] { display: none !important; }` so we also need the `!important` here to be able to override the default hidden behavior on the sphinx rendered scikit-learn.org. See: https://github.com/scikit-learn/scikit-learn/issues/21755 */display: inline-block !important;position: relative;}#sk-container-id-26 div.sk-text-repr-fallback {display: none;}</style><div id=\"sk-container-id-26\" class=\"sk-top-container\"><div class=\"sk-text-repr-fallback\"><pre>LogisticRegression(solver=&#x27;sag&#x27;)</pre><b>In a Jupyter environment, please rerun this cell to show the HTML representation or trust the notebook. <br />On GitHub, the HTML representation is unable to render, please try loading this page with nbviewer.org.</b></div><div class=\"sk-container\" hidden><div class=\"sk-item\"><div class=\"sk-estimator sk-toggleable\"><input class=\"sk-toggleable__control sk-hidden--visually\" id=\"sk-estimator-id-26\" type=\"checkbox\" checked><label for=\"sk-estimator-id-26\" class=\"sk-toggleable__label sk-toggleable__label-arrow\">LogisticRegression</label><div class=\"sk-toggleable__content\"><pre>LogisticRegression(solver=&#x27;sag&#x27;)</pre></div></div></div></div></div>"
      ],
      "text/plain": [
       "LogisticRegression(solver='sag')"
      ]
     },
     "execution_count": 289,
     "metadata": {},
     "output_type": "execute_result"
    }
   ],
   "source": [
    "# df purchase analytics segment 1 only\n",
    "df_pa_segment_2 = df_pa[df_pa.Segment == 2]\n",
    "\n",
    "# now perform the modeling; \n",
    "# Estimate the coefficient of price on the purcahse probabaility\n",
    "\n",
    "# get the Y (incidence)\n",
    "Y = df_pa_segment_2.Incidence\n",
    "\n",
    "# create the X (average price)\n",
    "X = pd.DataFrame()\n",
    "X['Mean_Price'] = df_pa_segment_2.loc[:,['Price_1', \"Price_2\", \"Price_3\", \"Price_4\", \"Price_5\"]].mean(axis = 1)\n",
    "\n",
    "# now perform the model again\n",
    "# create instance\n",
    "model_incidence_segment_2 = LogisticRegression(solver='sag')\n",
    "\n",
    "model_incidence_segment_2.fit(X, Y)\n"
   ]
  },
  {
   "cell_type": "code",
   "execution_count": 290,
   "metadata": {},
   "outputs": [
    {
     "name": "stderr",
     "output_type": "stream",
     "text": [
      "/home/angelo/repos/vscode_repos/customer_analytics_2022/lib64/python3.10/site-packages/sklearn/base.py:450: UserWarning: X does not have valid feature names, but LogisticRegression was fitted with feature names\n",
      "  warnings.warn(\n"
     ]
    }
   ],
   "source": [
    "# calcualte the elastiticty for the segment\n",
    "\n",
    "# now predict the purchase probabability using the trained model\n",
    "Y_pr_segment_2 = model_incidence_segment_2.predict_proba(df_price_range)\n",
    "# get only the second column\n",
    "purchase_pr_segment_2 = Y_pr_segment_2[:][:, 1]\n",
    "\n",
    "# price elastiticity == price coeff of the model\n",
    "pe_segment_2 = model_incidence_segment_2.coef_[:, 0] * price_range * (1 - purchase_pr_segment_2)"
   ]
  },
  {
   "cell_type": "code",
   "execution_count": 291,
   "metadata": {},
   "outputs": [
    {
     "data": {
      "text/html": [
       "<div>\n",
       "<style scoped>\n",
       "    .dataframe tbody tr th:only-of-type {\n",
       "        vertical-align: middle;\n",
       "    }\n",
       "\n",
       "    .dataframe tbody tr th {\n",
       "        vertical-align: top;\n",
       "    }\n",
       "\n",
       "    .dataframe thead th {\n",
       "        text-align: right;\n",
       "    }\n",
       "</style>\n",
       "<table border=\"1\" class=\"dataframe\">\n",
       "  <thead>\n",
       "    <tr style=\"text-align: right;\">\n",
       "      <th></th>\n",
       "      <th>Price_Point</th>\n",
       "      <th>Mean_PE</th>\n",
       "      <th>PE_Segment_1</th>\n",
       "      <th>PE_Segment_2</th>\n",
       "    </tr>\n",
       "  </thead>\n",
       "  <tbody>\n",
       "    <tr>\n",
       "      <th>0</th>\n",
       "      <td>0.50</td>\n",
       "      <td>-0.096380</td>\n",
       "      <td>-0.119174</td>\n",
       "      <td>-0.030949</td>\n",
       "    </tr>\n",
       "    <tr>\n",
       "      <th>1</th>\n",
       "      <td>0.51</td>\n",
       "      <td>-0.100447</td>\n",
       "      <td>-0.123360</td>\n",
       "      <td>-0.032718</td>\n",
       "    </tr>\n",
       "    <tr>\n",
       "      <th>2</th>\n",
       "      <td>0.52</td>\n",
       "      <td>-0.104641</td>\n",
       "      <td>-0.127639</td>\n",
       "      <td>-0.034574</td>\n",
       "    </tr>\n",
       "    <tr>\n",
       "      <th>3</th>\n",
       "      <td>0.53</td>\n",
       "      <td>-0.108965</td>\n",
       "      <td>-0.132014</td>\n",
       "      <td>-0.036520</td>\n",
       "    </tr>\n",
       "    <tr>\n",
       "      <th>4</th>\n",
       "      <td>0.54</td>\n",
       "      <td>-0.113422</td>\n",
       "      <td>-0.136484</td>\n",
       "      <td>-0.038562</td>\n",
       "    </tr>\n",
       "    <tr>\n",
       "      <th>...</th>\n",
       "      <td>...</td>\n",
       "      <td>...</td>\n",
       "      <td>...</td>\n",
       "      <td>...</td>\n",
       "    </tr>\n",
       "    <tr>\n",
       "      <th>295</th>\n",
       "      <td>3.45</td>\n",
       "      <td>-8.011652</td>\n",
       "      <td>-5.681673</td>\n",
       "      <td>-12.543037</td>\n",
       "    </tr>\n",
       "    <tr>\n",
       "      <th>296</th>\n",
       "      <td>3.46</td>\n",
       "      <td>-8.036900</td>\n",
       "      <td>-5.701829</td>\n",
       "      <td>-12.579957</td>\n",
       "    </tr>\n",
       "    <tr>\n",
       "      <th>297</th>\n",
       "      <td>3.47</td>\n",
       "      <td>-8.062113</td>\n",
       "      <td>-5.721948</td>\n",
       "      <td>-12.616860</td>\n",
       "    </tr>\n",
       "    <tr>\n",
       "      <th>298</th>\n",
       "      <td>3.48</td>\n",
       "      <td>-8.087292</td>\n",
       "      <td>-5.742030</td>\n",
       "      <td>-12.653746</td>\n",
       "    </tr>\n",
       "    <tr>\n",
       "      <th>299</th>\n",
       "      <td>3.49</td>\n",
       "      <td>-8.112438</td>\n",
       "      <td>-5.762077</td>\n",
       "      <td>-12.690617</td>\n",
       "    </tr>\n",
       "  </tbody>\n",
       "</table>\n",
       "<p>300 rows × 4 columns</p>\n",
       "</div>"
      ],
      "text/plain": [
       "     Price_Point   Mean_PE  PE_Segment_1  PE_Segment_2\n",
       "0           0.50 -0.096380     -0.119174     -0.030949\n",
       "1           0.51 -0.100447     -0.123360     -0.032718\n",
       "2           0.52 -0.104641     -0.127639     -0.034574\n",
       "3           0.53 -0.108965     -0.132014     -0.036520\n",
       "4           0.54 -0.113422     -0.136484     -0.038562\n",
       "..           ...       ...           ...           ...\n",
       "295         3.45 -8.011652     -5.681673    -12.543037\n",
       "296         3.46 -8.036900     -5.701829    -12.579957\n",
       "297         3.47 -8.062113     -5.721948    -12.616860\n",
       "298         3.48 -8.087292     -5.742030    -12.653746\n",
       "299         3.49 -8.112438     -5.762077    -12.690617\n",
       "\n",
       "[300 rows x 4 columns]"
      ]
     },
     "execution_count": 291,
     "metadata": {},
     "output_type": "execute_result"
    }
   ],
   "source": [
    "# put the price elastiticity of segement 1 into a dataframe\n",
    "df_price_elasticities['PE_Segment_2'] = pe_segment_2 \n",
    "df_price_elasticities\n"
   ]
  },
  {
   "cell_type": "code",
   "execution_count": 292,
   "metadata": {},
   "outputs": [
    {
     "data": {
      "text/html": [
       "<div>\n",
       "<style scoped>\n",
       "    .dataframe tbody tr th:only-of-type {\n",
       "        vertical-align: middle;\n",
       "    }\n",
       "\n",
       "    .dataframe tbody tr th {\n",
       "        vertical-align: top;\n",
       "    }\n",
       "\n",
       "    .dataframe thead th {\n",
       "        text-align: right;\n",
       "    }\n",
       "</style>\n",
       "<table border=\"1\" class=\"dataframe\">\n",
       "  <thead>\n",
       "    <tr style=\"text-align: right;\">\n",
       "      <th></th>\n",
       "      <th>Price_Point</th>\n",
       "      <th>Mean_PE</th>\n",
       "      <th>PE_Segment_1</th>\n",
       "      <th>PE_Segment_2</th>\n",
       "    </tr>\n",
       "  </thead>\n",
       "  <tbody>\n",
       "    <tr>\n",
       "      <th>77</th>\n",
       "      <td>1.27</td>\n",
       "      <td>-1.052190</td>\n",
       "      <td>-0.819106</td>\n",
       "      <td>-1.026217</td>\n",
       "    </tr>\n",
       "    <tr>\n",
       "      <th>78</th>\n",
       "      <td>1.28</td>\n",
       "      <td>-1.076641</td>\n",
       "      <td>-0.834384</td>\n",
       "      <td>-1.063887</td>\n",
       "    </tr>\n",
       "    <tr>\n",
       "      <th>79</th>\n",
       "      <td>1.29</td>\n",
       "      <td>-1.101453</td>\n",
       "      <td>-0.849836</td>\n",
       "      <td>-1.102615</td>\n",
       "    </tr>\n",
       "    <tr>\n",
       "      <th>80</th>\n",
       "      <td>1.30</td>\n",
       "      <td>-1.126626</td>\n",
       "      <td>-0.865462</td>\n",
       "      <td>-1.142412</td>\n",
       "    </tr>\n",
       "    <tr>\n",
       "      <th>81</th>\n",
       "      <td>1.31</td>\n",
       "      <td>-1.152158</td>\n",
       "      <td>-0.881262</td>\n",
       "      <td>-1.183288</td>\n",
       "    </tr>\n",
       "    <tr>\n",
       "      <th>...</th>\n",
       "      <td>...</td>\n",
       "      <td>...</td>\n",
       "      <td>...</td>\n",
       "      <td>...</td>\n",
       "    </tr>\n",
       "    <tr>\n",
       "      <th>295</th>\n",
       "      <td>3.45</td>\n",
       "      <td>-8.011652</td>\n",
       "      <td>-5.681673</td>\n",
       "      <td>-12.543037</td>\n",
       "    </tr>\n",
       "    <tr>\n",
       "      <th>296</th>\n",
       "      <td>3.46</td>\n",
       "      <td>-8.036900</td>\n",
       "      <td>-5.701829</td>\n",
       "      <td>-12.579957</td>\n",
       "    </tr>\n",
       "    <tr>\n",
       "      <th>297</th>\n",
       "      <td>3.47</td>\n",
       "      <td>-8.062113</td>\n",
       "      <td>-5.721948</td>\n",
       "      <td>-12.616860</td>\n",
       "    </tr>\n",
       "    <tr>\n",
       "      <th>298</th>\n",
       "      <td>3.48</td>\n",
       "      <td>-8.087292</td>\n",
       "      <td>-5.742030</td>\n",
       "      <td>-12.653746</td>\n",
       "    </tr>\n",
       "    <tr>\n",
       "      <th>299</th>\n",
       "      <td>3.49</td>\n",
       "      <td>-8.112438</td>\n",
       "      <td>-5.762077</td>\n",
       "      <td>-12.690617</td>\n",
       "    </tr>\n",
       "  </tbody>\n",
       "</table>\n",
       "<p>223 rows × 4 columns</p>\n",
       "</div>"
      ],
      "text/plain": [
       "     Price_Point   Mean_PE  PE_Segment_1  PE_Segment_2\n",
       "77          1.27 -1.052190     -0.819106     -1.026217\n",
       "78          1.28 -1.076641     -0.834384     -1.063887\n",
       "79          1.29 -1.101453     -0.849836     -1.102615\n",
       "80          1.30 -1.126626     -0.865462     -1.142412\n",
       "81          1.31 -1.152158     -0.881262     -1.183288\n",
       "..           ...       ...           ...           ...\n",
       "295         3.45 -8.011652     -5.681673    -12.543037\n",
       "296         3.46 -8.036900     -5.701829    -12.579957\n",
       "297         3.47 -8.062113     -5.721948    -12.616860\n",
       "298         3.48 -8.087292     -5.742030    -12.653746\n",
       "299         3.49 -8.112438     -5.762077    -12.690617\n",
       "\n",
       "[223 rows x 4 columns]"
      ]
     },
     "execution_count": 292,
     "metadata": {},
     "output_type": "execute_result"
    }
   ],
   "source": [
    "df_price_elasticities[np.abs(df_price_elasticities.PE_Segment_2) > 1]"
   ]
  },
  {
   "cell_type": "code",
   "execution_count": 293,
   "metadata": {},
   "outputs": [
    {
     "data": {
      "text/plain": [
       "Text(0.5, 1.0, 'Price Elastiticy of Purchase Probabaility')"
      ]
     },
     "execution_count": 293,
     "metadata": {},
     "output_type": "execute_result"
    },
    {
     "data": {
      "image/png": "[encoded data removed]",
      "text/plain": [
       "<Figure size 648x432 with 1 Axes>"
      ]
     },
     "metadata": {},
     "output_type": "display_data"
    }
   ],
   "source": [
    "# display both \n",
    "\n",
    "plt.figure(figsize = (9,6))\n",
    "plt.plot(price_range, pe, color = 'grey')\n",
    "plt.plot(price_range, pe_segment_1, color = 'green')\n",
    "plt.plot(price_range, pe_segment_2, color = 'red')\n",
    "plt.xlabel('Price')\n",
    "plt.ylabel('Elasticity')\n",
    "plt.title('Price Elastiticy of Purchase Probabaility')"
   ]
  },
  {
   "cell_type": "markdown",
   "metadata": {},
   "source": [
    "VERY STEEP ELASTITIY compared to career focused! Already at 1.27 it chagnes (however the average of all segments was at 1.27); Increase price before 1.27 and decrease after that! \n",
    "\n",
    "So Fewer opportunities is very sensitive to price; an increase in price results in more and more elastiticity!"
   ]
  },
  {
   "cell_type": "markdown",
   "metadata": {},
   "source": [
    "#### Segment 3 Well off "
   ]
  },
  {
   "cell_type": "code",
   "execution_count": 294,
   "metadata": {},
   "outputs": [
    {
     "data": {
      "text/html": [
       "<style>#sk-container-id-27 {color: black;background-color: white;}#sk-container-id-27 pre{padding: 0;}#sk-container-id-27 div.sk-toggleable {background-color: white;}#sk-container-id-27 label.sk-toggleable__label {cursor: pointer;display: block;width: 100%;margin-bottom: 0;padding: 0.3em;box-sizing: border-box;text-align: center;}#sk-container-id-27 label.sk-toggleable__label-arrow:before {content: \"▸\";float: left;margin-right: 0.25em;color: #696969;}#sk-container-id-27 label.sk-toggleable__label-arrow:hover:before {color: black;}#sk-container-id-27 div.sk-estimator:hover label.sk-toggleable__label-arrow:before {color: black;}#sk-container-id-27 div.sk-toggleable__content {max-height: 0;max-width: 0;overflow: hidden;text-align: left;background-color: #f0f8ff;}#sk-container-id-27 div.sk-toggleable__content pre {margin: 0.2em;color: black;border-radius: 0.25em;background-color: #f0f8ff;}#sk-container-id-27 input.sk-toggleable__control:checked~div.sk-toggleable__content {max-height: 200px;max-width: 100%;overflow: auto;}#sk-container-id-27 input.sk-toggleable__control:checked~label.sk-toggleable__label-arrow:before {content: \"▾\";}#sk-container-id-27 div.sk-estimator input.sk-toggleable__control:checked~label.sk-toggleable__label {background-color: #d4ebff;}#sk-container-id-27 div.sk-label input.sk-toggleable__control:checked~label.sk-toggleable__label {background-color: #d4ebff;}#sk-container-id-27 input.sk-hidden--visually {border: 0;clip: rect(1px 1px 1px 1px);clip: rect(1px, 1px, 1px, 1px);height: 1px;margin: -1px;overflow: hidden;padding: 0;position: absolute;width: 1px;}#sk-container-id-27 div.sk-estimator {font-family: monospace;background-color: #f0f8ff;border: 1px dotted black;border-radius: 0.25em;box-sizing: border-box;margin-bottom: 0.5em;}#sk-container-id-27 div.sk-estimator:hover {background-color: #d4ebff;}#sk-container-id-27 div.sk-parallel-item::after {content: \"\";width: 100%;border-bottom: 1px solid gray;flex-grow: 1;}#sk-container-id-27 div.sk-label:hover label.sk-toggleable__label {background-color: #d4ebff;}#sk-container-id-27 div.sk-serial::before {content: \"\";position: absolute;border-left: 1px solid gray;box-sizing: border-box;top: 0;bottom: 0;left: 50%;z-index: 0;}#sk-container-id-27 div.sk-serial {display: flex;flex-direction: column;align-items: center;background-color: white;padding-right: 0.2em;padding-left: 0.2em;position: relative;}#sk-container-id-27 div.sk-item {position: relative;z-index: 1;}#sk-container-id-27 div.sk-parallel {display: flex;align-items: stretch;justify-content: center;background-color: white;position: relative;}#sk-container-id-27 div.sk-item::before, #sk-container-id-27 div.sk-parallel-item::before {content: \"\";position: absolute;border-left: 1px solid gray;box-sizing: border-box;top: 0;bottom: 0;left: 50%;z-index: -1;}#sk-container-id-27 div.sk-parallel-item {display: flex;flex-direction: column;z-index: 1;position: relative;background-color: white;}#sk-container-id-27 div.sk-parallel-item:first-child::after {align-self: flex-end;width: 50%;}#sk-container-id-27 div.sk-parallel-item:last-child::after {align-self: flex-start;width: 50%;}#sk-container-id-27 div.sk-parallel-item:only-child::after {width: 0;}#sk-container-id-27 div.sk-dashed-wrapped {border: 1px dashed gray;margin: 0 0.4em 0.5em 0.4em;box-sizing: border-box;padding-bottom: 0.4em;background-color: white;}#sk-container-id-27 div.sk-label label {font-family: monospace;font-weight: bold;display: inline-block;line-height: 1.2em;}#sk-container-id-27 div.sk-label-container {text-align: center;}#sk-container-id-27 div.sk-container {/* jupyter's `normalize.less` sets `[hidden] { display: none; }` but bootstrap.min.css set `[hidden] { display: none !important; }` so we also need the `!important` here to be able to override the default hidden behavior on the sphinx rendered scikit-learn.org. See: https://github.com/scikit-learn/scikit-learn/issues/21755 */display: inline-block !important;position: relative;}#sk-container-id-27 div.sk-text-repr-fallback {display: none;}</style><div id=\"sk-container-id-27\" class=\"sk-top-container\"><div class=\"sk-text-repr-fallback\"><pre>LogisticRegression(solver=&#x27;sag&#x27;)</pre><b>In a Jupyter environment, please rerun this cell to show the HTML representation or trust the notebook. <br />On GitHub, the HTML representation is unable to render, please try loading this page with nbviewer.org.</b></div><div class=\"sk-container\" hidden><div class=\"sk-item\"><div class=\"sk-estimator sk-toggleable\"><input class=\"sk-toggleable__control sk-hidden--visually\" id=\"sk-estimator-id-27\" type=\"checkbox\" checked><label for=\"sk-estimator-id-27\" class=\"sk-toggleable__label sk-toggleable__label-arrow\">LogisticRegression</label><div class=\"sk-toggleable__content\"><pre>LogisticRegression(solver=&#x27;sag&#x27;)</pre></div></div></div></div></div>"
      ],
      "text/plain": [
       "LogisticRegression(solver='sag')"
      ]
     },
     "execution_count": 294,
     "metadata": {},
     "output_type": "execute_result"
    }
   ],
   "source": [
    "# df purchase analytics segment 1 only\n",
    "df_pa_segment_3 = df_pa[df_pa.Segment == 3]\n",
    "\n",
    "# now perform the modeling; \n",
    "# Estimate the coefficient of price on the purcahse probabaility\n",
    "\n",
    "# get the Y (incidence)\n",
    "Y = df_pa_segment_3.Incidence\n",
    "\n",
    "# create the X (average price)\n",
    "X = pd.DataFrame()\n",
    "X['Mean_Price'] = df_pa_segment_3.loc[:,['Price_1', \"Price_2\", \"Price_3\", \"Price_4\", \"Price_5\"]].mean(axis = 1)\n",
    "\n",
    "# now perform the model again\n",
    "# create instance\n",
    "model_incidence_segment_3 = LogisticRegression(solver='sag')\n",
    "\n",
    "model_incidence_segment_3.fit(X, Y)\n"
   ]
  },
  {
   "cell_type": "code",
   "execution_count": 295,
   "metadata": {},
   "outputs": [
    {
     "name": "stderr",
     "output_type": "stream",
     "text": [
      "/home/angelo/repos/vscode_repos/customer_analytics_2022/lib64/python3.10/site-packages/sklearn/base.py:450: UserWarning: X does not have valid feature names, but LogisticRegression was fitted with feature names\n",
      "  warnings.warn(\n"
     ]
    }
   ],
   "source": [
    "# calcualte the elastiticty for the segment\n",
    "\n",
    "# now predict the purchase probabability using the trained model\n",
    "Y_pr_segment_3 = model_incidence_segment_3.predict_proba(df_price_range)\n",
    "# get only the second column\n",
    "purchase_pr_segment_3 = Y_pr_segment_3[:][:, 1]\n",
    "\n",
    "# price elastiticity == price coeff of the model\n",
    "pe_segment_3 = model_incidence_segment_3.coef_[:, 0] * price_range * (1 - purchase_pr_segment_3)"
   ]
  },
  {
   "cell_type": "code",
   "execution_count": 296,
   "metadata": {},
   "outputs": [
    {
     "data": {
      "text/html": [
       "<div>\n",
       "<style scoped>\n",
       "    .dataframe tbody tr th:only-of-type {\n",
       "        vertical-align: middle;\n",
       "    }\n",
       "\n",
       "    .dataframe tbody tr th {\n",
       "        vertical-align: top;\n",
       "    }\n",
       "\n",
       "    .dataframe thead th {\n",
       "        text-align: right;\n",
       "    }\n",
       "</style>\n",
       "<table border=\"1\" class=\"dataframe\">\n",
       "  <thead>\n",
       "    <tr style=\"text-align: right;\">\n",
       "      <th></th>\n",
       "      <th>Price_Point</th>\n",
       "      <th>Mean_PE</th>\n",
       "      <th>PE_Segment_1</th>\n",
       "      <th>PE_Segment_2</th>\n",
       "      <th>PE_Segment_3</th>\n",
       "    </tr>\n",
       "  </thead>\n",
       "  <tbody>\n",
       "    <tr>\n",
       "      <th>0</th>\n",
       "      <td>0.50</td>\n",
       "      <td>-0.096380</td>\n",
       "      <td>-0.119174</td>\n",
       "      <td>-0.030949</td>\n",
       "      <td>-0.168112</td>\n",
       "    </tr>\n",
       "    <tr>\n",
       "      <th>1</th>\n",
       "      <td>0.51</td>\n",
       "      <td>-0.100447</td>\n",
       "      <td>-0.123360</td>\n",
       "      <td>-0.032718</td>\n",
       "      <td>-0.173041</td>\n",
       "    </tr>\n",
       "    <tr>\n",
       "      <th>2</th>\n",
       "      <td>0.52</td>\n",
       "      <td>-0.104641</td>\n",
       "      <td>-0.127639</td>\n",
       "      <td>-0.034574</td>\n",
       "      <td>-0.178039</td>\n",
       "    </tr>\n",
       "    <tr>\n",
       "      <th>3</th>\n",
       "      <td>0.53</td>\n",
       "      <td>-0.108965</td>\n",
       "      <td>-0.132014</td>\n",
       "      <td>-0.036520</td>\n",
       "      <td>-0.183109</td>\n",
       "    </tr>\n",
       "    <tr>\n",
       "      <th>4</th>\n",
       "      <td>0.54</td>\n",
       "      <td>-0.113422</td>\n",
       "      <td>-0.136484</td>\n",
       "      <td>-0.038562</td>\n",
       "      <td>-0.188250</td>\n",
       "    </tr>\n",
       "    <tr>\n",
       "      <th>...</th>\n",
       "      <td>...</td>\n",
       "      <td>...</td>\n",
       "      <td>...</td>\n",
       "      <td>...</td>\n",
       "      <td>...</td>\n",
       "    </tr>\n",
       "    <tr>\n",
       "      <th>295</th>\n",
       "      <td>3.45</td>\n",
       "      <td>-8.011652</td>\n",
       "      <td>-5.681673</td>\n",
       "      <td>-12.543037</td>\n",
       "      <td>-4.025773</td>\n",
       "    </tr>\n",
       "    <tr>\n",
       "      <th>296</th>\n",
       "      <td>3.46</td>\n",
       "      <td>-8.036900</td>\n",
       "      <td>-5.701829</td>\n",
       "      <td>-12.579957</td>\n",
       "      <td>-4.040649</td>\n",
       "    </tr>\n",
       "    <tr>\n",
       "      <th>297</th>\n",
       "      <td>3.47</td>\n",
       "      <td>-8.062113</td>\n",
       "      <td>-5.721948</td>\n",
       "      <td>-12.616860</td>\n",
       "      <td>-4.055509</td>\n",
       "    </tr>\n",
       "    <tr>\n",
       "      <th>298</th>\n",
       "      <td>3.48</td>\n",
       "      <td>-8.087292</td>\n",
       "      <td>-5.742030</td>\n",
       "      <td>-12.653746</td>\n",
       "      <td>-4.070353</td>\n",
       "    </tr>\n",
       "    <tr>\n",
       "      <th>299</th>\n",
       "      <td>3.49</td>\n",
       "      <td>-8.112438</td>\n",
       "      <td>-5.762077</td>\n",
       "      <td>-12.690617</td>\n",
       "      <td>-4.085180</td>\n",
       "    </tr>\n",
       "  </tbody>\n",
       "</table>\n",
       "<p>300 rows × 5 columns</p>\n",
       "</div>"
      ],
      "text/plain": [
       "     Price_Point   Mean_PE  PE_Segment_1  PE_Segment_2  PE_Segment_3\n",
       "0           0.50 -0.096380     -0.119174     -0.030949     -0.168112\n",
       "1           0.51 -0.100447     -0.123360     -0.032718     -0.173041\n",
       "2           0.52 -0.104641     -0.127639     -0.034574     -0.178039\n",
       "3           0.53 -0.108965     -0.132014     -0.036520     -0.183109\n",
       "4           0.54 -0.113422     -0.136484     -0.038562     -0.188250\n",
       "..           ...       ...           ...           ...           ...\n",
       "295         3.45 -8.011652     -5.681673    -12.543037     -4.025773\n",
       "296         3.46 -8.036900     -5.701829    -12.579957     -4.040649\n",
       "297         3.47 -8.062113     -5.721948    -12.616860     -4.055509\n",
       "298         3.48 -8.087292     -5.742030    -12.653746     -4.070353\n",
       "299         3.49 -8.112438     -5.762077    -12.690617     -4.085180\n",
       "\n",
       "[300 rows x 5 columns]"
      ]
     },
     "execution_count": 296,
     "metadata": {},
     "output_type": "execute_result"
    }
   ],
   "source": [
    "# put the price elastiticity of segement 1 into a dataframe\n",
    "df_price_elasticities['PE_Segment_3'] = pe_segment_3 \n",
    "df_price_elasticities\n"
   ]
  },
  {
   "cell_type": "code",
   "execution_count": 297,
   "metadata": {},
   "outputs": [
    {
     "data": {
      "text/plain": [
       "Text(0.5, 1.0, 'Price Elastiticy of Purchase Probabaility')"
      ]
     },
     "execution_count": 297,
     "metadata": {},
     "output_type": "execute_result"
    },
    {
     "data": {
      "image/png": "[encoded data removed]",
      "text/plain": [
       "<Figure size 648x432 with 1 Axes>"
      ]
     },
     "metadata": {},
     "output_type": "display_data"
    }
   ],
   "source": [
    "# display both \n",
    "\n",
    "plt.figure(figsize = (9,6))\n",
    "plt.plot(price_range, pe, color = 'grey')\n",
    "plt.plot(price_range, pe_segment_1, color = 'green')\n",
    "plt.plot(price_range, pe_segment_2, color = 'red')\n",
    "plt.plot(price_range, pe_segment_3, color = 'yellow')\n",
    "plt.xlabel('Price')\n",
    "plt.ylabel('Elasticity')\n",
    "plt.title('Price Elastiticy of Purchase Probabaility')"
   ]
  },
  {
   "cell_type": "markdown",
   "metadata": {},
   "source": [
    "#### Segment 0 Standard "
   ]
  },
  {
   "cell_type": "code",
   "execution_count": 298,
   "metadata": {},
   "outputs": [
    {
     "data": {
      "text/html": [
       "<style>#sk-container-id-28 {color: black;background-color: white;}#sk-container-id-28 pre{padding: 0;}#sk-container-id-28 div.sk-toggleable {background-color: white;}#sk-container-id-28 label.sk-toggleable__label {cursor: pointer;display: block;width: 100%;margin-bottom: 0;padding: 0.3em;box-sizing: border-box;text-align: center;}#sk-container-id-28 label.sk-toggleable__label-arrow:before {content: \"▸\";float: left;margin-right: 0.25em;color: #696969;}#sk-container-id-28 label.sk-toggleable__label-arrow:hover:before {color: black;}#sk-container-id-28 div.sk-estimator:hover label.sk-toggleable__label-arrow:before {color: black;}#sk-container-id-28 div.sk-toggleable__content {max-height: 0;max-width: 0;overflow: hidden;text-align: left;background-color: #f0f8ff;}#sk-container-id-28 div.sk-toggleable__content pre {margin: 0.2em;color: black;border-radius: 0.25em;background-color: #f0f8ff;}#sk-container-id-28 input.sk-toggleable__control:checked~div.sk-toggleable__content {max-height: 200px;max-width: 100%;overflow: auto;}#sk-container-id-28 input.sk-toggleable__control:checked~label.sk-toggleable__label-arrow:before {content: \"▾\";}#sk-container-id-28 div.sk-estimator input.sk-toggleable__control:checked~label.sk-toggleable__label {background-color: #d4ebff;}#sk-container-id-28 div.sk-label input.sk-toggleable__control:checked~label.sk-toggleable__label {background-color: #d4ebff;}#sk-container-id-28 input.sk-hidden--visually {border: 0;clip: rect(1px 1px 1px 1px);clip: rect(1px, 1px, 1px, 1px);height: 1px;margin: -1px;overflow: hidden;padding: 0;position: absolute;width: 1px;}#sk-container-id-28 div.sk-estimator {font-family: monospace;background-color: #f0f8ff;border: 1px dotted black;border-radius: 0.25em;box-sizing: border-box;margin-bottom: 0.5em;}#sk-container-id-28 div.sk-estimator:hover {background-color: #d4ebff;}#sk-container-id-28 div.sk-parallel-item::after {content: \"\";width: 100%;border-bottom: 1px solid gray;flex-grow: 1;}#sk-container-id-28 div.sk-label:hover label.sk-toggleable__label {background-color: #d4ebff;}#sk-container-id-28 div.sk-serial::before {content: \"\";position: absolute;border-left: 1px solid gray;box-sizing: border-box;top: 0;bottom: 0;left: 50%;z-index: 0;}#sk-container-id-28 div.sk-serial {display: flex;flex-direction: column;align-items: center;background-color: white;padding-right: 0.2em;padding-left: 0.2em;position: relative;}#sk-container-id-28 div.sk-item {position: relative;z-index: 1;}#sk-container-id-28 div.sk-parallel {display: flex;align-items: stretch;justify-content: center;background-color: white;position: relative;}#sk-container-id-28 div.sk-item::before, #sk-container-id-28 div.sk-parallel-item::before {content: \"\";position: absolute;border-left: 1px solid gray;box-sizing: border-box;top: 0;bottom: 0;left: 50%;z-index: -1;}#sk-container-id-28 div.sk-parallel-item {display: flex;flex-direction: column;z-index: 1;position: relative;background-color: white;}#sk-container-id-28 div.sk-parallel-item:first-child::after {align-self: flex-end;width: 50%;}#sk-container-id-28 div.sk-parallel-item:last-child::after {align-self: flex-start;width: 50%;}#sk-container-id-28 div.sk-parallel-item:only-child::after {width: 0;}#sk-container-id-28 div.sk-dashed-wrapped {border: 1px dashed gray;margin: 0 0.4em 0.5em 0.4em;box-sizing: border-box;padding-bottom: 0.4em;background-color: white;}#sk-container-id-28 div.sk-label label {font-family: monospace;font-weight: bold;display: inline-block;line-height: 1.2em;}#sk-container-id-28 div.sk-label-container {text-align: center;}#sk-container-id-28 div.sk-container {/* jupyter's `normalize.less` sets `[hidden] { display: none; }` but bootstrap.min.css set `[hidden] { display: none !important; }` so we also need the `!important` here to be able to override the default hidden behavior on the sphinx rendered scikit-learn.org. See: https://github.com/scikit-learn/scikit-learn/issues/21755 */display: inline-block !important;position: relative;}#sk-container-id-28 div.sk-text-repr-fallback {display: none;}</style><div id=\"sk-container-id-28\" class=\"sk-top-container\"><div class=\"sk-text-repr-fallback\"><pre>LogisticRegression(solver=&#x27;sag&#x27;)</pre><b>In a Jupyter environment, please rerun this cell to show the HTML representation or trust the notebook. <br />On GitHub, the HTML representation is unable to render, please try loading this page with nbviewer.org.</b></div><div class=\"sk-container\" hidden><div class=\"sk-item\"><div class=\"sk-estimator sk-toggleable\"><input class=\"sk-toggleable__control sk-hidden--visually\" id=\"sk-estimator-id-28\" type=\"checkbox\" checked><label for=\"sk-estimator-id-28\" class=\"sk-toggleable__label sk-toggleable__label-arrow\">LogisticRegression</label><div class=\"sk-toggleable__content\"><pre>LogisticRegression(solver=&#x27;sag&#x27;)</pre></div></div></div></div></div>"
      ],
      "text/plain": [
       "LogisticRegression(solver='sag')"
      ]
     },
     "execution_count": 298,
     "metadata": {},
     "output_type": "execute_result"
    }
   ],
   "source": [
    "# df purchase analytics segment 1 only\n",
    "df_pa_segment_0 = df_pa[df_pa.Segment == 0]\n",
    "\n",
    "# now perform the modeling; \n",
    "# Estimate the coefficient of price on the purcahse probabaility\n",
    "\n",
    "# get the Y (incidence)\n",
    "Y = df_pa_segment_0.Incidence\n",
    "\n",
    "# create the X (average price)\n",
    "X = pd.DataFrame()\n",
    "X['Mean_Price'] = df_pa_segment_0.loc[:,['Price_1', \"Price_2\", \"Price_3\", \"Price_4\", \"Price_5\"]].mean(axis = 1)\n",
    "\n",
    "# now perform the model again\n",
    "# create instance\n",
    "model_incidence_segment_0 = LogisticRegression(solver='sag')\n",
    "\n",
    "model_incidence_segment_0.fit(X, Y)\n"
   ]
  },
  {
   "cell_type": "code",
   "execution_count": 299,
   "metadata": {},
   "outputs": [
    {
     "name": "stderr",
     "output_type": "stream",
     "text": [
      "/home/angelo/repos/vscode_repos/customer_analytics_2022/lib64/python3.10/site-packages/sklearn/base.py:450: UserWarning: X does not have valid feature names, but LogisticRegression was fitted with feature names\n",
      "  warnings.warn(\n"
     ]
    }
   ],
   "source": [
    "# calcualte the elastiticty for the segment\n",
    "\n",
    "# now predict the purchase probabability using the trained model\n",
    "Y_pr_segment_0 = model_incidence_segment_0.predict_proba(df_price_range)\n",
    "# get only the second column\n",
    "purchase_pr_segment_0 = Y_pr_segment_0[:][:, 1]\n",
    "\n",
    "# price elastiticity == price coeff of the model\n",
    "pe_segment_0 = model_incidence_segment_0.coef_[:, 0] * price_range * (1 - purchase_pr_segment_0)"
   ]
  },
  {
   "cell_type": "code",
   "execution_count": 300,
   "metadata": {},
   "outputs": [
    {
     "data": {
      "text/html": [
       "<div>\n",
       "<style scoped>\n",
       "    .dataframe tbody tr th:only-of-type {\n",
       "        vertical-align: middle;\n",
       "    }\n",
       "\n",
       "    .dataframe tbody tr th {\n",
       "        vertical-align: top;\n",
       "    }\n",
       "\n",
       "    .dataframe thead th {\n",
       "        text-align: right;\n",
       "    }\n",
       "</style>\n",
       "<table border=\"1\" class=\"dataframe\">\n",
       "  <thead>\n",
       "    <tr style=\"text-align: right;\">\n",
       "      <th></th>\n",
       "      <th>Price_Point</th>\n",
       "      <th>Mean_PE</th>\n",
       "      <th>PE_Segment_1</th>\n",
       "      <th>PE_Segment_2</th>\n",
       "      <th>PE_Segment_3</th>\n",
       "      <th>PE_Segment_0</th>\n",
       "    </tr>\n",
       "  </thead>\n",
       "  <tbody>\n",
       "    <tr>\n",
       "      <th>0</th>\n",
       "      <td>0.50</td>\n",
       "      <td>-0.096380</td>\n",
       "      <td>-0.119174</td>\n",
       "      <td>-0.030949</td>\n",
       "      <td>-0.168112</td>\n",
       "      <td>-0.211271</td>\n",
       "    </tr>\n",
       "    <tr>\n",
       "      <th>1</th>\n",
       "      <td>0.51</td>\n",
       "      <td>-0.100447</td>\n",
       "      <td>-0.123360</td>\n",
       "      <td>-0.032718</td>\n",
       "      <td>-0.173041</td>\n",
       "      <td>-0.217845</td>\n",
       "    </tr>\n",
       "    <tr>\n",
       "      <th>2</th>\n",
       "      <td>0.52</td>\n",
       "      <td>-0.104641</td>\n",
       "      <td>-0.127639</td>\n",
       "      <td>-0.034574</td>\n",
       "      <td>-0.178039</td>\n",
       "      <td>-0.224526</td>\n",
       "    </tr>\n",
       "    <tr>\n",
       "      <th>3</th>\n",
       "      <td>0.53</td>\n",
       "      <td>-0.108965</td>\n",
       "      <td>-0.132014</td>\n",
       "      <td>-0.036520</td>\n",
       "      <td>-0.183109</td>\n",
       "      <td>-0.231316</td>\n",
       "    </tr>\n",
       "    <tr>\n",
       "      <th>4</th>\n",
       "      <td>0.54</td>\n",
       "      <td>-0.113422</td>\n",
       "      <td>-0.136484</td>\n",
       "      <td>-0.038562</td>\n",
       "      <td>-0.188250</td>\n",
       "      <td>-0.238215</td>\n",
       "    </tr>\n",
       "    <tr>\n",
       "      <th>...</th>\n",
       "      <td>...</td>\n",
       "      <td>...</td>\n",
       "      <td>...</td>\n",
       "      <td>...</td>\n",
       "      <td>...</td>\n",
       "      <td>...</td>\n",
       "    </tr>\n",
       "    <tr>\n",
       "      <th>295</th>\n",
       "      <td>3.45</td>\n",
       "      <td>-8.011652</td>\n",
       "      <td>-5.681673</td>\n",
       "      <td>-12.543037</td>\n",
       "      <td>-4.025773</td>\n",
       "      <td>-5.052922</td>\n",
       "    </tr>\n",
       "    <tr>\n",
       "      <th>296</th>\n",
       "      <td>3.46</td>\n",
       "      <td>-8.036900</td>\n",
       "      <td>-5.701829</td>\n",
       "      <td>-12.579957</td>\n",
       "      <td>-4.040649</td>\n",
       "      <td>-5.069780</td>\n",
       "    </tr>\n",
       "    <tr>\n",
       "      <th>297</th>\n",
       "      <td>3.47</td>\n",
       "      <td>-8.062113</td>\n",
       "      <td>-5.721948</td>\n",
       "      <td>-12.616860</td>\n",
       "      <td>-4.055509</td>\n",
       "      <td>-5.086619</td>\n",
       "    </tr>\n",
       "    <tr>\n",
       "      <th>298</th>\n",
       "      <td>3.48</td>\n",
       "      <td>-8.087292</td>\n",
       "      <td>-5.742030</td>\n",
       "      <td>-12.653746</td>\n",
       "      <td>-4.070353</td>\n",
       "      <td>-5.103440</td>\n",
       "    </tr>\n",
       "    <tr>\n",
       "      <th>299</th>\n",
       "      <td>3.49</td>\n",
       "      <td>-8.112438</td>\n",
       "      <td>-5.762077</td>\n",
       "      <td>-12.690617</td>\n",
       "      <td>-4.085180</td>\n",
       "      <td>-5.120242</td>\n",
       "    </tr>\n",
       "  </tbody>\n",
       "</table>\n",
       "<p>300 rows × 6 columns</p>\n",
       "</div>"
      ],
      "text/plain": [
       "     Price_Point   Mean_PE  PE_Segment_1  PE_Segment_2  PE_Segment_3  \\\n",
       "0           0.50 -0.096380     -0.119174     -0.030949     -0.168112   \n",
       "1           0.51 -0.100447     -0.123360     -0.032718     -0.173041   \n",
       "2           0.52 -0.104641     -0.127639     -0.034574     -0.178039   \n",
       "3           0.53 -0.108965     -0.132014     -0.036520     -0.183109   \n",
       "4           0.54 -0.113422     -0.136484     -0.038562     -0.188250   \n",
       "..           ...       ...           ...           ...           ...   \n",
       "295         3.45 -8.011652     -5.681673    -12.543037     -4.025773   \n",
       "296         3.46 -8.036900     -5.701829    -12.579957     -4.040649   \n",
       "297         3.47 -8.062113     -5.721948    -12.616860     -4.055509   \n",
       "298         3.48 -8.087292     -5.742030    -12.653746     -4.070353   \n",
       "299         3.49 -8.112438     -5.762077    -12.690617     -4.085180   \n",
       "\n",
       "     PE_Segment_0  \n",
       "0       -0.211271  \n",
       "1       -0.217845  \n",
       "2       -0.224526  \n",
       "3       -0.231316  \n",
       "4       -0.238215  \n",
       "..            ...  \n",
       "295     -5.052922  \n",
       "296     -5.069780  \n",
       "297     -5.086619  \n",
       "298     -5.103440  \n",
       "299     -5.120242  \n",
       "\n",
       "[300 rows x 6 columns]"
      ]
     },
     "execution_count": 300,
     "metadata": {},
     "output_type": "execute_result"
    }
   ],
   "source": [
    "# put the price elastiticity of segement 1 into a dataframe\n",
    "df_price_elasticities['PE_Segment_0'] = pe_segment_0 \n",
    "df_price_elasticities\n"
   ]
  },
  {
   "cell_type": "code",
   "execution_count": 301,
   "metadata": {},
   "outputs": [
    {
     "data": {
      "text/plain": [
       "Text(0.5, 1.0, 'Price Elastiticy of Purchase Probabaility')"
      ]
     },
     "execution_count": 301,
     "metadata": {},
     "output_type": "execute_result"
    },
    {
     "data": {
      "image/png": "[encoded data removed]",
      "text/plain": [
       "<Figure size 648x432 with 1 Axes>"
      ]
     },
     "metadata": {},
     "output_type": "display_data"
    }
   ],
   "source": [
    "# display both \n",
    "\n",
    "plt.figure(figsize = (9,6))\n",
    "plt.plot(price_range, pe, color = 'grey')\n",
    "plt.plot(price_range, pe_segment_1, color = 'green')\n",
    "plt.plot(price_range, pe_segment_2, color = 'red')\n",
    "plt.plot(price_range, pe_segment_3, color = 'yellow')\n",
    "plt.plot(price_range, pe_segment_0, color = 'orange')\n",
    "plt.legend(['All Segments', 'Career Focused', 'Fewer Opportunities', 'Well Off', 'Standard'])\n",
    "plt.xlabel('Price')\n",
    "plt.ylabel('Elasticity')\n",
    "plt.title('Price Elastiticy of Purchase Probabaility')"
   ]
  },
  {
   "cell_type": "markdown",
   "metadata": {},
   "source": [
    "## purchase Probabaulity with Promotion Feature\n",
    "\n",
    "#### Extend the Purchase probabaility model using a multivariate model"
   ]
  },
  {
   "cell_type": "markdown",
   "metadata": {},
   "source": [
    "#### data preparation\n",
    "\n",
    "Do the purchase probabaility using average prie and promotion for all segments together again"
   ]
  },
  {
   "cell_type": "code",
   "execution_count": 302,
   "metadata": {},
   "outputs": [],
   "source": [
    "# Incidence column whether a purchase in a specific category has taken place. \n",
    "Y = df_pa.Incidence"
   ]
  },
  {
   "cell_type": "code",
   "execution_count": 303,
   "metadata": {},
   "outputs": [],
   "source": [
    "# X is now price and promotion\n",
    "X = pd.DataFrame()\n",
    "X['Mean_Price'] = df_pa.loc[:,['Price_1','Price_2', 'Price_3', 'Price_4', 'Price_5']].mean(axis = 1)"
   ]
  },
  {
   "cell_type": "code",
   "execution_count": 304,
   "metadata": {},
   "outputs": [],
   "source": [
    "# add promotion as a feature\n",
    "X['Mean_Promotion'] = df_pa.loc[:,['Promotion_1',\n",
    "                                    'Promotion_2', \n",
    "                                    'Promotion_3', \n",
    "                                    'Promotion_4', \n",
    "                                    'Promotion_5']].mean(axis = 1)"
   ]
  },
  {
   "cell_type": "code",
   "execution_count": 305,
   "metadata": {},
   "outputs": [
    {
     "data": {
      "text/html": [
       "<style>#sk-container-id-29 {color: black;background-color: white;}#sk-container-id-29 pre{padding: 0;}#sk-container-id-29 div.sk-toggleable {background-color: white;}#sk-container-id-29 label.sk-toggleable__label {cursor: pointer;display: block;width: 100%;margin-bottom: 0;padding: 0.3em;box-sizing: border-box;text-align: center;}#sk-container-id-29 label.sk-toggleable__label-arrow:before {content: \"▸\";float: left;margin-right: 0.25em;color: #696969;}#sk-container-id-29 label.sk-toggleable__label-arrow:hover:before {color: black;}#sk-container-id-29 div.sk-estimator:hover label.sk-toggleable__label-arrow:before {color: black;}#sk-container-id-29 div.sk-toggleable__content {max-height: 0;max-width: 0;overflow: hidden;text-align: left;background-color: #f0f8ff;}#sk-container-id-29 div.sk-toggleable__content pre {margin: 0.2em;color: black;border-radius: 0.25em;background-color: #f0f8ff;}#sk-container-id-29 input.sk-toggleable__control:checked~div.sk-toggleable__content {max-height: 200px;max-width: 100%;overflow: auto;}#sk-container-id-29 input.sk-toggleable__control:checked~label.sk-toggleable__label-arrow:before {content: \"▾\";}#sk-container-id-29 div.sk-estimator input.sk-toggleable__control:checked~label.sk-toggleable__label {background-color: #d4ebff;}#sk-container-id-29 div.sk-label input.sk-toggleable__control:checked~label.sk-toggleable__label {background-color: #d4ebff;}#sk-container-id-29 input.sk-hidden--visually {border: 0;clip: rect(1px 1px 1px 1px);clip: rect(1px, 1px, 1px, 1px);height: 1px;margin: -1px;overflow: hidden;padding: 0;position: absolute;width: 1px;}#sk-container-id-29 div.sk-estimator {font-family: monospace;background-color: #f0f8ff;border: 1px dotted black;border-radius: 0.25em;box-sizing: border-box;margin-bottom: 0.5em;}#sk-container-id-29 div.sk-estimator:hover {background-color: #d4ebff;}#sk-container-id-29 div.sk-parallel-item::after {content: \"\";width: 100%;border-bottom: 1px solid gray;flex-grow: 1;}#sk-container-id-29 div.sk-label:hover label.sk-toggleable__label {background-color: #d4ebff;}#sk-container-id-29 div.sk-serial::before {content: \"\";position: absolute;border-left: 1px solid gray;box-sizing: border-box;top: 0;bottom: 0;left: 50%;z-index: 0;}#sk-container-id-29 div.sk-serial {display: flex;flex-direction: column;align-items: center;background-color: white;padding-right: 0.2em;padding-left: 0.2em;position: relative;}#sk-container-id-29 div.sk-item {position: relative;z-index: 1;}#sk-container-id-29 div.sk-parallel {display: flex;align-items: stretch;justify-content: center;background-color: white;position: relative;}#sk-container-id-29 div.sk-item::before, #sk-container-id-29 div.sk-parallel-item::before {content: \"\";position: absolute;border-left: 1px solid gray;box-sizing: border-box;top: 0;bottom: 0;left: 50%;z-index: -1;}#sk-container-id-29 div.sk-parallel-item {display: flex;flex-direction: column;z-index: 1;position: relative;background-color: white;}#sk-container-id-29 div.sk-parallel-item:first-child::after {align-self: flex-end;width: 50%;}#sk-container-id-29 div.sk-parallel-item:last-child::after {align-self: flex-start;width: 50%;}#sk-container-id-29 div.sk-parallel-item:only-child::after {width: 0;}#sk-container-id-29 div.sk-dashed-wrapped {border: 1px dashed gray;margin: 0 0.4em 0.5em 0.4em;box-sizing: border-box;padding-bottom: 0.4em;background-color: white;}#sk-container-id-29 div.sk-label label {font-family: monospace;font-weight: bold;display: inline-block;line-height: 1.2em;}#sk-container-id-29 div.sk-label-container {text-align: center;}#sk-container-id-29 div.sk-container {/* jupyter's `normalize.less` sets `[hidden] { display: none; }` but bootstrap.min.css set `[hidden] { display: none !important; }` so we also need the `!important` here to be able to override the default hidden behavior on the sphinx rendered scikit-learn.org. See: https://github.com/scikit-learn/scikit-learn/issues/21755 */display: inline-block !important;position: relative;}#sk-container-id-29 div.sk-text-repr-fallback {display: none;}</style><div id=\"sk-container-id-29\" class=\"sk-top-container\"><div class=\"sk-text-repr-fallback\"><pre>LogisticRegression(solver=&#x27;sag&#x27;)</pre><b>In a Jupyter environment, please rerun this cell to show the HTML representation or trust the notebook. <br />On GitHub, the HTML representation is unable to render, please try loading this page with nbviewer.org.</b></div><div class=\"sk-container\" hidden><div class=\"sk-item\"><div class=\"sk-estimator sk-toggleable\"><input class=\"sk-toggleable__control sk-hidden--visually\" id=\"sk-estimator-id-29\" type=\"checkbox\" checked><label for=\"sk-estimator-id-29\" class=\"sk-toggleable__label sk-toggleable__label-arrow\">LogisticRegression</label><div class=\"sk-toggleable__content\"><pre>LogisticRegression(solver=&#x27;sag&#x27;)</pre></div></div></div></div></div>"
      ],
      "text/plain": [
       "LogisticRegression(solver='sag')"
      ]
     },
     "execution_count": 305,
     "metadata": {},
     "output_type": "execute_result"
    }
   ],
   "source": [
    "# Init the model\n",
    "model_incidence_promotion = LogisticRegression(solver='sag')\n",
    "model_incidence_promotion.fit(X, Y)"
   ]
  },
  {
   "cell_type": "code",
   "execution_count": 306,
   "metadata": {},
   "outputs": [
    {
     "data": {
      "text/plain": [
       "array([[-1.49400638,  0.56152461]])"
      ]
     },
     "execution_count": 306,
     "metadata": {},
     "output_type": "execute_result"
    }
   ],
   "source": [
    "model_incidence_promotion.coef_"
   ]
  },
  {
   "cell_type": "markdown",
   "metadata": {},
   "source": [
    "result: price coef is not not as strong anymore; Positive coef for promotion (logical!)\n",
    "\n",
    "--> The model quantifies the exact relationship between price, promotion and probability of purchase using logreg on incidence"
   ]
  },
  {
   "cell_type": "markdown",
   "metadata": {},
   "source": [
    "### Price elastiticity with Promotion"
   ]
  },
  {
   "cell_type": "code",
   "execution_count": 307,
   "metadata": {},
   "outputs": [],
   "source": [
    "df_price_elastiticty_promotion = pd.DataFrame(price_range)\n",
    "df_price_elastiticty_promotion = df_price_elastiticty_promotion.rename({0 : 'Price_Range'}, axis = 1)"
   ]
  },
  {
   "cell_type": "code",
   "execution_count": 308,
   "metadata": {},
   "outputs": [
    {
     "data": {
      "text/html": [
       "<div>\n",
       "<style scoped>\n",
       "    .dataframe tbody tr th:only-of-type {\n",
       "        vertical-align: middle;\n",
       "    }\n",
       "\n",
       "    .dataframe tbody tr th {\n",
       "        vertical-align: top;\n",
       "    }\n",
       "\n",
       "    .dataframe thead th {\n",
       "        text-align: right;\n",
       "    }\n",
       "</style>\n",
       "<table border=\"1\" class=\"dataframe\">\n",
       "  <thead>\n",
       "    <tr style=\"text-align: right;\">\n",
       "      <th></th>\n",
       "      <th>Price_Range</th>\n",
       "    </tr>\n",
       "  </thead>\n",
       "  <tbody>\n",
       "    <tr>\n",
       "      <th>0</th>\n",
       "      <td>0.50</td>\n",
       "    </tr>\n",
       "    <tr>\n",
       "      <th>1</th>\n",
       "      <td>0.51</td>\n",
       "    </tr>\n",
       "    <tr>\n",
       "      <th>2</th>\n",
       "      <td>0.52</td>\n",
       "    </tr>\n",
       "    <tr>\n",
       "      <th>3</th>\n",
       "      <td>0.53</td>\n",
       "    </tr>\n",
       "    <tr>\n",
       "      <th>4</th>\n",
       "      <td>0.54</td>\n",
       "    </tr>\n",
       "  </tbody>\n",
       "</table>\n",
       "</div>"
      ],
      "text/plain": [
       "   Price_Range\n",
       "0         0.50\n",
       "1         0.51\n",
       "2         0.52\n",
       "3         0.53\n",
       "4         0.54"
      ]
     },
     "execution_count": 308,
     "metadata": {},
     "output_type": "execute_result"
    }
   ],
   "source": [
    "df_price_elastiticty_promotion.head()"
   ]
  },
  {
   "cell_type": "markdown",
   "metadata": {},
   "source": [
    "Note: in order to predict in our model we need data as the second feature in our model (here we so far only have price range); so we need instances of corresponding values for promotion for the different price points\n",
    "\n",
    "We are interested in the overall effect  of promotion on elastiticies! as such explore two cases\n",
    "\n",
    "case 1: promotional activities for all brands\n",
    "case 2: no promotional activities"
   ]
  },
  {
   "cell_type": "code",
   "execution_count": 309,
   "metadata": {},
   "outputs": [],
   "source": [
    "# case 1: promotion activities for all brands on\n",
    "df_price_elastiticty_promotion['Promotion'] = 1\n",
    "\n"
   ]
  },
  {
   "cell_type": "code",
   "execution_count": 310,
   "metadata": {},
   "outputs": [
    {
     "name": "stderr",
     "output_type": "stream",
     "text": [
      "/home/angelo/repos/vscode_repos/customer_analytics_2022/lib64/python3.10/site-packages/sklearn/base.py:493: FutureWarning: The feature names should match those that were passed during fit. Starting version 1.2, an error will be raised.\n",
      "Feature names unseen at fit time:\n",
      "- Price_Range\n",
      "- Promotion\n",
      "Feature names seen at fit time, yet now missing:\n",
      "- Mean_Price\n",
      "- Mean_Promotion\n",
      "\n",
      "  warnings.warn(message, FutureWarning)\n"
     ]
    }
   ],
   "source": [
    "Y_pr_promotion = model_incidence_promotion.predict_proba(df_price_elastiticty_promotion)"
   ]
  },
  {
   "cell_type": "code",
   "execution_count": 311,
   "metadata": {},
   "outputs": [],
   "source": [
    "promo_pr = Y_pr_promotion[: , 1]\n",
    "price_elasticity_promo = (model_incidence_promotion.coef_[:, 0] * price_range) * (1 - promo_pr)"
   ]
  },
  {
   "cell_type": "code",
   "execution_count": 312,
   "metadata": {},
   "outputs": [],
   "source": [
    "# add this promotion elastitiy to the overall df with elastiticites\n",
    "df_price_elasticities['Elasticity_Promotion_1'] = price_elasticity_promo\n"
   ]
  },
  {
   "cell_type": "code",
   "execution_count": 313,
   "metadata": {},
   "outputs": [
    {
     "data": {
      "text/html": [
       "<div>\n",
       "<style scoped>\n",
       "    .dataframe tbody tr th:only-of-type {\n",
       "        vertical-align: middle;\n",
       "    }\n",
       "\n",
       "    .dataframe tbody tr th {\n",
       "        vertical-align: top;\n",
       "    }\n",
       "\n",
       "    .dataframe thead th {\n",
       "        text-align: right;\n",
       "    }\n",
       "</style>\n",
       "<table border=\"1\" class=\"dataframe\">\n",
       "  <thead>\n",
       "    <tr style=\"text-align: right;\">\n",
       "      <th></th>\n",
       "      <th>Price_Point</th>\n",
       "      <th>Mean_PE</th>\n",
       "      <th>PE_Segment_1</th>\n",
       "      <th>PE_Segment_2</th>\n",
       "      <th>PE_Segment_3</th>\n",
       "      <th>PE_Segment_0</th>\n",
       "      <th>Elasticity_Promotion_1</th>\n",
       "    </tr>\n",
       "  </thead>\n",
       "  <tbody>\n",
       "    <tr>\n",
       "      <th>0</th>\n",
       "      <td>0.50</td>\n",
       "      <td>-0.096380</td>\n",
       "      <td>-0.119174</td>\n",
       "      <td>-0.030949</td>\n",
       "      <td>-0.168112</td>\n",
       "      <td>-0.211271</td>\n",
       "      <td>-0.125737</td>\n",
       "    </tr>\n",
       "    <tr>\n",
       "      <th>1</th>\n",
       "      <td>0.51</td>\n",
       "      <td>-0.100447</td>\n",
       "      <td>-0.123360</td>\n",
       "      <td>-0.032718</td>\n",
       "      <td>-0.173041</td>\n",
       "      <td>-0.217845</td>\n",
       "      <td>-0.129854</td>\n",
       "    </tr>\n",
       "    <tr>\n",
       "      <th>2</th>\n",
       "      <td>0.52</td>\n",
       "      <td>-0.104641</td>\n",
       "      <td>-0.127639</td>\n",
       "      <td>-0.034574</td>\n",
       "      <td>-0.178039</td>\n",
       "      <td>-0.224526</td>\n",
       "      <td>-0.134049</td>\n",
       "    </tr>\n",
       "    <tr>\n",
       "      <th>3</th>\n",
       "      <td>0.53</td>\n",
       "      <td>-0.108965</td>\n",
       "      <td>-0.132014</td>\n",
       "      <td>-0.036520</td>\n",
       "      <td>-0.183109</td>\n",
       "      <td>-0.231316</td>\n",
       "      <td>-0.138324</td>\n",
       "    </tr>\n",
       "    <tr>\n",
       "      <th>4</th>\n",
       "      <td>0.54</td>\n",
       "      <td>-0.113422</td>\n",
       "      <td>-0.136484</td>\n",
       "      <td>-0.038562</td>\n",
       "      <td>-0.188250</td>\n",
       "      <td>-0.238215</td>\n",
       "      <td>-0.142680</td>\n",
       "    </tr>\n",
       "  </tbody>\n",
       "</table>\n",
       "</div>"
      ],
      "text/plain": [
       "   Price_Point   Mean_PE  PE_Segment_1  PE_Segment_2  PE_Segment_3  \\\n",
       "0         0.50 -0.096380     -0.119174     -0.030949     -0.168112   \n",
       "1         0.51 -0.100447     -0.123360     -0.032718     -0.173041   \n",
       "2         0.52 -0.104641     -0.127639     -0.034574     -0.178039   \n",
       "3         0.53 -0.108965     -0.132014     -0.036520     -0.183109   \n",
       "4         0.54 -0.113422     -0.136484     -0.038562     -0.188250   \n",
       "\n",
       "   PE_Segment_0  Elasticity_Promotion_1  \n",
       "0     -0.211271               -0.125737  \n",
       "1     -0.217845               -0.129854  \n",
       "2     -0.224526               -0.134049  \n",
       "3     -0.231316               -0.138324  \n",
       "4     -0.238215               -0.142680  "
      ]
     },
     "execution_count": 313,
     "metadata": {},
     "output_type": "execute_result"
    }
   ],
   "source": [
    "df_price_elasticities.head()"
   ]
  },
  {
   "cell_type": "markdown",
   "metadata": {},
   "source": [
    "### case 2: price elastitiy for no promotion"
   ]
  },
  {
   "cell_type": "code",
   "execution_count": 314,
   "metadata": {},
   "outputs": [],
   "source": [
    "# case 2: promotion activities for all brands turned off\n",
    "df_price_elastiticty_promotion['Promotion'] = 0"
   ]
  },
  {
   "cell_type": "code",
   "execution_count": 315,
   "metadata": {},
   "outputs": [
    {
     "name": "stderr",
     "output_type": "stream",
     "text": [
      "/home/angelo/repos/vscode_repos/customer_analytics_2022/lib64/python3.10/site-packages/sklearn/base.py:493: FutureWarning: The feature names should match those that were passed during fit. Starting version 1.2, an error will be raised.\n",
      "Feature names unseen at fit time:\n",
      "- Price_Range\n",
      "- Promotion\n",
      "Feature names seen at fit time, yet now missing:\n",
      "- Mean_Price\n",
      "- Mean_Promotion\n",
      "\n",
      "  warnings.warn(message, FutureWarning)\n"
     ]
    }
   ],
   "source": [
    "# predict \n",
    "Y_pr_promotion = model_incidence_promotion.predict_proba(df_price_elastiticty_promotion)"
   ]
  },
  {
   "cell_type": "code",
   "execution_count": 316,
   "metadata": {},
   "outputs": [],
   "source": [
    "promo_pr = Y_pr_promotion[: , 1]\n",
    "price_elasticity_promo = (model_incidence_promotion.coef_[:, 0] * price_range) * (1 - promo_pr)"
   ]
  },
  {
   "cell_type": "code",
   "execution_count": 317,
   "metadata": {},
   "outputs": [],
   "source": [
    "# add this promotion elastitiy to the overall df with elastiticites\n",
    "df_price_elasticities['Elasticity_Promotion_0'] = price_elasticity_promo\n"
   ]
  },
  {
   "cell_type": "code",
   "execution_count": 319,
   "metadata": {},
   "outputs": [
    {
     "data": {
      "text/html": [
       "<div>\n",
       "<style scoped>\n",
       "    .dataframe tbody tr th:only-of-type {\n",
       "        vertical-align: middle;\n",
       "    }\n",
       "\n",
       "    .dataframe tbody tr th {\n",
       "        vertical-align: top;\n",
       "    }\n",
       "\n",
       "    .dataframe thead th {\n",
       "        text-align: right;\n",
       "    }\n",
       "</style>\n",
       "<table border=\"1\" class=\"dataframe\">\n",
       "  <thead>\n",
       "    <tr style=\"text-align: right;\">\n",
       "      <th></th>\n",
       "      <th>Price_Point</th>\n",
       "      <th>Mean_PE</th>\n",
       "      <th>PE_Segment_1</th>\n",
       "      <th>PE_Segment_2</th>\n",
       "      <th>PE_Segment_3</th>\n",
       "      <th>PE_Segment_0</th>\n",
       "      <th>Elasticity_Promotion_1</th>\n",
       "      <th>Elasticity_Promotion_0</th>\n",
       "    </tr>\n",
       "  </thead>\n",
       "  <tbody>\n",
       "    <tr>\n",
       "      <th>0</th>\n",
       "      <td>0.50</td>\n",
       "      <td>-0.096380</td>\n",
       "      <td>-0.119174</td>\n",
       "      <td>-0.030949</td>\n",
       "      <td>-0.168112</td>\n",
       "      <td>-0.211271</td>\n",
       "      <td>-0.125737</td>\n",
       "      <td>-0.195651</td>\n",
       "    </tr>\n",
       "    <tr>\n",
       "      <th>1</th>\n",
       "      <td>0.51</td>\n",
       "      <td>-0.100447</td>\n",
       "      <td>-0.123360</td>\n",
       "      <td>-0.032718</td>\n",
       "      <td>-0.173041</td>\n",
       "      <td>-0.217845</td>\n",
       "      <td>-0.129854</td>\n",
       "      <td>-0.201773</td>\n",
       "    </tr>\n",
       "    <tr>\n",
       "      <th>2</th>\n",
       "      <td>0.52</td>\n",
       "      <td>-0.104641</td>\n",
       "      <td>-0.127639</td>\n",
       "      <td>-0.034574</td>\n",
       "      <td>-0.178039</td>\n",
       "      <td>-0.224526</td>\n",
       "      <td>-0.134049</td>\n",
       "      <td>-0.207997</td>\n",
       "    </tr>\n",
       "    <tr>\n",
       "      <th>3</th>\n",
       "      <td>0.53</td>\n",
       "      <td>-0.108965</td>\n",
       "      <td>-0.132014</td>\n",
       "      <td>-0.036520</td>\n",
       "      <td>-0.183109</td>\n",
       "      <td>-0.231316</td>\n",
       "      <td>-0.138324</td>\n",
       "      <td>-0.214324</td>\n",
       "    </tr>\n",
       "    <tr>\n",
       "      <th>4</th>\n",
       "      <td>0.54</td>\n",
       "      <td>-0.113422</td>\n",
       "      <td>-0.136484</td>\n",
       "      <td>-0.038562</td>\n",
       "      <td>-0.188250</td>\n",
       "      <td>-0.238215</td>\n",
       "      <td>-0.142680</td>\n",
       "      <td>-0.220755</td>\n",
       "    </tr>\n",
       "  </tbody>\n",
       "</table>\n",
       "</div>"
      ],
      "text/plain": [
       "   Price_Point   Mean_PE  PE_Segment_1  PE_Segment_2  PE_Segment_3  \\\n",
       "0         0.50 -0.096380     -0.119174     -0.030949     -0.168112   \n",
       "1         0.51 -0.100447     -0.123360     -0.032718     -0.173041   \n",
       "2         0.52 -0.104641     -0.127639     -0.034574     -0.178039   \n",
       "3         0.53 -0.108965     -0.132014     -0.036520     -0.183109   \n",
       "4         0.54 -0.113422     -0.136484     -0.038562     -0.188250   \n",
       "\n",
       "   PE_Segment_0  Elasticity_Promotion_1  Elasticity_Promotion_0  \n",
       "0     -0.211271               -0.125737               -0.195651  \n",
       "1     -0.217845               -0.129854               -0.201773  \n",
       "2     -0.224526               -0.134049               -0.207997  \n",
       "3     -0.231316               -0.138324               -0.214324  \n",
       "4     -0.238215               -0.142680               -0.220755  "
      ]
     },
     "execution_count": 319,
     "metadata": {},
     "output_type": "execute_result"
    }
   ],
   "source": [
    "df_price_elasticities.head()"
   ]
  },
  {
   "cell_type": "markdown",
   "metadata": {},
   "source": [
    "#### Price elastiticy of purchase probability with and without promotion\n",
    "\n",
    "Show the elasticity for both elasticity curves of active vs non activve promotion \n",
    "\n",
    "\n",
    "--> Showing purchase probability elastictiy given maximum and minimum promotional activity"
   ]
  },
  {
   "cell_type": "code",
   "execution_count": 323,
   "metadata": {},
   "outputs": [
    {
     "data": {
      "text/plain": [
       "Text(0.5, 1.0, 'Price elastiticy of purchase probability with and without promotion')"
      ]
     },
     "execution_count": 323,
     "metadata": {},
     "output_type": "execute_result"
    },
    {
     "data": {
      "image/png": "[encoded data removed]",
      "text/plain": [
       "<Figure size 648x432 with 1 Axes>"
      ]
     },
     "metadata": {},
     "output_type": "display_data"
    }
   ],
   "source": [
    "# display both \n",
    "\n",
    "plt.figure(figsize = (9,6))\n",
    "plt.plot(price_range, df_price_elasticities.Elasticity_Promotion_1, color = 'green')\n",
    "plt.plot(price_range, df_price_elasticities.Elasticity_Promotion_0, color = 'red')\n",
    "plt.legend(['Promotion Active == 1', 'Promotion Inactive == 0'])\n",
    "plt.xlabel('Price')\n",
    "plt.ylabel('Elasticity')\n",
    "plt.title('Price elastiticy of purchase probability with and without promotion')"
   ]
  },
  {
   "cell_type": "markdown",
   "metadata": {},
   "source": [
    "graph shows that the elasttictiy curve of promotion == 1 sits above the elastictiy curve of no promotion; this means that promotion reduces the elasticity in general of all segments, thereby showing potential that higher price + promotion is a good pricign strategy. However this must be analyzed in the segments themselfes to differentiate betweeen the different custoemrs\n",
    "\n",
    "Also:\n",
    "\n",
    "the Promotion curve turns from inelastic to elastic at 1.45€ (so elastictiy above 1); the non promotion curve already turns at 1.27€ elastic!\n",
    "\n",
    "So people are more willing to buy products at promotional prices; irrespective of the price (at least a little)--> customers are less price senstive to price changes when there are promotion activitites conducted; so have a higher original price + promotion\n",
    "\n",
    "--> examine for the segments themselfes"
   ]
  },
  {
   "cell_type": "markdown",
   "metadata": {},
   "source": [
    "## Proceed to brand Purchase probabaility \n",
    "\n",
    "\n",
    "#### now only shopping occasions that succeed (so incident == 1 and/or brand_variable != 0)"
   ]
  },
  {
   "cell_type": "code",
   "execution_count": 332,
   "metadata": {},
   "outputs": [
    {
     "name": "stdout",
     "output_type": "stream",
     "text": [
      "<class 'pandas.core.frame.DataFrame'>\n",
      "RangeIndex: 58693 entries, 0 to 58692\n",
      "Data columns (total 29 columns):\n",
      " #   Column             Non-Null Count  Dtype  \n",
      "---  ------             --------------  -----  \n",
      " 0   ID                 58693 non-null  int64  \n",
      " 1   Day                58693 non-null  int64  \n",
      " 2   Incidence          58693 non-null  int64  \n",
      " 3   Brand              58693 non-null  int64  \n",
      " 4   Quantity           58693 non-null  int64  \n",
      " 5   Last_Inc_Brand     58693 non-null  int64  \n",
      " 6   Last_Inc_Quantity  58693 non-null  int64  \n",
      " 7   Price_1            58693 non-null  float64\n",
      " 8   Price_2            58693 non-null  float64\n",
      " 9   Price_3            58693 non-null  float64\n",
      " 10  Price_4            58693 non-null  float64\n",
      " 11  Price_5            58693 non-null  float64\n",
      " 12  Promotion_1        58693 non-null  int64  \n",
      " 13  Promotion_2        58693 non-null  int64  \n",
      " 14  Promotion_3        58693 non-null  int64  \n",
      " 15  Promotion_4        58693 non-null  int64  \n",
      " 16  Promotion_5        58693 non-null  int64  \n",
      " 17  Sex                58693 non-null  int64  \n",
      " 18  Marital status     58693 non-null  int64  \n",
      " 19  Age                58693 non-null  int64  \n",
      " 20  Education          58693 non-null  int64  \n",
      " 21  Income             58693 non-null  int64  \n",
      " 22  Occupation         58693 non-null  int64  \n",
      " 23  Settlement size    58693 non-null  int64  \n",
      " 24  Segment            58693 non-null  int32  \n",
      " 25  Segment_0          58693 non-null  uint8  \n",
      " 26  Segment_1          58693 non-null  uint8  \n",
      " 27  Segment_2          58693 non-null  uint8  \n",
      " 28  Segment_3          58693 non-null  uint8  \n",
      "dtypes: float64(5), int32(1), int64(19), uint8(4)\n",
      "memory usage: 11.2 MB\n"
     ]
    }
   ],
   "source": [
    "df_pa.info()"
   ]
  },
  {
   "cell_type": "code",
   "execution_count": 337,
   "metadata": {},
   "outputs": [],
   "source": [
    "brand_choice = df_pa[df_pa.Incidence == 1]"
   ]
  },
  {
   "cell_type": "code",
   "execution_count": 338,
   "metadata": {},
   "outputs": [
    {
     "data": {
      "text/html": [
       "<div>\n",
       "<style scoped>\n",
       "    .dataframe tbody tr th:only-of-type {\n",
       "        vertical-align: middle;\n",
       "    }\n",
       "\n",
       "    .dataframe tbody tr th {\n",
       "        vertical-align: top;\n",
       "    }\n",
       "\n",
       "    .dataframe thead th {\n",
       "        text-align: right;\n",
       "    }\n",
       "</style>\n",
       "<table border=\"1\" class=\"dataframe\">\n",
       "  <thead>\n",
       "    <tr style=\"text-align: right;\">\n",
       "      <th></th>\n",
       "      <th>ID</th>\n",
       "      <th>Day</th>\n",
       "      <th>Incidence</th>\n",
       "      <th>Brand</th>\n",
       "      <th>Quantity</th>\n",
       "      <th>Last_Inc_Brand</th>\n",
       "      <th>Last_Inc_Quantity</th>\n",
       "      <th>Price_1</th>\n",
       "      <th>Price_2</th>\n",
       "      <th>Price_3</th>\n",
       "      <th>...</th>\n",
       "      <th>Age</th>\n",
       "      <th>Education</th>\n",
       "      <th>Income</th>\n",
       "      <th>Occupation</th>\n",
       "      <th>Settlement size</th>\n",
       "      <th>Segment</th>\n",
       "      <th>Segment_0</th>\n",
       "      <th>Segment_1</th>\n",
       "      <th>Segment_2</th>\n",
       "      <th>Segment_3</th>\n",
       "    </tr>\n",
       "  </thead>\n",
       "  <tbody>\n",
       "    <tr>\n",
       "      <th>6</th>\n",
       "      <td>200000001</td>\n",
       "      <td>28</td>\n",
       "      <td>1</td>\n",
       "      <td>2</td>\n",
       "      <td>2</td>\n",
       "      <td>0</td>\n",
       "      <td>0</td>\n",
       "      <td>1.50</td>\n",
       "      <td>1.90</td>\n",
       "      <td>1.99</td>\n",
       "      <td>...</td>\n",
       "      <td>47</td>\n",
       "      <td>1</td>\n",
       "      <td>110866</td>\n",
       "      <td>1</td>\n",
       "      <td>0</td>\n",
       "      <td>2</td>\n",
       "      <td>0</td>\n",
       "      <td>0</td>\n",
       "      <td>1</td>\n",
       "      <td>0</td>\n",
       "    </tr>\n",
       "    <tr>\n",
       "      <th>11</th>\n",
       "      <td>200000001</td>\n",
       "      <td>58</td>\n",
       "      <td>1</td>\n",
       "      <td>5</td>\n",
       "      <td>1</td>\n",
       "      <td>0</td>\n",
       "      <td>0</td>\n",
       "      <td>1.39</td>\n",
       "      <td>1.90</td>\n",
       "      <td>1.91</td>\n",
       "      <td>...</td>\n",
       "      <td>47</td>\n",
       "      <td>1</td>\n",
       "      <td>110866</td>\n",
       "      <td>1</td>\n",
       "      <td>0</td>\n",
       "      <td>2</td>\n",
       "      <td>0</td>\n",
       "      <td>0</td>\n",
       "      <td>1</td>\n",
       "      <td>0</td>\n",
       "    </tr>\n",
       "    <tr>\n",
       "      <th>19</th>\n",
       "      <td>200000001</td>\n",
       "      <td>110</td>\n",
       "      <td>1</td>\n",
       "      <td>1</td>\n",
       "      <td>2</td>\n",
       "      <td>0</td>\n",
       "      <td>0</td>\n",
       "      <td>1.47</td>\n",
       "      <td>1.90</td>\n",
       "      <td>1.99</td>\n",
       "      <td>...</td>\n",
       "      <td>47</td>\n",
       "      <td>1</td>\n",
       "      <td>110866</td>\n",
       "      <td>1</td>\n",
       "      <td>0</td>\n",
       "      <td>2</td>\n",
       "      <td>0</td>\n",
       "      <td>0</td>\n",
       "      <td>1</td>\n",
       "      <td>0</td>\n",
       "    </tr>\n",
       "    <tr>\n",
       "      <th>24</th>\n",
       "      <td>200000001</td>\n",
       "      <td>142</td>\n",
       "      <td>1</td>\n",
       "      <td>4</td>\n",
       "      <td>1</td>\n",
       "      <td>0</td>\n",
       "      <td>0</td>\n",
       "      <td>1.21</td>\n",
       "      <td>1.35</td>\n",
       "      <td>1.99</td>\n",
       "      <td>...</td>\n",
       "      <td>47</td>\n",
       "      <td>1</td>\n",
       "      <td>110866</td>\n",
       "      <td>1</td>\n",
       "      <td>0</td>\n",
       "      <td>2</td>\n",
       "      <td>0</td>\n",
       "      <td>0</td>\n",
       "      <td>1</td>\n",
       "      <td>0</td>\n",
       "    </tr>\n",
       "    <tr>\n",
       "      <th>29</th>\n",
       "      <td>200000001</td>\n",
       "      <td>183</td>\n",
       "      <td>1</td>\n",
       "      <td>2</td>\n",
       "      <td>3</td>\n",
       "      <td>0</td>\n",
       "      <td>0</td>\n",
       "      <td>1.46</td>\n",
       "      <td>1.88</td>\n",
       "      <td>1.97</td>\n",
       "      <td>...</td>\n",
       "      <td>47</td>\n",
       "      <td>1</td>\n",
       "      <td>110866</td>\n",
       "      <td>1</td>\n",
       "      <td>0</td>\n",
       "      <td>2</td>\n",
       "      <td>0</td>\n",
       "      <td>0</td>\n",
       "      <td>1</td>\n",
       "      <td>0</td>\n",
       "    </tr>\n",
       "  </tbody>\n",
       "</table>\n",
       "<p>5 rows × 29 columns</p>\n",
       "</div>"
      ],
      "text/plain": [
       "           ID  Day  Incidence  Brand  Quantity  Last_Inc_Brand  \\\n",
       "6   200000001   28          1      2         2               0   \n",
       "11  200000001   58          1      5         1               0   \n",
       "19  200000001  110          1      1         2               0   \n",
       "24  200000001  142          1      4         1               0   \n",
       "29  200000001  183          1      2         3               0   \n",
       "\n",
       "    Last_Inc_Quantity  Price_1  Price_2  Price_3  ...  Age  Education  Income  \\\n",
       "6                   0     1.50     1.90     1.99  ...   47          1  110866   \n",
       "11                  0     1.39     1.90     1.91  ...   47          1  110866   \n",
       "19                  0     1.47     1.90     1.99  ...   47          1  110866   \n",
       "24                  0     1.21     1.35     1.99  ...   47          1  110866   \n",
       "29                  0     1.46     1.88     1.97  ...   47          1  110866   \n",
       "\n",
       "    Occupation  Settlement size  Segment  Segment_0  Segment_1  Segment_2  \\\n",
       "6            1                0        2          0          0          1   \n",
       "11           1                0        2          0          0          1   \n",
       "19           1                0        2          0          0          1   \n",
       "24           1                0        2          0          0          1   \n",
       "29           1                0        2          0          0          1   \n",
       "\n",
       "    Segment_3  \n",
       "6           0  \n",
       "11          0  \n",
       "19          0  \n",
       "24          0  \n",
       "29          0  \n",
       "\n",
       "[5 rows x 29 columns]"
      ]
     },
     "execution_count": 338,
     "metadata": {},
     "output_type": "execute_result"
    }
   ],
   "source": [
    "brand_choice.head()"
   ]
  },
  {
   "cell_type": "markdown",
   "metadata": {},
   "source": [
    "the new model will proedict the branch choice of a customer given that the customer will buy one of the different brands"
   ]
  },
  {
   "cell_type": "code",
   "execution_count": 347,
   "metadata": {},
   "outputs": [],
   "source": [
    "# define outcome \n",
    "Y = brand_choice.Brand"
   ]
  },
  {
   "cell_type": "markdown",
   "metadata": {},
   "source": [
    "get all brand prices: we want to knwo what 1) happens if we chagne the price of our brand and 2 ) what happens if the competitor changes their price wrt. purchase probability. "
   ]
  },
  {
   "cell_type": "code",
   "execution_count": 348,
   "metadata": {},
   "outputs": [
    {
     "data": {
      "text/plain": [
       "Index(['ID', 'Day', 'Incidence', 'Brand', 'Quantity', 'Last_Inc_Brand',\n",
       "       'Last_Inc_Quantity', 'Price_1', 'Price_2', 'Price_3', 'Price_4',\n",
       "       'Price_5', 'Promotion_1', 'Promotion_2', 'Promotion_3', 'Promotion_4',\n",
       "       'Promotion_5', 'Sex', 'Marital status', 'Age', 'Education', 'Income',\n",
       "       'Occupation', 'Settlement size', 'Segment', 'Segment_0', 'Segment_1',\n",
       "       'Segment_2', 'Segment_3'],\n",
       "      dtype='object')"
      ]
     },
     "execution_count": 348,
     "metadata": {},
     "output_type": "execute_result"
    }
   ],
   "source": [
    "# select the price of the brand value in the corresponding row\n",
    "\n",
    "brand_choice.columns"
   ]
  },
  {
   "cell_type": "code",
   "execution_count": 349,
   "metadata": {},
   "outputs": [],
   "source": [
    "features = ['Price_1', 'Price_2', 'Price_3', 'Price_4', 'Price_5']\n",
    "X = brand_choice[features]"
   ]
  },
  {
   "cell_type": "code",
   "execution_count": 351,
   "metadata": {},
   "outputs": [
    {
     "data": {
      "text/html": [
       "<style>#sk-container-id-30 {color: black;background-color: white;}#sk-container-id-30 pre{padding: 0;}#sk-container-id-30 div.sk-toggleable {background-color: white;}#sk-container-id-30 label.sk-toggleable__label {cursor: pointer;display: block;width: 100%;margin-bottom: 0;padding: 0.3em;box-sizing: border-box;text-align: center;}#sk-container-id-30 label.sk-toggleable__label-arrow:before {content: \"▸\";float: left;margin-right: 0.25em;color: #696969;}#sk-container-id-30 label.sk-toggleable__label-arrow:hover:before {color: black;}#sk-container-id-30 div.sk-estimator:hover label.sk-toggleable__label-arrow:before {color: black;}#sk-container-id-30 div.sk-toggleable__content {max-height: 0;max-width: 0;overflow: hidden;text-align: left;background-color: #f0f8ff;}#sk-container-id-30 div.sk-toggleable__content pre {margin: 0.2em;color: black;border-radius: 0.25em;background-color: #f0f8ff;}#sk-container-id-30 input.sk-toggleable__control:checked~div.sk-toggleable__content {max-height: 200px;max-width: 100%;overflow: auto;}#sk-container-id-30 input.sk-toggleable__control:checked~label.sk-toggleable__label-arrow:before {content: \"▾\";}#sk-container-id-30 div.sk-estimator input.sk-toggleable__control:checked~label.sk-toggleable__label {background-color: #d4ebff;}#sk-container-id-30 div.sk-label input.sk-toggleable__control:checked~label.sk-toggleable__label {background-color: #d4ebff;}#sk-container-id-30 input.sk-hidden--visually {border: 0;clip: rect(1px 1px 1px 1px);clip: rect(1px, 1px, 1px, 1px);height: 1px;margin: -1px;overflow: hidden;padding: 0;position: absolute;width: 1px;}#sk-container-id-30 div.sk-estimator {font-family: monospace;background-color: #f0f8ff;border: 1px dotted black;border-radius: 0.25em;box-sizing: border-box;margin-bottom: 0.5em;}#sk-container-id-30 div.sk-estimator:hover {background-color: #d4ebff;}#sk-container-id-30 div.sk-parallel-item::after {content: \"\";width: 100%;border-bottom: 1px solid gray;flex-grow: 1;}#sk-container-id-30 div.sk-label:hover label.sk-toggleable__label {background-color: #d4ebff;}#sk-container-id-30 div.sk-serial::before {content: \"\";position: absolute;border-left: 1px solid gray;box-sizing: border-box;top: 0;bottom: 0;left: 50%;z-index: 0;}#sk-container-id-30 div.sk-serial {display: flex;flex-direction: column;align-items: center;background-color: white;padding-right: 0.2em;padding-left: 0.2em;position: relative;}#sk-container-id-30 div.sk-item {position: relative;z-index: 1;}#sk-container-id-30 div.sk-parallel {display: flex;align-items: stretch;justify-content: center;background-color: white;position: relative;}#sk-container-id-30 div.sk-item::before, #sk-container-id-30 div.sk-parallel-item::before {content: \"\";position: absolute;border-left: 1px solid gray;box-sizing: border-box;top: 0;bottom: 0;left: 50%;z-index: -1;}#sk-container-id-30 div.sk-parallel-item {display: flex;flex-direction: column;z-index: 1;position: relative;background-color: white;}#sk-container-id-30 div.sk-parallel-item:first-child::after {align-self: flex-end;width: 50%;}#sk-container-id-30 div.sk-parallel-item:last-child::after {align-self: flex-start;width: 50%;}#sk-container-id-30 div.sk-parallel-item:only-child::after {width: 0;}#sk-container-id-30 div.sk-dashed-wrapped {border: 1px dashed gray;margin: 0 0.4em 0.5em 0.4em;box-sizing: border-box;padding-bottom: 0.4em;background-color: white;}#sk-container-id-30 div.sk-label label {font-family: monospace;font-weight: bold;display: inline-block;line-height: 1.2em;}#sk-container-id-30 div.sk-label-container {text-align: center;}#sk-container-id-30 div.sk-container {/* jupyter's `normalize.less` sets `[hidden] { display: none; }` but bootstrap.min.css set `[hidden] { display: none !important; }` so we also need the `!important` here to be able to override the default hidden behavior on the sphinx rendered scikit-learn.org. See: https://github.com/scikit-learn/scikit-learn/issues/21755 */display: inline-block !important;position: relative;}#sk-container-id-30 div.sk-text-repr-fallback {display: none;}</style><div id=\"sk-container-id-30\" class=\"sk-top-container\"><div class=\"sk-text-repr-fallback\"><pre>LogisticRegression(multi_class=&#x27;multinomial&#x27;, solver=&#x27;sag&#x27;)</pre><b>In a Jupyter environment, please rerun this cell to show the HTML representation or trust the notebook. <br />On GitHub, the HTML representation is unable to render, please try loading this page with nbviewer.org.</b></div><div class=\"sk-container\" hidden><div class=\"sk-item\"><div class=\"sk-estimator sk-toggleable\"><input class=\"sk-toggleable__control sk-hidden--visually\" id=\"sk-estimator-id-30\" type=\"checkbox\" checked><label for=\"sk-estimator-id-30\" class=\"sk-toggleable__label sk-toggleable__label-arrow\">LogisticRegression</label><div class=\"sk-toggleable__content\"><pre>LogisticRegression(multi_class=&#x27;multinomial&#x27;, solver=&#x27;sag&#x27;)</pre></div></div></div></div></div>"
      ],
      "text/plain": [
       "LogisticRegression(multi_class='multinomial', solver='sag')"
      ]
     },
     "execution_count": 351,
     "metadata": {},
     "output_type": "execute_result"
    }
   ],
   "source": [
    "model_brand_choice = LogisticRegression(solver = 'sag', multi_class = 'multinomial')\n",
    "model_brand_choice.fit(X, Y)"
   ]
  },
  {
   "cell_type": "code",
   "execution_count": 352,
   "metadata": {},
   "outputs": [
    {
     "data": {
      "text/plain": [
       "array([[-3.91597507,  0.65845011,  2.41765329,  0.70406924, -0.20213237],\n",
       "       [ 1.27460379, -1.87985961, -0.21267551, -0.20634783,  0.58786147],\n",
       "       [ 1.62423408,  0.56213421,  0.50104809,  1.03954518,  0.45283978],\n",
       "       [ 0.57452627,  0.39558174, -1.40064543, -1.24625194,  0.249339  ],\n",
       "       [ 0.44261094,  0.26369355, -1.30538044, -0.29101464, -1.08790788]])"
      ]
     },
     "execution_count": 352,
     "metadata": {},
     "output_type": "execute_result"
    }
   ],
   "source": [
    "# 5 x 5 because 5 outcome classes and 5features (5 different prices)\n",
    "model_brand_choice.coef_"
   ]
  },
  {
   "cell_type": "markdown",
   "metadata": {},
   "source": [
    "Problem is that we do not see which coefficient relates to which outcome class!\n",
    "So better put it into a dataframe"
   ]
  },
  {
   "cell_type": "code",
   "execution_count": 353,
   "metadata": {},
   "outputs": [],
   "source": [
    "bc_coef = pd.DataFrame(model_brand_choice.coef_)"
   ]
  },
  {
   "cell_type": "code",
   "execution_count": 354,
   "metadata": {},
   "outputs": [],
   "source": [
    "# transpose it\n",
    "bc_coef = pd.DataFrame(model_brand_choice.coef_.T)"
   ]
  },
  {
   "cell_type": "code",
   "execution_count": 358,
   "metadata": {},
   "outputs": [],
   "source": [
    "coeffieicnt_names = ['Coef_Brand_1', 'Coef_Brand_2', 'Coef_Brand_3', 'Coef_Brand_4', 'Coef_Brand_5']\n",
    "bc_coef.columns = [coeffieicnt_names]\n",
    "\n",
    "\n",
    "# adjust the prices in the rows\n",
    "prices_names = ['Price_1', 'Price_2', 'Price_3', 'Price_4', 'Price_5']\n",
    "bc_coef.index = [prices_names]\n",
    "\n",
    "#round all coef\n",
    "bc_coef = bc_coef.round(3)"
   ]
  },
  {
   "cell_type": "code",
   "execution_count": 359,
   "metadata": {},
   "outputs": [
    {
     "data": {
      "text/html": [
       "<div>\n",
       "<style scoped>\n",
       "    .dataframe tbody tr th:only-of-type {\n",
       "        vertical-align: middle;\n",
       "    }\n",
       "\n",
       "    .dataframe tbody tr th {\n",
       "        vertical-align: top;\n",
       "    }\n",
       "\n",
       "    .dataframe thead tr th {\n",
       "        text-align: left;\n",
       "    }\n",
       "</style>\n",
       "<table border=\"1\" class=\"dataframe\">\n",
       "  <thead>\n",
       "    <tr>\n",
       "      <th></th>\n",
       "      <th>Coef_Brand_1</th>\n",
       "      <th>Coef_Brand_2</th>\n",
       "      <th>Coef_Brand_3</th>\n",
       "      <th>Coef_Brand_4</th>\n",
       "      <th>Coef_Brand_5</th>\n",
       "    </tr>\n",
       "  </thead>\n",
       "  <tbody>\n",
       "    <tr>\n",
       "      <th>Price_1</th>\n",
       "      <td>-3.916</td>\n",
       "      <td>1.275</td>\n",
       "      <td>1.624</td>\n",
       "      <td>0.575</td>\n",
       "      <td>0.443</td>\n",
       "    </tr>\n",
       "    <tr>\n",
       "      <th>Price_2</th>\n",
       "      <td>0.658</td>\n",
       "      <td>-1.880</td>\n",
       "      <td>0.562</td>\n",
       "      <td>0.396</td>\n",
       "      <td>0.264</td>\n",
       "    </tr>\n",
       "    <tr>\n",
       "      <th>Price_3</th>\n",
       "      <td>2.418</td>\n",
       "      <td>-0.213</td>\n",
       "      <td>0.501</td>\n",
       "      <td>-1.401</td>\n",
       "      <td>-1.305</td>\n",
       "    </tr>\n",
       "    <tr>\n",
       "      <th>Price_4</th>\n",
       "      <td>0.704</td>\n",
       "      <td>-0.206</td>\n",
       "      <td>1.040</td>\n",
       "      <td>-1.246</td>\n",
       "      <td>-0.291</td>\n",
       "    </tr>\n",
       "    <tr>\n",
       "      <th>Price_5</th>\n",
       "      <td>-0.202</td>\n",
       "      <td>0.588</td>\n",
       "      <td>0.453</td>\n",
       "      <td>0.249</td>\n",
       "      <td>-1.088</td>\n",
       "    </tr>\n",
       "  </tbody>\n",
       "</table>\n",
       "</div>"
      ],
      "text/plain": [
       "        Coef_Brand_1 Coef_Brand_2 Coef_Brand_3 Coef_Brand_4 Coef_Brand_5\n",
       "Price_1       -3.916        1.275        1.624        0.575        0.443\n",
       "Price_2        0.658       -1.880        0.562        0.396        0.264\n",
       "Price_3        2.418       -0.213        0.501       -1.401       -1.305\n",
       "Price_4        0.704       -0.206        1.040       -1.246       -0.291\n",
       "Price_5       -0.202        0.588        0.453        0.249       -1.088"
      ]
     },
     "execution_count": 359,
     "metadata": {},
     "output_type": "execute_result"
    }
   ],
   "source": [
    "bc_coef"
   ]
  },
  {
   "cell_type": "markdown",
   "metadata": {},
   "source": [
    "Analysis:\n",
    "1. Coef_brand_1 is negative (strong) with price_1 and positive with all other prices (except 5)\n",
    "\n",
    "--> we know already: the higher the price of a product the lower the probability of it being purchased (given the negative trend in the elasticities)\n",
    "--> But it is positive with all others simply because if the other brands (competitors) increase their price, the probability of our brand being puchased increases (price and brand coef are in the correspondign diagonal)\n",
    "\n",
    "This logreg just represents the choice probability of the brand in question (brand 1- 5 ) with respect to its own priice in addition to other brands price as well; these are OWN brand effects and corss brand effects\n",
    "\n",
    "\n"
   ]
  },
  {
   "cell_type": "markdown",
   "metadata": {},
   "source": [
    "## Own Price Elastiticy -- here Own price elasticity brand 5\n",
    "\n",
    "#### Diagonal dispalys the own price elasticity --> What happens if I increase the price for my own product brand 5? (effects of price chagnes to your own brand)\n",
    "\n",
    "#### column wise is cross brand effects --> What happens to other brands change their price"
   ]
  },
  {
   "cell_type": "code",
   "execution_count": 362,
   "metadata": {},
   "outputs": [
    {
     "data": {
      "text/html": [
       "<div>\n",
       "<style scoped>\n",
       "    .dataframe tbody tr th:only-of-type {\n",
       "        vertical-align: middle;\n",
       "    }\n",
       "\n",
       "    .dataframe tbody tr th {\n",
       "        vertical-align: top;\n",
       "    }\n",
       "\n",
       "    .dataframe thead th {\n",
       "        text-align: right;\n",
       "    }\n",
       "</style>\n",
       "<table border=\"1\" class=\"dataframe\">\n",
       "  <thead>\n",
       "    <tr style=\"text-align: right;\">\n",
       "      <th></th>\n",
       "      <th>Price_1</th>\n",
       "      <th>Price_2</th>\n",
       "      <th>Price_3</th>\n",
       "      <th>Price_4</th>\n",
       "      <th>Price_5</th>\n",
       "    </tr>\n",
       "  </thead>\n",
       "  <tbody>\n",
       "    <tr>\n",
       "      <th>0</th>\n",
       "      <td>1.384559</td>\n",
       "      <td>1.764717</td>\n",
       "      <td>2.006694</td>\n",
       "      <td>2.159658</td>\n",
       "      <td>0.50</td>\n",
       "    </tr>\n",
       "    <tr>\n",
       "      <th>1</th>\n",
       "      <td>1.384559</td>\n",
       "      <td>1.764717</td>\n",
       "      <td>2.006694</td>\n",
       "      <td>2.159658</td>\n",
       "      <td>0.51</td>\n",
       "    </tr>\n",
       "    <tr>\n",
       "      <th>2</th>\n",
       "      <td>1.384559</td>\n",
       "      <td>1.764717</td>\n",
       "      <td>2.006694</td>\n",
       "      <td>2.159658</td>\n",
       "      <td>0.52</td>\n",
       "    </tr>\n",
       "    <tr>\n",
       "      <th>3</th>\n",
       "      <td>1.384559</td>\n",
       "      <td>1.764717</td>\n",
       "      <td>2.006694</td>\n",
       "      <td>2.159658</td>\n",
       "      <td>0.53</td>\n",
       "    </tr>\n",
       "    <tr>\n",
       "      <th>4</th>\n",
       "      <td>1.384559</td>\n",
       "      <td>1.764717</td>\n",
       "      <td>2.006694</td>\n",
       "      <td>2.159658</td>\n",
       "      <td>0.54</td>\n",
       "    </tr>\n",
       "    <tr>\n",
       "      <th>...</th>\n",
       "      <td>...</td>\n",
       "      <td>...</td>\n",
       "      <td>...</td>\n",
       "      <td>...</td>\n",
       "      <td>...</td>\n",
       "    </tr>\n",
       "    <tr>\n",
       "      <th>295</th>\n",
       "      <td>1.384559</td>\n",
       "      <td>1.764717</td>\n",
       "      <td>2.006694</td>\n",
       "      <td>2.159658</td>\n",
       "      <td>3.45</td>\n",
       "    </tr>\n",
       "    <tr>\n",
       "      <th>296</th>\n",
       "      <td>1.384559</td>\n",
       "      <td>1.764717</td>\n",
       "      <td>2.006694</td>\n",
       "      <td>2.159658</td>\n",
       "      <td>3.46</td>\n",
       "    </tr>\n",
       "    <tr>\n",
       "      <th>297</th>\n",
       "      <td>1.384559</td>\n",
       "      <td>1.764717</td>\n",
       "      <td>2.006694</td>\n",
       "      <td>2.159658</td>\n",
       "      <td>3.47</td>\n",
       "    </tr>\n",
       "    <tr>\n",
       "      <th>298</th>\n",
       "      <td>1.384559</td>\n",
       "      <td>1.764717</td>\n",
       "      <td>2.006694</td>\n",
       "      <td>2.159658</td>\n",
       "      <td>3.48</td>\n",
       "    </tr>\n",
       "    <tr>\n",
       "      <th>299</th>\n",
       "      <td>1.384559</td>\n",
       "      <td>1.764717</td>\n",
       "      <td>2.006694</td>\n",
       "      <td>2.159658</td>\n",
       "      <td>3.49</td>\n",
       "    </tr>\n",
       "  </tbody>\n",
       "</table>\n",
       "<p>300 rows × 5 columns</p>\n",
       "</div>"
      ],
      "text/plain": [
       "      Price_1   Price_2   Price_3   Price_4  Price_5\n",
       "0    1.384559  1.764717  2.006694  2.159658     0.50\n",
       "1    1.384559  1.764717  2.006694  2.159658     0.51\n",
       "2    1.384559  1.764717  2.006694  2.159658     0.52\n",
       "3    1.384559  1.764717  2.006694  2.159658     0.53\n",
       "4    1.384559  1.764717  2.006694  2.159658     0.54\n",
       "..        ...       ...       ...       ...      ...\n",
       "295  1.384559  1.764717  2.006694  2.159658     3.45\n",
       "296  1.384559  1.764717  2.006694  2.159658     3.46\n",
       "297  1.384559  1.764717  2.006694  2.159658     3.47\n",
       "298  1.384559  1.764717  2.006694  2.159658     3.48\n",
       "299  1.384559  1.764717  2.006694  2.159658     3.49\n",
       "\n",
       "[300 rows x 5 columns]"
      ]
     },
     "execution_count": 362,
     "metadata": {},
     "output_type": "execute_result"
    }
   ],
   "source": [
    "# brand 5 is the most expensive\n",
    "df_own_brand_5 = pd.DataFrame(index = np.arange(price_range.size))\n",
    "\n",
    "df_own_brand_5['Price_1'] = brand_choice['Price_1'].mean()\n",
    "df_own_brand_5['Price_2'] = brand_choice['Price_2'].mean()\n",
    "df_own_brand_5['Price_3'] = brand_choice['Price_3'].mean()\n",
    "df_own_brand_5['Price_4'] = brand_choice['Price_4'].mean()\n",
    "\n",
    "# now for our brand we use the price range --> so for different price points what happens?\n",
    "df_own_brand_5['Price_5'] = price_range\n",
    "df_own_brand_5"
   ]
  },
  {
   "cell_type": "markdown",
   "metadata": {},
   "source": [
    "Essentially we  will be predicting the purchase probability of brand 5 for different price points "
   ]
  },
  {
   "cell_type": "code",
   "execution_count": 374,
   "metadata": {},
   "outputs": [],
   "source": [
    "predict_brand_5 = model_brand_choice.predict_proba(df_own_brand_5)"
   ]
  },
  {
   "cell_type": "code",
   "execution_count": 375,
   "metadata": {},
   "outputs": [
    {
     "data": {
      "text/plain": [
       "array([[0.03290802, 0.02177652, 0.00543755, 0.02988827, 0.90998964],\n",
       "       [0.03316275, 0.02211913, 0.00551565, 0.03025592, 0.90894655],\n",
       "       [0.03341898, 0.02246682, 0.00559479, 0.03062765, 0.90789177],\n",
       "       ...,\n",
       "       [0.06881308, 0.47570187, 0.07954102, 0.23889246, 0.13705157],\n",
       "       [0.06852746, 0.47748464, 0.07973139, 0.23897738, 0.13527913],\n",
       "       [0.06824089, 0.4792591 , 0.07991971, 0.23905486, 0.13352543]])"
      ]
     },
     "execution_count": 375,
     "metadata": {},
     "output_type": "execute_result"
    }
   ],
   "source": [
    "predict_brand_5"
   ]
  },
  {
   "cell_type": "code",
   "execution_count": 376,
   "metadata": {},
   "outputs": [],
   "source": [
    "pr_own_brand_5 = predict_brand_5[: ][:, 4]"
   ]
  },
  {
   "cell_type": "markdown",
   "metadata": {},
   "source": [
    "E = ß * price   * (1 - Pr(Purchase Probability))\n",
    "\n",
    "In this case we are interested in the price coefficient of brand 5 (so tha last row of bc_coef); additionally our dependent varaible of the multivariable regression model is Brand 5\n",
    "\n",
    "So the right coefficeint == ß is in this case: -1.088"
   ]
  },
  {
   "cell_type": "code",
   "execution_count": 382,
   "metadata": {},
   "outputs": [],
   "source": [
    "# now calcualte the purchase elasticity \n",
    "beta5 = bc_coef.iloc[-1, -1]"
   ]
  },
  {
   "cell_type": "code",
   "execution_count": 384,
   "metadata": {},
   "outputs": [],
   "source": [
    "own_price_elastiticty_brand_5 = beta5 * price_range * (1 - pr_own_brand_5)"
   ]
  },
  {
   "cell_type": "code",
   "execution_count": 387,
   "metadata": {},
   "outputs": [],
   "source": [
    "# add it to the overall elasticities dataframe\n",
    "\n",
    "df_price_elasticities['Brand_5'] = own_price_elastiticty_brand_5"
   ]
  },
  {
   "cell_type": "code",
   "execution_count": 388,
   "metadata": {},
   "outputs": [
    {
     "data": {
      "text/html": [
       "<div>\n",
       "<style scoped>\n",
       "    .dataframe tbody tr th:only-of-type {\n",
       "        vertical-align: middle;\n",
       "    }\n",
       "\n",
       "    .dataframe tbody tr th {\n",
       "        vertical-align: top;\n",
       "    }\n",
       "\n",
       "    .dataframe thead th {\n",
       "        text-align: right;\n",
       "    }\n",
       "</style>\n",
       "<table border=\"1\" class=\"dataframe\">\n",
       "  <thead>\n",
       "    <tr style=\"text-align: right;\">\n",
       "      <th></th>\n",
       "      <th>Price_Point</th>\n",
       "      <th>Mean_PE</th>\n",
       "      <th>PE_Segment_1</th>\n",
       "      <th>PE_Segment_2</th>\n",
       "      <th>PE_Segment_3</th>\n",
       "      <th>PE_Segment_0</th>\n",
       "      <th>Elasticity_Promotion_1</th>\n",
       "      <th>Elasticity_Promotion_0</th>\n",
       "      <th>Brand_5</th>\n",
       "    </tr>\n",
       "  </thead>\n",
       "  <tbody>\n",
       "    <tr>\n",
       "      <th>0</th>\n",
       "      <td>0.50</td>\n",
       "      <td>-0.096380</td>\n",
       "      <td>-0.119174</td>\n",
       "      <td>-0.030949</td>\n",
       "      <td>-0.168112</td>\n",
       "      <td>-0.211271</td>\n",
       "      <td>-0.125737</td>\n",
       "      <td>-0.195651</td>\n",
       "      <td>-0.048966</td>\n",
       "    </tr>\n",
       "    <tr>\n",
       "      <th>1</th>\n",
       "      <td>0.51</td>\n",
       "      <td>-0.100447</td>\n",
       "      <td>-0.123360</td>\n",
       "      <td>-0.032718</td>\n",
       "      <td>-0.173041</td>\n",
       "      <td>-0.217845</td>\n",
       "      <td>-0.129854</td>\n",
       "      <td>-0.201773</td>\n",
       "      <td>-0.050524</td>\n",
       "    </tr>\n",
       "    <tr>\n",
       "      <th>2</th>\n",
       "      <td>0.52</td>\n",
       "      <td>-0.104641</td>\n",
       "      <td>-0.127639</td>\n",
       "      <td>-0.034574</td>\n",
       "      <td>-0.178039</td>\n",
       "      <td>-0.224526</td>\n",
       "      <td>-0.134049</td>\n",
       "      <td>-0.207997</td>\n",
       "      <td>-0.052111</td>\n",
       "    </tr>\n",
       "    <tr>\n",
       "      <th>3</th>\n",
       "      <td>0.53</td>\n",
       "      <td>-0.108965</td>\n",
       "      <td>-0.132014</td>\n",
       "      <td>-0.036520</td>\n",
       "      <td>-0.183109</td>\n",
       "      <td>-0.231316</td>\n",
       "      <td>-0.138324</td>\n",
       "      <td>-0.214324</td>\n",
       "      <td>-0.053728</td>\n",
       "    </tr>\n",
       "    <tr>\n",
       "      <th>4</th>\n",
       "      <td>0.54</td>\n",
       "      <td>-0.113422</td>\n",
       "      <td>-0.136484</td>\n",
       "      <td>-0.038562</td>\n",
       "      <td>-0.188250</td>\n",
       "      <td>-0.238215</td>\n",
       "      <td>-0.142680</td>\n",
       "      <td>-0.220755</td>\n",
       "      <td>-0.055376</td>\n",
       "    </tr>\n",
       "    <tr>\n",
       "      <th>...</th>\n",
       "      <td>...</td>\n",
       "      <td>...</td>\n",
       "      <td>...</td>\n",
       "      <td>...</td>\n",
       "      <td>...</td>\n",
       "      <td>...</td>\n",
       "      <td>...</td>\n",
       "      <td>...</td>\n",
       "      <td>...</td>\n",
       "    </tr>\n",
       "    <tr>\n",
       "      <th>295</th>\n",
       "      <td>3.45</td>\n",
       "      <td>-8.011652</td>\n",
       "      <td>-5.681673</td>\n",
       "      <td>-12.543037</td>\n",
       "      <td>-4.025773</td>\n",
       "      <td>-5.052922</td>\n",
       "      <td>-4.861560</td>\n",
       "      <td>-4.983172</td>\n",
       "      <td>-3.225645</td>\n",
       "    </tr>\n",
       "    <tr>\n",
       "      <th>296</th>\n",
       "      <td>3.46</td>\n",
       "      <td>-8.036900</td>\n",
       "      <td>-5.701829</td>\n",
       "      <td>-12.579957</td>\n",
       "      <td>-4.040649</td>\n",
       "      <td>-5.069780</td>\n",
       "      <td>-4.879762</td>\n",
       "      <td>-5.000078</td>\n",
       "      <td>-3.241809</td>\n",
       "    </tr>\n",
       "    <tr>\n",
       "      <th>297</th>\n",
       "      <td>3.47</td>\n",
       "      <td>-8.062113</td>\n",
       "      <td>-5.721948</td>\n",
       "      <td>-12.616860</td>\n",
       "      <td>-4.055509</td>\n",
       "      <td>-5.086619</td>\n",
       "      <td>-4.897933</td>\n",
       "      <td>-5.016964</td>\n",
       "      <td>-3.257941</td>\n",
       "    </tr>\n",
       "    <tr>\n",
       "      <th>298</th>\n",
       "      <td>3.48</td>\n",
       "      <td>-8.087292</td>\n",
       "      <td>-5.742030</td>\n",
       "      <td>-12.653746</td>\n",
       "      <td>-4.070353</td>\n",
       "      <td>-5.103440</td>\n",
       "      <td>-4.916073</td>\n",
       "      <td>-5.033830</td>\n",
       "      <td>-3.274041</td>\n",
       "    </tr>\n",
       "    <tr>\n",
       "      <th>299</th>\n",
       "      <td>3.49</td>\n",
       "      <td>-8.112438</td>\n",
       "      <td>-5.762077</td>\n",
       "      <td>-12.690617</td>\n",
       "      <td>-4.085180</td>\n",
       "      <td>-5.120242</td>\n",
       "      <td>-4.934184</td>\n",
       "      <td>-5.050676</td>\n",
       "      <td>-3.290108</td>\n",
       "    </tr>\n",
       "  </tbody>\n",
       "</table>\n",
       "<p>300 rows × 9 columns</p>\n",
       "</div>"
      ],
      "text/plain": [
       "     Price_Point   Mean_PE  PE_Segment_1  PE_Segment_2  PE_Segment_3  \\\n",
       "0           0.50 -0.096380     -0.119174     -0.030949     -0.168112   \n",
       "1           0.51 -0.100447     -0.123360     -0.032718     -0.173041   \n",
       "2           0.52 -0.104641     -0.127639     -0.034574     -0.178039   \n",
       "3           0.53 -0.108965     -0.132014     -0.036520     -0.183109   \n",
       "4           0.54 -0.113422     -0.136484     -0.038562     -0.188250   \n",
       "..           ...       ...           ...           ...           ...   \n",
       "295         3.45 -8.011652     -5.681673    -12.543037     -4.025773   \n",
       "296         3.46 -8.036900     -5.701829    -12.579957     -4.040649   \n",
       "297         3.47 -8.062113     -5.721948    -12.616860     -4.055509   \n",
       "298         3.48 -8.087292     -5.742030    -12.653746     -4.070353   \n",
       "299         3.49 -8.112438     -5.762077    -12.690617     -4.085180   \n",
       "\n",
       "     PE_Segment_0  Elasticity_Promotion_1  Elasticity_Promotion_0   Brand_5  \n",
       "0       -0.211271               -0.125737               -0.195651 -0.048966  \n",
       "1       -0.217845               -0.129854               -0.201773 -0.050524  \n",
       "2       -0.224526               -0.134049               -0.207997 -0.052111  \n",
       "3       -0.231316               -0.138324               -0.214324 -0.053728  \n",
       "4       -0.238215               -0.142680               -0.220755 -0.055376  \n",
       "..            ...                     ...                     ...       ...  \n",
       "295     -5.052922               -4.861560               -4.983172 -3.225645  \n",
       "296     -5.069780               -4.879762               -5.000078 -3.241809  \n",
       "297     -5.086619               -4.897933               -5.016964 -3.257941  \n",
       "298     -5.103440               -4.916073               -5.033830 -3.274041  \n",
       "299     -5.120242               -4.934184               -5.050676 -3.290108  \n",
       "\n",
       "[300 rows x 9 columns]"
      ]
     },
     "execution_count": 388,
     "metadata": {},
     "output_type": "execute_result"
    }
   ],
   "source": [
    "df_price_elasticities"
   ]
  },
  {
   "cell_type": "code",
   "execution_count": 389,
   "metadata": {},
   "outputs": [
    {
     "data": {
      "text/plain": [
       "Text(0.5, 1.0, 'Own Price elasticity of Purchase Porbability for brand 5')"
      ]
     },
     "execution_count": 389,
     "metadata": {},
     "output_type": "execute_result"
    },
    {
     "data": {
      "image/png": "[encoded data removed]",
      "text/plain": [
       "<Figure size 648x432 with 1 Axes>"
      ]
     },
     "metadata": {},
     "output_type": "display_data"
    }
   ],
   "source": [
    "# display both \n",
    "plt.figure(figsize = (9,6))\n",
    "plt.plot(price_range, df_price_elasticities.Elasticity_Promotion_1, color = 'green')\n",
    "plt.legend(['Promotion Active == 1', 'Promotion Inactive == 0'])\n",
    "plt.xlabel('Price')\n",
    "plt.ylabel('Elasticity')\n",
    "plt.title('Own Price elasticity of Purchase Porbability for brand 5')"
   ]
  },
  {
   "cell_type": "markdown",
   "metadata": {},
   "source": [
    "But what happens to the purchase probability of brand 5 if a competitor chagned their pricing?\n",
    "\n",
    "--> Cross price elasticities"
   ]
  },
  {
   "cell_type": "code",
   "execution_count": null,
   "metadata": {},
   "outputs": [],
   "source": []
  },
  {
   "cell_type": "code",
   "execution_count": null,
   "metadata": {},
   "outputs": [],
   "source": []
  },
  {
   "cell_type": "code",
   "execution_count": null,
   "metadata": {},
   "outputs": [],
   "source": []
  },
  {
   "cell_type": "code",
   "execution_count": null,
   "metadata": {},
   "outputs": [],
   "source": []
  },
  {
   "cell_type": "code",
   "execution_count": null,
   "metadata": {},
   "outputs": [],
   "source": []
  }
 ],
 "metadata": {
  "kernelspec": {
   "display_name": "Python 3.10.5 ('customer_analytics_2022': venv)",
   "language": "python",
   "name": "python3"
  },
  "language_info": {
   "codemirror_mode": {
    "name": "ipython",
    "version": 3
   },
   "file_extension": ".py",
   "mimetype": "text/x-python",
   "name": "python",
   "nbconvert_exporter": "python",
   "pygments_lexer": "ipython3",
   "version": "3.10.5"
  },
  "orig_nbformat": 4,
  "vscode": {
   "interpreter": {
    "hash": "9bbaf45eba04bc734665b055254105252edb0a2110284d0fcd20190490706899"
   }
  }
 },
 "nbformat": 4,
 "nbformat_minor": 2
}
