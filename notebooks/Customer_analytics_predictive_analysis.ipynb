{
 "cells": [
  {
   "cell_type": "markdown",
   "metadata": {},
   "source": [
    "# Libraries"
   ]
  },
  {
   "cell_type": "code",
   "execution_count": 674,
   "metadata": {},
   "outputs": [],
   "source": [
    "import pandas as pd\n",
    "import numpy as np\n",
    "\n",
    "\n",
    "import matplotlib.pyplot as plt\n",
    "import seaborn as sns\n",
    "import matplotlib.axes as axs\n",
    "sns.set()\n",
    "\n",
    "import pickle\n",
    "\n",
    "from sklearn.preprocessing import StandardScaler\n",
    "from sklearn.decomposition import PCA\n",
    "from sklearn.cluster import KMeans\n",
    "\n",
    "from sklearn.linear_model import LogisticRegression"
   ]
  },
  {
   "cell_type": "markdown",
   "metadata": {},
   "source": [
    "## Data Prep"
   ]
  },
  {
   "cell_type": "code",
   "execution_count": 675,
   "metadata": {},
   "outputs": [],
   "source": [
    "df_purchase = pd.read_csv(\n",
    "    \"/home/angelo/repos/vscode_repos/customer_analytics_2022/Data/purchase data.csv\"\n",
    ")"
   ]
  },
  {
   "cell_type": "code",
   "execution_count": 676,
   "metadata": {},
   "outputs": [],
   "source": [
    "scaler = pickle.load(\n",
    "    open(\n",
    "        \"/home/angelo/repos/vscode_repos/customer_analytics_2022/pickle_data_models/scaler.pickle\",\n",
    "        \"rb\",\n",
    "    )\n",
    ")\n",
    "\n",
    "pca = pickle.load(\n",
    "    open(\n",
    "        \"/home/angelo/repos/vscode_repos/customer_analytics_2022/pickle_data_models/pca_3.pickle\",\n",
    "        \"rb\",\n",
    "    )\n",
    ")\n",
    "\n",
    "kmeans_pca = pickle.load(\n",
    "    open(\n",
    "        \"/home/angelo/repos/vscode_repos/customer_analytics_2022/pickle_data_models/kmeans_pca_4.pickle\",\n",
    "        \"rb\",\n",
    "    )\n",
    ")"
   ]
  },
  {
   "cell_type": "markdown",
   "metadata": {},
   "source": [
    "#### Apply imported models \n",
    "\n"
   ]
  },
  {
   "cell_type": "code",
   "execution_count": 677,
   "metadata": {},
   "outputs": [],
   "source": [
    "# only apply transform; fit would mean that the model is retrained; here we only want to apply it on the data --> so only transform\n",
    "features = df_purchase.iloc[:, -7:]\n",
    "\n",
    "# apply the scaler\n",
    "df_purchase_segm_std = scaler.transform(features)"
   ]
  },
  {
   "cell_type": "code",
   "execution_count": 678,
   "metadata": {},
   "outputs": [],
   "source": [
    "#### apply the already trained scaler on the new data \n",
    "# remember that customers may be duplicates\n",
    "df_purchase_segm_pca = pca.transform(df_purchase_segm_std)"
   ]
  },
  {
   "cell_type": "code",
   "execution_count": 679,
   "metadata": {},
   "outputs": [],
   "source": [
    "#### apply the already trained pca_3 (here just pca) on the data \n",
    "# now apply the kmeans on it: use the predict method here\n",
    "purchase_segm_kmeans_pca = kmeans_pca.predict(df_purchase_segm_pca)"
   ]
  },
  {
   "cell_type": "code",
   "execution_count": 680,
   "metadata": {},
   "outputs": [],
   "source": [
    "#### apply the already trained kmeans model which was trained on the 3 components of the pca model and had k = 4 groups\n",
    "df_purchase_predictors = df_purchase.copy()\n",
    "df_purchase_predictors[\"Segment\"] = purchase_segm_kmeans_pca"
   ]
  },
  {
   "cell_type": "code",
   "execution_count": 681,
   "metadata": {},
   "outputs": [],
   "source": [
    "#### this is now the new dataframe containing the predicted segments for the customers\n",
    "df_purchase_predictors = df_purchase.copy()\n",
    "df_purchase_predictors[\"Segment\"] = purchase_segm_kmeans_pca"
   ]
  },
  {
   "cell_type": "code",
   "execution_count": 682,
   "metadata": {},
   "outputs": [],
   "source": [
    "segment_dummies = pd.get_dummies(purchase_segm_kmeans_pca, \n",
    "                                prefix = 'Segment',\n",
    "                                prefix_sep = '_')"
   ]
  },
  {
   "cell_type": "code",
   "execution_count": 683,
   "metadata": {},
   "outputs": [],
   "source": [
    "df_purchase_predictors = pd.concat([df_purchase_predictors, segment_dummies], axis = 1)"
   ]
  },
  {
   "cell_type": "code",
   "execution_count": 684,
   "metadata": {},
   "outputs": [],
   "source": [
    "df_pa = df_purchase_predictors.copy()"
   ]
  },
  {
   "cell_type": "code",
   "execution_count": 685,
   "metadata": {},
   "outputs": [
    {
     "data": {
      "text/html": [
       "<div>\n",
       "<style scoped>\n",
       "    .dataframe tbody tr th:only-of-type {\n",
       "        vertical-align: middle;\n",
       "    }\n",
       "\n",
       "    .dataframe tbody tr th {\n",
       "        vertical-align: top;\n",
       "    }\n",
       "\n",
       "    .dataframe thead th {\n",
       "        text-align: right;\n",
       "    }\n",
       "</style>\n",
       "<table border=\"1\" class=\"dataframe\">\n",
       "  <thead>\n",
       "    <tr style=\"text-align: right;\">\n",
       "      <th></th>\n",
       "      <th>ID</th>\n",
       "      <th>Day</th>\n",
       "      <th>Incidence</th>\n",
       "      <th>Brand</th>\n",
       "      <th>Quantity</th>\n",
       "      <th>Last_Inc_Brand</th>\n",
       "      <th>Last_Inc_Quantity</th>\n",
       "      <th>Price_1</th>\n",
       "      <th>Price_2</th>\n",
       "      <th>Price_3</th>\n",
       "      <th>...</th>\n",
       "      <th>Age</th>\n",
       "      <th>Education</th>\n",
       "      <th>Income</th>\n",
       "      <th>Occupation</th>\n",
       "      <th>Settlement size</th>\n",
       "      <th>Segment</th>\n",
       "      <th>Segment_0</th>\n",
       "      <th>Segment_1</th>\n",
       "      <th>Segment_2</th>\n",
       "      <th>Segment_3</th>\n",
       "    </tr>\n",
       "  </thead>\n",
       "  <tbody>\n",
       "    <tr>\n",
       "      <th>0</th>\n",
       "      <td>200000001</td>\n",
       "      <td>1</td>\n",
       "      <td>0</td>\n",
       "      <td>0</td>\n",
       "      <td>0</td>\n",
       "      <td>0</td>\n",
       "      <td>0</td>\n",
       "      <td>1.59</td>\n",
       "      <td>1.87</td>\n",
       "      <td>2.01</td>\n",
       "      <td>...</td>\n",
       "      <td>47</td>\n",
       "      <td>1</td>\n",
       "      <td>110866</td>\n",
       "      <td>1</td>\n",
       "      <td>0</td>\n",
       "      <td>2</td>\n",
       "      <td>0</td>\n",
       "      <td>0</td>\n",
       "      <td>1</td>\n",
       "      <td>0</td>\n",
       "    </tr>\n",
       "    <tr>\n",
       "      <th>1</th>\n",
       "      <td>200000001</td>\n",
       "      <td>11</td>\n",
       "      <td>0</td>\n",
       "      <td>0</td>\n",
       "      <td>0</td>\n",
       "      <td>0</td>\n",
       "      <td>0</td>\n",
       "      <td>1.51</td>\n",
       "      <td>1.89</td>\n",
       "      <td>1.99</td>\n",
       "      <td>...</td>\n",
       "      <td>47</td>\n",
       "      <td>1</td>\n",
       "      <td>110866</td>\n",
       "      <td>1</td>\n",
       "      <td>0</td>\n",
       "      <td>2</td>\n",
       "      <td>0</td>\n",
       "      <td>0</td>\n",
       "      <td>1</td>\n",
       "      <td>0</td>\n",
       "    </tr>\n",
       "    <tr>\n",
       "      <th>2</th>\n",
       "      <td>200000001</td>\n",
       "      <td>12</td>\n",
       "      <td>0</td>\n",
       "      <td>0</td>\n",
       "      <td>0</td>\n",
       "      <td>0</td>\n",
       "      <td>0</td>\n",
       "      <td>1.51</td>\n",
       "      <td>1.89</td>\n",
       "      <td>1.99</td>\n",
       "      <td>...</td>\n",
       "      <td>47</td>\n",
       "      <td>1</td>\n",
       "      <td>110866</td>\n",
       "      <td>1</td>\n",
       "      <td>0</td>\n",
       "      <td>2</td>\n",
       "      <td>0</td>\n",
       "      <td>0</td>\n",
       "      <td>1</td>\n",
       "      <td>0</td>\n",
       "    </tr>\n",
       "    <tr>\n",
       "      <th>3</th>\n",
       "      <td>200000001</td>\n",
       "      <td>16</td>\n",
       "      <td>0</td>\n",
       "      <td>0</td>\n",
       "      <td>0</td>\n",
       "      <td>0</td>\n",
       "      <td>0</td>\n",
       "      <td>1.52</td>\n",
       "      <td>1.89</td>\n",
       "      <td>1.98</td>\n",
       "      <td>...</td>\n",
       "      <td>47</td>\n",
       "      <td>1</td>\n",
       "      <td>110866</td>\n",
       "      <td>1</td>\n",
       "      <td>0</td>\n",
       "      <td>2</td>\n",
       "      <td>0</td>\n",
       "      <td>0</td>\n",
       "      <td>1</td>\n",
       "      <td>0</td>\n",
       "    </tr>\n",
       "    <tr>\n",
       "      <th>4</th>\n",
       "      <td>200000001</td>\n",
       "      <td>18</td>\n",
       "      <td>0</td>\n",
       "      <td>0</td>\n",
       "      <td>0</td>\n",
       "      <td>0</td>\n",
       "      <td>0</td>\n",
       "      <td>1.52</td>\n",
       "      <td>1.89</td>\n",
       "      <td>1.99</td>\n",
       "      <td>...</td>\n",
       "      <td>47</td>\n",
       "      <td>1</td>\n",
       "      <td>110866</td>\n",
       "      <td>1</td>\n",
       "      <td>0</td>\n",
       "      <td>2</td>\n",
       "      <td>0</td>\n",
       "      <td>0</td>\n",
       "      <td>1</td>\n",
       "      <td>0</td>\n",
       "    </tr>\n",
       "  </tbody>\n",
       "</table>\n",
       "<p>5 rows × 29 columns</p>\n",
       "</div>"
      ],
      "text/plain": [
       "          ID  Day  Incidence  Brand  Quantity  Last_Inc_Brand  \\\n",
       "0  200000001    1          0      0         0               0   \n",
       "1  200000001   11          0      0         0               0   \n",
       "2  200000001   12          0      0         0               0   \n",
       "3  200000001   16          0      0         0               0   \n",
       "4  200000001   18          0      0         0               0   \n",
       "\n",
       "   Last_Inc_Quantity  Price_1  Price_2  Price_3  ...  Age  Education  Income  \\\n",
       "0                  0     1.59     1.87     2.01  ...   47          1  110866   \n",
       "1                  0     1.51     1.89     1.99  ...   47          1  110866   \n",
       "2                  0     1.51     1.89     1.99  ...   47          1  110866   \n",
       "3                  0     1.52     1.89     1.98  ...   47          1  110866   \n",
       "4                  0     1.52     1.89     1.99  ...   47          1  110866   \n",
       "\n",
       "   Occupation  Settlement size  Segment  Segment_0  Segment_1  Segment_2  \\\n",
       "0           1                0        2          0          0          1   \n",
       "1           1                0        2          0          0          1   \n",
       "2           1                0        2          0          0          1   \n",
       "3           1                0        2          0          0          1   \n",
       "4           1                0        2          0          0          1   \n",
       "\n",
       "   Segment_3  \n",
       "0          0  \n",
       "1          0  \n",
       "2          0  \n",
       "3          0  \n",
       "4          0  \n",
       "\n",
       "[5 rows x 29 columns]"
      ]
     },
     "execution_count": 685,
     "metadata": {},
     "output_type": "execute_result"
    }
   ],
   "source": [
    "df_pa.head()"
   ]
  },
  {
   "cell_type": "markdown",
   "metadata": {},
   "source": [
    "## Purchase Probability Model\n",
    "\n",
    "The model task:\n",
    "dependent: Incidence varaible\n",
    "\n",
    "independent: Price\n",
    "\n",
    "We want to know whether a purchase has happened based on the purchase price of a product assuming that purchase probabaility is influenced by price."
   ]
  },
  {
   "cell_type": "code",
   "execution_count": 686,
   "metadata": {},
   "outputs": [],
   "source": [
    "Y = df_pa['Incidence']\n"
   ]
  },
  {
   "cell_type": "markdown",
   "metadata": {},
   "source": [
    "create price variable irrespective of the brand;\n",
    "\n",
    "possible choices to consider here:\n",
    "- i) min and max price which are good indicators how expensive a new product is\n",
    "- ii) mean or median price\n",
    "\n",
    "\n",
    "NOTE: the choice here is mean of all prices (while in a store, the customer has the choice to grab 5 different brands... we just average these 5 prices together into one per purchase opportunity in the dataset 8per instance) to see how much of the variance in Incidence can be explained by the average price of all brands together )\n",
    "\n",
    "We take mean price here as we are only looking for the pruchase probability -- meaning we are lloking for the probability that the customer buys from a CATEGORY and not specific item; so the average price of the category is a good way"
   ]
  },
  {
   "cell_type": "code",
   "execution_count": 687,
   "metadata": {},
   "outputs": [],
   "source": [
    "# create price variable irrespective of the brand\n",
    "## mean price is chosen for all prices (Price_1 to Price_5) per row\n",
    "X = pd.DataFrame()\n",
    "\n",
    "X['Mean_Price'] = (df_pa['Price_1'] +\n",
    "                    df_pa['Price_2'] +\n",
    "                    df_pa['Price_3'] +\n",
    "                    df_pa['Price_4'] +\n",
    "                    df_pa['Price_5'] ) / 5\n",
    "\n"
   ]
  },
  {
   "cell_type": "markdown",
   "metadata": {},
   "source": [
    "a solver in a models such as LogisticRegression is the technique for the iteration-optimization problem in logisitc regression such as 'sag'"
   ]
  },
  {
   "cell_type": "code",
   "execution_count": 688,
   "metadata": {},
   "outputs": [
    {
     "data": {
      "text/html": [
       "<style>#sk-container-id-46 {color: black;background-color: white;}#sk-container-id-46 pre{padding: 0;}#sk-container-id-46 div.sk-toggleable {background-color: white;}#sk-container-id-46 label.sk-toggleable__label {cursor: pointer;display: block;width: 100%;margin-bottom: 0;padding: 0.3em;box-sizing: border-box;text-align: center;}#sk-container-id-46 label.sk-toggleable__label-arrow:before {content: \"▸\";float: left;margin-right: 0.25em;color: #696969;}#sk-container-id-46 label.sk-toggleable__label-arrow:hover:before {color: black;}#sk-container-id-46 div.sk-estimator:hover label.sk-toggleable__label-arrow:before {color: black;}#sk-container-id-46 div.sk-toggleable__content {max-height: 0;max-width: 0;overflow: hidden;text-align: left;background-color: #f0f8ff;}#sk-container-id-46 div.sk-toggleable__content pre {margin: 0.2em;color: black;border-radius: 0.25em;background-color: #f0f8ff;}#sk-container-id-46 input.sk-toggleable__control:checked~div.sk-toggleable__content {max-height: 200px;max-width: 100%;overflow: auto;}#sk-container-id-46 input.sk-toggleable__control:checked~label.sk-toggleable__label-arrow:before {content: \"▾\";}#sk-container-id-46 div.sk-estimator input.sk-toggleable__control:checked~label.sk-toggleable__label {background-color: #d4ebff;}#sk-container-id-46 div.sk-label input.sk-toggleable__control:checked~label.sk-toggleable__label {background-color: #d4ebff;}#sk-container-id-46 input.sk-hidden--visually {border: 0;clip: rect(1px 1px 1px 1px);clip: rect(1px, 1px, 1px, 1px);height: 1px;margin: -1px;overflow: hidden;padding: 0;position: absolute;width: 1px;}#sk-container-id-46 div.sk-estimator {font-family: monospace;background-color: #f0f8ff;border: 1px dotted black;border-radius: 0.25em;box-sizing: border-box;margin-bottom: 0.5em;}#sk-container-id-46 div.sk-estimator:hover {background-color: #d4ebff;}#sk-container-id-46 div.sk-parallel-item::after {content: \"\";width: 100%;border-bottom: 1px solid gray;flex-grow: 1;}#sk-container-id-46 div.sk-label:hover label.sk-toggleable__label {background-color: #d4ebff;}#sk-container-id-46 div.sk-serial::before {content: \"\";position: absolute;border-left: 1px solid gray;box-sizing: border-box;top: 0;bottom: 0;left: 50%;z-index: 0;}#sk-container-id-46 div.sk-serial {display: flex;flex-direction: column;align-items: center;background-color: white;padding-right: 0.2em;padding-left: 0.2em;position: relative;}#sk-container-id-46 div.sk-item {position: relative;z-index: 1;}#sk-container-id-46 div.sk-parallel {display: flex;align-items: stretch;justify-content: center;background-color: white;position: relative;}#sk-container-id-46 div.sk-item::before, #sk-container-id-46 div.sk-parallel-item::before {content: \"\";position: absolute;border-left: 1px solid gray;box-sizing: border-box;top: 0;bottom: 0;left: 50%;z-index: -1;}#sk-container-id-46 div.sk-parallel-item {display: flex;flex-direction: column;z-index: 1;position: relative;background-color: white;}#sk-container-id-46 div.sk-parallel-item:first-child::after {align-self: flex-end;width: 50%;}#sk-container-id-46 div.sk-parallel-item:last-child::after {align-self: flex-start;width: 50%;}#sk-container-id-46 div.sk-parallel-item:only-child::after {width: 0;}#sk-container-id-46 div.sk-dashed-wrapped {border: 1px dashed gray;margin: 0 0.4em 0.5em 0.4em;box-sizing: border-box;padding-bottom: 0.4em;background-color: white;}#sk-container-id-46 div.sk-label label {font-family: monospace;font-weight: bold;display: inline-block;line-height: 1.2em;}#sk-container-id-46 div.sk-label-container {text-align: center;}#sk-container-id-46 div.sk-container {/* jupyter's `normalize.less` sets `[hidden] { display: none; }` but bootstrap.min.css set `[hidden] { display: none !important; }` so we also need the `!important` here to be able to override the default hidden behavior on the sphinx rendered scikit-learn.org. See: https://github.com/scikit-learn/scikit-learn/issues/21755 */display: inline-block !important;position: relative;}#sk-container-id-46 div.sk-text-repr-fallback {display: none;}</style><div id=\"sk-container-id-46\" class=\"sk-top-container\"><div class=\"sk-text-repr-fallback\"><pre>LogisticRegression(solver=&#x27;sag&#x27;)</pre><b>In a Jupyter environment, please rerun this cell to show the HTML representation or trust the notebook. <br />On GitHub, the HTML representation is unable to render, please try loading this page with nbviewer.org.</b></div><div class=\"sk-container\" hidden><div class=\"sk-item\"><div class=\"sk-estimator sk-toggleable\"><input class=\"sk-toggleable__control sk-hidden--visually\" id=\"sk-estimator-id-46\" type=\"checkbox\" checked><label for=\"sk-estimator-id-46\" class=\"sk-toggleable__label sk-toggleable__label-arrow\">LogisticRegression</label><div class=\"sk-toggleable__content\"><pre>LogisticRegression(solver=&#x27;sag&#x27;)</pre></div></div></div></div></div>"
      ],
      "text/plain": [
       "LogisticRegression(solver='sag')"
      ]
     },
     "execution_count": 688,
     "metadata": {},
     "output_type": "execute_result"
    }
   ],
   "source": [
    "model_purchase = LogisticRegression(solver = 'sag')\n",
    "model_purchase.fit(X, Y)"
   ]
  },
  {
   "cell_type": "markdown",
   "metadata": {},
   "source": [
    "by fitting a logistic regression on this data, this command estimates the purchase probabaiility and stores the results in the model_purchase instance of the trained LogisticRegression model.\n",
    "\n"
   ]
  },
  {
   "cell_type": "code",
   "execution_count": 689,
   "metadata": {},
   "outputs": [
    {
     "data": {
      "text/plain": [
       "array([[-2.34445497]])"
      ]
     },
     "execution_count": 689,
     "metadata": {},
     "output_type": "execute_result"
    }
   ],
   "source": [
    "# coef_ holds the coefficients for a model; here univariate price\n",
    "model_purchase.coef_"
   ]
  },
  {
   "cell_type": "markdown",
   "metadata": {},
   "source": [
    "Analysis: negative coefficient indicates that an increase in price will decrease the probabaility of purchase and vice versa\n",
    "\n",
    "However, logistic regression can do more: this model also quantifies the exact  relationship between pruice and probability of purchase in addition to magnitude (elasiticity)"
   ]
  },
  {
   "cell_type": "markdown",
   "metadata": {},
   "source": [
    "## Price Elasticity of Purchase Probability\n",
    "\n",
    "Price elasitiy of purchase probabauility is the percentage change in prucahse probability in response to a one percent change in price in the product category\n",
    "\n",
    "\n",
    "the coefficient for price here array([[-2.34904564]]) is the change in probabaility given the price; this is what the coefficient shows:\n",
    "\n",
    "As such we want to see different values for mean price and see how the probabaility "
   ]
  },
  {
   "cell_type": "code",
   "execution_count": 690,
   "metadata": {},
   "outputs": [
    {
     "data": {
      "text/html": [
       "<div>\n",
       "<style scoped>\n",
       "    .dataframe tbody tr th:only-of-type {\n",
       "        vertical-align: middle;\n",
       "    }\n",
       "\n",
       "    .dataframe tbody tr th {\n",
       "        vertical-align: top;\n",
       "    }\n",
       "\n",
       "    .dataframe thead th {\n",
       "        text-align: right;\n",
       "    }\n",
       "</style>\n",
       "<table border=\"1\" class=\"dataframe\">\n",
       "  <thead>\n",
       "    <tr style=\"text-align: right;\">\n",
       "      <th></th>\n",
       "      <th>Price_1</th>\n",
       "      <th>Price_2</th>\n",
       "      <th>Price_3</th>\n",
       "      <th>Price_4</th>\n",
       "      <th>Price_5</th>\n",
       "    </tr>\n",
       "  </thead>\n",
       "  <tbody>\n",
       "    <tr>\n",
       "      <th>count</th>\n",
       "      <td>58693.000000</td>\n",
       "      <td>58693.000000</td>\n",
       "      <td>58693.000000</td>\n",
       "      <td>58693.000000</td>\n",
       "      <td>58693.000000</td>\n",
       "    </tr>\n",
       "    <tr>\n",
       "      <th>mean</th>\n",
       "      <td>1.392074</td>\n",
       "      <td>1.780999</td>\n",
       "      <td>2.006789</td>\n",
       "      <td>2.159945</td>\n",
       "      <td>2.654798</td>\n",
       "    </tr>\n",
       "    <tr>\n",
       "      <th>std</th>\n",
       "      <td>0.091139</td>\n",
       "      <td>0.170868</td>\n",
       "      <td>0.046867</td>\n",
       "      <td>0.089825</td>\n",
       "      <td>0.098272</td>\n",
       "    </tr>\n",
       "    <tr>\n",
       "      <th>min</th>\n",
       "      <td>1.100000</td>\n",
       "      <td>1.260000</td>\n",
       "      <td>1.870000</td>\n",
       "      <td>1.760000</td>\n",
       "      <td>2.110000</td>\n",
       "    </tr>\n",
       "    <tr>\n",
       "      <th>25%</th>\n",
       "      <td>1.340000</td>\n",
       "      <td>1.580000</td>\n",
       "      <td>1.970000</td>\n",
       "      <td>2.120000</td>\n",
       "      <td>2.630000</td>\n",
       "    </tr>\n",
       "    <tr>\n",
       "      <th>50%</th>\n",
       "      <td>1.390000</td>\n",
       "      <td>1.880000</td>\n",
       "      <td>2.010000</td>\n",
       "      <td>2.170000</td>\n",
       "      <td>2.670000</td>\n",
       "    </tr>\n",
       "    <tr>\n",
       "      <th>75%</th>\n",
       "      <td>1.470000</td>\n",
       "      <td>1.890000</td>\n",
       "      <td>2.060000</td>\n",
       "      <td>2.240000</td>\n",
       "      <td>2.700000</td>\n",
       "    </tr>\n",
       "    <tr>\n",
       "      <th>max</th>\n",
       "      <td>1.590000</td>\n",
       "      <td>1.900000</td>\n",
       "      <td>2.140000</td>\n",
       "      <td>2.260000</td>\n",
       "      <td>2.800000</td>\n",
       "    </tr>\n",
       "  </tbody>\n",
       "</table>\n",
       "</div>"
      ],
      "text/plain": [
       "            Price_1       Price_2       Price_3       Price_4       Price_5\n",
       "count  58693.000000  58693.000000  58693.000000  58693.000000  58693.000000\n",
       "mean       1.392074      1.780999      2.006789      2.159945      2.654798\n",
       "std        0.091139      0.170868      0.046867      0.089825      0.098272\n",
       "min        1.100000      1.260000      1.870000      1.760000      2.110000\n",
       "25%        1.340000      1.580000      1.970000      2.120000      2.630000\n",
       "50%        1.390000      1.880000      2.010000      2.170000      2.670000\n",
       "75%        1.470000      1.890000      2.060000      2.240000      2.700000\n",
       "max        1.590000      1.900000      2.140000      2.260000      2.800000"
      ]
     },
     "execution_count": 690,
     "metadata": {},
     "output_type": "execute_result"
    }
   ],
   "source": [
    "# create a price range to test\n",
    "df_pa.loc[:, ['Price_1', 'Price_2', 'Price_3', 'Price_4', 'Price_5']].describe()"
   ]
  },
  {
   "cell_type": "markdown",
   "metadata": {},
   "source": [
    "minprice is 1.1€; and maxprice is 2.8€\n",
    "\n",
    "--> expand this range a little got get a better understanding of the elasiticity such as [0.5; 3.5] or even [0 ; 5]"
   ]
  },
  {
   "cell_type": "code",
   "execution_count": 691,
   "metadata": {},
   "outputs": [],
   "source": [
    "# add a 0.01 price change \n",
    "price_range = np.arange(0.5, 3.5, 0.01)"
   ]
  },
  {
   "cell_type": "code",
   "execution_count": 692,
   "metadata": {},
   "outputs": [],
   "source": [
    "df_price_range = pd.DataFrame(price_range)"
   ]
  },
  {
   "cell_type": "code",
   "execution_count": 693,
   "metadata": {},
   "outputs": [
    {
     "name": "stderr",
     "output_type": "stream",
     "text": [
      "/home/angelo/repos/vscode_repos/customer_analytics_2022/lib64/python3.10/site-packages/sklearn/base.py:450: UserWarning: X does not have valid feature names, but LogisticRegression was fitted with feature names\n",
      "  warnings.warn(\n"
     ]
    }
   ],
   "source": [
    "# now predict the purchase probabability using the trained model\n",
    "Y_pr = model_purchase.predict_proba(df_price_range)"
   ]
  },
  {
   "cell_type": "code",
   "execution_count": 694,
   "metadata": {},
   "outputs": [
    {
     "data": {
      "text/plain": [
       "array([[0.0809766 , 0.9190234 ],\n",
       "       [0.08273856, 0.91726144],\n",
       "       [0.08453533, 0.91546467],\n",
       "       [0.08636745, 0.91363255],\n",
       "       [0.08823544, 0.91176456],\n",
       "       [0.09013985, 0.90986015],\n",
       "       [0.09208121, 0.90791879],\n",
       "       [0.09406006, 0.90593994],\n",
       "       [0.09607694, 0.90392306],\n",
       "       [0.09813238, 0.90186762],\n",
       "       [0.10022692, 0.89977308],\n",
       "       [0.10236109, 0.89763891],\n",
       "       [0.10453542, 0.89546458],\n",
       "       [0.10675045, 0.89324955],\n",
       "       [0.1090067 , 0.8909933 ],\n",
       "       [0.11130469, 0.88869531],\n",
       "       [0.11364495, 0.88635505],\n",
       "       [0.11602799, 0.88397201],\n",
       "       [0.11845432, 0.88154568],\n",
       "       [0.12092445, 0.87907555],\n",
       "       [0.12343888, 0.87656112],\n",
       "       [0.1259981 , 0.8740019 ],\n",
       "       [0.12860259, 0.87139741],\n",
       "       [0.13125283, 0.86874717],\n",
       "       [0.1339493 , 0.8660507 ],\n",
       "       [0.13669244, 0.86330756],\n",
       "       [0.13948272, 0.86051728],\n",
       "       [0.14232056, 0.85767944],\n",
       "       [0.14520639, 0.85479361],\n",
       "       [0.14814064, 0.85185936],\n",
       "       [0.15112369, 0.84887631],\n",
       "       [0.15415595, 0.84584405],\n",
       "       [0.15723777, 0.84276223],\n",
       "       [0.16036953, 0.83963047],\n",
       "       [0.16355156, 0.83644844],\n",
       "       [0.16678418, 0.83321582],\n",
       "       [0.1700677 , 0.8299323 ],\n",
       "       [0.17340242, 0.82659758],\n",
       "       [0.17678859, 0.82321141],\n",
       "       [0.18022647, 0.81977353],\n",
       "       [0.18371629, 0.81628371],\n",
       "       [0.18725824, 0.81274176],\n",
       "       [0.19085252, 0.80914748],\n",
       "       [0.19449928, 0.80550072],\n",
       "       [0.19819864, 0.80180136],\n",
       "       [0.20195073, 0.79804927],\n",
       "       [0.20575562, 0.79424438],\n",
       "       [0.20961337, 0.79038663],\n",
       "       [0.21352401, 0.78647599],\n",
       "       [0.21748753, 0.78251247],\n",
       "       [0.22150389, 0.77849611],\n",
       "       [0.22557305, 0.77442695],\n",
       "       [0.22969491, 0.77030509],\n",
       "       [0.23386934, 0.76613066],\n",
       "       [0.23809618, 0.76190382],\n",
       "       [0.24237525, 0.75762475],\n",
       "       [0.24670632, 0.75329368],\n",
       "       [0.25108914, 0.74891086],\n",
       "       [0.2555234 , 0.7444766 ],\n",
       "       [0.26000879, 0.73999121],\n",
       "       [0.26454493, 0.73545507],\n",
       "       [0.26913144, 0.73086856],\n",
       "       [0.27376785, 0.72623215],\n",
       "       [0.27845372, 0.72154628],\n",
       "       [0.28318851, 0.71681149],\n",
       "       [0.28797167, 0.71202833],\n",
       "       [0.29280263, 0.70719737],\n",
       "       [0.29768075, 0.70231925],\n",
       "       [0.30260536, 0.69739464],\n",
       "       [0.30757577, 0.69242423],\n",
       "       [0.31259122, 0.68740878],\n",
       "       [0.31765093, 0.68234907],\n",
       "       [0.32275409, 0.67724591],\n",
       "       [0.32789984, 0.67210016],\n",
       "       [0.33308728, 0.66691272],\n",
       "       [0.33831548, 0.66168452],\n",
       "       [0.34358346, 0.65641654],\n",
       "       [0.34889021, 0.65110979],\n",
       "       [0.3542347 , 0.6457653 ],\n",
       "       [0.35961584, 0.64038416],\n",
       "       [0.36503252, 0.63496748],\n",
       "       [0.37048359, 0.62951641],\n",
       "       [0.37596786, 0.62403214],\n",
       "       [0.38148411, 0.61851589],\n",
       "       [0.3870311 , 0.6129689 ],\n",
       "       [0.39260756, 0.60739244],\n",
       "       [0.39821216, 0.60178784],\n",
       "       [0.40384357, 0.59615643],\n",
       "       [0.40950044, 0.59049956],\n",
       "       [0.41518135, 0.58481865],\n",
       "       [0.4208849 , 0.5791151 ],\n",
       "       [0.42660965, 0.57339035],\n",
       "       [0.43235414, 0.56764586],\n",
       "       [0.43811687, 0.56188313],\n",
       "       [0.44389634, 0.55610366],\n",
       "       [0.44969104, 0.55030896],\n",
       "       [0.45549943, 0.54450057],\n",
       "       [0.46131994, 0.53868006],\n",
       "       [0.46715103, 0.53284897],\n",
       "       [0.4729911 , 0.5270089 ],\n",
       "       [0.47883857, 0.52116143],\n",
       "       [0.48469184, 0.51530816],\n",
       "       [0.49054932, 0.50945068],\n",
       "       [0.49640939, 0.50359061],\n",
       "       [0.50227045, 0.49772955],\n",
       "       [0.50813089, 0.49186911],\n",
       "       [0.51398909, 0.48601091],\n",
       "       [0.51984345, 0.48015655],\n",
       "       [0.52569237, 0.47430763],\n",
       "       [0.53153424, 0.46846576],\n",
       "       [0.53736749, 0.46263251],\n",
       "       [0.54319052, 0.45680948],\n",
       "       [0.54900177, 0.45099823],\n",
       "       [0.55479969, 0.44520031],\n",
       "       [0.56058273, 0.43941727],\n",
       "       [0.56634936, 0.43365064],\n",
       "       [0.57209809, 0.42790191],\n",
       "       [0.57782741, 0.42217259],\n",
       "       [0.58353586, 0.41646414],\n",
       "       [0.589222  , 0.410778  ],\n",
       "       [0.5948844 , 0.4051156 ],\n",
       "       [0.60052167, 0.39947833],\n",
       "       [0.60613243, 0.39386757],\n",
       "       [0.61171534, 0.38828466],\n",
       "       [0.61726908, 0.38273092],\n",
       "       [0.62279237, 0.37720763],\n",
       "       [0.62828395, 0.37171605],\n",
       "       [0.6337426 , 0.3662574 ],\n",
       "       [0.63916712, 0.36083288],\n",
       "       [0.64455637, 0.35544363],\n",
       "       [0.64990921, 0.35009079],\n",
       "       [0.65522456, 0.34477544],\n",
       "       [0.66050136, 0.33949864],\n",
       "       [0.66573861, 0.33426139],\n",
       "       [0.67093531, 0.32906469],\n",
       "       [0.67609053, 0.32390947],\n",
       "       [0.68120336, 0.31879664],\n",
       "       [0.68627293, 0.31372707],\n",
       "       [0.69129842, 0.30870158],\n",
       "       [0.69627904, 0.30372096],\n",
       "       [0.70121403, 0.29878597],\n",
       "       [0.70610268, 0.29389732],\n",
       "       [0.71094431, 0.28905569],\n",
       "       [0.7157383 , 0.2842617 ],\n",
       "       [0.72048404, 0.27951596],\n",
       "       [0.72518097, 0.27481903],\n",
       "       [0.72982856, 0.27017144],\n",
       "       [0.73442635, 0.26557365],\n",
       "       [0.73897387, 0.26102613],\n",
       "       [0.74347073, 0.25652927],\n",
       "       [0.74791654, 0.25208346],\n",
       "       [0.75231097, 0.24768903],\n",
       "       [0.75665372, 0.24334628],\n",
       "       [0.76094452, 0.23905548],\n",
       "       [0.76518315, 0.23481685],\n",
       "       [0.7693694 , 0.2306306 ],\n",
       "       [0.77350311, 0.22649689],\n",
       "       [0.77758414, 0.22241586],\n",
       "       [0.78161241, 0.21838759],\n",
       "       [0.78558783, 0.21441217],\n",
       "       [0.78951038, 0.21048962],\n",
       "       [0.79338004, 0.20661996],\n",
       "       [0.79719684, 0.20280316],\n",
       "       [0.80096081, 0.19903919],\n",
       "       [0.80467205, 0.19532795],\n",
       "       [0.80833064, 0.19166936],\n",
       "       [0.81193673, 0.18806327],\n",
       "       [0.81549045, 0.18450955],\n",
       "       [0.81899199, 0.18100801],\n",
       "       [0.82244155, 0.17755845],\n",
       "       [0.82583935, 0.17416065],\n",
       "       [0.82918564, 0.17081436],\n",
       "       [0.83248067, 0.16751933],\n",
       "       [0.83572473, 0.16427527],\n",
       "       [0.83891813, 0.16108187],\n",
       "       [0.84206118, 0.15793882],\n",
       "       [0.84515422, 0.15484578],\n",
       "       [0.84819761, 0.15180239],\n",
       "       [0.85119171, 0.14880829],\n",
       "       [0.85413691, 0.14586309],\n",
       "       [0.85703362, 0.14296638],\n",
       "       [0.85988223, 0.14011777],\n",
       "       [0.86268319, 0.13731681],\n",
       "       [0.86543691, 0.13456309],\n",
       "       [0.86814385, 0.13185615],\n",
       "       [0.87080446, 0.12919554],\n",
       "       [0.87341922, 0.12658078],\n",
       "       [0.87598859, 0.12401141],\n",
       "       [0.87851306, 0.12148694],\n",
       "       [0.88099313, 0.11900687],\n",
       "       [0.88342928, 0.11657072],\n",
       "       [0.88582203, 0.11417797],\n",
       "       [0.88817188, 0.11182812],\n",
       "       [0.89047935, 0.10952065],\n",
       "       [0.89274496, 0.10725504],\n",
       "       [0.89496922, 0.10503078],\n",
       "       [0.89715267, 0.10284733],\n",
       "       [0.89929584, 0.10070416],\n",
       "       [0.90139926, 0.09860074],\n",
       "       [0.90346346, 0.09653654],\n",
       "       [0.90548898, 0.09451102],\n",
       "       [0.90747635, 0.09252365],\n",
       "       [0.90942611, 0.09057389],\n",
       "       [0.91133879, 0.08866121],\n",
       "       [0.91321494, 0.08678506],\n",
       "       [0.91505509, 0.08494491],\n",
       "       [0.91685978, 0.08314022],\n",
       "       [0.91862953, 0.08137047],\n",
       "       [0.92036488, 0.07963512],\n",
       "       [0.92206637, 0.07793363],\n",
       "       [0.92373451, 0.07626549],\n",
       "       [0.92536983, 0.07463017],\n",
       "       [0.92697287, 0.07302713],\n",
       "       [0.92854413, 0.07145587],\n",
       "       [0.93008413, 0.06991587],\n",
       "       [0.93159338, 0.06840662],\n",
       "       [0.9330724 , 0.0669276 ],\n",
       "       [0.9345217 , 0.0654783 ],\n",
       "       [0.93594176, 0.06405824],\n",
       "       [0.93733309, 0.06266691],\n",
       "       [0.93869618, 0.06130382],\n",
       "       [0.94003151, 0.05996849],\n",
       "       [0.94133958, 0.05866042],\n",
       "       [0.94262086, 0.05737914],\n",
       "       [0.94387582, 0.05612418],\n",
       "       [0.94510493, 0.05489507],\n",
       "       [0.94630865, 0.05369135],\n",
       "       [0.94748745, 0.05251255],\n",
       "       [0.94864177, 0.05135823],\n",
       "       [0.94977206, 0.05022794],\n",
       "       [0.95087876, 0.04912124],\n",
       "       [0.95196232, 0.04803768],\n",
       "       [0.95302315, 0.04697685],\n",
       "       [0.95406168, 0.04593832],\n",
       "       [0.95507834, 0.04492166],\n",
       "       [0.95607354, 0.04392646],\n",
       "       [0.95704768, 0.04295232],\n",
       "       [0.95800116, 0.04199884],\n",
       "       [0.95893439, 0.04106561],\n",
       "       [0.95984775, 0.04015225],\n",
       "       [0.96074162, 0.03925838],\n",
       "       [0.96161639, 0.03838361],\n",
       "       [0.96247244, 0.03752756],\n",
       "       [0.96331011, 0.03668989],\n",
       "       [0.96412979, 0.03587021],\n",
       "       [0.96493182, 0.03506818],\n",
       "       [0.96571656, 0.03428344],\n",
       "       [0.96648435, 0.03351565],\n",
       "       [0.96723552, 0.03276448],\n",
       "       [0.96797042, 0.03202958],\n",
       "       [0.96868936, 0.03131064],\n",
       "       [0.96939268, 0.03060732],\n",
       "       [0.97008069, 0.02991931],\n",
       "       [0.9707537 , 0.0292463 ],\n",
       "       [0.97141202, 0.02858798],\n",
       "       [0.97205594, 0.02794406],\n",
       "       [0.97268577, 0.02731423],\n",
       "       [0.9733018 , 0.0266982 ],\n",
       "       [0.9739043 , 0.0260957 ],\n",
       "       [0.97449356, 0.02550644],\n",
       "       [0.97506986, 0.02493014],\n",
       "       [0.97563346, 0.02436654],\n",
       "       [0.97618463, 0.02381537],\n",
       "       [0.97672363, 0.02327637],\n",
       "       [0.97725072, 0.02274928],\n",
       "       [0.97776614, 0.02223386],\n",
       "       [0.97827015, 0.02172985],\n",
       "       [0.97876298, 0.02123702],\n",
       "       [0.97924486, 0.02075514],\n",
       "       [0.97971604, 0.02028396],\n",
       "       [0.98017674, 0.01982326],\n",
       "       [0.98062719, 0.01937281],\n",
       "       [0.98106759, 0.01893241],\n",
       "       [0.98149817, 0.01850183],\n",
       "       [0.98191914, 0.01808086],\n",
       "       [0.98233071, 0.01766929],\n",
       "       [0.98273307, 0.01726693],\n",
       "       [0.98312643, 0.01687357],\n",
       "       [0.98351097, 0.01648903],\n",
       "       [0.9838869 , 0.0161131 ],\n",
       "       [0.98425439, 0.01574561],\n",
       "       [0.98461363, 0.01538637],\n",
       "       [0.9849648 , 0.0150352 ],\n",
       "       [0.98530807, 0.01469193],\n",
       "       [0.98564363, 0.01435637],\n",
       "       [0.98597162, 0.01402838],\n",
       "       [0.98629223, 0.01370777],\n",
       "       [0.98660561, 0.01339439],\n",
       "       [0.98691192, 0.01308808],\n",
       "       [0.98721132, 0.01278868],\n",
       "       [0.98750395, 0.01249605],\n",
       "       [0.98778997, 0.01221003],\n",
       "       [0.98806953, 0.01193047],\n",
       "       [0.98834276, 0.01165724],\n",
       "       [0.9886098 , 0.0113902 ],\n",
       "       [0.98887079, 0.01112921],\n",
       "       [0.98912587, 0.01087413],\n",
       "       [0.98937517, 0.01062483],\n",
       "       [0.98961881, 0.01038119],\n",
       "       [0.98985692, 0.01014308]])"
      ]
     },
     "execution_count": 694,
     "metadata": {},
     "output_type": "execute_result"
    }
   ],
   "source": [
    "Y_pr"
   ]
  },
  {
   "cell_type": "markdown",
   "metadata": {},
   "source": [
    "the predicted output above for the different prices shows the class probabilities for 0 & 1 (so unsucessful and successfull); each row == 100%\n",
    "\n",
    "Probabbility of pruchase (== 1) is the second column"
   ]
  },
  {
   "cell_type": "code",
   "execution_count": 695,
   "metadata": {},
   "outputs": [],
   "source": [
    "# get only the second column\n",
    "purchase_pr = Y_pr[:][:, 1]"
   ]
  },
  {
   "cell_type": "markdown",
   "metadata": {},
   "source": [
    "Question now is:\n",
    "\n",
    "How is demand for the product change for a given change in price? --> elasiticies will answer this\n",
    "\n",
    "\n",
    "Definition of price elasiticiy \n",
    "\n",
    "E = (delta_Pr(purchase) / (Pr(purchase)) / (delta_Price/Price))\n",
    "\n",
    "(=) E = beta * price * (1 - Pr(purchase))"
   ]
  },
  {
   "cell_type": "code",
   "execution_count": 696,
   "metadata": {},
   "outputs": [],
   "source": [
    "# price elastiticity == price coeff of the model\n",
    "pe = model_purchase.coef_[:, 0] * price_range * (1 - purchase_pr)"
   ]
  },
  {
   "cell_type": "markdown",
   "metadata": {},
   "source": [
    "#### The above array contains the price elasticity at each price point"
   ]
  },
  {
   "cell_type": "code",
   "execution_count": 697,
   "metadata": {},
   "outputs": [],
   "source": [
    "df_price_elasticities = pd.DataFrame(price_range)"
   ]
  },
  {
   "cell_type": "code",
   "execution_count": 698,
   "metadata": {},
   "outputs": [],
   "source": [
    "df_price_elasticities = df_price_elasticities.rename(columns = {0: 'Price_Point'})"
   ]
  },
  {
   "cell_type": "code",
   "execution_count": 699,
   "metadata": {},
   "outputs": [],
   "source": [
    "df_price_elasticities['Mean_PE'] = pe"
   ]
  },
  {
   "cell_type": "markdown",
   "metadata": {},
   "source": [
    "each row we have the price point and the price elastitiy of that price point (so a one percent change in price at price point x will increase/decrease the purchase probabaility by xxx%)\n",
    "\n",
    "Mean_PE is already in percent; eg the first instqance at price point 0.5 --> a price increase of 1% results in a purchase probability decrease of 0.096% "
   ]
  },
  {
   "cell_type": "code",
   "execution_count": 700,
   "metadata": {},
   "outputs": [
    {
     "data": {
      "text/html": [
       "<div>\n",
       "<style scoped>\n",
       "    .dataframe tbody tr th:only-of-type {\n",
       "        vertical-align: middle;\n",
       "    }\n",
       "\n",
       "    .dataframe tbody tr th {\n",
       "        vertical-align: top;\n",
       "    }\n",
       "\n",
       "    .dataframe thead th {\n",
       "        text-align: right;\n",
       "    }\n",
       "</style>\n",
       "<table border=\"1\" class=\"dataframe\">\n",
       "  <thead>\n",
       "    <tr style=\"text-align: right;\">\n",
       "      <th></th>\n",
       "      <th>Price_Point</th>\n",
       "      <th>Mean_PE</th>\n",
       "    </tr>\n",
       "  </thead>\n",
       "  <tbody>\n",
       "    <tr>\n",
       "      <th>0</th>\n",
       "      <td>0.50</td>\n",
       "      <td>-0.094923</td>\n",
       "    </tr>\n",
       "    <tr>\n",
       "      <th>1</th>\n",
       "      <td>0.51</td>\n",
       "      <td>-0.098928</td>\n",
       "    </tr>\n",
       "    <tr>\n",
       "      <th>2</th>\n",
       "      <td>0.52</td>\n",
       "      <td>-0.103058</td>\n",
       "    </tr>\n",
       "    <tr>\n",
       "      <th>3</th>\n",
       "      <td>0.53</td>\n",
       "      <td>-0.107317</td>\n",
       "    </tr>\n",
       "    <tr>\n",
       "      <th>4</th>\n",
       "      <td>0.54</td>\n",
       "      <td>-0.111707</td>\n",
       "    </tr>\n",
       "    <tr>\n",
       "      <th>...</th>\n",
       "      <td>...</td>\n",
       "      <td>...</td>\n",
       "    </tr>\n",
       "    <tr>\n",
       "      <th>295</th>\n",
       "      <td>3.45</td>\n",
       "      <td>-7.998353</td>\n",
       "    </tr>\n",
       "    <tr>\n",
       "      <th>296</th>\n",
       "      <td>3.46</td>\n",
       "      <td>-8.023605</td>\n",
       "    </tr>\n",
       "    <tr>\n",
       "      <th>297</th>\n",
       "      <td>3.47</td>\n",
       "      <td>-8.048823</td>\n",
       "    </tr>\n",
       "    <tr>\n",
       "      <th>298</th>\n",
       "      <td>3.48</td>\n",
       "      <td>-8.074006</td>\n",
       "    </tr>\n",
       "    <tr>\n",
       "      <th>299</th>\n",
       "      <td>3.49</td>\n",
       "      <td>-8.099156</td>\n",
       "    </tr>\n",
       "  </tbody>\n",
       "</table>\n",
       "<p>300 rows × 2 columns</p>\n",
       "</div>"
      ],
      "text/plain": [
       "     Price_Point   Mean_PE\n",
       "0           0.50 -0.094923\n",
       "1           0.51 -0.098928\n",
       "2           0.52 -0.103058\n",
       "3           0.53 -0.107317\n",
       "4           0.54 -0.111707\n",
       "..           ...       ...\n",
       "295         3.45 -7.998353\n",
       "296         3.46 -8.023605\n",
       "297         3.47 -8.048823\n",
       "298         3.48 -8.074006\n",
       "299         3.49 -8.099156\n",
       "\n",
       "[300 rows x 2 columns]"
      ]
     },
     "execution_count": 700,
     "metadata": {},
     "output_type": "execute_result"
    }
   ],
   "source": [
    "df_price_elasticities"
   ]
  },
  {
   "cell_type": "code",
   "execution_count": 701,
   "metadata": {},
   "outputs": [
    {
     "data": {
      "text/html": [
       "<div>\n",
       "<style scoped>\n",
       "    .dataframe tbody tr th:only-of-type {\n",
       "        vertical-align: middle;\n",
       "    }\n",
       "\n",
       "    .dataframe tbody tr th {\n",
       "        vertical-align: top;\n",
       "    }\n",
       "\n",
       "    .dataframe thead th {\n",
       "        text-align: right;\n",
       "    }\n",
       "</style>\n",
       "<table border=\"1\" class=\"dataframe\">\n",
       "  <thead>\n",
       "    <tr style=\"text-align: right;\">\n",
       "      <th></th>\n",
       "      <th>Price_Point</th>\n",
       "      <th>Mean_PE</th>\n",
       "    </tr>\n",
       "  </thead>\n",
       "  <tbody>\n",
       "    <tr>\n",
       "      <th>0</th>\n",
       "      <td>0.50</td>\n",
       "      <td>-0.094923</td>\n",
       "    </tr>\n",
       "    <tr>\n",
       "      <th>1</th>\n",
       "      <td>0.51</td>\n",
       "      <td>-0.098928</td>\n",
       "    </tr>\n",
       "    <tr>\n",
       "      <th>2</th>\n",
       "      <td>0.52</td>\n",
       "      <td>-0.103058</td>\n",
       "    </tr>\n",
       "    <tr>\n",
       "      <th>3</th>\n",
       "      <td>0.53</td>\n",
       "      <td>-0.107317</td>\n",
       "    </tr>\n",
       "    <tr>\n",
       "      <th>4</th>\n",
       "      <td>0.54</td>\n",
       "      <td>-0.111707</td>\n",
       "    </tr>\n",
       "    <tr>\n",
       "      <th>...</th>\n",
       "      <td>...</td>\n",
       "      <td>...</td>\n",
       "    </tr>\n",
       "    <tr>\n",
       "      <th>295</th>\n",
       "      <td>3.45</td>\n",
       "      <td>-7.998353</td>\n",
       "    </tr>\n",
       "    <tr>\n",
       "      <th>296</th>\n",
       "      <td>3.46</td>\n",
       "      <td>-8.023605</td>\n",
       "    </tr>\n",
       "    <tr>\n",
       "      <th>297</th>\n",
       "      <td>3.47</td>\n",
       "      <td>-8.048823</td>\n",
       "    </tr>\n",
       "    <tr>\n",
       "      <th>298</th>\n",
       "      <td>3.48</td>\n",
       "      <td>-8.074006</td>\n",
       "    </tr>\n",
       "    <tr>\n",
       "      <th>299</th>\n",
       "      <td>3.49</td>\n",
       "      <td>-8.099156</td>\n",
       "    </tr>\n",
       "  </tbody>\n",
       "</table>\n",
       "<p>300 rows × 2 columns</p>\n",
       "</div>"
      ],
      "text/plain": [
       "     Price_Point   Mean_PE\n",
       "0           0.50 -0.094923\n",
       "1           0.51 -0.098928\n",
       "2           0.52 -0.103058\n",
       "3           0.53 -0.107317\n",
       "4           0.54 -0.111707\n",
       "..           ...       ...\n",
       "295         3.45 -7.998353\n",
       "296         3.46 -8.023605\n",
       "297         3.47 -8.048823\n",
       "298         3.48 -8.074006\n",
       "299         3.49 -8.099156\n",
       "\n",
       "[300 rows x 2 columns]"
      ]
     },
     "execution_count": 701,
     "metadata": {},
     "output_type": "execute_result"
    }
   ],
   "source": [
    "# pd.options.display.max_rows = None\n",
    "df_price_elasticities"
   ]
  },
  {
   "cell_type": "markdown",
   "metadata": {},
   "source": [
    "## Analyse the elastitiy result"
   ]
  },
  {
   "cell_type": "code",
   "execution_count": 702,
   "metadata": {},
   "outputs": [
    {
     "data": {
      "text/plain": [
       "Text(0.5, 1.0, 'Price Elastiticy of Purchase Probabaility')"
      ]
     },
     "execution_count": 702,
     "metadata": {},
     "output_type": "execute_result"
    },
    {
     "data": {
      "image/png": "[encoded data removed]",
      "text/plain": [
       "<Figure size 648x432 with 1 Axes>"
      ]
     },
     "metadata": {},
     "output_type": "display_data"
    }
   ],
   "source": [
    "plt.figure(figsize = (9,6))\n",
    "plt.plot(price_range, pe, color = 'grey')\n",
    "plt.xlabel('Price')\n",
    "plt.ylabel('Elasticity')\n",
    "plt.title('Price Elastiticy of Purchase Probabaility')"
   ]
  },
  {
   "cell_type": "markdown",
   "metadata": {},
   "source": [
    "More towards the right, the leass likely it is for people to buy from a category; \n",
    "\n",
    "However, this plot of price elasitiyty is very interresting with regards to the rate of decrease --> the decrease in puchase probabauility is leveling off around the 1.1 mark and turning quite steep\n",
    "\n",
    "Additionally, all price elastiticies are negative: the reason is simple: an increased price will decrease the lieklyhood of buying the product (and coef_ is negative: inverse proportionality of price and purcahse probabuility)\n",
    "\n",
    "Remember: Price elastiticy measures the percentage change in an outcome (here Purchase probability); example: at price 1.1€ the E = -0.6919 (this is already in percent)--> So for a 1% price increase, the probability of puirchase decreases by 0.69%\n",
    "\n",
    "\n",
    "|E| < 1 % --> inelastic (y-axis)\n",
    "\n",
    "|E| >= 1 % --> elastic (y-axis)\n",
    "\n",
    "is it inelastic or elastic? \n",
    "- A change in price by 1% at price point 0.5 leads to LESS then 1% decrease in purchase probabaiulity --> so it is inelastic (all below 1%!!!)\n",
    "- A price change at 1.5 is MORE than 1% decrease in purchase probabaiulity --> so here it is elastic\n",
    "\n",
    "\n",
    "recommendation: for inelastic values we should increase the Price ; BUT FOR elastic prices we should decrease our prices!\n",
    "\n",
    "\n",
    "To do: find those prices that are inelastic and those that are elastic; so find where price elastiticiy turns from elastic to inelastic ---> this is at price point 1.25 ; so at product prices lower that 1.25 we can increase the product price; For prices higher than 1.25 we have more to gain from lower prices\n",
    "\n"
   ]
  },
  {
   "cell_type": "markdown",
   "metadata": {},
   "source": [
    "## Purchase Probabaility by Segments\n",
    "\n",
    "Now proceed to purchase probabaility of category but now of the different segments!"
   ]
  },
  {
   "cell_type": "markdown",
   "metadata": {},
   "source": [
    "### Segement 1 - Career Focused"
   ]
  },
  {
   "cell_type": "code",
   "execution_count": 703,
   "metadata": {},
   "outputs": [],
   "source": [
    "# df purchase analytics segment 1 only\n",
    "df_pa_segment_1 = df_pa[df_pa.Segment == 1]"
   ]
  },
  {
   "cell_type": "code",
   "execution_count": 704,
   "metadata": {},
   "outputs": [],
   "source": [
    "# now perform the modeling; \n",
    "# Estimate the coefficient of price on the purcahse probabaility\n",
    "\n",
    "# get the Y (incidence)\n",
    "Y = df_pa_segment_1.Incidence\n",
    "\n",
    "# create the X (average price)\n",
    "X = pd.DataFrame()\n",
    "X['Mean_Price'] = df_pa_segment_1.loc[:,['Price_1', \"Price_2\", \"Price_3\", \"Price_4\", \"Price_5\"]].mean(axis = 1)\n"
   ]
  },
  {
   "cell_type": "code",
   "execution_count": 705,
   "metadata": {},
   "outputs": [
    {
     "data": {
      "text/html": [
       "<style>#sk-container-id-47 {color: black;background-color: white;}#sk-container-id-47 pre{padding: 0;}#sk-container-id-47 div.sk-toggleable {background-color: white;}#sk-container-id-47 label.sk-toggleable__label {cursor: pointer;display: block;width: 100%;margin-bottom: 0;padding: 0.3em;box-sizing: border-box;text-align: center;}#sk-container-id-47 label.sk-toggleable__label-arrow:before {content: \"▸\";float: left;margin-right: 0.25em;color: #696969;}#sk-container-id-47 label.sk-toggleable__label-arrow:hover:before {color: black;}#sk-container-id-47 div.sk-estimator:hover label.sk-toggleable__label-arrow:before {color: black;}#sk-container-id-47 div.sk-toggleable__content {max-height: 0;max-width: 0;overflow: hidden;text-align: left;background-color: #f0f8ff;}#sk-container-id-47 div.sk-toggleable__content pre {margin: 0.2em;color: black;border-radius: 0.25em;background-color: #f0f8ff;}#sk-container-id-47 input.sk-toggleable__control:checked~div.sk-toggleable__content {max-height: 200px;max-width: 100%;overflow: auto;}#sk-container-id-47 input.sk-toggleable__control:checked~label.sk-toggleable__label-arrow:before {content: \"▾\";}#sk-container-id-47 div.sk-estimator input.sk-toggleable__control:checked~label.sk-toggleable__label {background-color: #d4ebff;}#sk-container-id-47 div.sk-label input.sk-toggleable__control:checked~label.sk-toggleable__label {background-color: #d4ebff;}#sk-container-id-47 input.sk-hidden--visually {border: 0;clip: rect(1px 1px 1px 1px);clip: rect(1px, 1px, 1px, 1px);height: 1px;margin: -1px;overflow: hidden;padding: 0;position: absolute;width: 1px;}#sk-container-id-47 div.sk-estimator {font-family: monospace;background-color: #f0f8ff;border: 1px dotted black;border-radius: 0.25em;box-sizing: border-box;margin-bottom: 0.5em;}#sk-container-id-47 div.sk-estimator:hover {background-color: #d4ebff;}#sk-container-id-47 div.sk-parallel-item::after {content: \"\";width: 100%;border-bottom: 1px solid gray;flex-grow: 1;}#sk-container-id-47 div.sk-label:hover label.sk-toggleable__label {background-color: #d4ebff;}#sk-container-id-47 div.sk-serial::before {content: \"\";position: absolute;border-left: 1px solid gray;box-sizing: border-box;top: 0;bottom: 0;left: 50%;z-index: 0;}#sk-container-id-47 div.sk-serial {display: flex;flex-direction: column;align-items: center;background-color: white;padding-right: 0.2em;padding-left: 0.2em;position: relative;}#sk-container-id-47 div.sk-item {position: relative;z-index: 1;}#sk-container-id-47 div.sk-parallel {display: flex;align-items: stretch;justify-content: center;background-color: white;position: relative;}#sk-container-id-47 div.sk-item::before, #sk-container-id-47 div.sk-parallel-item::before {content: \"\";position: absolute;border-left: 1px solid gray;box-sizing: border-box;top: 0;bottom: 0;left: 50%;z-index: -1;}#sk-container-id-47 div.sk-parallel-item {display: flex;flex-direction: column;z-index: 1;position: relative;background-color: white;}#sk-container-id-47 div.sk-parallel-item:first-child::after {align-self: flex-end;width: 50%;}#sk-container-id-47 div.sk-parallel-item:last-child::after {align-self: flex-start;width: 50%;}#sk-container-id-47 div.sk-parallel-item:only-child::after {width: 0;}#sk-container-id-47 div.sk-dashed-wrapped {border: 1px dashed gray;margin: 0 0.4em 0.5em 0.4em;box-sizing: border-box;padding-bottom: 0.4em;background-color: white;}#sk-container-id-47 div.sk-label label {font-family: monospace;font-weight: bold;display: inline-block;line-height: 1.2em;}#sk-container-id-47 div.sk-label-container {text-align: center;}#sk-container-id-47 div.sk-container {/* jupyter's `normalize.less` sets `[hidden] { display: none; }` but bootstrap.min.css set `[hidden] { display: none !important; }` so we also need the `!important` here to be able to override the default hidden behavior on the sphinx rendered scikit-learn.org. See: https://github.com/scikit-learn/scikit-learn/issues/21755 */display: inline-block !important;position: relative;}#sk-container-id-47 div.sk-text-repr-fallback {display: none;}</style><div id=\"sk-container-id-47\" class=\"sk-top-container\"><div class=\"sk-text-repr-fallback\"><pre>LogisticRegression(solver=&#x27;sag&#x27;)</pre><b>In a Jupyter environment, please rerun this cell to show the HTML representation or trust the notebook. <br />On GitHub, the HTML representation is unable to render, please try loading this page with nbviewer.org.</b></div><div class=\"sk-container\" hidden><div class=\"sk-item\"><div class=\"sk-estimator sk-toggleable\"><input class=\"sk-toggleable__control sk-hidden--visually\" id=\"sk-estimator-id-47\" type=\"checkbox\" checked><label for=\"sk-estimator-id-47\" class=\"sk-toggleable__label sk-toggleable__label-arrow\">LogisticRegression</label><div class=\"sk-toggleable__content\"><pre>LogisticRegression(solver=&#x27;sag&#x27;)</pre></div></div></div></div></div>"
      ],
      "text/plain": [
       "LogisticRegression(solver='sag')"
      ]
     },
     "execution_count": 705,
     "metadata": {},
     "output_type": "execute_result"
    }
   ],
   "source": [
    "# now perform the model again\n",
    "# create instance\n",
    "model_incidence_segment_1 = LogisticRegression(solver='sag')\n",
    "\n",
    "model_incidence_segment_1.fit(X, Y)"
   ]
  },
  {
   "cell_type": "code",
   "execution_count": 706,
   "metadata": {},
   "outputs": [
    {
     "data": {
      "text/plain": [
       "array([[-1.71153432]])"
      ]
     },
     "execution_count": 706,
     "metadata": {},
     "output_type": "execute_result"
    }
   ],
   "source": [
    "model_incidence_segment_1.coef_"
   ]
  },
  {
   "cell_type": "markdown",
   "metadata": {},
   "source": [
    "The beta here is lower than the beta of all other segments together; This might suggest a lower elasticity!"
   ]
  },
  {
   "cell_type": "code",
   "execution_count": 707,
   "metadata": {},
   "outputs": [
    {
     "name": "stderr",
     "output_type": "stream",
     "text": [
      "/home/angelo/repos/vscode_repos/customer_analytics_2022/lib64/python3.10/site-packages/sklearn/base.py:450: UserWarning: X does not have valid feature names, but LogisticRegression was fitted with feature names\n",
      "  warnings.warn(\n"
     ]
    }
   ],
   "source": [
    "# calcualte the elastiticty for the segment\n",
    "\n",
    "# now predict the purchase probabability using the trained model\n",
    "Y_pr_segment_1 = model_incidence_segment_1.predict_proba(df_price_range)\n",
    "# get only the second column\n",
    "purchase_pr_segment_1 = Y_pr_segment_1[:][:, 1]\n",
    "\n",
    "# price elastiticity == price coeff of the model\n",
    "pe_segment_1 = model_incidence_segment_1.coef_[:, 0] * price_range * (1 - purchase_pr_segment_1)"
   ]
  },
  {
   "cell_type": "code",
   "execution_count": 708,
   "metadata": {},
   "outputs": [
    {
     "data": {
      "text/html": [
       "<div>\n",
       "<style scoped>\n",
       "    .dataframe tbody tr th:only-of-type {\n",
       "        vertical-align: middle;\n",
       "    }\n",
       "\n",
       "    .dataframe tbody tr th {\n",
       "        vertical-align: top;\n",
       "    }\n",
       "\n",
       "    .dataframe thead th {\n",
       "        text-align: right;\n",
       "    }\n",
       "</style>\n",
       "<table border=\"1\" class=\"dataframe\">\n",
       "  <thead>\n",
       "    <tr style=\"text-align: right;\">\n",
       "      <th></th>\n",
       "      <th>Price_Point</th>\n",
       "      <th>Mean_PE</th>\n",
       "      <th>PE_Segment_1</th>\n",
       "    </tr>\n",
       "  </thead>\n",
       "  <tbody>\n",
       "    <tr>\n",
       "      <th>0</th>\n",
       "      <td>0.50</td>\n",
       "      <td>-0.094923</td>\n",
       "      <td>-0.119081</td>\n",
       "    </tr>\n",
       "    <tr>\n",
       "      <th>1</th>\n",
       "      <td>0.51</td>\n",
       "      <td>-0.098928</td>\n",
       "      <td>-0.123263</td>\n",
       "    </tr>\n",
       "    <tr>\n",
       "      <th>2</th>\n",
       "      <td>0.52</td>\n",
       "      <td>-0.103058</td>\n",
       "      <td>-0.127539</td>\n",
       "    </tr>\n",
       "    <tr>\n",
       "      <th>3</th>\n",
       "      <td>0.53</td>\n",
       "      <td>-0.107317</td>\n",
       "      <td>-0.131909</td>\n",
       "    </tr>\n",
       "    <tr>\n",
       "      <th>4</th>\n",
       "      <td>0.54</td>\n",
       "      <td>-0.111707</td>\n",
       "      <td>-0.136375</td>\n",
       "    </tr>\n",
       "    <tr>\n",
       "      <th>...</th>\n",
       "      <td>...</td>\n",
       "      <td>...</td>\n",
       "      <td>...</td>\n",
       "    </tr>\n",
       "    <tr>\n",
       "      <th>295</th>\n",
       "      <td>3.45</td>\n",
       "      <td>-7.998353</td>\n",
       "      <td>-5.679381</td>\n",
       "    </tr>\n",
       "    <tr>\n",
       "      <th>296</th>\n",
       "      <td>3.46</td>\n",
       "      <td>-8.023605</td>\n",
       "      <td>-5.699535</td>\n",
       "    </tr>\n",
       "    <tr>\n",
       "      <th>297</th>\n",
       "      <td>3.47</td>\n",
       "      <td>-8.048823</td>\n",
       "      <td>-5.719652</td>\n",
       "    </tr>\n",
       "    <tr>\n",
       "      <th>298</th>\n",
       "      <td>3.48</td>\n",
       "      <td>-8.074006</td>\n",
       "      <td>-5.739733</td>\n",
       "    </tr>\n",
       "    <tr>\n",
       "      <th>299</th>\n",
       "      <td>3.49</td>\n",
       "      <td>-8.099156</td>\n",
       "      <td>-5.759778</td>\n",
       "    </tr>\n",
       "  </tbody>\n",
       "</table>\n",
       "<p>300 rows × 3 columns</p>\n",
       "</div>"
      ],
      "text/plain": [
       "     Price_Point   Mean_PE  PE_Segment_1\n",
       "0           0.50 -0.094923     -0.119081\n",
       "1           0.51 -0.098928     -0.123263\n",
       "2           0.52 -0.103058     -0.127539\n",
       "3           0.53 -0.107317     -0.131909\n",
       "4           0.54 -0.111707     -0.136375\n",
       "..           ...       ...           ...\n",
       "295         3.45 -7.998353     -5.679381\n",
       "296         3.46 -8.023605     -5.699535\n",
       "297         3.47 -8.048823     -5.719652\n",
       "298         3.48 -8.074006     -5.739733\n",
       "299         3.49 -8.099156     -5.759778\n",
       "\n",
       "[300 rows x 3 columns]"
      ]
     },
     "execution_count": 708,
     "metadata": {},
     "output_type": "execute_result"
    }
   ],
   "source": [
    "# put the price elastiticity of segement 1 into a dataframe\n",
    "df_price_elasticities['PE_Segment_1'] = pe_segment_1\n",
    "df_price_elasticities\n"
   ]
  },
  {
   "cell_type": "code",
   "execution_count": 709,
   "metadata": {},
   "outputs": [
    {
     "data": {
      "text/plain": [
       "Text(0.5, 1.0, 'Price Elastiticy of Purchase Probabaility')"
      ]
     },
     "execution_count": 709,
     "metadata": {},
     "output_type": "execute_result"
    },
    {
     "data": {
      "image/png": "[encoded data removed]",
      "text/plain": [
       "<Figure size 648x432 with 1 Axes>"
      ]
     },
     "metadata": {},
     "output_type": "display_data"
    }
   ],
   "source": [
    "# display both \n",
    "\n",
    "plt.figure(figsize = (9,6))\n",
    "plt.plot(price_range, pe, color = 'grey')\n",
    "plt.plot(price_range, pe_segment_1, color = 'green')\n",
    "plt.xlabel('Price')\n",
    "plt.ylabel('Elasticity')\n",
    "plt.title('Price Elastiticy of Purchase Probabaility')"
   ]
  },
  {
   "cell_type": "markdown",
   "metadata": {},
   "source": [
    "### interpretation\n",
    "\n",
    "- In the 0.5 - 1.0 range of price points both elastitictiy curves lie very closely together \n",
    "- but then the average for all segments starts having a higher elasticitiy, while the elasticitiy of the first segment (career focused) does not really change after the increase in elastitiy between the pricve points 1.0 and 1.5.\n",
    "\n",
    "Segement 1 only turns elastic at 1.39€ price point! --> So increase priceses if we are in the 0.5 to 1.39€ price point rrange, while decreasing the price above that price point!"
   ]
  },
  {
   "cell_type": "markdown",
   "metadata": {},
   "source": [
    "#### Segment 2 Fewer Opportunities\n",
    "\n",
    "\n"
   ]
  },
  {
   "cell_type": "code",
   "execution_count": 710,
   "metadata": {},
   "outputs": [
    {
     "data": {
      "text/html": [
       "<style>#sk-container-id-48 {color: black;background-color: white;}#sk-container-id-48 pre{padding: 0;}#sk-container-id-48 div.sk-toggleable {background-color: white;}#sk-container-id-48 label.sk-toggleable__label {cursor: pointer;display: block;width: 100%;margin-bottom: 0;padding: 0.3em;box-sizing: border-box;text-align: center;}#sk-container-id-48 label.sk-toggleable__label-arrow:before {content: \"▸\";float: left;margin-right: 0.25em;color: #696969;}#sk-container-id-48 label.sk-toggleable__label-arrow:hover:before {color: black;}#sk-container-id-48 div.sk-estimator:hover label.sk-toggleable__label-arrow:before {color: black;}#sk-container-id-48 div.sk-toggleable__content {max-height: 0;max-width: 0;overflow: hidden;text-align: left;background-color: #f0f8ff;}#sk-container-id-48 div.sk-toggleable__content pre {margin: 0.2em;color: black;border-radius: 0.25em;background-color: #f0f8ff;}#sk-container-id-48 input.sk-toggleable__control:checked~div.sk-toggleable__content {max-height: 200px;max-width: 100%;overflow: auto;}#sk-container-id-48 input.sk-toggleable__control:checked~label.sk-toggleable__label-arrow:before {content: \"▾\";}#sk-container-id-48 div.sk-estimator input.sk-toggleable__control:checked~label.sk-toggleable__label {background-color: #d4ebff;}#sk-container-id-48 div.sk-label input.sk-toggleable__control:checked~label.sk-toggleable__label {background-color: #d4ebff;}#sk-container-id-48 input.sk-hidden--visually {border: 0;clip: rect(1px 1px 1px 1px);clip: rect(1px, 1px, 1px, 1px);height: 1px;margin: -1px;overflow: hidden;padding: 0;position: absolute;width: 1px;}#sk-container-id-48 div.sk-estimator {font-family: monospace;background-color: #f0f8ff;border: 1px dotted black;border-radius: 0.25em;box-sizing: border-box;margin-bottom: 0.5em;}#sk-container-id-48 div.sk-estimator:hover {background-color: #d4ebff;}#sk-container-id-48 div.sk-parallel-item::after {content: \"\";width: 100%;border-bottom: 1px solid gray;flex-grow: 1;}#sk-container-id-48 div.sk-label:hover label.sk-toggleable__label {background-color: #d4ebff;}#sk-container-id-48 div.sk-serial::before {content: \"\";position: absolute;border-left: 1px solid gray;box-sizing: border-box;top: 0;bottom: 0;left: 50%;z-index: 0;}#sk-container-id-48 div.sk-serial {display: flex;flex-direction: column;align-items: center;background-color: white;padding-right: 0.2em;padding-left: 0.2em;position: relative;}#sk-container-id-48 div.sk-item {position: relative;z-index: 1;}#sk-container-id-48 div.sk-parallel {display: flex;align-items: stretch;justify-content: center;background-color: white;position: relative;}#sk-container-id-48 div.sk-item::before, #sk-container-id-48 div.sk-parallel-item::before {content: \"\";position: absolute;border-left: 1px solid gray;box-sizing: border-box;top: 0;bottom: 0;left: 50%;z-index: -1;}#sk-container-id-48 div.sk-parallel-item {display: flex;flex-direction: column;z-index: 1;position: relative;background-color: white;}#sk-container-id-48 div.sk-parallel-item:first-child::after {align-self: flex-end;width: 50%;}#sk-container-id-48 div.sk-parallel-item:last-child::after {align-self: flex-start;width: 50%;}#sk-container-id-48 div.sk-parallel-item:only-child::after {width: 0;}#sk-container-id-48 div.sk-dashed-wrapped {border: 1px dashed gray;margin: 0 0.4em 0.5em 0.4em;box-sizing: border-box;padding-bottom: 0.4em;background-color: white;}#sk-container-id-48 div.sk-label label {font-family: monospace;font-weight: bold;display: inline-block;line-height: 1.2em;}#sk-container-id-48 div.sk-label-container {text-align: center;}#sk-container-id-48 div.sk-container {/* jupyter's `normalize.less` sets `[hidden] { display: none; }` but bootstrap.min.css set `[hidden] { display: none !important; }` so we also need the `!important` here to be able to override the default hidden behavior on the sphinx rendered scikit-learn.org. See: https://github.com/scikit-learn/scikit-learn/issues/21755 */display: inline-block !important;position: relative;}#sk-container-id-48 div.sk-text-repr-fallback {display: none;}</style><div id=\"sk-container-id-48\" class=\"sk-top-container\"><div class=\"sk-text-repr-fallback\"><pre>LogisticRegression(solver=&#x27;sag&#x27;)</pre><b>In a Jupyter environment, please rerun this cell to show the HTML representation or trust the notebook. <br />On GitHub, the HTML representation is unable to render, please try loading this page with nbviewer.org.</b></div><div class=\"sk-container\" hidden><div class=\"sk-item\"><div class=\"sk-estimator sk-toggleable\"><input class=\"sk-toggleable__control sk-hidden--visually\" id=\"sk-estimator-id-48\" type=\"checkbox\" checked><label for=\"sk-estimator-id-48\" class=\"sk-toggleable__label sk-toggleable__label-arrow\">LogisticRegression</label><div class=\"sk-toggleable__content\"><pre>LogisticRegression(solver=&#x27;sag&#x27;)</pre></div></div></div></div></div>"
      ],
      "text/plain": [
       "LogisticRegression(solver='sag')"
      ]
     },
     "execution_count": 710,
     "metadata": {},
     "output_type": "execute_result"
    }
   ],
   "source": [
    "# df purchase analytics segment 1 only\n",
    "df_pa_segment_2 = df_pa[df_pa.Segment == 2]\n",
    "\n",
    "# now perform the modeling; \n",
    "# Estimate the coefficient of price on the purcahse probabaility\n",
    "\n",
    "# get the Y (incidence)\n",
    "Y = df_pa_segment_2.Incidence\n",
    "\n",
    "# create the X (average price)\n",
    "X = pd.DataFrame()\n",
    "X['Mean_Price'] = df_pa_segment_2.loc[:,['Price_1', \"Price_2\", \"Price_3\", \"Price_4\", \"Price_5\"]].mean(axis = 1)\n",
    "\n",
    "# now perform the model again\n",
    "# create instance\n",
    "model_incidence_segment_2 = LogisticRegression(solver='sag')\n",
    "\n",
    "model_incidence_segment_2.fit(X, Y)\n"
   ]
  },
  {
   "cell_type": "code",
   "execution_count": 711,
   "metadata": {},
   "outputs": [
    {
     "name": "stderr",
     "output_type": "stream",
     "text": [
      "/home/angelo/repos/vscode_repos/customer_analytics_2022/lib64/python3.10/site-packages/sklearn/base.py:450: UserWarning: X does not have valid feature names, but LogisticRegression was fitted with feature names\n",
      "  warnings.warn(\n"
     ]
    }
   ],
   "source": [
    "# calcualte the elastiticty for the segment\n",
    "\n",
    "# now predict the purchase probabability using the trained model\n",
    "Y_pr_segment_2 = model_incidence_segment_2.predict_proba(df_price_range)\n",
    "# get only the second column\n",
    "purchase_pr_segment_2 = Y_pr_segment_2[:][:, 1]\n",
    "\n",
    "# price elastiticity == price coeff of the model\n",
    "pe_segment_2 = model_incidence_segment_2.coef_[:, 0] * price_range * (1 - purchase_pr_segment_2)"
   ]
  },
  {
   "cell_type": "code",
   "execution_count": 712,
   "metadata": {},
   "outputs": [
    {
     "data": {
      "text/html": [
       "<div>\n",
       "<style scoped>\n",
       "    .dataframe tbody tr th:only-of-type {\n",
       "        vertical-align: middle;\n",
       "    }\n",
       "\n",
       "    .dataframe tbody tr th {\n",
       "        vertical-align: top;\n",
       "    }\n",
       "\n",
       "    .dataframe thead th {\n",
       "        text-align: right;\n",
       "    }\n",
       "</style>\n",
       "<table border=\"1\" class=\"dataframe\">\n",
       "  <thead>\n",
       "    <tr style=\"text-align: right;\">\n",
       "      <th></th>\n",
       "      <th>Price_Point</th>\n",
       "      <th>Mean_PE</th>\n",
       "      <th>PE_Segment_1</th>\n",
       "      <th>PE_Segment_2</th>\n",
       "    </tr>\n",
       "  </thead>\n",
       "  <tbody>\n",
       "    <tr>\n",
       "      <th>0</th>\n",
       "      <td>0.50</td>\n",
       "      <td>-0.094923</td>\n",
       "      <td>-0.119081</td>\n",
       "      <td>-0.030946</td>\n",
       "    </tr>\n",
       "    <tr>\n",
       "      <th>1</th>\n",
       "      <td>0.51</td>\n",
       "      <td>-0.098928</td>\n",
       "      <td>-0.123263</td>\n",
       "      <td>-0.032715</td>\n",
       "    </tr>\n",
       "    <tr>\n",
       "      <th>2</th>\n",
       "      <td>0.52</td>\n",
       "      <td>-0.103058</td>\n",
       "      <td>-0.127539</td>\n",
       "      <td>-0.034571</td>\n",
       "    </tr>\n",
       "    <tr>\n",
       "      <th>3</th>\n",
       "      <td>0.53</td>\n",
       "      <td>-0.107317</td>\n",
       "      <td>-0.131909</td>\n",
       "      <td>-0.036517</td>\n",
       "    </tr>\n",
       "    <tr>\n",
       "      <th>4</th>\n",
       "      <td>0.54</td>\n",
       "      <td>-0.111707</td>\n",
       "      <td>-0.136375</td>\n",
       "      <td>-0.038559</td>\n",
       "    </tr>\n",
       "    <tr>\n",
       "      <th>...</th>\n",
       "      <td>...</td>\n",
       "      <td>...</td>\n",
       "      <td>...</td>\n",
       "      <td>...</td>\n",
       "    </tr>\n",
       "    <tr>\n",
       "      <th>295</th>\n",
       "      <td>3.45</td>\n",
       "      <td>-7.998353</td>\n",
       "      <td>-5.679381</td>\n",
       "      <td>-12.544880</td>\n",
       "    </tr>\n",
       "    <tr>\n",
       "      <th>296</th>\n",
       "      <td>3.46</td>\n",
       "      <td>-8.023605</td>\n",
       "      <td>-5.699535</td>\n",
       "      <td>-12.581805</td>\n",
       "    </tr>\n",
       "    <tr>\n",
       "      <th>297</th>\n",
       "      <td>3.47</td>\n",
       "      <td>-8.048823</td>\n",
       "      <td>-5.719652</td>\n",
       "      <td>-12.618712</td>\n",
       "    </tr>\n",
       "    <tr>\n",
       "      <th>298</th>\n",
       "      <td>3.48</td>\n",
       "      <td>-8.074006</td>\n",
       "      <td>-5.739733</td>\n",
       "      <td>-12.655604</td>\n",
       "    </tr>\n",
       "    <tr>\n",
       "      <th>299</th>\n",
       "      <td>3.49</td>\n",
       "      <td>-8.099156</td>\n",
       "      <td>-5.759778</td>\n",
       "      <td>-12.692479</td>\n",
       "    </tr>\n",
       "  </tbody>\n",
       "</table>\n",
       "<p>300 rows × 4 columns</p>\n",
       "</div>"
      ],
      "text/plain": [
       "     Price_Point   Mean_PE  PE_Segment_1  PE_Segment_2\n",
       "0           0.50 -0.094923     -0.119081     -0.030946\n",
       "1           0.51 -0.098928     -0.123263     -0.032715\n",
       "2           0.52 -0.103058     -0.127539     -0.034571\n",
       "3           0.53 -0.107317     -0.131909     -0.036517\n",
       "4           0.54 -0.111707     -0.136375     -0.038559\n",
       "..           ...       ...           ...           ...\n",
       "295         3.45 -7.998353     -5.679381    -12.544880\n",
       "296         3.46 -8.023605     -5.699535    -12.581805\n",
       "297         3.47 -8.048823     -5.719652    -12.618712\n",
       "298         3.48 -8.074006     -5.739733    -12.655604\n",
       "299         3.49 -8.099156     -5.759778    -12.692479\n",
       "\n",
       "[300 rows x 4 columns]"
      ]
     },
     "execution_count": 712,
     "metadata": {},
     "output_type": "execute_result"
    }
   ],
   "source": [
    "# put the price elastiticity of segement 1 into a dataframe\n",
    "df_price_elasticities['PE_Segment_2'] = pe_segment_2 \n",
    "df_price_elasticities\n"
   ]
  },
  {
   "cell_type": "code",
   "execution_count": 713,
   "metadata": {},
   "outputs": [
    {
     "data": {
      "text/html": [
       "<div>\n",
       "<style scoped>\n",
       "    .dataframe tbody tr th:only-of-type {\n",
       "        vertical-align: middle;\n",
       "    }\n",
       "\n",
       "    .dataframe tbody tr th {\n",
       "        vertical-align: top;\n",
       "    }\n",
       "\n",
       "    .dataframe thead th {\n",
       "        text-align: right;\n",
       "    }\n",
       "</style>\n",
       "<table border=\"1\" class=\"dataframe\">\n",
       "  <thead>\n",
       "    <tr style=\"text-align: right;\">\n",
       "      <th></th>\n",
       "      <th>Price_Point</th>\n",
       "      <th>Mean_PE</th>\n",
       "      <th>PE_Segment_1</th>\n",
       "      <th>PE_Segment_2</th>\n",
       "    </tr>\n",
       "  </thead>\n",
       "  <tbody>\n",
       "    <tr>\n",
       "      <th>77</th>\n",
       "      <td>1.27</td>\n",
       "      <td>-1.038806</td>\n",
       "      <td>-0.818353</td>\n",
       "      <td>-1.026499</td>\n",
       "    </tr>\n",
       "    <tr>\n",
       "      <th>78</th>\n",
       "      <td>1.28</td>\n",
       "      <td>-1.063024</td>\n",
       "      <td>-0.833618</td>\n",
       "      <td>-1.064183</td>\n",
       "    </tr>\n",
       "    <tr>\n",
       "      <th>79</th>\n",
       "      <td>1.29</td>\n",
       "      <td>-1.087603</td>\n",
       "      <td>-0.849056</td>\n",
       "      <td>-1.102924</td>\n",
       "    </tr>\n",
       "    <tr>\n",
       "      <th>80</th>\n",
       "      <td>1.30</td>\n",
       "      <td>-1.112543</td>\n",
       "      <td>-0.864668</td>\n",
       "      <td>-1.142736</td>\n",
       "    </tr>\n",
       "    <tr>\n",
       "      <th>81</th>\n",
       "      <td>1.31</td>\n",
       "      <td>-1.137843</td>\n",
       "      <td>-0.880454</td>\n",
       "      <td>-1.183627</td>\n",
       "    </tr>\n",
       "    <tr>\n",
       "      <th>...</th>\n",
       "      <td>...</td>\n",
       "      <td>...</td>\n",
       "      <td>...</td>\n",
       "      <td>...</td>\n",
       "    </tr>\n",
       "    <tr>\n",
       "      <th>295</th>\n",
       "      <td>3.45</td>\n",
       "      <td>-7.998353</td>\n",
       "      <td>-5.679381</td>\n",
       "      <td>-12.544880</td>\n",
       "    </tr>\n",
       "    <tr>\n",
       "      <th>296</th>\n",
       "      <td>3.46</td>\n",
       "      <td>-8.023605</td>\n",
       "      <td>-5.699535</td>\n",
       "      <td>-12.581805</td>\n",
       "    </tr>\n",
       "    <tr>\n",
       "      <th>297</th>\n",
       "      <td>3.47</td>\n",
       "      <td>-8.048823</td>\n",
       "      <td>-5.719652</td>\n",
       "      <td>-12.618712</td>\n",
       "    </tr>\n",
       "    <tr>\n",
       "      <th>298</th>\n",
       "      <td>3.48</td>\n",
       "      <td>-8.074006</td>\n",
       "      <td>-5.739733</td>\n",
       "      <td>-12.655604</td>\n",
       "    </tr>\n",
       "    <tr>\n",
       "      <th>299</th>\n",
       "      <td>3.49</td>\n",
       "      <td>-8.099156</td>\n",
       "      <td>-5.759778</td>\n",
       "      <td>-12.692479</td>\n",
       "    </tr>\n",
       "  </tbody>\n",
       "</table>\n",
       "<p>223 rows × 4 columns</p>\n",
       "</div>"
      ],
      "text/plain": [
       "     Price_Point   Mean_PE  PE_Segment_1  PE_Segment_2\n",
       "77          1.27 -1.038806     -0.818353     -1.026499\n",
       "78          1.28 -1.063024     -0.833618     -1.064183\n",
       "79          1.29 -1.087603     -0.849056     -1.102924\n",
       "80          1.30 -1.112543     -0.864668     -1.142736\n",
       "81          1.31 -1.137843     -0.880454     -1.183627\n",
       "..           ...       ...           ...           ...\n",
       "295         3.45 -7.998353     -5.679381    -12.544880\n",
       "296         3.46 -8.023605     -5.699535    -12.581805\n",
       "297         3.47 -8.048823     -5.719652    -12.618712\n",
       "298         3.48 -8.074006     -5.739733    -12.655604\n",
       "299         3.49 -8.099156     -5.759778    -12.692479\n",
       "\n",
       "[223 rows x 4 columns]"
      ]
     },
     "execution_count": 713,
     "metadata": {},
     "output_type": "execute_result"
    }
   ],
   "source": [
    "df_price_elasticities[np.abs(df_price_elasticities.PE_Segment_2) > 1]"
   ]
  },
  {
   "cell_type": "code",
   "execution_count": 714,
   "metadata": {},
   "outputs": [
    {
     "data": {
      "text/plain": [
       "Text(0.5, 1.0, 'Price Elastiticy of Purchase Probabaility')"
      ]
     },
     "execution_count": 714,
     "metadata": {},
     "output_type": "execute_result"
    },
    {
     "data": {
      "image/png": "[encoded data removed]",
      "text/plain": [
       "<Figure size 648x432 with 1 Axes>"
      ]
     },
     "metadata": {},
     "output_type": "display_data"
    }
   ],
   "source": [
    "# display both \n",
    "\n",
    "plt.figure(figsize = (9,6))\n",
    "plt.plot(price_range, pe, color = 'grey')\n",
    "plt.plot(price_range, pe_segment_1, color = 'green')\n",
    "plt.plot(price_range, pe_segment_2, color = 'red')\n",
    "plt.xlabel('Price')\n",
    "plt.ylabel('Elasticity')\n",
    "plt.title('Price Elastiticy of Purchase Probabaility')"
   ]
  },
  {
   "cell_type": "markdown",
   "metadata": {},
   "source": [
    "VERY STEEP ELASTITIY compared to career focused! Already at 1.27 it chagnes (however the average of all segments was at 1.27); Increase price before 1.27 and decrease after that! \n",
    "\n",
    "So Fewer opportunities is very sensitive to price; an increase in price results in more and more elastiticity!"
   ]
  },
  {
   "cell_type": "markdown",
   "metadata": {},
   "source": [
    "#### Segment 3 Well off "
   ]
  },
  {
   "cell_type": "code",
   "execution_count": 715,
   "metadata": {},
   "outputs": [
    {
     "data": {
      "text/html": [
       "<style>#sk-container-id-49 {color: black;background-color: white;}#sk-container-id-49 pre{padding: 0;}#sk-container-id-49 div.sk-toggleable {background-color: white;}#sk-container-id-49 label.sk-toggleable__label {cursor: pointer;display: block;width: 100%;margin-bottom: 0;padding: 0.3em;box-sizing: border-box;text-align: center;}#sk-container-id-49 label.sk-toggleable__label-arrow:before {content: \"▸\";float: left;margin-right: 0.25em;color: #696969;}#sk-container-id-49 label.sk-toggleable__label-arrow:hover:before {color: black;}#sk-container-id-49 div.sk-estimator:hover label.sk-toggleable__label-arrow:before {color: black;}#sk-container-id-49 div.sk-toggleable__content {max-height: 0;max-width: 0;overflow: hidden;text-align: left;background-color: #f0f8ff;}#sk-container-id-49 div.sk-toggleable__content pre {margin: 0.2em;color: black;border-radius: 0.25em;background-color: #f0f8ff;}#sk-container-id-49 input.sk-toggleable__control:checked~div.sk-toggleable__content {max-height: 200px;max-width: 100%;overflow: auto;}#sk-container-id-49 input.sk-toggleable__control:checked~label.sk-toggleable__label-arrow:before {content: \"▾\";}#sk-container-id-49 div.sk-estimator input.sk-toggleable__control:checked~label.sk-toggleable__label {background-color: #d4ebff;}#sk-container-id-49 div.sk-label input.sk-toggleable__control:checked~label.sk-toggleable__label {background-color: #d4ebff;}#sk-container-id-49 input.sk-hidden--visually {border: 0;clip: rect(1px 1px 1px 1px);clip: rect(1px, 1px, 1px, 1px);height: 1px;margin: -1px;overflow: hidden;padding: 0;position: absolute;width: 1px;}#sk-container-id-49 div.sk-estimator {font-family: monospace;background-color: #f0f8ff;border: 1px dotted black;border-radius: 0.25em;box-sizing: border-box;margin-bottom: 0.5em;}#sk-container-id-49 div.sk-estimator:hover {background-color: #d4ebff;}#sk-container-id-49 div.sk-parallel-item::after {content: \"\";width: 100%;border-bottom: 1px solid gray;flex-grow: 1;}#sk-container-id-49 div.sk-label:hover label.sk-toggleable__label {background-color: #d4ebff;}#sk-container-id-49 div.sk-serial::before {content: \"\";position: absolute;border-left: 1px solid gray;box-sizing: border-box;top: 0;bottom: 0;left: 50%;z-index: 0;}#sk-container-id-49 div.sk-serial {display: flex;flex-direction: column;align-items: center;background-color: white;padding-right: 0.2em;padding-left: 0.2em;position: relative;}#sk-container-id-49 div.sk-item {position: relative;z-index: 1;}#sk-container-id-49 div.sk-parallel {display: flex;align-items: stretch;justify-content: center;background-color: white;position: relative;}#sk-container-id-49 div.sk-item::before, #sk-container-id-49 div.sk-parallel-item::before {content: \"\";position: absolute;border-left: 1px solid gray;box-sizing: border-box;top: 0;bottom: 0;left: 50%;z-index: -1;}#sk-container-id-49 div.sk-parallel-item {display: flex;flex-direction: column;z-index: 1;position: relative;background-color: white;}#sk-container-id-49 div.sk-parallel-item:first-child::after {align-self: flex-end;width: 50%;}#sk-container-id-49 div.sk-parallel-item:last-child::after {align-self: flex-start;width: 50%;}#sk-container-id-49 div.sk-parallel-item:only-child::after {width: 0;}#sk-container-id-49 div.sk-dashed-wrapped {border: 1px dashed gray;margin: 0 0.4em 0.5em 0.4em;box-sizing: border-box;padding-bottom: 0.4em;background-color: white;}#sk-container-id-49 div.sk-label label {font-family: monospace;font-weight: bold;display: inline-block;line-height: 1.2em;}#sk-container-id-49 div.sk-label-container {text-align: center;}#sk-container-id-49 div.sk-container {/* jupyter's `normalize.less` sets `[hidden] { display: none; }` but bootstrap.min.css set `[hidden] { display: none !important; }` so we also need the `!important` here to be able to override the default hidden behavior on the sphinx rendered scikit-learn.org. See: https://github.com/scikit-learn/scikit-learn/issues/21755 */display: inline-block !important;position: relative;}#sk-container-id-49 div.sk-text-repr-fallback {display: none;}</style><div id=\"sk-container-id-49\" class=\"sk-top-container\"><div class=\"sk-text-repr-fallback\"><pre>LogisticRegression(solver=&#x27;sag&#x27;)</pre><b>In a Jupyter environment, please rerun this cell to show the HTML representation or trust the notebook. <br />On GitHub, the HTML representation is unable to render, please try loading this page with nbviewer.org.</b></div><div class=\"sk-container\" hidden><div class=\"sk-item\"><div class=\"sk-estimator sk-toggleable\"><input class=\"sk-toggleable__control sk-hidden--visually\" id=\"sk-estimator-id-49\" type=\"checkbox\" checked><label for=\"sk-estimator-id-49\" class=\"sk-toggleable__label sk-toggleable__label-arrow\">LogisticRegression</label><div class=\"sk-toggleable__content\"><pre>LogisticRegression(solver=&#x27;sag&#x27;)</pre></div></div></div></div></div>"
      ],
      "text/plain": [
       "LogisticRegression(solver='sag')"
      ]
     },
     "execution_count": 715,
     "metadata": {},
     "output_type": "execute_result"
    }
   ],
   "source": [
    "# df purchase analytics segment 1 only\n",
    "df_pa_segment_3 = df_pa[df_pa.Segment == 3]\n",
    "\n",
    "# now perform the modeling; \n",
    "# Estimate the coefficient of price on the purcahse probabaility\n",
    "\n",
    "# get the Y (incidence)\n",
    "Y = df_pa_segment_3.Incidence\n",
    "\n",
    "# create the X (average price)\n",
    "X = pd.DataFrame()\n",
    "X['Mean_Price'] = df_pa_segment_3.loc[:,['Price_1', \"Price_2\", \"Price_3\", \"Price_4\", \"Price_5\"]].mean(axis = 1)\n",
    "\n",
    "# now perform the model again\n",
    "# create instance\n",
    "model_incidence_segment_3 = LogisticRegression(solver='sag')\n",
    "\n",
    "model_incidence_segment_3.fit(X, Y)\n"
   ]
  },
  {
   "cell_type": "code",
   "execution_count": 716,
   "metadata": {},
   "outputs": [
    {
     "name": "stderr",
     "output_type": "stream",
     "text": [
      "/home/angelo/repos/vscode_repos/customer_analytics_2022/lib64/python3.10/site-packages/sklearn/base.py:450: UserWarning: X does not have valid feature names, but LogisticRegression was fitted with feature names\n",
      "  warnings.warn(\n"
     ]
    }
   ],
   "source": [
    "# calcualte the elastiticty for the segment\n",
    "\n",
    "# now predict the purchase probabability using the trained model\n",
    "Y_pr_segment_3 = model_incidence_segment_3.predict_proba(df_price_range)\n",
    "# get only the second column\n",
    "purchase_pr_segment_3 = Y_pr_segment_3[:][:, 1]\n",
    "\n",
    "# price elastiticity == price coeff of the model\n",
    "pe_segment_3 = model_incidence_segment_3.coef_[:, 0] * price_range * (1 - purchase_pr_segment_3)"
   ]
  },
  {
   "cell_type": "code",
   "execution_count": 717,
   "metadata": {},
   "outputs": [
    {
     "data": {
      "text/html": [
       "<div>\n",
       "<style scoped>\n",
       "    .dataframe tbody tr th:only-of-type {\n",
       "        vertical-align: middle;\n",
       "    }\n",
       "\n",
       "    .dataframe tbody tr th {\n",
       "        vertical-align: top;\n",
       "    }\n",
       "\n",
       "    .dataframe thead th {\n",
       "        text-align: right;\n",
       "    }\n",
       "</style>\n",
       "<table border=\"1\" class=\"dataframe\">\n",
       "  <thead>\n",
       "    <tr style=\"text-align: right;\">\n",
       "      <th></th>\n",
       "      <th>Price_Point</th>\n",
       "      <th>Mean_PE</th>\n",
       "      <th>PE_Segment_1</th>\n",
       "      <th>PE_Segment_2</th>\n",
       "      <th>PE_Segment_3</th>\n",
       "    </tr>\n",
       "  </thead>\n",
       "  <tbody>\n",
       "    <tr>\n",
       "      <th>0</th>\n",
       "      <td>0.50</td>\n",
       "      <td>-0.094923</td>\n",
       "      <td>-0.119081</td>\n",
       "      <td>-0.030946</td>\n",
       "      <td>-0.168030</td>\n",
       "    </tr>\n",
       "    <tr>\n",
       "      <th>1</th>\n",
       "      <td>0.51</td>\n",
       "      <td>-0.098928</td>\n",
       "      <td>-0.123263</td>\n",
       "      <td>-0.032715</td>\n",
       "      <td>-0.172955</td>\n",
       "    </tr>\n",
       "    <tr>\n",
       "      <th>2</th>\n",
       "      <td>0.52</td>\n",
       "      <td>-0.103058</td>\n",
       "      <td>-0.127539</td>\n",
       "      <td>-0.034571</td>\n",
       "      <td>-0.177951</td>\n",
       "    </tr>\n",
       "    <tr>\n",
       "      <th>3</th>\n",
       "      <td>0.53</td>\n",
       "      <td>-0.107317</td>\n",
       "      <td>-0.131909</td>\n",
       "      <td>-0.036517</td>\n",
       "      <td>-0.183018</td>\n",
       "    </tr>\n",
       "    <tr>\n",
       "      <th>4</th>\n",
       "      <td>0.54</td>\n",
       "      <td>-0.111707</td>\n",
       "      <td>-0.136375</td>\n",
       "      <td>-0.038559</td>\n",
       "      <td>-0.188156</td>\n",
       "    </tr>\n",
       "    <tr>\n",
       "      <th>...</th>\n",
       "      <td>...</td>\n",
       "      <td>...</td>\n",
       "      <td>...</td>\n",
       "      <td>...</td>\n",
       "      <td>...</td>\n",
       "    </tr>\n",
       "    <tr>\n",
       "      <th>295</th>\n",
       "      <td>3.45</td>\n",
       "      <td>-7.998353</td>\n",
       "      <td>-5.679381</td>\n",
       "      <td>-12.544880</td>\n",
       "      <td>-4.024293</td>\n",
       "    </tr>\n",
       "    <tr>\n",
       "      <th>296</th>\n",
       "      <td>3.46</td>\n",
       "      <td>-8.023605</td>\n",
       "      <td>-5.699535</td>\n",
       "      <td>-12.581805</td>\n",
       "      <td>-4.039167</td>\n",
       "    </tr>\n",
       "    <tr>\n",
       "      <th>297</th>\n",
       "      <td>3.47</td>\n",
       "      <td>-8.048823</td>\n",
       "      <td>-5.719652</td>\n",
       "      <td>-12.618712</td>\n",
       "      <td>-4.054025</td>\n",
       "    </tr>\n",
       "    <tr>\n",
       "      <th>298</th>\n",
       "      <td>3.48</td>\n",
       "      <td>-8.074006</td>\n",
       "      <td>-5.739733</td>\n",
       "      <td>-12.655604</td>\n",
       "      <td>-4.068866</td>\n",
       "    </tr>\n",
       "    <tr>\n",
       "      <th>299</th>\n",
       "      <td>3.49</td>\n",
       "      <td>-8.099156</td>\n",
       "      <td>-5.759778</td>\n",
       "      <td>-12.692479</td>\n",
       "      <td>-4.083691</td>\n",
       "    </tr>\n",
       "  </tbody>\n",
       "</table>\n",
       "<p>300 rows × 5 columns</p>\n",
       "</div>"
      ],
      "text/plain": [
       "     Price_Point   Mean_PE  PE_Segment_1  PE_Segment_2  PE_Segment_3\n",
       "0           0.50 -0.094923     -0.119081     -0.030946     -0.168030\n",
       "1           0.51 -0.098928     -0.123263     -0.032715     -0.172955\n",
       "2           0.52 -0.103058     -0.127539     -0.034571     -0.177951\n",
       "3           0.53 -0.107317     -0.131909     -0.036517     -0.183018\n",
       "4           0.54 -0.111707     -0.136375     -0.038559     -0.188156\n",
       "..           ...       ...           ...           ...           ...\n",
       "295         3.45 -7.998353     -5.679381    -12.544880     -4.024293\n",
       "296         3.46 -8.023605     -5.699535    -12.581805     -4.039167\n",
       "297         3.47 -8.048823     -5.719652    -12.618712     -4.054025\n",
       "298         3.48 -8.074006     -5.739733    -12.655604     -4.068866\n",
       "299         3.49 -8.099156     -5.759778    -12.692479     -4.083691\n",
       "\n",
       "[300 rows x 5 columns]"
      ]
     },
     "execution_count": 717,
     "metadata": {},
     "output_type": "execute_result"
    }
   ],
   "source": [
    "# put the price elastiticity of segement 1 into a dataframe\n",
    "df_price_elasticities['PE_Segment_3'] = pe_segment_3 \n",
    "df_price_elasticities\n"
   ]
  },
  {
   "cell_type": "code",
   "execution_count": 718,
   "metadata": {},
   "outputs": [
    {
     "data": {
      "text/plain": [
       "Text(0.5, 1.0, 'Price Elastiticy of Purchase Probabaility')"
      ]
     },
     "execution_count": 718,
     "metadata": {},
     "output_type": "execute_result"
    },
    {
     "data": {
      "image/png": "[encoded data removed]",
      "text/plain": [
       "<Figure size 648x432 with 1 Axes>"
      ]
     },
     "metadata": {},
     "output_type": "display_data"
    }
   ],
   "source": [
    "# display both \n",
    "\n",
    "plt.figure(figsize = (9,6))\n",
    "plt.plot(price_range, pe, color = 'grey')\n",
    "plt.plot(price_range, pe_segment_1, color = 'green')\n",
    "plt.plot(price_range, pe_segment_2, color = 'red')\n",
    "plt.plot(price_range, pe_segment_3, color = 'yellow')\n",
    "plt.xlabel('Price')\n",
    "plt.ylabel('Elasticity')\n",
    "plt.title('Price Elastiticy of Purchase Probabaility')"
   ]
  },
  {
   "cell_type": "markdown",
   "metadata": {},
   "source": [
    "#### Segment 0 Standard "
   ]
  },
  {
   "cell_type": "code",
   "execution_count": 719,
   "metadata": {},
   "outputs": [
    {
     "data": {
      "text/html": [
       "<style>#sk-container-id-50 {color: black;background-color: white;}#sk-container-id-50 pre{padding: 0;}#sk-container-id-50 div.sk-toggleable {background-color: white;}#sk-container-id-50 label.sk-toggleable__label {cursor: pointer;display: block;width: 100%;margin-bottom: 0;padding: 0.3em;box-sizing: border-box;text-align: center;}#sk-container-id-50 label.sk-toggleable__label-arrow:before {content: \"▸\";float: left;margin-right: 0.25em;color: #696969;}#sk-container-id-50 label.sk-toggleable__label-arrow:hover:before {color: black;}#sk-container-id-50 div.sk-estimator:hover label.sk-toggleable__label-arrow:before {color: black;}#sk-container-id-50 div.sk-toggleable__content {max-height: 0;max-width: 0;overflow: hidden;text-align: left;background-color: #f0f8ff;}#sk-container-id-50 div.sk-toggleable__content pre {margin: 0.2em;color: black;border-radius: 0.25em;background-color: #f0f8ff;}#sk-container-id-50 input.sk-toggleable__control:checked~div.sk-toggleable__content {max-height: 200px;max-width: 100%;overflow: auto;}#sk-container-id-50 input.sk-toggleable__control:checked~label.sk-toggleable__label-arrow:before {content: \"▾\";}#sk-container-id-50 div.sk-estimator input.sk-toggleable__control:checked~label.sk-toggleable__label {background-color: #d4ebff;}#sk-container-id-50 div.sk-label input.sk-toggleable__control:checked~label.sk-toggleable__label {background-color: #d4ebff;}#sk-container-id-50 input.sk-hidden--visually {border: 0;clip: rect(1px 1px 1px 1px);clip: rect(1px, 1px, 1px, 1px);height: 1px;margin: -1px;overflow: hidden;padding: 0;position: absolute;width: 1px;}#sk-container-id-50 div.sk-estimator {font-family: monospace;background-color: #f0f8ff;border: 1px dotted black;border-radius: 0.25em;box-sizing: border-box;margin-bottom: 0.5em;}#sk-container-id-50 div.sk-estimator:hover {background-color: #d4ebff;}#sk-container-id-50 div.sk-parallel-item::after {content: \"\";width: 100%;border-bottom: 1px solid gray;flex-grow: 1;}#sk-container-id-50 div.sk-label:hover label.sk-toggleable__label {background-color: #d4ebff;}#sk-container-id-50 div.sk-serial::before {content: \"\";position: absolute;border-left: 1px solid gray;box-sizing: border-box;top: 0;bottom: 0;left: 50%;z-index: 0;}#sk-container-id-50 div.sk-serial {display: flex;flex-direction: column;align-items: center;background-color: white;padding-right: 0.2em;padding-left: 0.2em;position: relative;}#sk-container-id-50 div.sk-item {position: relative;z-index: 1;}#sk-container-id-50 div.sk-parallel {display: flex;align-items: stretch;justify-content: center;background-color: white;position: relative;}#sk-container-id-50 div.sk-item::before, #sk-container-id-50 div.sk-parallel-item::before {content: \"\";position: absolute;border-left: 1px solid gray;box-sizing: border-box;top: 0;bottom: 0;left: 50%;z-index: -1;}#sk-container-id-50 div.sk-parallel-item {display: flex;flex-direction: column;z-index: 1;position: relative;background-color: white;}#sk-container-id-50 div.sk-parallel-item:first-child::after {align-self: flex-end;width: 50%;}#sk-container-id-50 div.sk-parallel-item:last-child::after {align-self: flex-start;width: 50%;}#sk-container-id-50 div.sk-parallel-item:only-child::after {width: 0;}#sk-container-id-50 div.sk-dashed-wrapped {border: 1px dashed gray;margin: 0 0.4em 0.5em 0.4em;box-sizing: border-box;padding-bottom: 0.4em;background-color: white;}#sk-container-id-50 div.sk-label label {font-family: monospace;font-weight: bold;display: inline-block;line-height: 1.2em;}#sk-container-id-50 div.sk-label-container {text-align: center;}#sk-container-id-50 div.sk-container {/* jupyter's `normalize.less` sets `[hidden] { display: none; }` but bootstrap.min.css set `[hidden] { display: none !important; }` so we also need the `!important` here to be able to override the default hidden behavior on the sphinx rendered scikit-learn.org. See: https://github.com/scikit-learn/scikit-learn/issues/21755 */display: inline-block !important;position: relative;}#sk-container-id-50 div.sk-text-repr-fallback {display: none;}</style><div id=\"sk-container-id-50\" class=\"sk-top-container\"><div class=\"sk-text-repr-fallback\"><pre>LogisticRegression(solver=&#x27;sag&#x27;)</pre><b>In a Jupyter environment, please rerun this cell to show the HTML representation or trust the notebook. <br />On GitHub, the HTML representation is unable to render, please try loading this page with nbviewer.org.</b></div><div class=\"sk-container\" hidden><div class=\"sk-item\"><div class=\"sk-estimator sk-toggleable\"><input class=\"sk-toggleable__control sk-hidden--visually\" id=\"sk-estimator-id-50\" type=\"checkbox\" checked><label for=\"sk-estimator-id-50\" class=\"sk-toggleable__label sk-toggleable__label-arrow\">LogisticRegression</label><div class=\"sk-toggleable__content\"><pre>LogisticRegression(solver=&#x27;sag&#x27;)</pre></div></div></div></div></div>"
      ],
      "text/plain": [
       "LogisticRegression(solver='sag')"
      ]
     },
     "execution_count": 719,
     "metadata": {},
     "output_type": "execute_result"
    }
   ],
   "source": [
    "# df purchase analytics segment 1 only\n",
    "df_pa_segment_0 = df_pa[df_pa.Segment == 0]\n",
    "\n",
    "# now perform the modeling; \n",
    "# Estimate the coefficient of price on the purcahse probabaility\n",
    "\n",
    "# get the Y (incidence)\n",
    "Y = df_pa_segment_0.Incidence\n",
    "\n",
    "# create the X (average price)\n",
    "X = pd.DataFrame()\n",
    "X['Mean_Price'] = df_pa_segment_0.loc[:,['Price_1', \"Price_2\", \"Price_3\", \"Price_4\", \"Price_5\"]].mean(axis = 1)\n",
    "\n",
    "# now perform the model again\n",
    "# create instance\n",
    "model_incidence_segment_0 = LogisticRegression(solver='sag')\n",
    "\n",
    "model_incidence_segment_0.fit(X, Y)\n"
   ]
  },
  {
   "cell_type": "code",
   "execution_count": 720,
   "metadata": {},
   "outputs": [
    {
     "name": "stderr",
     "output_type": "stream",
     "text": [
      "/home/angelo/repos/vscode_repos/customer_analytics_2022/lib64/python3.10/site-packages/sklearn/base.py:450: UserWarning: X does not have valid feature names, but LogisticRegression was fitted with feature names\n",
      "  warnings.warn(\n"
     ]
    }
   ],
   "source": [
    "# calcualte the elastiticty for the segment\n",
    "\n",
    "# now predict the purchase probabability using the trained model\n",
    "Y_pr_segment_0 = model_incidence_segment_0.predict_proba(df_price_range)\n",
    "# get only the second column\n",
    "purchase_pr_segment_0 = Y_pr_segment_0[:][:, 1]\n",
    "\n",
    "# price elastiticity == price coeff of the model\n",
    "pe_segment_0 = model_incidence_segment_0.coef_[:, 0] * price_range * (1 - purchase_pr_segment_0)"
   ]
  },
  {
   "cell_type": "code",
   "execution_count": 721,
   "metadata": {},
   "outputs": [
    {
     "data": {
      "text/html": [
       "<div>\n",
       "<style scoped>\n",
       "    .dataframe tbody tr th:only-of-type {\n",
       "        vertical-align: middle;\n",
       "    }\n",
       "\n",
       "    .dataframe tbody tr th {\n",
       "        vertical-align: top;\n",
       "    }\n",
       "\n",
       "    .dataframe thead th {\n",
       "        text-align: right;\n",
       "    }\n",
       "</style>\n",
       "<table border=\"1\" class=\"dataframe\">\n",
       "  <thead>\n",
       "    <tr style=\"text-align: right;\">\n",
       "      <th></th>\n",
       "      <th>Price_Point</th>\n",
       "      <th>Mean_PE</th>\n",
       "      <th>PE_Segment_1</th>\n",
       "      <th>PE_Segment_2</th>\n",
       "      <th>PE_Segment_3</th>\n",
       "      <th>PE_Segment_0</th>\n",
       "    </tr>\n",
       "  </thead>\n",
       "  <tbody>\n",
       "    <tr>\n",
       "      <th>0</th>\n",
       "      <td>0.50</td>\n",
       "      <td>-0.094923</td>\n",
       "      <td>-0.119081</td>\n",
       "      <td>-0.030946</td>\n",
       "      <td>-0.168030</td>\n",
       "      <td>-0.210925</td>\n",
       "    </tr>\n",
       "    <tr>\n",
       "      <th>1</th>\n",
       "      <td>0.51</td>\n",
       "      <td>-0.098928</td>\n",
       "      <td>-0.123263</td>\n",
       "      <td>-0.032715</td>\n",
       "      <td>-0.172955</td>\n",
       "      <td>-0.217501</td>\n",
       "    </tr>\n",
       "    <tr>\n",
       "      <th>2</th>\n",
       "      <td>0.52</td>\n",
       "      <td>-0.103058</td>\n",
       "      <td>-0.127539</td>\n",
       "      <td>-0.034571</td>\n",
       "      <td>-0.177951</td>\n",
       "      <td>-0.224186</td>\n",
       "    </tr>\n",
       "    <tr>\n",
       "      <th>3</th>\n",
       "      <td>0.53</td>\n",
       "      <td>-0.107317</td>\n",
       "      <td>-0.131909</td>\n",
       "      <td>-0.036517</td>\n",
       "      <td>-0.183018</td>\n",
       "      <td>-0.230980</td>\n",
       "    </tr>\n",
       "    <tr>\n",
       "      <th>4</th>\n",
       "      <td>0.54</td>\n",
       "      <td>-0.111707</td>\n",
       "      <td>-0.136375</td>\n",
       "      <td>-0.038559</td>\n",
       "      <td>-0.188156</td>\n",
       "      <td>-0.237884</td>\n",
       "    </tr>\n",
       "    <tr>\n",
       "      <th>...</th>\n",
       "      <td>...</td>\n",
       "      <td>...</td>\n",
       "      <td>...</td>\n",
       "      <td>...</td>\n",
       "      <td>...</td>\n",
       "      <td>...</td>\n",
       "    </tr>\n",
       "    <tr>\n",
       "      <th>295</th>\n",
       "      <td>3.45</td>\n",
       "      <td>-7.998353</td>\n",
       "      <td>-5.679381</td>\n",
       "      <td>-12.544880</td>\n",
       "      <td>-4.024293</td>\n",
       "      <td>-5.072926</td>\n",
       "    </tr>\n",
       "    <tr>\n",
       "      <th>296</th>\n",
       "      <td>3.46</td>\n",
       "      <td>-8.023605</td>\n",
       "      <td>-5.699535</td>\n",
       "      <td>-12.581805</td>\n",
       "      <td>-4.039167</td>\n",
       "      <td>-5.089839</td>\n",
       "    </tr>\n",
       "    <tr>\n",
       "      <th>297</th>\n",
       "      <td>3.47</td>\n",
       "      <td>-8.048823</td>\n",
       "      <td>-5.719652</td>\n",
       "      <td>-12.618712</td>\n",
       "      <td>-4.054025</td>\n",
       "      <td>-5.106734</td>\n",
       "    </tr>\n",
       "    <tr>\n",
       "      <th>298</th>\n",
       "      <td>3.48</td>\n",
       "      <td>-8.074006</td>\n",
       "      <td>-5.739733</td>\n",
       "      <td>-12.655604</td>\n",
       "      <td>-4.068866</td>\n",
       "      <td>-5.123609</td>\n",
       "    </tr>\n",
       "    <tr>\n",
       "      <th>299</th>\n",
       "      <td>3.49</td>\n",
       "      <td>-8.099156</td>\n",
       "      <td>-5.759778</td>\n",
       "      <td>-12.692479</td>\n",
       "      <td>-4.083691</td>\n",
       "      <td>-5.140467</td>\n",
       "    </tr>\n",
       "  </tbody>\n",
       "</table>\n",
       "<p>300 rows × 6 columns</p>\n",
       "</div>"
      ],
      "text/plain": [
       "     Price_Point   Mean_PE  PE_Segment_1  PE_Segment_2  PE_Segment_3  \\\n",
       "0           0.50 -0.094923     -0.119081     -0.030946     -0.168030   \n",
       "1           0.51 -0.098928     -0.123263     -0.032715     -0.172955   \n",
       "2           0.52 -0.103058     -0.127539     -0.034571     -0.177951   \n",
       "3           0.53 -0.107317     -0.131909     -0.036517     -0.183018   \n",
       "4           0.54 -0.111707     -0.136375     -0.038559     -0.188156   \n",
       "..           ...       ...           ...           ...           ...   \n",
       "295         3.45 -7.998353     -5.679381    -12.544880     -4.024293   \n",
       "296         3.46 -8.023605     -5.699535    -12.581805     -4.039167   \n",
       "297         3.47 -8.048823     -5.719652    -12.618712     -4.054025   \n",
       "298         3.48 -8.074006     -5.739733    -12.655604     -4.068866   \n",
       "299         3.49 -8.099156     -5.759778    -12.692479     -4.083691   \n",
       "\n",
       "     PE_Segment_0  \n",
       "0       -0.210925  \n",
       "1       -0.217501  \n",
       "2       -0.224186  \n",
       "3       -0.230980  \n",
       "4       -0.237884  \n",
       "..            ...  \n",
       "295     -5.072926  \n",
       "296     -5.089839  \n",
       "297     -5.106734  \n",
       "298     -5.123609  \n",
       "299     -5.140467  \n",
       "\n",
       "[300 rows x 6 columns]"
      ]
     },
     "execution_count": 721,
     "metadata": {},
     "output_type": "execute_result"
    }
   ],
   "source": [
    "# put the price elastiticity of segement 1 into a dataframe\n",
    "df_price_elasticities['PE_Segment_0'] = pe_segment_0 \n",
    "df_price_elasticities\n"
   ]
  },
  {
   "cell_type": "code",
   "execution_count": 722,
   "metadata": {},
   "outputs": [
    {
     "data": {
      "text/plain": [
       "Text(0.5, 1.0, 'Price Elastiticy of Purchase Probabaility')"
      ]
     },
     "execution_count": 722,
     "metadata": {},
     "output_type": "execute_result"
    },
    {
     "data": {
      "image/png": "[encoded data removed]",
      "text/plain": [
       "<Figure size 648x432 with 1 Axes>"
      ]
     },
     "metadata": {},
     "output_type": "display_data"
    }
   ],
   "source": [
    "# display both \n",
    "\n",
    "plt.figure(figsize = (9,6))\n",
    "plt.plot(price_range, pe, color = 'grey')\n",
    "plt.plot(price_range, pe_segment_1, color = 'green')\n",
    "plt.plot(price_range, pe_segment_2, color = 'red')\n",
    "plt.plot(price_range, pe_segment_3, color = 'yellow')\n",
    "plt.plot(price_range, pe_segment_0, color = 'orange')\n",
    "plt.legend(['All Segments', 'Career Focused', 'Fewer Opportunities', 'Well Off', 'Standard'])\n",
    "plt.xlabel('Price')\n",
    "plt.ylabel('Elasticity')\n",
    "plt.title('Price Elastiticy of Purchase Probabaility')"
   ]
  },
  {
   "cell_type": "markdown",
   "metadata": {},
   "source": [
    "## purchase Probabaulity with Promotion Feature\n",
    "\n",
    "#### Extend the Purchase probabaility model using a multivariate model"
   ]
  },
  {
   "cell_type": "markdown",
   "metadata": {},
   "source": [
    "#### data preparation\n",
    "\n",
    "Do the purchase probabaility using average prie and promotion for all segments together again"
   ]
  },
  {
   "cell_type": "code",
   "execution_count": 723,
   "metadata": {},
   "outputs": [],
   "source": [
    "# Incidence column whether a purchase in a specific category has taken place. \n",
    "Y = df_pa.Incidence"
   ]
  },
  {
   "cell_type": "code",
   "execution_count": 724,
   "metadata": {},
   "outputs": [],
   "source": [
    "# X is now price and promotion\n",
    "X = pd.DataFrame()\n",
    "X['Mean_Price'] = df_pa.loc[:,['Price_1','Price_2', 'Price_3', 'Price_4', 'Price_5']].mean(axis = 1)"
   ]
  },
  {
   "cell_type": "code",
   "execution_count": 725,
   "metadata": {},
   "outputs": [],
   "source": [
    "# add promotion as a feature\n",
    "X['Mean_Promotion'] = df_pa.loc[:,['Promotion_1',\n",
    "                                    'Promotion_2', \n",
    "                                    'Promotion_3', \n",
    "                                    'Promotion_4', \n",
    "                                    'Promotion_5']].mean(axis = 1)"
   ]
  },
  {
   "cell_type": "code",
   "execution_count": 726,
   "metadata": {},
   "outputs": [
    {
     "data": {
      "text/html": [
       "<style>#sk-container-id-51 {color: black;background-color: white;}#sk-container-id-51 pre{padding: 0;}#sk-container-id-51 div.sk-toggleable {background-color: white;}#sk-container-id-51 label.sk-toggleable__label {cursor: pointer;display: block;width: 100%;margin-bottom: 0;padding: 0.3em;box-sizing: border-box;text-align: center;}#sk-container-id-51 label.sk-toggleable__label-arrow:before {content: \"▸\";float: left;margin-right: 0.25em;color: #696969;}#sk-container-id-51 label.sk-toggleable__label-arrow:hover:before {color: black;}#sk-container-id-51 div.sk-estimator:hover label.sk-toggleable__label-arrow:before {color: black;}#sk-container-id-51 div.sk-toggleable__content {max-height: 0;max-width: 0;overflow: hidden;text-align: left;background-color: #f0f8ff;}#sk-container-id-51 div.sk-toggleable__content pre {margin: 0.2em;color: black;border-radius: 0.25em;background-color: #f0f8ff;}#sk-container-id-51 input.sk-toggleable__control:checked~div.sk-toggleable__content {max-height: 200px;max-width: 100%;overflow: auto;}#sk-container-id-51 input.sk-toggleable__control:checked~label.sk-toggleable__label-arrow:before {content: \"▾\";}#sk-container-id-51 div.sk-estimator input.sk-toggleable__control:checked~label.sk-toggleable__label {background-color: #d4ebff;}#sk-container-id-51 div.sk-label input.sk-toggleable__control:checked~label.sk-toggleable__label {background-color: #d4ebff;}#sk-container-id-51 input.sk-hidden--visually {border: 0;clip: rect(1px 1px 1px 1px);clip: rect(1px, 1px, 1px, 1px);height: 1px;margin: -1px;overflow: hidden;padding: 0;position: absolute;width: 1px;}#sk-container-id-51 div.sk-estimator {font-family: monospace;background-color: #f0f8ff;border: 1px dotted black;border-radius: 0.25em;box-sizing: border-box;margin-bottom: 0.5em;}#sk-container-id-51 div.sk-estimator:hover {background-color: #d4ebff;}#sk-container-id-51 div.sk-parallel-item::after {content: \"\";width: 100%;border-bottom: 1px solid gray;flex-grow: 1;}#sk-container-id-51 div.sk-label:hover label.sk-toggleable__label {background-color: #d4ebff;}#sk-container-id-51 div.sk-serial::before {content: \"\";position: absolute;border-left: 1px solid gray;box-sizing: border-box;top: 0;bottom: 0;left: 50%;z-index: 0;}#sk-container-id-51 div.sk-serial {display: flex;flex-direction: column;align-items: center;background-color: white;padding-right: 0.2em;padding-left: 0.2em;position: relative;}#sk-container-id-51 div.sk-item {position: relative;z-index: 1;}#sk-container-id-51 div.sk-parallel {display: flex;align-items: stretch;justify-content: center;background-color: white;position: relative;}#sk-container-id-51 div.sk-item::before, #sk-container-id-51 div.sk-parallel-item::before {content: \"\";position: absolute;border-left: 1px solid gray;box-sizing: border-box;top: 0;bottom: 0;left: 50%;z-index: -1;}#sk-container-id-51 div.sk-parallel-item {display: flex;flex-direction: column;z-index: 1;position: relative;background-color: white;}#sk-container-id-51 div.sk-parallel-item:first-child::after {align-self: flex-end;width: 50%;}#sk-container-id-51 div.sk-parallel-item:last-child::after {align-self: flex-start;width: 50%;}#sk-container-id-51 div.sk-parallel-item:only-child::after {width: 0;}#sk-container-id-51 div.sk-dashed-wrapped {border: 1px dashed gray;margin: 0 0.4em 0.5em 0.4em;box-sizing: border-box;padding-bottom: 0.4em;background-color: white;}#sk-container-id-51 div.sk-label label {font-family: monospace;font-weight: bold;display: inline-block;line-height: 1.2em;}#sk-container-id-51 div.sk-label-container {text-align: center;}#sk-container-id-51 div.sk-container {/* jupyter's `normalize.less` sets `[hidden] { display: none; }` but bootstrap.min.css set `[hidden] { display: none !important; }` so we also need the `!important` here to be able to override the default hidden behavior on the sphinx rendered scikit-learn.org. See: https://github.com/scikit-learn/scikit-learn/issues/21755 */display: inline-block !important;position: relative;}#sk-container-id-51 div.sk-text-repr-fallback {display: none;}</style><div id=\"sk-container-id-51\" class=\"sk-top-container\"><div class=\"sk-text-repr-fallback\"><pre>LogisticRegression(solver=&#x27;sag&#x27;)</pre><b>In a Jupyter environment, please rerun this cell to show the HTML representation or trust the notebook. <br />On GitHub, the HTML representation is unable to render, please try loading this page with nbviewer.org.</b></div><div class=\"sk-container\" hidden><div class=\"sk-item\"><div class=\"sk-estimator sk-toggleable\"><input class=\"sk-toggleable__control sk-hidden--visually\" id=\"sk-estimator-id-51\" type=\"checkbox\" checked><label for=\"sk-estimator-id-51\" class=\"sk-toggleable__label sk-toggleable__label-arrow\">LogisticRegression</label><div class=\"sk-toggleable__content\"><pre>LogisticRegression(solver=&#x27;sag&#x27;)</pre></div></div></div></div></div>"
      ],
      "text/plain": [
       "LogisticRegression(solver='sag')"
      ]
     },
     "execution_count": 726,
     "metadata": {},
     "output_type": "execute_result"
    }
   ],
   "source": [
    "# Init the model\n",
    "model_incidence_promotion = LogisticRegression(solver='sag')\n",
    "model_incidence_promotion.fit(X, Y)"
   ]
  },
  {
   "cell_type": "code",
   "execution_count": 727,
   "metadata": {},
   "outputs": [
    {
     "data": {
      "text/plain": [
       "array([[-1.49413447,  0.56147222]])"
      ]
     },
     "execution_count": 727,
     "metadata": {},
     "output_type": "execute_result"
    }
   ],
   "source": [
    "model_incidence_promotion.coef_"
   ]
  },
  {
   "cell_type": "markdown",
   "metadata": {},
   "source": [
    "result: price coef is not not as strong anymore; Positive coef for promotion (logical!)\n",
    "\n",
    "--> The model quantifies the exact relationship between price, promotion and probability of purchase using logreg on incidence"
   ]
  },
  {
   "cell_type": "markdown",
   "metadata": {},
   "source": [
    "### Price elastiticity with Promotion"
   ]
  },
  {
   "cell_type": "code",
   "execution_count": 728,
   "metadata": {},
   "outputs": [],
   "source": [
    "df_price_elastiticty_promotion = pd.DataFrame(price_range)\n",
    "df_price_elastiticty_promotion = df_price_elastiticty_promotion.rename({0 : 'Price_Range'}, axis = 1)"
   ]
  },
  {
   "cell_type": "code",
   "execution_count": 729,
   "metadata": {},
   "outputs": [
    {
     "data": {
      "text/html": [
       "<div>\n",
       "<style scoped>\n",
       "    .dataframe tbody tr th:only-of-type {\n",
       "        vertical-align: middle;\n",
       "    }\n",
       "\n",
       "    .dataframe tbody tr th {\n",
       "        vertical-align: top;\n",
       "    }\n",
       "\n",
       "    .dataframe thead th {\n",
       "        text-align: right;\n",
       "    }\n",
       "</style>\n",
       "<table border=\"1\" class=\"dataframe\">\n",
       "  <thead>\n",
       "    <tr style=\"text-align: right;\">\n",
       "      <th></th>\n",
       "      <th>Price_Range</th>\n",
       "    </tr>\n",
       "  </thead>\n",
       "  <tbody>\n",
       "    <tr>\n",
       "      <th>0</th>\n",
       "      <td>0.50</td>\n",
       "    </tr>\n",
       "    <tr>\n",
       "      <th>1</th>\n",
       "      <td>0.51</td>\n",
       "    </tr>\n",
       "    <tr>\n",
       "      <th>2</th>\n",
       "      <td>0.52</td>\n",
       "    </tr>\n",
       "    <tr>\n",
       "      <th>3</th>\n",
       "      <td>0.53</td>\n",
       "    </tr>\n",
       "    <tr>\n",
       "      <th>4</th>\n",
       "      <td>0.54</td>\n",
       "    </tr>\n",
       "  </tbody>\n",
       "</table>\n",
       "</div>"
      ],
      "text/plain": [
       "   Price_Range\n",
       "0         0.50\n",
       "1         0.51\n",
       "2         0.52\n",
       "3         0.53\n",
       "4         0.54"
      ]
     },
     "execution_count": 729,
     "metadata": {},
     "output_type": "execute_result"
    }
   ],
   "source": [
    "df_price_elastiticty_promotion.head()"
   ]
  },
  {
   "cell_type": "markdown",
   "metadata": {},
   "source": [
    "Note: in order to predict in our model we need data as the second feature in our model (here we so far only have price range); so we need instances of corresponding values for promotion for the different price points\n",
    "\n",
    "We are interested in the overall effect  of promotion on elastiticies! as such explore two cases\n",
    "\n",
    "case 1: promotional activities for all brands\n",
    "case 2: no promotional activities"
   ]
  },
  {
   "cell_type": "code",
   "execution_count": 730,
   "metadata": {},
   "outputs": [],
   "source": [
    "# case 1: promotion activities for all brands on\n",
    "df_price_elastiticty_promotion['Promotion'] = 1\n",
    "\n"
   ]
  },
  {
   "cell_type": "code",
   "execution_count": 731,
   "metadata": {},
   "outputs": [
    {
     "name": "stderr",
     "output_type": "stream",
     "text": [
      "/home/angelo/repos/vscode_repos/customer_analytics_2022/lib64/python3.10/site-packages/sklearn/base.py:493: FutureWarning: The feature names should match those that were passed during fit. Starting version 1.2, an error will be raised.\n",
      "Feature names unseen at fit time:\n",
      "- Price_Range\n",
      "- Promotion\n",
      "Feature names seen at fit time, yet now missing:\n",
      "- Mean_Price\n",
      "- Mean_Promotion\n",
      "\n",
      "  warnings.warn(message, FutureWarning)\n"
     ]
    }
   ],
   "source": [
    "Y_pr_promotion = model_incidence_promotion.predict_proba(df_price_elastiticty_promotion)"
   ]
  },
  {
   "cell_type": "code",
   "execution_count": 732,
   "metadata": {},
   "outputs": [],
   "source": [
    "promo_pr = Y_pr_promotion[: , 1]\n",
    "price_elasticity_promo = (model_incidence_promotion.coef_[:, 0] * price_range) * (1 - promo_pr)"
   ]
  },
  {
   "cell_type": "code",
   "execution_count": 733,
   "metadata": {},
   "outputs": [],
   "source": [
    "# add this promotion elastitiy to the overall df with elastiticites\n",
    "df_price_elasticities['Elasticity_Promotion_1'] = price_elasticity_promo\n"
   ]
  },
  {
   "cell_type": "code",
   "execution_count": 734,
   "metadata": {},
   "outputs": [
    {
     "data": {
      "text/html": [
       "<div>\n",
       "<style scoped>\n",
       "    .dataframe tbody tr th:only-of-type {\n",
       "        vertical-align: middle;\n",
       "    }\n",
       "\n",
       "    .dataframe tbody tr th {\n",
       "        vertical-align: top;\n",
       "    }\n",
       "\n",
       "    .dataframe thead th {\n",
       "        text-align: right;\n",
       "    }\n",
       "</style>\n",
       "<table border=\"1\" class=\"dataframe\">\n",
       "  <thead>\n",
       "    <tr style=\"text-align: right;\">\n",
       "      <th></th>\n",
       "      <th>Price_Point</th>\n",
       "      <th>Mean_PE</th>\n",
       "      <th>PE_Segment_1</th>\n",
       "      <th>PE_Segment_2</th>\n",
       "      <th>PE_Segment_3</th>\n",
       "      <th>PE_Segment_0</th>\n",
       "      <th>Elasticity_Promotion_1</th>\n",
       "    </tr>\n",
       "  </thead>\n",
       "  <tbody>\n",
       "    <tr>\n",
       "      <th>0</th>\n",
       "      <td>0.50</td>\n",
       "      <td>-0.094923</td>\n",
       "      <td>-0.119081</td>\n",
       "      <td>-0.030946</td>\n",
       "      <td>-0.168030</td>\n",
       "      <td>-0.210925</td>\n",
       "      <td>-0.125745</td>\n",
       "    </tr>\n",
       "    <tr>\n",
       "      <th>1</th>\n",
       "      <td>0.51</td>\n",
       "      <td>-0.098928</td>\n",
       "      <td>-0.123263</td>\n",
       "      <td>-0.032715</td>\n",
       "      <td>-0.172955</td>\n",
       "      <td>-0.217501</td>\n",
       "      <td>-0.129861</td>\n",
       "    </tr>\n",
       "    <tr>\n",
       "      <th>2</th>\n",
       "      <td>0.52</td>\n",
       "      <td>-0.103058</td>\n",
       "      <td>-0.127539</td>\n",
       "      <td>-0.034571</td>\n",
       "      <td>-0.177951</td>\n",
       "      <td>-0.224186</td>\n",
       "      <td>-0.134057</td>\n",
       "    </tr>\n",
       "    <tr>\n",
       "      <th>3</th>\n",
       "      <td>0.53</td>\n",
       "      <td>-0.107317</td>\n",
       "      <td>-0.131909</td>\n",
       "      <td>-0.036517</td>\n",
       "      <td>-0.183018</td>\n",
       "      <td>-0.230980</td>\n",
       "      <td>-0.138333</td>\n",
       "    </tr>\n",
       "    <tr>\n",
       "      <th>4</th>\n",
       "      <td>0.54</td>\n",
       "      <td>-0.111707</td>\n",
       "      <td>-0.136375</td>\n",
       "      <td>-0.038559</td>\n",
       "      <td>-0.188156</td>\n",
       "      <td>-0.237884</td>\n",
       "      <td>-0.142689</td>\n",
       "    </tr>\n",
       "  </tbody>\n",
       "</table>\n",
       "</div>"
      ],
      "text/plain": [
       "   Price_Point   Mean_PE  PE_Segment_1  PE_Segment_2  PE_Segment_3  \\\n",
       "0         0.50 -0.094923     -0.119081     -0.030946     -0.168030   \n",
       "1         0.51 -0.098928     -0.123263     -0.032715     -0.172955   \n",
       "2         0.52 -0.103058     -0.127539     -0.034571     -0.177951   \n",
       "3         0.53 -0.107317     -0.131909     -0.036517     -0.183018   \n",
       "4         0.54 -0.111707     -0.136375     -0.038559     -0.188156   \n",
       "\n",
       "   PE_Segment_0  Elasticity_Promotion_1  \n",
       "0     -0.210925               -0.125745  \n",
       "1     -0.217501               -0.129861  \n",
       "2     -0.224186               -0.134057  \n",
       "3     -0.230980               -0.138333  \n",
       "4     -0.237884               -0.142689  "
      ]
     },
     "execution_count": 734,
     "metadata": {},
     "output_type": "execute_result"
    }
   ],
   "source": [
    "df_price_elasticities.head()"
   ]
  },
  {
   "cell_type": "markdown",
   "metadata": {},
   "source": [
    "### case 2: price elastitiy for no promotion"
   ]
  },
  {
   "cell_type": "code",
   "execution_count": 735,
   "metadata": {},
   "outputs": [],
   "source": [
    "# case 2: promotion activities for all brands turned off\n",
    "df_price_elastiticty_promotion['Promotion'] = 0"
   ]
  },
  {
   "cell_type": "code",
   "execution_count": 736,
   "metadata": {},
   "outputs": [
    {
     "name": "stderr",
     "output_type": "stream",
     "text": [
      "/home/angelo/repos/vscode_repos/customer_analytics_2022/lib64/python3.10/site-packages/sklearn/base.py:493: FutureWarning: The feature names should match those that were passed during fit. Starting version 1.2, an error will be raised.\n",
      "Feature names unseen at fit time:\n",
      "- Price_Range\n",
      "- Promotion\n",
      "Feature names seen at fit time, yet now missing:\n",
      "- Mean_Price\n",
      "- Mean_Promotion\n",
      "\n",
      "  warnings.warn(message, FutureWarning)\n"
     ]
    }
   ],
   "source": [
    "# predict \n",
    "Y_pr_promotion = model_incidence_promotion.predict_proba(df_price_elastiticty_promotion)"
   ]
  },
  {
   "cell_type": "code",
   "execution_count": 737,
   "metadata": {},
   "outputs": [],
   "source": [
    "promo_pr = Y_pr_promotion[: , 1]\n",
    "price_elasticity_promo = (model_incidence_promotion.coef_[:, 0] * price_range) * (1 - promo_pr)"
   ]
  },
  {
   "cell_type": "code",
   "execution_count": 738,
   "metadata": {},
   "outputs": [],
   "source": [
    "# add this promotion elastitiy to the overall df with elastiticites\n",
    "df_price_elasticities['Elasticity_Promotion_0'] = price_elasticity_promo\n"
   ]
  },
  {
   "cell_type": "code",
   "execution_count": 739,
   "metadata": {},
   "outputs": [
    {
     "data": {
      "text/html": [
       "<div>\n",
       "<style scoped>\n",
       "    .dataframe tbody tr th:only-of-type {\n",
       "        vertical-align: middle;\n",
       "    }\n",
       "\n",
       "    .dataframe tbody tr th {\n",
       "        vertical-align: top;\n",
       "    }\n",
       "\n",
       "    .dataframe thead th {\n",
       "        text-align: right;\n",
       "    }\n",
       "</style>\n",
       "<table border=\"1\" class=\"dataframe\">\n",
       "  <thead>\n",
       "    <tr style=\"text-align: right;\">\n",
       "      <th></th>\n",
       "      <th>Price_Point</th>\n",
       "      <th>Mean_PE</th>\n",
       "      <th>PE_Segment_1</th>\n",
       "      <th>PE_Segment_2</th>\n",
       "      <th>PE_Segment_3</th>\n",
       "      <th>PE_Segment_0</th>\n",
       "      <th>Elasticity_Promotion_1</th>\n",
       "      <th>Elasticity_Promotion_0</th>\n",
       "    </tr>\n",
       "  </thead>\n",
       "  <tbody>\n",
       "    <tr>\n",
       "      <th>0</th>\n",
       "      <td>0.50</td>\n",
       "      <td>-0.094923</td>\n",
       "      <td>-0.119081</td>\n",
       "      <td>-0.030946</td>\n",
       "      <td>-0.168030</td>\n",
       "      <td>-0.210925</td>\n",
       "      <td>-0.125745</td>\n",
       "      <td>-0.195656</td>\n",
       "    </tr>\n",
       "    <tr>\n",
       "      <th>1</th>\n",
       "      <td>0.51</td>\n",
       "      <td>-0.098928</td>\n",
       "      <td>-0.123263</td>\n",
       "      <td>-0.032715</td>\n",
       "      <td>-0.172955</td>\n",
       "      <td>-0.217501</td>\n",
       "      <td>-0.129861</td>\n",
       "      <td>-0.201778</td>\n",
       "    </tr>\n",
       "    <tr>\n",
       "      <th>2</th>\n",
       "      <td>0.52</td>\n",
       "      <td>-0.103058</td>\n",
       "      <td>-0.127539</td>\n",
       "      <td>-0.034571</td>\n",
       "      <td>-0.177951</td>\n",
       "      <td>-0.224186</td>\n",
       "      <td>-0.134057</td>\n",
       "      <td>-0.208002</td>\n",
       "    </tr>\n",
       "    <tr>\n",
       "      <th>3</th>\n",
       "      <td>0.53</td>\n",
       "      <td>-0.107317</td>\n",
       "      <td>-0.131909</td>\n",
       "      <td>-0.036517</td>\n",
       "      <td>-0.183018</td>\n",
       "      <td>-0.230980</td>\n",
       "      <td>-0.138333</td>\n",
       "      <td>-0.214330</td>\n",
       "    </tr>\n",
       "    <tr>\n",
       "      <th>4</th>\n",
       "      <td>0.54</td>\n",
       "      <td>-0.111707</td>\n",
       "      <td>-0.136375</td>\n",
       "      <td>-0.038559</td>\n",
       "      <td>-0.188156</td>\n",
       "      <td>-0.237884</td>\n",
       "      <td>-0.142689</td>\n",
       "      <td>-0.220762</td>\n",
       "    </tr>\n",
       "  </tbody>\n",
       "</table>\n",
       "</div>"
      ],
      "text/plain": [
       "   Price_Point   Mean_PE  PE_Segment_1  PE_Segment_2  PE_Segment_3  \\\n",
       "0         0.50 -0.094923     -0.119081     -0.030946     -0.168030   \n",
       "1         0.51 -0.098928     -0.123263     -0.032715     -0.172955   \n",
       "2         0.52 -0.103058     -0.127539     -0.034571     -0.177951   \n",
       "3         0.53 -0.107317     -0.131909     -0.036517     -0.183018   \n",
       "4         0.54 -0.111707     -0.136375     -0.038559     -0.188156   \n",
       "\n",
       "   PE_Segment_0  Elasticity_Promotion_1  Elasticity_Promotion_0  \n",
       "0     -0.210925               -0.125745               -0.195656  \n",
       "1     -0.217501               -0.129861               -0.201778  \n",
       "2     -0.224186               -0.134057               -0.208002  \n",
       "3     -0.230980               -0.138333               -0.214330  \n",
       "4     -0.237884               -0.142689               -0.220762  "
      ]
     },
     "execution_count": 739,
     "metadata": {},
     "output_type": "execute_result"
    }
   ],
   "source": [
    "df_price_elasticities.head()"
   ]
  },
  {
   "cell_type": "markdown",
   "metadata": {},
   "source": [
    "#### Price elastiticy of purchase probability with and without promotion\n",
    "\n",
    "Show the elasticity for both elasticity curves of active vs non activve promotion \n",
    "\n",
    "\n",
    "--> Showing purchase probability elastictiy given maximum and minimum promotional activity"
   ]
  },
  {
   "cell_type": "code",
   "execution_count": 740,
   "metadata": {},
   "outputs": [
    {
     "data": {
      "text/plain": [
       "Text(0.5, 1.0, 'Price elastiticy of purchase probability with and without promotion')"
      ]
     },
     "execution_count": 740,
     "metadata": {},
     "output_type": "execute_result"
    },
    {
     "data": {
      "image/png": "[encoded data removed]",
      "text/plain": [
       "<Figure size 648x432 with 1 Axes>"
      ]
     },
     "metadata": {},
     "output_type": "display_data"
    }
   ],
   "source": [
    "# display both \n",
    "\n",
    "plt.figure(figsize = (9,6))\n",
    "plt.plot(price_range, df_price_elasticities.Elasticity_Promotion_1, color = 'green')\n",
    "plt.plot(price_range, df_price_elasticities.Elasticity_Promotion_0, color = 'red')\n",
    "plt.legend(['Promotion Active == 1', 'Promotion Inactive == 0'])\n",
    "plt.xlabel('Price')\n",
    "plt.ylabel('Elasticity')\n",
    "plt.title('Price elastiticy of purchase probability with and without promotion')"
   ]
  },
  {
   "cell_type": "markdown",
   "metadata": {},
   "source": [
    "graph shows that the elasttictiy curve of promotion == 1 sits above the elastictiy curve of no promotion; this means that promotion reduces the elasticity in general of all segments, thereby showing potential that higher price + promotion is a good pricign strategy. However this must be analyzed in the segments themselfes to differentiate betweeen the different custoemrs\n",
    "\n",
    "Also:\n",
    "\n",
    "the Promotion curve turns from inelastic to elastic at 1.45€ (so elastictiy above 1); the non promotion curve already turns at 1.27€ elastic!\n",
    "\n",
    "So people are more willing to buy products at promotional prices; irrespective of the price (at least a little)--> customers are less price senstive to price changes when there are promotion activitites conducted; so have a higher original price + promotion\n",
    "\n",
    "--> examine for the segments themselfes"
   ]
  },
  {
   "cell_type": "markdown",
   "metadata": {},
   "source": [
    "## Proceed to brand Purchase probabaility \n",
    "\n",
    "\n",
    "#### now only shopping occasions that succeed (so incident == 1 and/or brand_variable != 0)"
   ]
  },
  {
   "cell_type": "code",
   "execution_count": 741,
   "metadata": {},
   "outputs": [
    {
     "name": "stdout",
     "output_type": "stream",
     "text": [
      "<class 'pandas.core.frame.DataFrame'>\n",
      "RangeIndex: 58693 entries, 0 to 58692\n",
      "Data columns (total 29 columns):\n",
      " #   Column             Non-Null Count  Dtype  \n",
      "---  ------             --------------  -----  \n",
      " 0   ID                 58693 non-null  int64  \n",
      " 1   Day                58693 non-null  int64  \n",
      " 2   Incidence          58693 non-null  int64  \n",
      " 3   Brand              58693 non-null  int64  \n",
      " 4   Quantity           58693 non-null  int64  \n",
      " 5   Last_Inc_Brand     58693 non-null  int64  \n",
      " 6   Last_Inc_Quantity  58693 non-null  int64  \n",
      " 7   Price_1            58693 non-null  float64\n",
      " 8   Price_2            58693 non-null  float64\n",
      " 9   Price_3            58693 non-null  float64\n",
      " 10  Price_4            58693 non-null  float64\n",
      " 11  Price_5            58693 non-null  float64\n",
      " 12  Promotion_1        58693 non-null  int64  \n",
      " 13  Promotion_2        58693 non-null  int64  \n",
      " 14  Promotion_3        58693 non-null  int64  \n",
      " 15  Promotion_4        58693 non-null  int64  \n",
      " 16  Promotion_5        58693 non-null  int64  \n",
      " 17  Sex                58693 non-null  int64  \n",
      " 18  Marital status     58693 non-null  int64  \n",
      " 19  Age                58693 non-null  int64  \n",
      " 20  Education          58693 non-null  int64  \n",
      " 21  Income             58693 non-null  int64  \n",
      " 22  Occupation         58693 non-null  int64  \n",
      " 23  Settlement size    58693 non-null  int64  \n",
      " 24  Segment            58693 non-null  int32  \n",
      " 25  Segment_0          58693 non-null  uint8  \n",
      " 26  Segment_1          58693 non-null  uint8  \n",
      " 27  Segment_2          58693 non-null  uint8  \n",
      " 28  Segment_3          58693 non-null  uint8  \n",
      "dtypes: float64(5), int32(1), int64(19), uint8(4)\n",
      "memory usage: 11.2 MB\n"
     ]
    }
   ],
   "source": [
    "df_pa.info()"
   ]
  },
  {
   "cell_type": "code",
   "execution_count": 742,
   "metadata": {},
   "outputs": [],
   "source": [
    "brand_choice = df_pa[df_pa.Incidence == 1]"
   ]
  },
  {
   "cell_type": "code",
   "execution_count": 743,
   "metadata": {},
   "outputs": [
    {
     "data": {
      "text/html": [
       "<div>\n",
       "<style scoped>\n",
       "    .dataframe tbody tr th:only-of-type {\n",
       "        vertical-align: middle;\n",
       "    }\n",
       "\n",
       "    .dataframe tbody tr th {\n",
       "        vertical-align: top;\n",
       "    }\n",
       "\n",
       "    .dataframe thead th {\n",
       "        text-align: right;\n",
       "    }\n",
       "</style>\n",
       "<table border=\"1\" class=\"dataframe\">\n",
       "  <thead>\n",
       "    <tr style=\"text-align: right;\">\n",
       "      <th></th>\n",
       "      <th>ID</th>\n",
       "      <th>Day</th>\n",
       "      <th>Incidence</th>\n",
       "      <th>Brand</th>\n",
       "      <th>Quantity</th>\n",
       "      <th>Last_Inc_Brand</th>\n",
       "      <th>Last_Inc_Quantity</th>\n",
       "      <th>Price_1</th>\n",
       "      <th>Price_2</th>\n",
       "      <th>Price_3</th>\n",
       "      <th>...</th>\n",
       "      <th>Age</th>\n",
       "      <th>Education</th>\n",
       "      <th>Income</th>\n",
       "      <th>Occupation</th>\n",
       "      <th>Settlement size</th>\n",
       "      <th>Segment</th>\n",
       "      <th>Segment_0</th>\n",
       "      <th>Segment_1</th>\n",
       "      <th>Segment_2</th>\n",
       "      <th>Segment_3</th>\n",
       "    </tr>\n",
       "  </thead>\n",
       "  <tbody>\n",
       "    <tr>\n",
       "      <th>6</th>\n",
       "      <td>200000001</td>\n",
       "      <td>28</td>\n",
       "      <td>1</td>\n",
       "      <td>2</td>\n",
       "      <td>2</td>\n",
       "      <td>0</td>\n",
       "      <td>0</td>\n",
       "      <td>1.50</td>\n",
       "      <td>1.90</td>\n",
       "      <td>1.99</td>\n",
       "      <td>...</td>\n",
       "      <td>47</td>\n",
       "      <td>1</td>\n",
       "      <td>110866</td>\n",
       "      <td>1</td>\n",
       "      <td>0</td>\n",
       "      <td>2</td>\n",
       "      <td>0</td>\n",
       "      <td>0</td>\n",
       "      <td>1</td>\n",
       "      <td>0</td>\n",
       "    </tr>\n",
       "    <tr>\n",
       "      <th>11</th>\n",
       "      <td>200000001</td>\n",
       "      <td>58</td>\n",
       "      <td>1</td>\n",
       "      <td>5</td>\n",
       "      <td>1</td>\n",
       "      <td>0</td>\n",
       "      <td>0</td>\n",
       "      <td>1.39</td>\n",
       "      <td>1.90</td>\n",
       "      <td>1.91</td>\n",
       "      <td>...</td>\n",
       "      <td>47</td>\n",
       "      <td>1</td>\n",
       "      <td>110866</td>\n",
       "      <td>1</td>\n",
       "      <td>0</td>\n",
       "      <td>2</td>\n",
       "      <td>0</td>\n",
       "      <td>0</td>\n",
       "      <td>1</td>\n",
       "      <td>0</td>\n",
       "    </tr>\n",
       "    <tr>\n",
       "      <th>19</th>\n",
       "      <td>200000001</td>\n",
       "      <td>110</td>\n",
       "      <td>1</td>\n",
       "      <td>1</td>\n",
       "      <td>2</td>\n",
       "      <td>0</td>\n",
       "      <td>0</td>\n",
       "      <td>1.47</td>\n",
       "      <td>1.90</td>\n",
       "      <td>1.99</td>\n",
       "      <td>...</td>\n",
       "      <td>47</td>\n",
       "      <td>1</td>\n",
       "      <td>110866</td>\n",
       "      <td>1</td>\n",
       "      <td>0</td>\n",
       "      <td>2</td>\n",
       "      <td>0</td>\n",
       "      <td>0</td>\n",
       "      <td>1</td>\n",
       "      <td>0</td>\n",
       "    </tr>\n",
       "    <tr>\n",
       "      <th>24</th>\n",
       "      <td>200000001</td>\n",
       "      <td>142</td>\n",
       "      <td>1</td>\n",
       "      <td>4</td>\n",
       "      <td>1</td>\n",
       "      <td>0</td>\n",
       "      <td>0</td>\n",
       "      <td>1.21</td>\n",
       "      <td>1.35</td>\n",
       "      <td>1.99</td>\n",
       "      <td>...</td>\n",
       "      <td>47</td>\n",
       "      <td>1</td>\n",
       "      <td>110866</td>\n",
       "      <td>1</td>\n",
       "      <td>0</td>\n",
       "      <td>2</td>\n",
       "      <td>0</td>\n",
       "      <td>0</td>\n",
       "      <td>1</td>\n",
       "      <td>0</td>\n",
       "    </tr>\n",
       "    <tr>\n",
       "      <th>29</th>\n",
       "      <td>200000001</td>\n",
       "      <td>183</td>\n",
       "      <td>1</td>\n",
       "      <td>2</td>\n",
       "      <td>3</td>\n",
       "      <td>0</td>\n",
       "      <td>0</td>\n",
       "      <td>1.46</td>\n",
       "      <td>1.88</td>\n",
       "      <td>1.97</td>\n",
       "      <td>...</td>\n",
       "      <td>47</td>\n",
       "      <td>1</td>\n",
       "      <td>110866</td>\n",
       "      <td>1</td>\n",
       "      <td>0</td>\n",
       "      <td>2</td>\n",
       "      <td>0</td>\n",
       "      <td>0</td>\n",
       "      <td>1</td>\n",
       "      <td>0</td>\n",
       "    </tr>\n",
       "  </tbody>\n",
       "</table>\n",
       "<p>5 rows × 29 columns</p>\n",
       "</div>"
      ],
      "text/plain": [
       "           ID  Day  Incidence  Brand  Quantity  Last_Inc_Brand  \\\n",
       "6   200000001   28          1      2         2               0   \n",
       "11  200000001   58          1      5         1               0   \n",
       "19  200000001  110          1      1         2               0   \n",
       "24  200000001  142          1      4         1               0   \n",
       "29  200000001  183          1      2         3               0   \n",
       "\n",
       "    Last_Inc_Quantity  Price_1  Price_2  Price_3  ...  Age  Education  Income  \\\n",
       "6                   0     1.50     1.90     1.99  ...   47          1  110866   \n",
       "11                  0     1.39     1.90     1.91  ...   47          1  110866   \n",
       "19                  0     1.47     1.90     1.99  ...   47          1  110866   \n",
       "24                  0     1.21     1.35     1.99  ...   47          1  110866   \n",
       "29                  0     1.46     1.88     1.97  ...   47          1  110866   \n",
       "\n",
       "    Occupation  Settlement size  Segment  Segment_0  Segment_1  Segment_2  \\\n",
       "6            1                0        2          0          0          1   \n",
       "11           1                0        2          0          0          1   \n",
       "19           1                0        2          0          0          1   \n",
       "24           1                0        2          0          0          1   \n",
       "29           1                0        2          0          0          1   \n",
       "\n",
       "    Segment_3  \n",
       "6           0  \n",
       "11          0  \n",
       "19          0  \n",
       "24          0  \n",
       "29          0  \n",
       "\n",
       "[5 rows x 29 columns]"
      ]
     },
     "execution_count": 743,
     "metadata": {},
     "output_type": "execute_result"
    }
   ],
   "source": [
    "brand_choice.head()"
   ]
  },
  {
   "cell_type": "markdown",
   "metadata": {},
   "source": [
    "the new model will proedict the branch choice of a customer given that the customer will buy one of the different brands"
   ]
  },
  {
   "cell_type": "code",
   "execution_count": 744,
   "metadata": {},
   "outputs": [],
   "source": [
    "# define outcome \n",
    "Y = brand_choice.Brand"
   ]
  },
  {
   "cell_type": "markdown",
   "metadata": {},
   "source": [
    "get all brand prices: we want to knwo what 1) happens if we chagne the price of our brand and 2 ) what happens if the competitor changes their price wrt. purchase probability. "
   ]
  },
  {
   "cell_type": "code",
   "execution_count": 745,
   "metadata": {},
   "outputs": [
    {
     "data": {
      "text/plain": [
       "Index(['ID', 'Day', 'Incidence', 'Brand', 'Quantity', 'Last_Inc_Brand',\n",
       "       'Last_Inc_Quantity', 'Price_1', 'Price_2', 'Price_3', 'Price_4',\n",
       "       'Price_5', 'Promotion_1', 'Promotion_2', 'Promotion_3', 'Promotion_4',\n",
       "       'Promotion_5', 'Sex', 'Marital status', 'Age', 'Education', 'Income',\n",
       "       'Occupation', 'Settlement size', 'Segment', 'Segment_0', 'Segment_1',\n",
       "       'Segment_2', 'Segment_3'],\n",
       "      dtype='object')"
      ]
     },
     "execution_count": 745,
     "metadata": {},
     "output_type": "execute_result"
    }
   ],
   "source": [
    "# select the price of the brand value in the corresponding row\n",
    "\n",
    "brand_choice.columns"
   ]
  },
  {
   "cell_type": "code",
   "execution_count": 746,
   "metadata": {},
   "outputs": [],
   "source": [
    "features = ['Price_1', 'Price_2', 'Price_3', 'Price_4', 'Price_5']\n",
    "X = brand_choice[features]"
   ]
  },
  {
   "cell_type": "code",
   "execution_count": 747,
   "metadata": {},
   "outputs": [
    {
     "data": {
      "text/html": [
       "<style>#sk-container-id-52 {color: black;background-color: white;}#sk-container-id-52 pre{padding: 0;}#sk-container-id-52 div.sk-toggleable {background-color: white;}#sk-container-id-52 label.sk-toggleable__label {cursor: pointer;display: block;width: 100%;margin-bottom: 0;padding: 0.3em;box-sizing: border-box;text-align: center;}#sk-container-id-52 label.sk-toggleable__label-arrow:before {content: \"▸\";float: left;margin-right: 0.25em;color: #696969;}#sk-container-id-52 label.sk-toggleable__label-arrow:hover:before {color: black;}#sk-container-id-52 div.sk-estimator:hover label.sk-toggleable__label-arrow:before {color: black;}#sk-container-id-52 div.sk-toggleable__content {max-height: 0;max-width: 0;overflow: hidden;text-align: left;background-color: #f0f8ff;}#sk-container-id-52 div.sk-toggleable__content pre {margin: 0.2em;color: black;border-radius: 0.25em;background-color: #f0f8ff;}#sk-container-id-52 input.sk-toggleable__control:checked~div.sk-toggleable__content {max-height: 200px;max-width: 100%;overflow: auto;}#sk-container-id-52 input.sk-toggleable__control:checked~label.sk-toggleable__label-arrow:before {content: \"▾\";}#sk-container-id-52 div.sk-estimator input.sk-toggleable__control:checked~label.sk-toggleable__label {background-color: #d4ebff;}#sk-container-id-52 div.sk-label input.sk-toggleable__control:checked~label.sk-toggleable__label {background-color: #d4ebff;}#sk-container-id-52 input.sk-hidden--visually {border: 0;clip: rect(1px 1px 1px 1px);clip: rect(1px, 1px, 1px, 1px);height: 1px;margin: -1px;overflow: hidden;padding: 0;position: absolute;width: 1px;}#sk-container-id-52 div.sk-estimator {font-family: monospace;background-color: #f0f8ff;border: 1px dotted black;border-radius: 0.25em;box-sizing: border-box;margin-bottom: 0.5em;}#sk-container-id-52 div.sk-estimator:hover {background-color: #d4ebff;}#sk-container-id-52 div.sk-parallel-item::after {content: \"\";width: 100%;border-bottom: 1px solid gray;flex-grow: 1;}#sk-container-id-52 div.sk-label:hover label.sk-toggleable__label {background-color: #d4ebff;}#sk-container-id-52 div.sk-serial::before {content: \"\";position: absolute;border-left: 1px solid gray;box-sizing: border-box;top: 0;bottom: 0;left: 50%;z-index: 0;}#sk-container-id-52 div.sk-serial {display: flex;flex-direction: column;align-items: center;background-color: white;padding-right: 0.2em;padding-left: 0.2em;position: relative;}#sk-container-id-52 div.sk-item {position: relative;z-index: 1;}#sk-container-id-52 div.sk-parallel {display: flex;align-items: stretch;justify-content: center;background-color: white;position: relative;}#sk-container-id-52 div.sk-item::before, #sk-container-id-52 div.sk-parallel-item::before {content: \"\";position: absolute;border-left: 1px solid gray;box-sizing: border-box;top: 0;bottom: 0;left: 50%;z-index: -1;}#sk-container-id-52 div.sk-parallel-item {display: flex;flex-direction: column;z-index: 1;position: relative;background-color: white;}#sk-container-id-52 div.sk-parallel-item:first-child::after {align-self: flex-end;width: 50%;}#sk-container-id-52 div.sk-parallel-item:last-child::after {align-self: flex-start;width: 50%;}#sk-container-id-52 div.sk-parallel-item:only-child::after {width: 0;}#sk-container-id-52 div.sk-dashed-wrapped {border: 1px dashed gray;margin: 0 0.4em 0.5em 0.4em;box-sizing: border-box;padding-bottom: 0.4em;background-color: white;}#sk-container-id-52 div.sk-label label {font-family: monospace;font-weight: bold;display: inline-block;line-height: 1.2em;}#sk-container-id-52 div.sk-label-container {text-align: center;}#sk-container-id-52 div.sk-container {/* jupyter's `normalize.less` sets `[hidden] { display: none; }` but bootstrap.min.css set `[hidden] { display: none !important; }` so we also need the `!important` here to be able to override the default hidden behavior on the sphinx rendered scikit-learn.org. See: https://github.com/scikit-learn/scikit-learn/issues/21755 */display: inline-block !important;position: relative;}#sk-container-id-52 div.sk-text-repr-fallback {display: none;}</style><div id=\"sk-container-id-52\" class=\"sk-top-container\"><div class=\"sk-text-repr-fallback\"><pre>LogisticRegression(multi_class=&#x27;multinomial&#x27;, solver=&#x27;sag&#x27;)</pre><b>In a Jupyter environment, please rerun this cell to show the HTML representation or trust the notebook. <br />On GitHub, the HTML representation is unable to render, please try loading this page with nbviewer.org.</b></div><div class=\"sk-container\" hidden><div class=\"sk-item\"><div class=\"sk-estimator sk-toggleable\"><input class=\"sk-toggleable__control sk-hidden--visually\" id=\"sk-estimator-id-52\" type=\"checkbox\" checked><label for=\"sk-estimator-id-52\" class=\"sk-toggleable__label sk-toggleable__label-arrow\">LogisticRegression</label><div class=\"sk-toggleable__content\"><pre>LogisticRegression(multi_class=&#x27;multinomial&#x27;, solver=&#x27;sag&#x27;)</pre></div></div></div></div></div>"
      ],
      "text/plain": [
       "LogisticRegression(multi_class='multinomial', solver='sag')"
      ]
     },
     "execution_count": 747,
     "metadata": {},
     "output_type": "execute_result"
    }
   ],
   "source": [
    "model_brand_choice = LogisticRegression(solver = 'sag', multi_class = 'multinomial')\n",
    "model_brand_choice.fit(X, Y)"
   ]
  },
  {
   "cell_type": "code",
   "execution_count": 748,
   "metadata": {},
   "outputs": [
    {
     "data": {
      "text/plain": [
       "array([[-3.91598312,  0.65844836,  2.41761014,  0.70406624, -0.20214228],\n",
       "       [ 1.27460539, -1.87985877, -0.21266729, -0.20634643,  0.58786467],\n",
       "       [ 1.62423653,  0.56213342,  0.50106378,  1.03954311,  0.45284012],\n",
       "       [ 0.57452856,  0.39558284, -1.40063378, -1.24624975,  0.24934317],\n",
       "       [ 0.44261264,  0.26369416, -1.30537285, -0.29101317, -1.08790568]])"
      ]
     },
     "execution_count": 748,
     "metadata": {},
     "output_type": "execute_result"
    }
   ],
   "source": [
    "# 5 x 5 because 5 outcome classes and 5features (5 different prices)\n",
    "model_brand_choice.coef_"
   ]
  },
  {
   "cell_type": "markdown",
   "metadata": {},
   "source": [
    "Problem is that we do not see which coefficient relates to which outcome class!\n",
    "So better put it into a dataframe"
   ]
  },
  {
   "cell_type": "code",
   "execution_count": 749,
   "metadata": {},
   "outputs": [],
   "source": [
    "bc_coef = pd.DataFrame(model_brand_choice.coef_)"
   ]
  },
  {
   "cell_type": "code",
   "execution_count": 750,
   "metadata": {},
   "outputs": [],
   "source": [
    "# transpose it\n",
    "bc_coef = pd.DataFrame(model_brand_choice.coef_.T)"
   ]
  },
  {
   "cell_type": "code",
   "execution_count": 751,
   "metadata": {},
   "outputs": [],
   "source": [
    "coeffieicnt_names = ['Coef_Brand_1', 'Coef_Brand_2', 'Coef_Brand_3', 'Coef_Brand_4', 'Coef_Brand_5']\n",
    "bc_coef.columns = [coeffieicnt_names]\n",
    "\n",
    "\n",
    "# adjust the prices in the rows\n",
    "prices_names = ['Price_1', 'Price_2', 'Price_3', 'Price_4', 'Price_5']\n",
    "bc_coef.index = [prices_names]\n",
    "\n",
    "#round all coef\n",
    "bc_coef = bc_coef.round(3)"
   ]
  },
  {
   "cell_type": "code",
   "execution_count": 752,
   "metadata": {},
   "outputs": [
    {
     "data": {
      "text/html": [
       "<div>\n",
       "<style scoped>\n",
       "    .dataframe tbody tr th:only-of-type {\n",
       "        vertical-align: middle;\n",
       "    }\n",
       "\n",
       "    .dataframe tbody tr th {\n",
       "        vertical-align: top;\n",
       "    }\n",
       "\n",
       "    .dataframe thead tr th {\n",
       "        text-align: left;\n",
       "    }\n",
       "</style>\n",
       "<table border=\"1\" class=\"dataframe\">\n",
       "  <thead>\n",
       "    <tr>\n",
       "      <th></th>\n",
       "      <th>Coef_Brand_1</th>\n",
       "      <th>Coef_Brand_2</th>\n",
       "      <th>Coef_Brand_3</th>\n",
       "      <th>Coef_Brand_4</th>\n",
       "      <th>Coef_Brand_5</th>\n",
       "    </tr>\n",
       "  </thead>\n",
       "  <tbody>\n",
       "    <tr>\n",
       "      <th>Price_1</th>\n",
       "      <td>-3.916</td>\n",
       "      <td>1.275</td>\n",
       "      <td>1.624</td>\n",
       "      <td>0.575</td>\n",
       "      <td>0.443</td>\n",
       "    </tr>\n",
       "    <tr>\n",
       "      <th>Price_2</th>\n",
       "      <td>0.658</td>\n",
       "      <td>-1.880</td>\n",
       "      <td>0.562</td>\n",
       "      <td>0.396</td>\n",
       "      <td>0.264</td>\n",
       "    </tr>\n",
       "    <tr>\n",
       "      <th>Price_3</th>\n",
       "      <td>2.418</td>\n",
       "      <td>-0.213</td>\n",
       "      <td>0.501</td>\n",
       "      <td>-1.401</td>\n",
       "      <td>-1.305</td>\n",
       "    </tr>\n",
       "    <tr>\n",
       "      <th>Price_4</th>\n",
       "      <td>0.704</td>\n",
       "      <td>-0.206</td>\n",
       "      <td>1.040</td>\n",
       "      <td>-1.246</td>\n",
       "      <td>-0.291</td>\n",
       "    </tr>\n",
       "    <tr>\n",
       "      <th>Price_5</th>\n",
       "      <td>-0.202</td>\n",
       "      <td>0.588</td>\n",
       "      <td>0.453</td>\n",
       "      <td>0.249</td>\n",
       "      <td>-1.088</td>\n",
       "    </tr>\n",
       "  </tbody>\n",
       "</table>\n",
       "</div>"
      ],
      "text/plain": [
       "        Coef_Brand_1 Coef_Brand_2 Coef_Brand_3 Coef_Brand_4 Coef_Brand_5\n",
       "Price_1       -3.916        1.275        1.624        0.575        0.443\n",
       "Price_2        0.658       -1.880        0.562        0.396        0.264\n",
       "Price_3        2.418       -0.213        0.501       -1.401       -1.305\n",
       "Price_4        0.704       -0.206        1.040       -1.246       -0.291\n",
       "Price_5       -0.202        0.588        0.453        0.249       -1.088"
      ]
     },
     "execution_count": 752,
     "metadata": {},
     "output_type": "execute_result"
    }
   ],
   "source": [
    "bc_coef"
   ]
  },
  {
   "cell_type": "markdown",
   "metadata": {},
   "source": [
    "Analysis:\n",
    "1. Coef_brand_1 is negative (strong) with price_1 and positive with all other prices (except 5)\n",
    "\n",
    "--> we know already: the higher the price of a product the lower the probability of it being purchased (given the negative trend in the elasticities)\n",
    "--> But it is positive with all others simply because if the other brands (competitors) increase their price, the probability of our brand being puchased increases (price and brand coef are in the correspondign diagonal)\n",
    "\n",
    "This logreg just represents the choice probability of the brand in question (brand 1- 5 ) with respect to its own priice in addition to other brands price as well; these are OWN brand effects and corss brand effects\n",
    "\n",
    "\n"
   ]
  },
  {
   "cell_type": "markdown",
   "metadata": {},
   "source": [
    "## Own Price Elastiticy -- here Own price elasticity brand 5\n",
    "\n",
    "We use price_range for the brand in question (our brand) becasue we want to see how the elasticity changes as our price changes; as such we predict (using the Logreg model) the elasticities for the different prices for our brand 5 while keeping all other competing brand constant; this way, we analyse the \"OWn brand price elastictiy\" considering the context of other brands as well. this is important to note, as the output is only relevant wrt. how the purchase probabability changes IF WE CHANGE OUR PRICE and also the change in purchase probabability of the other brands if we change our price! However, what happens if a competitor brand such as brand 4 changes their price is not answered in \"Own price elastiticity\""
   ]
  },
  {
   "cell_type": "code",
   "execution_count": 753,
   "metadata": {},
   "outputs": [
    {
     "data": {
      "text/html": [
       "<div>\n",
       "<style scoped>\n",
       "    .dataframe tbody tr th:only-of-type {\n",
       "        vertical-align: middle;\n",
       "    }\n",
       "\n",
       "    .dataframe tbody tr th {\n",
       "        vertical-align: top;\n",
       "    }\n",
       "\n",
       "    .dataframe thead th {\n",
       "        text-align: right;\n",
       "    }\n",
       "</style>\n",
       "<table border=\"1\" class=\"dataframe\">\n",
       "  <thead>\n",
       "    <tr style=\"text-align: right;\">\n",
       "      <th></th>\n",
       "      <th>Price_1</th>\n",
       "      <th>Price_2</th>\n",
       "      <th>Price_3</th>\n",
       "      <th>Price_4</th>\n",
       "      <th>Price_5</th>\n",
       "    </tr>\n",
       "  </thead>\n",
       "  <tbody>\n",
       "    <tr>\n",
       "      <th>0</th>\n",
       "      <td>1.384559</td>\n",
       "      <td>1.764717</td>\n",
       "      <td>2.006694</td>\n",
       "      <td>2.159658</td>\n",
       "      <td>0.50</td>\n",
       "    </tr>\n",
       "    <tr>\n",
       "      <th>1</th>\n",
       "      <td>1.384559</td>\n",
       "      <td>1.764717</td>\n",
       "      <td>2.006694</td>\n",
       "      <td>2.159658</td>\n",
       "      <td>0.51</td>\n",
       "    </tr>\n",
       "    <tr>\n",
       "      <th>2</th>\n",
       "      <td>1.384559</td>\n",
       "      <td>1.764717</td>\n",
       "      <td>2.006694</td>\n",
       "      <td>2.159658</td>\n",
       "      <td>0.52</td>\n",
       "    </tr>\n",
       "    <tr>\n",
       "      <th>3</th>\n",
       "      <td>1.384559</td>\n",
       "      <td>1.764717</td>\n",
       "      <td>2.006694</td>\n",
       "      <td>2.159658</td>\n",
       "      <td>0.53</td>\n",
       "    </tr>\n",
       "    <tr>\n",
       "      <th>4</th>\n",
       "      <td>1.384559</td>\n",
       "      <td>1.764717</td>\n",
       "      <td>2.006694</td>\n",
       "      <td>2.159658</td>\n",
       "      <td>0.54</td>\n",
       "    </tr>\n",
       "    <tr>\n",
       "      <th>...</th>\n",
       "      <td>...</td>\n",
       "      <td>...</td>\n",
       "      <td>...</td>\n",
       "      <td>...</td>\n",
       "      <td>...</td>\n",
       "    </tr>\n",
       "    <tr>\n",
       "      <th>295</th>\n",
       "      <td>1.384559</td>\n",
       "      <td>1.764717</td>\n",
       "      <td>2.006694</td>\n",
       "      <td>2.159658</td>\n",
       "      <td>3.45</td>\n",
       "    </tr>\n",
       "    <tr>\n",
       "      <th>296</th>\n",
       "      <td>1.384559</td>\n",
       "      <td>1.764717</td>\n",
       "      <td>2.006694</td>\n",
       "      <td>2.159658</td>\n",
       "      <td>3.46</td>\n",
       "    </tr>\n",
       "    <tr>\n",
       "      <th>297</th>\n",
       "      <td>1.384559</td>\n",
       "      <td>1.764717</td>\n",
       "      <td>2.006694</td>\n",
       "      <td>2.159658</td>\n",
       "      <td>3.47</td>\n",
       "    </tr>\n",
       "    <tr>\n",
       "      <th>298</th>\n",
       "      <td>1.384559</td>\n",
       "      <td>1.764717</td>\n",
       "      <td>2.006694</td>\n",
       "      <td>2.159658</td>\n",
       "      <td>3.48</td>\n",
       "    </tr>\n",
       "    <tr>\n",
       "      <th>299</th>\n",
       "      <td>1.384559</td>\n",
       "      <td>1.764717</td>\n",
       "      <td>2.006694</td>\n",
       "      <td>2.159658</td>\n",
       "      <td>3.49</td>\n",
       "    </tr>\n",
       "  </tbody>\n",
       "</table>\n",
       "<p>300 rows × 5 columns</p>\n",
       "</div>"
      ],
      "text/plain": [
       "      Price_1   Price_2   Price_3   Price_4  Price_5\n",
       "0    1.384559  1.764717  2.006694  2.159658     0.50\n",
       "1    1.384559  1.764717  2.006694  2.159658     0.51\n",
       "2    1.384559  1.764717  2.006694  2.159658     0.52\n",
       "3    1.384559  1.764717  2.006694  2.159658     0.53\n",
       "4    1.384559  1.764717  2.006694  2.159658     0.54\n",
       "..        ...       ...       ...       ...      ...\n",
       "295  1.384559  1.764717  2.006694  2.159658     3.45\n",
       "296  1.384559  1.764717  2.006694  2.159658     3.46\n",
       "297  1.384559  1.764717  2.006694  2.159658     3.47\n",
       "298  1.384559  1.764717  2.006694  2.159658     3.48\n",
       "299  1.384559  1.764717  2.006694  2.159658     3.49\n",
       "\n",
       "[300 rows x 5 columns]"
      ]
     },
     "execution_count": 753,
     "metadata": {},
     "output_type": "execute_result"
    }
   ],
   "source": [
    "# brand 5 is the most expensive\n",
    "df_own_brand_5 = pd.DataFrame(index = np.arange(price_range.size))\n",
    "\n",
    "df_own_brand_5['Price_1'] = brand_choice['Price_1'].mean()\n",
    "df_own_brand_5['Price_2'] = brand_choice['Price_2'].mean()\n",
    "df_own_brand_5['Price_3'] = brand_choice['Price_3'].mean()\n",
    "df_own_brand_5['Price_4'] = brand_choice['Price_4'].mean()\n",
    "\n",
    "# now for our brand we use the price range --> so for different price points what happens?\n",
    "df_own_brand_5['Price_5'] = price_range\n",
    "df_own_brand_5"
   ]
  },
  {
   "cell_type": "markdown",
   "metadata": {},
   "source": [
    "Essentially we  will be predicting the purchase probability of brand 5 for different price points "
   ]
  },
  {
   "cell_type": "code",
   "execution_count": 754,
   "metadata": {},
   "outputs": [],
   "source": [
    "predict_brand_5 = model_brand_choice.predict_proba(df_own_brand_5)"
   ]
  },
  {
   "cell_type": "code",
   "execution_count": 755,
   "metadata": {},
   "outputs": [
    {
     "data": {
      "text/plain": [
       "array([[0.03290888, 0.02177648, 0.00543754, 0.02988817, 0.90998892],\n",
       "       [0.03316361, 0.0221191 , 0.00551564, 0.03025581, 0.90894584],\n",
       "       [0.03341984, 0.02246678, 0.00559478, 0.03062754, 0.90789105],\n",
       "       ...,\n",
       "       [0.06881241, 0.47570252, 0.0795405 , 0.23889309, 0.13705149],\n",
       "       [0.06852678, 0.47748529, 0.07973086, 0.23897802, 0.13527904],\n",
       "       [0.06824021, 0.47925976, 0.07991918, 0.23905551, 0.13352534]])"
      ]
     },
     "execution_count": 755,
     "metadata": {},
     "output_type": "execute_result"
    }
   ],
   "source": [
    "predict_brand_5"
   ]
  },
  {
   "cell_type": "code",
   "execution_count": 756,
   "metadata": {},
   "outputs": [],
   "source": [
    "pr_own_brand_5 = predict_brand_5[: ][:, 4]"
   ]
  },
  {
   "cell_type": "markdown",
   "metadata": {},
   "source": [
    "E = ß * price   * (1 - Pr(Purchase Probability))\n",
    "\n",
    "In this case we are interested in the price coefficient of brand 5 (so tha last row of bc_coef); additionally our dependent varaible of the multivariable regression model is Brand 5\n",
    "\n",
    "So the right coefficeint == ß is in this case: -1.088"
   ]
  },
  {
   "cell_type": "code",
   "execution_count": 757,
   "metadata": {},
   "outputs": [],
   "source": [
    "# now calcualte the purchase elasticity \n",
    "beta5 = bc_coef.iloc[-1, -1]"
   ]
  },
  {
   "cell_type": "code",
   "execution_count": 758,
   "metadata": {},
   "outputs": [],
   "source": [
    "own_price_elastiticty_brand_5 = beta5 * price_range * (1 - pr_own_brand_5)"
   ]
  },
  {
   "cell_type": "code",
   "execution_count": 759,
   "metadata": {},
   "outputs": [],
   "source": [
    "# add it to the overall elasticities dataframe\n",
    "\n",
    "df_price_elasticities['Brand_5'] = own_price_elastiticty_brand_5"
   ]
  },
  {
   "cell_type": "code",
   "execution_count": 760,
   "metadata": {},
   "outputs": [
    {
     "data": {
      "text/html": [
       "<div>\n",
       "<style scoped>\n",
       "    .dataframe tbody tr th:only-of-type {\n",
       "        vertical-align: middle;\n",
       "    }\n",
       "\n",
       "    .dataframe tbody tr th {\n",
       "        vertical-align: top;\n",
       "    }\n",
       "\n",
       "    .dataframe thead th {\n",
       "        text-align: right;\n",
       "    }\n",
       "</style>\n",
       "<table border=\"1\" class=\"dataframe\">\n",
       "  <thead>\n",
       "    <tr style=\"text-align: right;\">\n",
       "      <th></th>\n",
       "      <th>Price_Point</th>\n",
       "      <th>Mean_PE</th>\n",
       "      <th>PE_Segment_1</th>\n",
       "      <th>PE_Segment_2</th>\n",
       "      <th>PE_Segment_3</th>\n",
       "      <th>PE_Segment_0</th>\n",
       "      <th>Elasticity_Promotion_1</th>\n",
       "      <th>Elasticity_Promotion_0</th>\n",
       "      <th>Brand_5</th>\n",
       "    </tr>\n",
       "  </thead>\n",
       "  <tbody>\n",
       "    <tr>\n",
       "      <th>0</th>\n",
       "      <td>0.50</td>\n",
       "      <td>-0.094923</td>\n",
       "      <td>-0.119081</td>\n",
       "      <td>-0.030946</td>\n",
       "      <td>-0.168030</td>\n",
       "      <td>-0.210925</td>\n",
       "      <td>-0.125745</td>\n",
       "      <td>-0.195656</td>\n",
       "      <td>-0.048966</td>\n",
       "    </tr>\n",
       "    <tr>\n",
       "      <th>1</th>\n",
       "      <td>0.51</td>\n",
       "      <td>-0.098928</td>\n",
       "      <td>-0.123263</td>\n",
       "      <td>-0.032715</td>\n",
       "      <td>-0.172955</td>\n",
       "      <td>-0.217501</td>\n",
       "      <td>-0.129861</td>\n",
       "      <td>-0.201778</td>\n",
       "      <td>-0.050524</td>\n",
       "    </tr>\n",
       "    <tr>\n",
       "      <th>2</th>\n",
       "      <td>0.52</td>\n",
       "      <td>-0.103058</td>\n",
       "      <td>-0.127539</td>\n",
       "      <td>-0.034571</td>\n",
       "      <td>-0.177951</td>\n",
       "      <td>-0.224186</td>\n",
       "      <td>-0.134057</td>\n",
       "      <td>-0.208002</td>\n",
       "      <td>-0.052112</td>\n",
       "    </tr>\n",
       "    <tr>\n",
       "      <th>3</th>\n",
       "      <td>0.53</td>\n",
       "      <td>-0.107317</td>\n",
       "      <td>-0.131909</td>\n",
       "      <td>-0.036517</td>\n",
       "      <td>-0.183018</td>\n",
       "      <td>-0.230980</td>\n",
       "      <td>-0.138333</td>\n",
       "      <td>-0.214330</td>\n",
       "      <td>-0.053729</td>\n",
       "    </tr>\n",
       "    <tr>\n",
       "      <th>4</th>\n",
       "      <td>0.54</td>\n",
       "      <td>-0.111707</td>\n",
       "      <td>-0.136375</td>\n",
       "      <td>-0.038559</td>\n",
       "      <td>-0.188156</td>\n",
       "      <td>-0.237884</td>\n",
       "      <td>-0.142689</td>\n",
       "      <td>-0.220762</td>\n",
       "      <td>-0.055376</td>\n",
       "    </tr>\n",
       "    <tr>\n",
       "      <th>...</th>\n",
       "      <td>...</td>\n",
       "      <td>...</td>\n",
       "      <td>...</td>\n",
       "      <td>...</td>\n",
       "      <td>...</td>\n",
       "      <td>...</td>\n",
       "      <td>...</td>\n",
       "      <td>...</td>\n",
       "      <td>...</td>\n",
       "    </tr>\n",
       "    <tr>\n",
       "      <th>295</th>\n",
       "      <td>3.45</td>\n",
       "      <td>-7.998353</td>\n",
       "      <td>-5.679381</td>\n",
       "      <td>-12.544880</td>\n",
       "      <td>-4.024293</td>\n",
       "      <td>-5.072926</td>\n",
       "      <td>-4.862072</td>\n",
       "      <td>-4.983647</td>\n",
       "      <td>-3.225645</td>\n",
       "    </tr>\n",
       "    <tr>\n",
       "      <th>296</th>\n",
       "      <td>3.46</td>\n",
       "      <td>-8.023605</td>\n",
       "      <td>-5.699535</td>\n",
       "      <td>-12.581805</td>\n",
       "      <td>-4.039167</td>\n",
       "      <td>-5.089839</td>\n",
       "      <td>-4.880275</td>\n",
       "      <td>-5.000555</td>\n",
       "      <td>-3.241809</td>\n",
       "    </tr>\n",
       "    <tr>\n",
       "      <th>297</th>\n",
       "      <td>3.47</td>\n",
       "      <td>-8.048823</td>\n",
       "      <td>-5.719652</td>\n",
       "      <td>-12.618712</td>\n",
       "      <td>-4.054025</td>\n",
       "      <td>-5.106734</td>\n",
       "      <td>-4.898447</td>\n",
       "      <td>-5.017442</td>\n",
       "      <td>-3.257941</td>\n",
       "    </tr>\n",
       "    <tr>\n",
       "      <th>298</th>\n",
       "      <td>3.48</td>\n",
       "      <td>-8.074006</td>\n",
       "      <td>-5.739733</td>\n",
       "      <td>-12.655604</td>\n",
       "      <td>-4.068866</td>\n",
       "      <td>-5.123609</td>\n",
       "      <td>-4.916588</td>\n",
       "      <td>-5.034309</td>\n",
       "      <td>-3.274041</td>\n",
       "    </tr>\n",
       "    <tr>\n",
       "      <th>299</th>\n",
       "      <td>3.49</td>\n",
       "      <td>-8.099156</td>\n",
       "      <td>-5.759778</td>\n",
       "      <td>-12.692479</td>\n",
       "      <td>-4.083691</td>\n",
       "      <td>-5.140467</td>\n",
       "      <td>-4.934700</td>\n",
       "      <td>-5.051157</td>\n",
       "      <td>-3.290108</td>\n",
       "    </tr>\n",
       "  </tbody>\n",
       "</table>\n",
       "<p>300 rows × 9 columns</p>\n",
       "</div>"
      ],
      "text/plain": [
       "     Price_Point   Mean_PE  PE_Segment_1  PE_Segment_2  PE_Segment_3  \\\n",
       "0           0.50 -0.094923     -0.119081     -0.030946     -0.168030   \n",
       "1           0.51 -0.098928     -0.123263     -0.032715     -0.172955   \n",
       "2           0.52 -0.103058     -0.127539     -0.034571     -0.177951   \n",
       "3           0.53 -0.107317     -0.131909     -0.036517     -0.183018   \n",
       "4           0.54 -0.111707     -0.136375     -0.038559     -0.188156   \n",
       "..           ...       ...           ...           ...           ...   \n",
       "295         3.45 -7.998353     -5.679381    -12.544880     -4.024293   \n",
       "296         3.46 -8.023605     -5.699535    -12.581805     -4.039167   \n",
       "297         3.47 -8.048823     -5.719652    -12.618712     -4.054025   \n",
       "298         3.48 -8.074006     -5.739733    -12.655604     -4.068866   \n",
       "299         3.49 -8.099156     -5.759778    -12.692479     -4.083691   \n",
       "\n",
       "     PE_Segment_0  Elasticity_Promotion_1  Elasticity_Promotion_0   Brand_5  \n",
       "0       -0.210925               -0.125745               -0.195656 -0.048966  \n",
       "1       -0.217501               -0.129861               -0.201778 -0.050524  \n",
       "2       -0.224186               -0.134057               -0.208002 -0.052112  \n",
       "3       -0.230980               -0.138333               -0.214330 -0.053729  \n",
       "4       -0.237884               -0.142689               -0.220762 -0.055376  \n",
       "..            ...                     ...                     ...       ...  \n",
       "295     -5.072926               -4.862072               -4.983647 -3.225645  \n",
       "296     -5.089839               -4.880275               -5.000555 -3.241809  \n",
       "297     -5.106734               -4.898447               -5.017442 -3.257941  \n",
       "298     -5.123609               -4.916588               -5.034309 -3.274041  \n",
       "299     -5.140467               -4.934700               -5.051157 -3.290108  \n",
       "\n",
       "[300 rows x 9 columns]"
      ]
     },
     "execution_count": 760,
     "metadata": {},
     "output_type": "execute_result"
    }
   ],
   "source": [
    "df_price_elasticities"
   ]
  },
  {
   "cell_type": "code",
   "execution_count": 761,
   "metadata": {},
   "outputs": [
    {
     "data": {
      "text/plain": [
       "Text(0.5, 1.0, 'Own Price elasticity of Purchase Porbability for brand 5')"
      ]
     },
     "execution_count": 761,
     "metadata": {},
     "output_type": "execute_result"
    },
    {
     "data": {
      "image/png": "[encoded data removed]",
      "text/plain": [
       "<Figure size 648x432 with 1 Axes>"
      ]
     },
     "metadata": {},
     "output_type": "display_data"
    }
   ],
   "source": [
    "# display both \n",
    "plt.figure(figsize = (9,6))\n",
    "plt.plot(price_range, df_price_elasticities.Elasticity_Promotion_1, color = 'green')\n",
    "# plt.legend(['Promotion Active == 1', 'Promotion Inactive == 0'])\n",
    "plt.xlabel('Price')\n",
    "plt.ylabel('Elasticity')\n",
    "plt.title('Own Price elasticity of Purchase Porbability for brand 5')"
   ]
  },
  {
   "cell_type": "markdown",
   "metadata": {},
   "source": [
    "But what happens to the purchase probability of brand 5 if a competitor chagned their pricing?\n",
    "\n",
    "--> Cross price elasticities"
   ]
  },
  {
   "cell_type": "markdown",
   "metadata": {},
   "source": [
    "## Cross Price Elastiticty Brand 5, Cross Brand 4\n",
    "\n",
    "Rational: Brand 4 is closest in price and quality qhen compared to brand 5\n",
    "\n",
    "the reason is: before we kept all other brand prices constant except OUR brand 5; this meant that the resulting purchase probabilities would only matter wrt change in price of our own brand\n",
    "\n",
    "\n",
    "But what happens if a competitor changes their price? in this case we want to vary the price of our competitor brand 4 and keep all other prices constant so to estimate how the purchase probability chagnes if a competitor changes their price. So essentially it is the same process as with a \"Own Price Elastitiy\"; but the calculation of the cross price elasticity is:\n",
    "\n",
    "E = -ß(own price) * price(cross brand) * Pr(cross brand)"
   ]
  },
  {
   "cell_type": "code",
   "execution_count": 762,
   "metadata": {},
   "outputs": [],
   "source": [
    "df_brand5_cross_brand4 = pd.DataFrame(index=np.arange(price_range.size))\n",
    "\n",
    "# All other prices contain a constante! \n",
    "df_brand5_cross_brand4['Price_1'] = brand_choice['Price_1'].mean()\n",
    "df_brand5_cross_brand4['Price_2'] = brand_choice['Price_2'].mean()\n",
    "df_brand5_cross_brand4['Price_3'] = brand_choice['Price_3'].mean()\n",
    "\n",
    "# We want to examine the cross price; so price 4 contains the price range  \n",
    "df_brand5_cross_brand4['Price_4'] = price_range\n",
    "\n",
    "# All other prices contain a constante! \n",
    "df_brand5_cross_brand4['Price_5'] = brand_choice['Price_5'].mean()\n",
    "\n"
   ]
  },
  {
   "cell_type": "code",
   "execution_count": 763,
   "metadata": {},
   "outputs": [],
   "source": [
    "# now calculate the purchase proability\n",
    "predict_brand5_cross_brand4 = model_brand_choice.predict_proba(df_brand5_cross_brand4)"
   ]
  },
  {
   "cell_type": "markdown",
   "metadata": {},
   "source": [
    "Calcualte the cross probabilities:\n",
    "\n",
    "E = -ß(own price) * price(cross brand) * Pr(cross brand)"
   ]
  },
  {
   "cell_type": "code",
   "execution_count": 764,
   "metadata": {},
   "outputs": [
    {
     "data": {
      "text/plain": [
       "-1.088"
      ]
     },
     "execution_count": 764,
     "metadata": {},
     "output_type": "execute_result"
    }
   ],
   "source": [
    "# get the probability for brand 4\n",
    "pr_brand_4 = predict_brand5_cross_brand4[:][:, 3]\n",
    "\n",
    "# then the OWN probability beta was in beta5\n",
    "beta5"
   ]
  },
  {
   "cell_type": "code",
   "execution_count": 765,
   "metadata": {},
   "outputs": [],
   "source": [
    "brand5_cross_brand4_price_elasticity = -beta5 * price_range * pr_brand_4"
   ]
  },
  {
   "cell_type": "code",
   "execution_count": 766,
   "metadata": {},
   "outputs": [],
   "source": [
    "# now add the elastictiy to the dataframe\n",
    "df_price_elasticities['Brand_5_Cross_Brand_4'] = brand5_cross_brand4_price_elasticity"
   ]
  },
  {
   "cell_type": "code",
   "execution_count": 767,
   "metadata": {},
   "outputs": [
    {
     "data": {
      "text/html": [
       "<div>\n",
       "<style scoped>\n",
       "    .dataframe tbody tr th:only-of-type {\n",
       "        vertical-align: middle;\n",
       "    }\n",
       "\n",
       "    .dataframe tbody tr th {\n",
       "        vertical-align: top;\n",
       "    }\n",
       "\n",
       "    .dataframe thead th {\n",
       "        text-align: right;\n",
       "    }\n",
       "</style>\n",
       "<table border=\"1\" class=\"dataframe\">\n",
       "  <thead>\n",
       "    <tr style=\"text-align: right;\">\n",
       "      <th></th>\n",
       "      <th>Price_Point</th>\n",
       "      <th>Mean_PE</th>\n",
       "      <th>PE_Segment_1</th>\n",
       "      <th>PE_Segment_2</th>\n",
       "      <th>PE_Segment_3</th>\n",
       "      <th>PE_Segment_0</th>\n",
       "      <th>Elasticity_Promotion_1</th>\n",
       "      <th>Elasticity_Promotion_0</th>\n",
       "      <th>Brand_5</th>\n",
       "      <th>Brand_5_Cross_Brand_4</th>\n",
       "    </tr>\n",
       "  </thead>\n",
       "  <tbody>\n",
       "    <tr>\n",
       "      <th>0</th>\n",
       "      <td>0.50</td>\n",
       "      <td>-0.094923</td>\n",
       "      <td>-0.119081</td>\n",
       "      <td>-0.030946</td>\n",
       "      <td>-0.168030</td>\n",
       "      <td>-0.210925</td>\n",
       "      <td>-0.125745</td>\n",
       "      <td>-0.195656</td>\n",
       "      <td>-0.048966</td>\n",
       "      <td>0.331402</td>\n",
       "    </tr>\n",
       "    <tr>\n",
       "      <th>1</th>\n",
       "      <td>0.51</td>\n",
       "      <td>-0.098928</td>\n",
       "      <td>-0.123263</td>\n",
       "      <td>-0.032715</td>\n",
       "      <td>-0.172955</td>\n",
       "      <td>-0.217501</td>\n",
       "      <td>-0.129861</td>\n",
       "      <td>-0.201778</td>\n",
       "      <td>-0.050524</td>\n",
       "      <td>0.336669</td>\n",
       "    </tr>\n",
       "    <tr>\n",
       "      <th>2</th>\n",
       "      <td>0.52</td>\n",
       "      <td>-0.103058</td>\n",
       "      <td>-0.127539</td>\n",
       "      <td>-0.034571</td>\n",
       "      <td>-0.177951</td>\n",
       "      <td>-0.224186</td>\n",
       "      <td>-0.134057</td>\n",
       "      <td>-0.208002</td>\n",
       "      <td>-0.052112</td>\n",
       "      <td>0.341878</td>\n",
       "    </tr>\n",
       "    <tr>\n",
       "      <th>3</th>\n",
       "      <td>0.53</td>\n",
       "      <td>-0.107317</td>\n",
       "      <td>-0.131909</td>\n",
       "      <td>-0.036517</td>\n",
       "      <td>-0.183018</td>\n",
       "      <td>-0.230980</td>\n",
       "      <td>-0.138333</td>\n",
       "      <td>-0.214330</td>\n",
       "      <td>-0.053729</td>\n",
       "      <td>0.347031</td>\n",
       "    </tr>\n",
       "    <tr>\n",
       "      <th>4</th>\n",
       "      <td>0.54</td>\n",
       "      <td>-0.111707</td>\n",
       "      <td>-0.136375</td>\n",
       "      <td>-0.038559</td>\n",
       "      <td>-0.188156</td>\n",
       "      <td>-0.237884</td>\n",
       "      <td>-0.142689</td>\n",
       "      <td>-0.220762</td>\n",
       "      <td>-0.055376</td>\n",
       "      <td>0.352126</td>\n",
       "    </tr>\n",
       "    <tr>\n",
       "      <th>...</th>\n",
       "      <td>...</td>\n",
       "      <td>...</td>\n",
       "      <td>...</td>\n",
       "      <td>...</td>\n",
       "      <td>...</td>\n",
       "      <td>...</td>\n",
       "      <td>...</td>\n",
       "      <td>...</td>\n",
       "      <td>...</td>\n",
       "      <td>...</td>\n",
       "    </tr>\n",
       "    <tr>\n",
       "      <th>295</th>\n",
       "      <td>3.45</td>\n",
       "      <td>-7.998353</td>\n",
       "      <td>-5.679381</td>\n",
       "      <td>-12.544880</td>\n",
       "      <td>-4.024293</td>\n",
       "      <td>-5.072926</td>\n",
       "      <td>-4.862072</td>\n",
       "      <td>-4.983647</td>\n",
       "      <td>-3.225645</td>\n",
       "      <td>0.161935</td>\n",
       "    </tr>\n",
       "    <tr>\n",
       "      <th>296</th>\n",
       "      <td>3.46</td>\n",
       "      <td>-8.023605</td>\n",
       "      <td>-5.699535</td>\n",
       "      <td>-12.581805</td>\n",
       "      <td>-4.039167</td>\n",
       "      <td>-5.089839</td>\n",
       "      <td>-4.880275</td>\n",
       "      <td>-5.000555</td>\n",
       "      <td>-3.241809</td>\n",
       "      <td>0.160038</td>\n",
       "    </tr>\n",
       "    <tr>\n",
       "      <th>297</th>\n",
       "      <td>3.47</td>\n",
       "      <td>-8.048823</td>\n",
       "      <td>-5.719652</td>\n",
       "      <td>-12.618712</td>\n",
       "      <td>-4.054025</td>\n",
       "      <td>-5.106734</td>\n",
       "      <td>-4.898447</td>\n",
       "      <td>-5.017442</td>\n",
       "      <td>-3.257941</td>\n",
       "      <td>0.158156</td>\n",
       "    </tr>\n",
       "    <tr>\n",
       "      <th>298</th>\n",
       "      <td>3.48</td>\n",
       "      <td>-8.074006</td>\n",
       "      <td>-5.739733</td>\n",
       "      <td>-12.655604</td>\n",
       "      <td>-4.068866</td>\n",
       "      <td>-5.123609</td>\n",
       "      <td>-4.916588</td>\n",
       "      <td>-5.034309</td>\n",
       "      <td>-3.274041</td>\n",
       "      <td>0.156288</td>\n",
       "    </tr>\n",
       "    <tr>\n",
       "      <th>299</th>\n",
       "      <td>3.49</td>\n",
       "      <td>-8.099156</td>\n",
       "      <td>-5.759778</td>\n",
       "      <td>-12.692479</td>\n",
       "      <td>-4.083691</td>\n",
       "      <td>-5.140467</td>\n",
       "      <td>-4.934700</td>\n",
       "      <td>-5.051157</td>\n",
       "      <td>-3.290108</td>\n",
       "      <td>0.154434</td>\n",
       "    </tr>\n",
       "  </tbody>\n",
       "</table>\n",
       "<p>300 rows × 10 columns</p>\n",
       "</div>"
      ],
      "text/plain": [
       "     Price_Point   Mean_PE  PE_Segment_1  PE_Segment_2  PE_Segment_3  \\\n",
       "0           0.50 -0.094923     -0.119081     -0.030946     -0.168030   \n",
       "1           0.51 -0.098928     -0.123263     -0.032715     -0.172955   \n",
       "2           0.52 -0.103058     -0.127539     -0.034571     -0.177951   \n",
       "3           0.53 -0.107317     -0.131909     -0.036517     -0.183018   \n",
       "4           0.54 -0.111707     -0.136375     -0.038559     -0.188156   \n",
       "..           ...       ...           ...           ...           ...   \n",
       "295         3.45 -7.998353     -5.679381    -12.544880     -4.024293   \n",
       "296         3.46 -8.023605     -5.699535    -12.581805     -4.039167   \n",
       "297         3.47 -8.048823     -5.719652    -12.618712     -4.054025   \n",
       "298         3.48 -8.074006     -5.739733    -12.655604     -4.068866   \n",
       "299         3.49 -8.099156     -5.759778    -12.692479     -4.083691   \n",
       "\n",
       "     PE_Segment_0  Elasticity_Promotion_1  Elasticity_Promotion_0   Brand_5  \\\n",
       "0       -0.210925               -0.125745               -0.195656 -0.048966   \n",
       "1       -0.217501               -0.129861               -0.201778 -0.050524   \n",
       "2       -0.224186               -0.134057               -0.208002 -0.052112   \n",
       "3       -0.230980               -0.138333               -0.214330 -0.053729   \n",
       "4       -0.237884               -0.142689               -0.220762 -0.055376   \n",
       "..            ...                     ...                     ...       ...   \n",
       "295     -5.072926               -4.862072               -4.983647 -3.225645   \n",
       "296     -5.089839               -4.880275               -5.000555 -3.241809   \n",
       "297     -5.106734               -4.898447               -5.017442 -3.257941   \n",
       "298     -5.123609               -4.916588               -5.034309 -3.274041   \n",
       "299     -5.140467               -4.934700               -5.051157 -3.290108   \n",
       "\n",
       "     Brand_5_Cross_Brand_4  \n",
       "0                 0.331402  \n",
       "1                 0.336669  \n",
       "2                 0.341878  \n",
       "3                 0.347031  \n",
       "4                 0.352126  \n",
       "..                     ...  \n",
       "295               0.161935  \n",
       "296               0.160038  \n",
       "297               0.158156  \n",
       "298               0.156288  \n",
       "299               0.154434  \n",
       "\n",
       "[300 rows x 10 columns]"
      ]
     },
     "execution_count": 767,
     "metadata": {},
     "output_type": "execute_result"
    }
   ],
   "source": [
    "df_price_elasticities"
   ]
  },
  {
   "cell_type": "code",
   "execution_count": 768,
   "metadata": {},
   "outputs": [
    {
     "data": {
      "text/plain": [
       "Text(0.5, 1.0, 'Cross price Elasticity of brand 5 with respect to brand 4')"
      ]
     },
     "execution_count": 768,
     "metadata": {},
     "output_type": "execute_result"
    },
    {
     "data": {
      "image/png": "[encoded data removed]",
      "text/plain": [
       "<Figure size 648x432 with 1 Axes>"
      ]
     },
     "metadata": {},
     "output_type": "display_data"
    }
   ],
   "source": [
    "# display both \n",
    "plt.figure(figsize = (9,6))\n",
    "plt.plot(price_range, brand5_cross_brand4_price_elasticity, color = 'green')\n",
    "plt.plot(price_range, np.abs(df_price_elasticities.Brand_5), color = 'red')\n",
    "plt.legend(['cross brand5-brand4 price elasticity', 'Brand5 elasticity'])\n",
    "plt.xlabel('Price 4')\n",
    "plt.ylabel('Elasticity')\n",
    "plt.title('Cross price Elasticity of brand 5 with respect to brand 4')"
   ]
  },
  {
   "cell_type": "markdown",
   "metadata": {},
   "source": [
    "Analysis:\n",
    "1. the elasticities are always positive: this is beacue if the competitor increases their price, THEIR purchase probability for our OWN BRAND would increase!!!\n",
    "\n",
    "2. The elasticity show how much probability more if the competitor 4 increases their price \n",
    "\n",
    "\n",
    "Note: \n",
    "If the cross price elasticity of two products is greater than 0; E(cross brand) > 0; the two products are considered substitutes (eg two chocolate bars)\n",
    "If it were negative: non-substitutes\n",
    "\n",
    "note:\n",
    "if the absolute cross price elastitcity is greater than our own brand price elastictiy in absolute terms, then the other brand is considered a strong substitute; \n",
    "|E (cross brand)| > |E (own brand)| --> strong substitute\n",
    "\n",
    "Is brand 4 a strong substitute for brand 5? You can simply graph the absolute price elasticitites of brand 5 vs brand 4\n",
    "\n",
    "--> as we can see above, until a price of 1.6€, brand 4 is a strong substitute for brand 5; as such, if brand 4 had a substantially lower price, it would be a very strong competitor of brand 5. however, brand 4 so far offers prices only between 1.76 and 2.25; so well above the rang to be a storng competitor"
   ]
  },
  {
   "cell_type": "markdown",
   "metadata": {},
   "source": [
    "## compute Own and cross price Elasticity by segment"
   ]
  },
  {
   "cell_type": "markdown",
   "metadata": {},
   "source": [
    "#### Well-off has a strong preference for brand 4; so observe their behaviour as brand5 and brand 4 chagne their price"
   ]
  },
  {
   "cell_type": "code",
   "execution_count": 769,
   "metadata": {},
   "outputs": [],
   "source": [
    "brand_choice_s3 = df_pa[df_pa['Incidence'] == 1]\n",
    "\n",
    "brand_choice_s3 = brand_choice_s3[brand_choice_s3.Segment == 3]\n"
   ]
  },
  {
   "cell_type": "code",
   "execution_count": 770,
   "metadata": {},
   "outputs": [],
   "source": [
    "# model estimation\n",
    "Y = brand_choice_s3['Brand']\n",
    "brand_choice_s3 = pd.get_dummies(brand_choice_s3, columns = ['Brand'], prefix = 'Brand', prefix_sep = '_')\n",
    "\n",
    "# assign the prices as feattures\n",
    "features = ['Price_1', 'Price_2', 'Price_3', 'Price_4', 'Price_5']\n",
    "X = brand_choice_s3[features]\n",
    "\n",
    "# init the model instance and fit the data\n",
    "model_brand_choice_s3 = LogisticRegression(solver = 'sag', multi_class= 'multinomial', max_iter = 300)\n",
    "model_brand_choice_s3.fit(X, Y)\n",
    "\n",
    "# coefficients table for segment 3\n",
    "bc_coef = pd.DataFrame(model_brand_choice_s3.coef_.T)\n",
    "coeffieicnt_names = ['Coef_Brand_1', 'Coef_Brand_2', 'Coef_Brand_3', 'Coef_Brand_4', 'Coef_Brand_5']\n",
    "bc_coef.columns = [coeffieicnt_names]\n",
    "\n",
    "\n",
    "# adjust the prices in the rows\n",
    "prices_names = ['Price_1', 'Price_2', 'Price_3', 'Price_4', 'Price_5']\n",
    "bc_coef.index = [prices_names]\n",
    "\n",
    "#round all coef\n",
    "bc_coef = bc_coef.round(3)\n",
    "\n",
    "# now calcualte the purchase elasticity \n",
    "beta5_s3 = bc_coef.iloc[-1, -1]"
   ]
  },
  {
   "cell_type": "code",
   "execution_count": 771,
   "metadata": {},
   "outputs": [
    {
     "data": {
      "text/html": [
       "<div>\n",
       "<style scoped>\n",
       "    .dataframe tbody tr th:only-of-type {\n",
       "        vertical-align: middle;\n",
       "    }\n",
       "\n",
       "    .dataframe tbody tr th {\n",
       "        vertical-align: top;\n",
       "    }\n",
       "\n",
       "    .dataframe thead tr th {\n",
       "        text-align: left;\n",
       "    }\n",
       "</style>\n",
       "<table border=\"1\" class=\"dataframe\">\n",
       "  <thead>\n",
       "    <tr>\n",
       "      <th></th>\n",
       "      <th>Coef_Brand_1</th>\n",
       "      <th>Coef_Brand_2</th>\n",
       "      <th>Coef_Brand_3</th>\n",
       "      <th>Coef_Brand_4</th>\n",
       "      <th>Coef_Brand_5</th>\n",
       "    </tr>\n",
       "  </thead>\n",
       "  <tbody>\n",
       "    <tr>\n",
       "      <th>Price_1</th>\n",
       "      <td>-2.151</td>\n",
       "      <td>1.326</td>\n",
       "      <td>0.818</td>\n",
       "      <td>0.117</td>\n",
       "      <td>-0.109</td>\n",
       "    </tr>\n",
       "    <tr>\n",
       "      <th>Price_2</th>\n",
       "      <td>-0.959</td>\n",
       "      <td>-1.381</td>\n",
       "      <td>1.288</td>\n",
       "      <td>0.780</td>\n",
       "      <td>0.272</td>\n",
       "    </tr>\n",
       "    <tr>\n",
       "      <th>Price_3</th>\n",
       "      <td>2.008</td>\n",
       "      <td>-1.652</td>\n",
       "      <td>-0.491</td>\n",
       "      <td>0.029</td>\n",
       "      <td>0.107</td>\n",
       "    </tr>\n",
       "    <tr>\n",
       "      <th>Price_4</th>\n",
       "      <td>2.524</td>\n",
       "      <td>0.957</td>\n",
       "      <td>-0.255</td>\n",
       "      <td>-1.896</td>\n",
       "      <td>-1.331</td>\n",
       "    </tr>\n",
       "    <tr>\n",
       "      <th>Price_5</th>\n",
       "      <td>-0.994</td>\n",
       "      <td>-0.300</td>\n",
       "      <td>1.173</td>\n",
       "      <td>0.563</td>\n",
       "      <td>-0.443</td>\n",
       "    </tr>\n",
       "  </tbody>\n",
       "</table>\n",
       "</div>"
      ],
      "text/plain": [
       "        Coef_Brand_1 Coef_Brand_2 Coef_Brand_3 Coef_Brand_4 Coef_Brand_5\n",
       "Price_1       -2.151        1.326        0.818        0.117       -0.109\n",
       "Price_2       -0.959       -1.381        1.288        0.780        0.272\n",
       "Price_3        2.008       -1.652       -0.491        0.029        0.107\n",
       "Price_4        2.524        0.957       -0.255       -1.896       -1.331\n",
       "Price_5       -0.994       -0.300        1.173        0.563       -0.443"
      ]
     },
     "execution_count": 771,
     "metadata": {},
     "output_type": "execute_result"
    }
   ],
   "source": [
    "bc_coef"
   ]
  },
  {
   "cell_type": "code",
   "execution_count": 772,
   "metadata": {},
   "outputs": [],
   "source": [
    "# now calcualte the purchase elasticity \n",
    "beta5_s3 = bc_coef.iloc[-1, -1]"
   ]
  },
  {
   "cell_type": "markdown",
   "metadata": {},
   "source": [
    "### Own Brand Price Elasticity\n",
    "\n",
    "Vary own price (brand5) while keeping all other prices constant"
   ]
  },
  {
   "cell_type": "code",
   "execution_count": 773,
   "metadata": {},
   "outputs": [],
   "source": [
    "# brand 5 is the most expensive\n",
    "df_own_brand_5_s3 = pd.DataFrame(index = np.arange(price_range.size))\n",
    "\n",
    "df_own_brand_5_s3['Price_1'] = brand_choice_s3['Price_1'].mean()\n",
    "df_own_brand_5_s3['Price_2'] = brand_choice_s3['Price_2'].mean()\n",
    "df_own_brand_5_s3['Price_3'] = brand_choice_s3['Price_3'].mean()\n",
    "df_own_brand_5_s3['Price_4'] = brand_choice_s3['Price_4'].mean()\n",
    "\n",
    "# now for our brand we use the price range --> so for different price points what happens?\n",
    "df_own_brand_5_s3['Price_5'] = price_range"
   ]
  },
  {
   "cell_type": "code",
   "execution_count": 774,
   "metadata": {},
   "outputs": [],
   "source": [
    "# transform the data using the trained model\n",
    "predict_own_brand_5_s3 = model_brand_choice_s3.predict_proba(df_own_brand_5_s3)\n",
    "pr_own_brand_5_s3 = predict_own_brand_5_s3[:][: , 4]\n",
    "\n",
    "# you can still use the beta5 here as the shape of the elasticites and their magnitude in change is not affected\n",
    "# but I change it here to be correct\n",
    "own_price_elastiticty_brand_5_s3 = beta5_s3 * price_range * (1 - pr_own_brand_5_s3) \n",
    "df_price_elasticities['Brand_5_s3'] = own_price_elastiticty_brand_5_s3"
   ]
  },
  {
   "cell_type": "code",
   "execution_count": 775,
   "metadata": {},
   "outputs": [
    {
     "data": {
      "text/html": [
       "<div>\n",
       "<style scoped>\n",
       "    .dataframe tbody tr th:only-of-type {\n",
       "        vertical-align: middle;\n",
       "    }\n",
       "\n",
       "    .dataframe tbody tr th {\n",
       "        vertical-align: top;\n",
       "    }\n",
       "\n",
       "    .dataframe thead th {\n",
       "        text-align: right;\n",
       "    }\n",
       "</style>\n",
       "<table border=\"1\" class=\"dataframe\">\n",
       "  <thead>\n",
       "    <tr style=\"text-align: right;\">\n",
       "      <th></th>\n",
       "      <th>Price_Point</th>\n",
       "      <th>Mean_PE</th>\n",
       "      <th>PE_Segment_1</th>\n",
       "      <th>PE_Segment_2</th>\n",
       "      <th>PE_Segment_3</th>\n",
       "      <th>PE_Segment_0</th>\n",
       "      <th>Elasticity_Promotion_1</th>\n",
       "      <th>Elasticity_Promotion_0</th>\n",
       "      <th>Brand_5</th>\n",
       "      <th>Brand_5_Cross_Brand_4</th>\n",
       "      <th>Brand_5_s3</th>\n",
       "      <th>Brand_5_Cross_Brand_4_s3</th>\n",
       "    </tr>\n",
       "  </thead>\n",
       "  <tbody>\n",
       "    <tr>\n",
       "      <th>0</th>\n",
       "      <td>0.50</td>\n",
       "      <td>-0.094923</td>\n",
       "      <td>-0.119081</td>\n",
       "      <td>-0.030946</td>\n",
       "      <td>-0.168030</td>\n",
       "      <td>-0.210925</td>\n",
       "      <td>-0.125745</td>\n",
       "      <td>-0.195656</td>\n",
       "      <td>-0.048966</td>\n",
       "      <td>0.331402</td>\n",
       "      <td>-0.120839</td>\n",
       "      <td>0.196067</td>\n",
       "    </tr>\n",
       "    <tr>\n",
       "      <th>1</th>\n",
       "      <td>0.51</td>\n",
       "      <td>-0.098928</td>\n",
       "      <td>-0.123263</td>\n",
       "      <td>-0.032715</td>\n",
       "      <td>-0.172955</td>\n",
       "      <td>-0.217501</td>\n",
       "      <td>-0.129861</td>\n",
       "      <td>-0.201778</td>\n",
       "      <td>-0.050524</td>\n",
       "      <td>0.336669</td>\n",
       "      <td>-0.123296</td>\n",
       "      <td>0.199848</td>\n",
       "    </tr>\n",
       "    <tr>\n",
       "      <th>2</th>\n",
       "      <td>0.52</td>\n",
       "      <td>-0.103058</td>\n",
       "      <td>-0.127539</td>\n",
       "      <td>-0.034571</td>\n",
       "      <td>-0.177951</td>\n",
       "      <td>-0.224186</td>\n",
       "      <td>-0.134057</td>\n",
       "      <td>-0.208002</td>\n",
       "      <td>-0.052112</td>\n",
       "      <td>0.341878</td>\n",
       "      <td>-0.125758</td>\n",
       "      <td>0.203624</td>\n",
       "    </tr>\n",
       "    <tr>\n",
       "      <th>3</th>\n",
       "      <td>0.53</td>\n",
       "      <td>-0.107317</td>\n",
       "      <td>-0.131909</td>\n",
       "      <td>-0.036517</td>\n",
       "      <td>-0.183018</td>\n",
       "      <td>-0.230980</td>\n",
       "      <td>-0.138333</td>\n",
       "      <td>-0.214330</td>\n",
       "      <td>-0.053729</td>\n",
       "      <td>0.347031</td>\n",
       "      <td>-0.128223</td>\n",
       "      <td>0.207393</td>\n",
       "    </tr>\n",
       "    <tr>\n",
       "      <th>4</th>\n",
       "      <td>0.54</td>\n",
       "      <td>-0.111707</td>\n",
       "      <td>-0.136375</td>\n",
       "      <td>-0.038559</td>\n",
       "      <td>-0.188156</td>\n",
       "      <td>-0.237884</td>\n",
       "      <td>-0.142689</td>\n",
       "      <td>-0.220762</td>\n",
       "      <td>-0.055376</td>\n",
       "      <td>0.352126</td>\n",
       "      <td>-0.130694</td>\n",
       "      <td>0.211156</td>\n",
       "    </tr>\n",
       "    <tr>\n",
       "      <th>...</th>\n",
       "      <td>...</td>\n",
       "      <td>...</td>\n",
       "      <td>...</td>\n",
       "      <td>...</td>\n",
       "      <td>...</td>\n",
       "      <td>...</td>\n",
       "      <td>...</td>\n",
       "      <td>...</td>\n",
       "      <td>...</td>\n",
       "      <td>...</td>\n",
       "      <td>...</td>\n",
       "      <td>...</td>\n",
       "    </tr>\n",
       "    <tr>\n",
       "      <th>295</th>\n",
       "      <td>3.45</td>\n",
       "      <td>-7.998353</td>\n",
       "      <td>-5.679381</td>\n",
       "      <td>-12.544880</td>\n",
       "      <td>-4.024293</td>\n",
       "      <td>-5.072926</td>\n",
       "      <td>-4.862072</td>\n",
       "      <td>-4.983647</td>\n",
       "      <td>-3.225645</td>\n",
       "      <td>0.161935</td>\n",
       "      <td>-1.356358</td>\n",
       "      <td>0.064005</td>\n",
       "    </tr>\n",
       "    <tr>\n",
       "      <th>296</th>\n",
       "      <td>3.46</td>\n",
       "      <td>-8.023605</td>\n",
       "      <td>-5.699535</td>\n",
       "      <td>-12.581805</td>\n",
       "      <td>-4.039167</td>\n",
       "      <td>-5.089839</td>\n",
       "      <td>-4.880275</td>\n",
       "      <td>-5.000555</td>\n",
       "      <td>-3.241809</td>\n",
       "      <td>0.160038</td>\n",
       "      <td>-1.361776</td>\n",
       "      <td>0.061801</td>\n",
       "    </tr>\n",
       "    <tr>\n",
       "      <th>297</th>\n",
       "      <td>3.47</td>\n",
       "      <td>-8.048823</td>\n",
       "      <td>-5.719652</td>\n",
       "      <td>-12.618712</td>\n",
       "      <td>-4.054025</td>\n",
       "      <td>-5.106734</td>\n",
       "      <td>-4.898447</td>\n",
       "      <td>-5.017442</td>\n",
       "      <td>-3.257941</td>\n",
       "      <td>0.158156</td>\n",
       "      <td>-1.367192</td>\n",
       "      <td>0.059665</td>\n",
       "    </tr>\n",
       "    <tr>\n",
       "      <th>298</th>\n",
       "      <td>3.48</td>\n",
       "      <td>-8.074006</td>\n",
       "      <td>-5.739733</td>\n",
       "      <td>-12.655604</td>\n",
       "      <td>-4.068866</td>\n",
       "      <td>-5.123609</td>\n",
       "      <td>-4.916588</td>\n",
       "      <td>-5.034309</td>\n",
       "      <td>-3.274041</td>\n",
       "      <td>0.156288</td>\n",
       "      <td>-1.372607</td>\n",
       "      <td>0.057594</td>\n",
       "    </tr>\n",
       "    <tr>\n",
       "      <th>299</th>\n",
       "      <td>3.49</td>\n",
       "      <td>-8.099156</td>\n",
       "      <td>-5.759778</td>\n",
       "      <td>-12.692479</td>\n",
       "      <td>-4.083691</td>\n",
       "      <td>-5.140467</td>\n",
       "      <td>-4.934700</td>\n",
       "      <td>-5.051157</td>\n",
       "      <td>-3.290108</td>\n",
       "      <td>0.154434</td>\n",
       "      <td>-1.378021</td>\n",
       "      <td>0.055587</td>\n",
       "    </tr>\n",
       "  </tbody>\n",
       "</table>\n",
       "<p>300 rows × 12 columns</p>\n",
       "</div>"
      ],
      "text/plain": [
       "     Price_Point   Mean_PE  PE_Segment_1  PE_Segment_2  PE_Segment_3  \\\n",
       "0           0.50 -0.094923     -0.119081     -0.030946     -0.168030   \n",
       "1           0.51 -0.098928     -0.123263     -0.032715     -0.172955   \n",
       "2           0.52 -0.103058     -0.127539     -0.034571     -0.177951   \n",
       "3           0.53 -0.107317     -0.131909     -0.036517     -0.183018   \n",
       "4           0.54 -0.111707     -0.136375     -0.038559     -0.188156   \n",
       "..           ...       ...           ...           ...           ...   \n",
       "295         3.45 -7.998353     -5.679381    -12.544880     -4.024293   \n",
       "296         3.46 -8.023605     -5.699535    -12.581805     -4.039167   \n",
       "297         3.47 -8.048823     -5.719652    -12.618712     -4.054025   \n",
       "298         3.48 -8.074006     -5.739733    -12.655604     -4.068866   \n",
       "299         3.49 -8.099156     -5.759778    -12.692479     -4.083691   \n",
       "\n",
       "     PE_Segment_0  Elasticity_Promotion_1  Elasticity_Promotion_0   Brand_5  \\\n",
       "0       -0.210925               -0.125745               -0.195656 -0.048966   \n",
       "1       -0.217501               -0.129861               -0.201778 -0.050524   \n",
       "2       -0.224186               -0.134057               -0.208002 -0.052112   \n",
       "3       -0.230980               -0.138333               -0.214330 -0.053729   \n",
       "4       -0.237884               -0.142689               -0.220762 -0.055376   \n",
       "..            ...                     ...                     ...       ...   \n",
       "295     -5.072926               -4.862072               -4.983647 -3.225645   \n",
       "296     -5.089839               -4.880275               -5.000555 -3.241809   \n",
       "297     -5.106734               -4.898447               -5.017442 -3.257941   \n",
       "298     -5.123609               -4.916588               -5.034309 -3.274041   \n",
       "299     -5.140467               -4.934700               -5.051157 -3.290108   \n",
       "\n",
       "     Brand_5_Cross_Brand_4  Brand_5_s3  Brand_5_Cross_Brand_4_s3  \n",
       "0                 0.331402   -0.120839                  0.196067  \n",
       "1                 0.336669   -0.123296                  0.199848  \n",
       "2                 0.341878   -0.125758                  0.203624  \n",
       "3                 0.347031   -0.128223                  0.207393  \n",
       "4                 0.352126   -0.130694                  0.211156  \n",
       "..                     ...         ...                       ...  \n",
       "295               0.161935   -1.356358                  0.064005  \n",
       "296               0.160038   -1.361776                  0.061801  \n",
       "297               0.158156   -1.367192                  0.059665  \n",
       "298               0.156288   -1.372607                  0.057594  \n",
       "299               0.154434   -1.378021                  0.055587  \n",
       "\n",
       "[300 rows x 12 columns]"
      ]
     },
     "execution_count": 775,
     "metadata": {},
     "output_type": "execute_result"
    }
   ],
   "source": [
    "df_brand5_cross_brand4_s3 = pd.DataFrame(index=np.arange(price_range.size))\n",
    "\n",
    "# All other prices contain a constante! \n",
    "df_brand5_cross_brand4_s3['Price_1'] = brand_choice_s3['Price_1'].mean()\n",
    "df_brand5_cross_brand4_s3['Price_2'] = brand_choice_s3['Price_2'].mean()\n",
    "df_brand5_cross_brand4_s3['Price_3'] = brand_choice_s3['Price_3'].mean()\n",
    "\n",
    "# We want to examine the cross price; so price 4 contains the price range  \n",
    "df_brand5_cross_brand4_s3['Price_4'] = price_range\n",
    "\n",
    "# All other prices contain a constante! \n",
    "df_brand5_cross_brand4_s3['Price_5'] = brand_choice_s3['Price_5'].mean()\n",
    "\n",
    "\n",
    "# transform\n",
    "predict_brand5_cross_brand4_s3 = model_brand_choice_s3.predict_proba(df_brand5_cross_brand4_s3)\n",
    "\n",
    "# select the price beta of brand 4 wrt brand 5\n",
    "pr_cross_brand_5_s3 = predict_brand5_cross_brand4_s3[:][:, 3]\n",
    "\n",
    "\n",
    "# you can still use the beta5 here as the shape of the elasticites and their magnitude in change is not affected\n",
    "# but I change it here to be correct\n",
    "brand5_cross_brand4_price_elasticity_s3 = -beta5_s3 * price_range * pr_cross_brand_5_s3\n",
    "\n",
    "df_price_elasticities['Brand_5_Cross_Brand_4_s3'] = brand5_cross_brand4_price_elasticity_s3\n",
    "\n",
    "df_price_elasticities\n",
    "\n",
    "\n"
   ]
  },
  {
   "cell_type": "code",
   "execution_count": 776,
   "metadata": {},
   "outputs": [
    {
     "data": {
      "image/png": "[encoded data removed]",
      "text/plain": [
       "<Figure size 1440x288 with 3 Axes>"
      ]
     },
     "metadata": {},
     "output_type": "display_data"
    }
   ],
   "source": [
    "# plot the own and cross elasticites side by side using subplots\n",
    "fig, axs = plt.subplots(1 , 3, figsize = (20, 4))\n",
    "\n",
    "# access the first subplot\n",
    "axs[0].plot(price_range, own_price_elastiticty_brand_5_s3, color = 'orange')\n",
    "axs[0].set_title('Brand 5 Segment Well-Off')\n",
    "axs[0].set_xlabel('Price 5')\n",
    "\n",
    "# access the first subplot\n",
    "axs[1].plot(price_range, brand5_cross_brand4_price_elasticity_s3, color = 'red')\n",
    "axs[1].set_title('Cross Price Elastictiy of Brand 5 wrt Brand 4 Segment Well-off')\n",
    "axs[1].set_xlabel('Price 4')\n",
    "\n",
    "# look whether substitute\n",
    "axs[2].plot(price_range, np.abs(own_price_elastiticty_brand_5_s3), color = 'orange')\n",
    "axs[2].plot(price_range, np.abs(brand5_cross_brand4_price_elasticity_s3), color = 'red')\n",
    "axs[2].set_title('Substitute analysis')\n",
    "axs[2].set_xlabel('Price 4')\n",
    "\n",
    "for ax in axs.flat:\n",
    "    ax.set(ylabel = 'Elasticity')"
   ]
  },
  {
   "cell_type": "markdown",
   "metadata": {},
   "source": [
    "Analysis:\n",
    "Note: while the x axis in both plots refers to the same price range; the first plot refers to price changes in brand 5 and the second plot (right) referst to price changes in brand 4\n",
    "\n",
    "- the range of prices for brand 5 is between 2.11€ and 2.80€ --> so focus on that price range in the left graph\n",
    "--> the graph shows taht our own customer is elastic to our own graph in tha brand (E > 1), which is to be expected as the Segment 3 ( well off ) prefer brand 4 over OWN BRAND 5 (60% of them buy brand 4)\n",
    "\n",
    "- the cross price elasticity is positive, indicating that a price change in brand 4 would increase the probability of our brand being purchased\n",
    "- additionally, becuase the cross price elasticity of brand 5 is positive this indeicates that brand 4 is a substitue for brand 5 for the segment 3 (well offs) but only up to 2€ in price for brand 4\n",
    "\n",
    "\n",
    "now consider the following case:\n",
    "- brand 5 price range in hte data is from 2.11€ to 2.80€ \n",
    "- brand 4 price range in the data is from 1.75€ to 2.25e\n",
    "- Assume that brand 5 (own brand) costs 2.4€, so our own price elastictiy is about \"~-2\"; then say that brand 4 costs 2€ with a cross price elastictiy at that point of 1.52; if our competitor (brand 4) would lower their prices by 1%, what would happen to the purchase probability of our own brand? Answer: the purchase probabability of our brand (brand 5) based on the cross price elastictiy would fall by 1.52%. BUT! if we would reduce our brand purchase probability would INCREASE in a 2% increase! \n",
    "\n",
    "--> So the net effect of a price war would be in our favour as the net effect of price decrease on both sides would be in our favour as our elasticity is steeper at the current point than the cross brand elastictiy for brand 4\n",
    "\n",
    "\n",
    "Or we just keep up with our competitor; if the competitor decreases their price by 1%, we only have to decrease our price by 0.75% to stay at the same customer count\n"
   ]
  },
  {
   "cell_type": "markdown",
   "metadata": {},
   "source": [
    "## Homework - Solution\n",
    "\n",
    "Do own & cross price elastictiy to every brand and to every segment\n",
    "\n",
    "As such:\n",
    "1. Calculate the Own Price Elasticity wrt to all other prices for each segment for brand 5\n",
    "2. Calculate the cross price elasticity of brand 5 and brand 4 for each segment\n",
    "\n",
    "\n",
    "calculate all Segments "
   ]
  },
  {
   "cell_type": "code",
   "execution_count": 777,
   "metadata": {},
   "outputs": [],
   "source": [
    "brand_choice_s0 = df_pa[df_pa['Incidence'] == 1]\n",
    "brand_choice_s0 = brand_choice_s0[brand_choice_s0['Segment'] == 0]\n"
   ]
  },
  {
   "cell_type": "code",
   "execution_count": 778,
   "metadata": {},
   "outputs": [],
   "source": [
    "Y = brand_choice_s0['Brand']\n",
    "brand_choice_s0 = pd.get_dummies(brand_choice_s0, columns=['Brand'], prefix = 'Brand', prefix_sep = '_')\n",
    "X = brand_choice_s0[features]\n",
    "model_brand_choice_s0 = LogisticRegression(solver = 'sag', multi_class = 'multinomial', max_iter = 200)\n",
    "model_brand_choice_s0.fit(X, Y)\n",
    "\n",
    "bc_coef = pd.DataFrame(np.transpose(model_brand_choice_s0.coef_))\n",
    "\n",
    "coefficient_names = ['Coef_Brand_1', 'Coef_Brand_2', 'Coef_Brand_3', 'Coef_Brand_4', 'Coef_Brand_5']\n",
    "prices_names = ['Price_1', 'Price_2', 'Price_3', 'Price_4', 'Price_5']\n",
    "bc_coef.columns = [coefficient_names]\n",
    "bc_coef.index = [prices_names]\n",
    "bc_coef = bc_coef.round(3)\n",
    "\n",
    "# now calcualte the purchase elasticity \n",
    "beta5_s0 = bc_coef.iloc[-1, -1]"
   ]
  },
  {
   "cell_type": "markdown",
   "metadata": {},
   "source": [
    "### $\\color{blue}{\\text{Own-Brand Price Elasticity}}$"
   ]
  },
  {
   "cell_type": "code",
   "execution_count": 779,
   "metadata": {},
   "outputs": [],
   "source": [
    "df_own_brand_5_s0 = pd.DataFrame(index = np.arange(price_range.size))\n",
    "df_own_brand_5_s0['Price_1'] = brand_choice_s0['Price_1'].mean()\n",
    "df_own_brand_5_s0['Price_2'] = brand_choice_s0['Price_2'].mean()\n",
    "df_own_brand_5_s0['Price_3'] = brand_choice_s0['Price_3'].mean()\n",
    "df_own_brand_5_s0['Price_4'] = brand_choice_s0['Price_4'].mean()\n",
    "df_own_brand_5_s0['Price_5'] = price_range\n",
    "\n",
    "predict_own_brand_5_s0 = model_brand_choice_s0.predict_proba(df_own_brand_5_s0)\n",
    "pr_own_brand_5_s0 = predict_own_brand_5_s0[: ][: , 4]\n",
    "\n",
    "own_price_elasticity_brand_5_s0 =  beta5_s0 * price_range * (1 - pr_own_brand_5_s0)\n",
    "df_price_elasticities.insert(10, column = 'Brand 5 S0', value = own_price_elasticity_brand_5_s0)"
   ]
  },
  {
   "cell_type": "markdown",
   "metadata": {},
   "source": [
    "### $\\color{blue}{\\text{Cross-Brand Price Elasticity}}$"
   ]
  },
  {
   "cell_type": "code",
   "execution_count": 780,
   "metadata": {},
   "outputs": [],
   "source": [
    "df_brand5_cross_brand4_s0 = pd.DataFrame(index = np.arange(price_range.size))\n",
    "df_brand5_cross_brand4_s0['Price_1'] = brand_choice_s0['Price_1'].mean()\n",
    "df_brand5_cross_brand4_s0['Price_2'] = brand_choice_s0['Price_2'].mean()\n",
    "df_brand5_cross_brand4_s0['Price_3'] = brand_choice_s0['Price_3'].mean()\n",
    "df_brand5_cross_brand4_s0['Price_4'] = price_range\n",
    "df_brand5_cross_brand4_s0['Price_5'] = brand_choice_s0['Price_5'].mean()\n",
    "\n",
    "predict_brand5_cross_brand4_s0 = model_brand_choice_s0.predict_proba(df_brand5_cross_brand4_s0)\n",
    "pr_cross_brand_5_s0 = predict_brand5_cross_brand4_s0[: ][: , 3]\n",
    "\n",
    "brand5_cross_brand4_price_elasticity_s0 = -beta5_s0 * price_range * pr_cross_brand_5_s0\n",
    "df_price_elasticities.insert(11, column = 'Brand_5_Cross_Brand_4_S0', value = brand5_cross_brand4_price_elasticity_s0)"
   ]
  },
  {
   "cell_type": "markdown",
   "metadata": {},
   "source": [
    "### $\\color{green}{\\text{Career-Focused}}$"
   ]
  },
  {
   "cell_type": "code",
   "execution_count": 781,
   "metadata": {},
   "outputs": [],
   "source": [
    "brand_choice_s1 = df_pa[df_pa['Incidence'] == 1]\n",
    "brand_choice_s1 = brand_choice_s1[brand_choice_s1['Segment'] == 1]"
   ]
  },
  {
   "cell_type": "code",
   "execution_count": 782,
   "metadata": {},
   "outputs": [],
   "source": [
    "Y = brand_choice_s1['Brand']\n",
    "brand_choice_s1 = pd.get_dummies(brand_choice_s1, columns=['Brand'], prefix = 'Brand', prefix_sep = '_')\n",
    "X = brand_choice_s1[features]\n",
    "model_brand_choice_s1 = LogisticRegression(solver = 'sag', multi_class = 'multinomial', max_iter = 300)\n",
    "model_brand_choice_s1.fit(X, Y)\n",
    "\n",
    "bc_coef = pd.DataFrame(np.transpose(model_brand_choice_s1.coef_))\n",
    "\n",
    "coefficient_names = ['Coef_Brand_1', 'Coef_Brand_2', 'Coef_Brand_3', 'Coef_Brand_4', 'Coef_Brand_5']\n",
    "prices_names = ['Price_1', 'Price_2', 'Price_3', 'Price_4', 'Price_5']\n",
    "bc_coef.columns = [coefficient_names]\n",
    "bc_coef.index = [prices_names]\n",
    "bc_coef = bc_coef.round(3)\n",
    "\n",
    "# now calcualte the purchase elasticity \n",
    "beta5_s1 = bc_coef.iloc[-1, -1]"
   ]
  },
  {
   "cell_type": "markdown",
   "metadata": {},
   "source": [
    "### $\\color{green}{\\text{Own-Brand Price Elasticity}}$"
   ]
  },
  {
   "cell_type": "code",
   "execution_count": 783,
   "metadata": {},
   "outputs": [],
   "source": [
    "df_own_brand_5_s1 = pd.DataFrame(index = np.arange(price_range.size))\n",
    "df_own_brand_5_s1['Price_1'] = brand_choice_s1['Price_1'].mean()\n",
    "df_own_brand_5_s1['Price_2'] = brand_choice_s1['Price_2'].mean()\n",
    "df_own_brand_5_s1['Price_3'] = brand_choice_s1['Price_3'].mean()\n",
    "df_own_brand_5_s1['Price_4'] = brand_choice_s1['Price_4'].mean()\n",
    "df_own_brand_5_s1['Price_5'] = price_range\n",
    "\n",
    "predict_own_brand_5_s1 = model_brand_choice_s1.predict_proba(df_own_brand_5_s1)\n",
    "pr_own_brand_5_s1 = predict_own_brand_5_s1[: ][: , 4]\n",
    "\n",
    "own_price_elasticity_brand_5_s1 =  beta5_s1 * price_range * (1 - pr_own_brand_5_s1)\n",
    "df_price_elasticities.insert(12, column = 'Brand 5 S1', value = own_price_elasticity_brand_5_s1)"
   ]
  },
  {
   "cell_type": "markdown",
   "metadata": {},
   "source": [
    "### $\\color{green}{\\text{Cross-Brand Price Elasticity}}$"
   ]
  },
  {
   "cell_type": "code",
   "execution_count": 784,
   "metadata": {},
   "outputs": [],
   "source": [
    "df_brand5_cross_brand4_s1 = pd.DataFrame(index = np.arange(price_range.size))\n",
    "df_brand5_cross_brand4_s1['Price_1'] = brand_choice_s1['Price_1'].mean()\n",
    "df_brand5_cross_brand4_s1['Price_2'] = brand_choice_s1['Price_2'].mean()\n",
    "df_brand5_cross_brand4_s1['Price_3'] = brand_choice_s1['Price_3'].mean()\n",
    "df_brand5_cross_brand4_s1['Price_4'] = price_range\n",
    "df_brand5_cross_brand4_s1['Price_5'] = brand_choice_s1['Price_5'].mean()\n",
    "\n",
    "predict_brand5_cross_brand4_s1 = model_brand_choice_s1.predict_proba(df_brand5_cross_brand4_s1)\n",
    "pr_cross_brand_5_s1 = predict_brand5_cross_brand4_s1[: ][: , 3]\n",
    "\n",
    "brand5_cross_brand4_price_elasticity_s1 = -beta5_s1 * price_range * pr_cross_brand_5_s1\n",
    "df_price_elasticities.insert(13, column = 'Brand_5_Cross_Brand_4_S1', value = brand5_cross_brand4_price_elasticity_s1)"
   ]
  },
  {
   "cell_type": "markdown",
   "metadata": {},
   "source": [
    "### $\\color{red}{\\text{Fewer-Opportunities}}$"
   ]
  },
  {
   "cell_type": "code",
   "execution_count": 785,
   "metadata": {},
   "outputs": [],
   "source": [
    "brand_choice_s2 = df_pa[df_pa['Incidence'] == 1]\n",
    "brand_choice_s2 = brand_choice_s2[brand_choice_s2['Segment'] == 2]"
   ]
  },
  {
   "cell_type": "code",
   "execution_count": 786,
   "metadata": {},
   "outputs": [],
   "source": [
    "Y = brand_choice_s2['Brand']\n",
    "brand_choice_s2 = pd.get_dummies(brand_choice_s2, columns=['Brand'], prefix = 'Brand', prefix_sep = '_')\n",
    "X = brand_choice_s2[features]\n",
    "model_brand_choice_s2 = LogisticRegression(solver = 'sag', multi_class = 'multinomial', max_iter = 300)\n",
    "model_brand_choice_s2.fit(X, Y)\n",
    "\n",
    "bc_coef = pd.DataFrame(np.transpose(model_brand_choice_s2.coef_))\n",
    "\n",
    "coefficient_names = ['Coef_Brand_1', 'Coef_Brand_2', 'Coef_Brand_3', 'Coef_Brand_4', 'Coef_Brand_5']\n",
    "prices_names = ['Price_1', 'Price_2', 'Price_3', 'Price_4', 'Price_5']\n",
    "bc_coef.columns = [coefficient_names]\n",
    "bc_coef.index = [prices_names]\n",
    "bc_coef = bc_coef.round(3)\n",
    "\n",
    "# now calcualte the purchase elasticity \n",
    "beta5_s2 = bc_coef.iloc[-1, -1]"
   ]
  },
  {
   "cell_type": "markdown",
   "metadata": {},
   "source": [
    "### $\\color{red}{\\text{Own-Brand Price Elasticity}}$"
   ]
  },
  {
   "cell_type": "code",
   "execution_count": 787,
   "metadata": {},
   "outputs": [],
   "source": [
    "df_own_brand_5_s2 = pd.DataFrame(index = np.arange(price_range.size))\n",
    "df_own_brand_5_s2['Price_1'] = brand_choice_s2['Price_1'].mean()\n",
    "df_own_brand_5_s2['Price_2'] = brand_choice_s2['Price_2'].mean()\n",
    "df_own_brand_5_s2['Price_3'] = brand_choice_s2['Price_3'].mean()\n",
    "df_own_brand_5_s2['Price_4'] = brand_choice_s2['Price_4'].mean()\n",
    "df_own_brand_5_s2['Price_5'] = price_range\n",
    "\n",
    "predict_own_brand_5_s2 = model_brand_choice_s2.predict_proba(df_own_brand_5_s2)\n",
    "pr_own_brand_5_s2 = predict_own_brand_5_s2[: ][: , 4]\n",
    "\n",
    "own_price_elasticity_brand_5_s2 =  beta5_s2 * price_range * (1 - pr_own_brand_5_s2)\n",
    "df_price_elasticities.insert(14, column = 'Brand 5 S2', value = own_price_elasticity_brand_5_s2)"
   ]
  },
  {
   "cell_type": "markdown",
   "metadata": {},
   "source": [
    "### $\\color{red}{\\text{Cross-Brand Price Elasticity}}$"
   ]
  },
  {
   "cell_type": "code",
   "execution_count": 788,
   "metadata": {},
   "outputs": [
    {
     "data": {
      "text/html": [
       "<div>\n",
       "<style scoped>\n",
       "    .dataframe tbody tr th:only-of-type {\n",
       "        vertical-align: middle;\n",
       "    }\n",
       "\n",
       "    .dataframe tbody tr th {\n",
       "        vertical-align: top;\n",
       "    }\n",
       "\n",
       "    .dataframe thead th {\n",
       "        text-align: right;\n",
       "    }\n",
       "</style>\n",
       "<table border=\"1\" class=\"dataframe\">\n",
       "  <thead>\n",
       "    <tr style=\"text-align: right;\">\n",
       "      <th></th>\n",
       "      <th>Price_Point</th>\n",
       "      <th>Mean_PE</th>\n",
       "      <th>PE_Segment_1</th>\n",
       "      <th>PE_Segment_2</th>\n",
       "      <th>PE_Segment_3</th>\n",
       "      <th>PE_Segment_0</th>\n",
       "      <th>Elasticity_Promotion_1</th>\n",
       "      <th>Elasticity_Promotion_0</th>\n",
       "      <th>Brand_5</th>\n",
       "      <th>Brand_5_Cross_Brand_4</th>\n",
       "      <th>Brand 5 S0</th>\n",
       "      <th>Brand_5_Cross_Brand_4_S0</th>\n",
       "      <th>Brand 5 S1</th>\n",
       "      <th>Brand_5_Cross_Brand_4_S1</th>\n",
       "      <th>Brand 5 S2</th>\n",
       "      <th>Brand_5_Cross_Brand_4_S2</th>\n",
       "      <th>Brand_5_s3</th>\n",
       "      <th>Brand_5_Cross_Brand_4_s3</th>\n",
       "    </tr>\n",
       "  </thead>\n",
       "  <tbody>\n",
       "    <tr>\n",
       "      <th>0</th>\n",
       "      <td>0.50</td>\n",
       "      <td>-0.094923</td>\n",
       "      <td>-0.119081</td>\n",
       "      <td>-0.030946</td>\n",
       "      <td>-0.168030</td>\n",
       "      <td>-0.210925</td>\n",
       "      <td>-0.125745</td>\n",
       "      <td>-0.195656</td>\n",
       "      <td>-0.048966</td>\n",
       "      <td>0.331402</td>\n",
       "      <td>-0.122321</td>\n",
       "      <td>0.183860</td>\n",
       "      <td>-0.022131</td>\n",
       "      <td>0.098098</td>\n",
       "      <td>-0.002786</td>\n",
       "      <td>0.488142</td>\n",
       "      <td>-0.120839</td>\n",
       "      <td>0.196067</td>\n",
       "    </tr>\n",
       "    <tr>\n",
       "      <th>1</th>\n",
       "      <td>0.51</td>\n",
       "      <td>-0.098928</td>\n",
       "      <td>-0.123263</td>\n",
       "      <td>-0.032715</td>\n",
       "      <td>-0.172955</td>\n",
       "      <td>-0.217501</td>\n",
       "      <td>-0.129861</td>\n",
       "      <td>-0.201778</td>\n",
       "      <td>-0.050524</td>\n",
       "      <td>0.336669</td>\n",
       "      <td>-0.125531</td>\n",
       "      <td>0.186031</td>\n",
       "      <td>-0.022679</td>\n",
       "      <td>0.099349</td>\n",
       "      <td>-0.002951</td>\n",
       "      <td>0.494316</td>\n",
       "      <td>-0.123296</td>\n",
       "      <td>0.199848</td>\n",
       "    </tr>\n",
       "    <tr>\n",
       "      <th>2</th>\n",
       "      <td>0.52</td>\n",
       "      <td>-0.103058</td>\n",
       "      <td>-0.127539</td>\n",
       "      <td>-0.034571</td>\n",
       "      <td>-0.177951</td>\n",
       "      <td>-0.224186</td>\n",
       "      <td>-0.134057</td>\n",
       "      <td>-0.208002</td>\n",
       "      <td>-0.052112</td>\n",
       "      <td>0.341878</td>\n",
       "      <td>-0.128777</td>\n",
       "      <td>0.188148</td>\n",
       "      <td>-0.023231</td>\n",
       "      <td>0.100574</td>\n",
       "      <td>-0.003126</td>\n",
       "      <td>0.500359</td>\n",
       "      <td>-0.125758</td>\n",
       "      <td>0.203624</td>\n",
       "    </tr>\n",
       "    <tr>\n",
       "      <th>3</th>\n",
       "      <td>0.53</td>\n",
       "      <td>-0.107317</td>\n",
       "      <td>-0.131909</td>\n",
       "      <td>-0.036517</td>\n",
       "      <td>-0.183018</td>\n",
       "      <td>-0.230980</td>\n",
       "      <td>-0.138333</td>\n",
       "      <td>-0.214330</td>\n",
       "      <td>-0.053729</td>\n",
       "      <td>0.347031</td>\n",
       "      <td>-0.132060</td>\n",
       "      <td>0.190211</td>\n",
       "      <td>-0.023788</td>\n",
       "      <td>0.101774</td>\n",
       "      <td>-0.003309</td>\n",
       "      <td>0.506271</td>\n",
       "      <td>-0.128223</td>\n",
       "      <td>0.207393</td>\n",
       "    </tr>\n",
       "    <tr>\n",
       "      <th>4</th>\n",
       "      <td>0.54</td>\n",
       "      <td>-0.111707</td>\n",
       "      <td>-0.136375</td>\n",
       "      <td>-0.038559</td>\n",
       "      <td>-0.188156</td>\n",
       "      <td>-0.237884</td>\n",
       "      <td>-0.142689</td>\n",
       "      <td>-0.220762</td>\n",
       "      <td>-0.055376</td>\n",
       "      <td>0.352126</td>\n",
       "      <td>-0.135381</td>\n",
       "      <td>0.192221</td>\n",
       "      <td>-0.024349</td>\n",
       "      <td>0.102949</td>\n",
       "      <td>-0.003502</td>\n",
       "      <td>0.512053</td>\n",
       "      <td>-0.130694</td>\n",
       "      <td>0.211156</td>\n",
       "    </tr>\n",
       "    <tr>\n",
       "      <th>...</th>\n",
       "      <td>...</td>\n",
       "      <td>...</td>\n",
       "      <td>...</td>\n",
       "      <td>...</td>\n",
       "      <td>...</td>\n",
       "      <td>...</td>\n",
       "      <td>...</td>\n",
       "      <td>...</td>\n",
       "      <td>...</td>\n",
       "      <td>...</td>\n",
       "      <td>...</td>\n",
       "      <td>...</td>\n",
       "      <td>...</td>\n",
       "      <td>...</td>\n",
       "      <td>...</td>\n",
       "      <td>...</td>\n",
       "      <td>...</td>\n",
       "      <td>...</td>\n",
       "    </tr>\n",
       "    <tr>\n",
       "      <th>295</th>\n",
       "      <td>3.45</td>\n",
       "      <td>-7.998353</td>\n",
       "      <td>-5.679381</td>\n",
       "      <td>-12.544880</td>\n",
       "      <td>-4.024293</td>\n",
       "      <td>-5.072926</td>\n",
       "      <td>-4.862072</td>\n",
       "      <td>-4.983647</td>\n",
       "      <td>-3.225645</td>\n",
       "      <td>0.161935</td>\n",
       "      <td>-3.793497</td>\n",
       "      <td>0.025397</td>\n",
       "      <td>-0.648435</td>\n",
       "      <td>0.034549</td>\n",
       "      <td>-10.069740</td>\n",
       "      <td>0.062921</td>\n",
       "      <td>-1.356358</td>\n",
       "      <td>0.064005</td>\n",
       "    </tr>\n",
       "    <tr>\n",
       "      <th>296</th>\n",
       "      <td>3.46</td>\n",
       "      <td>-8.023605</td>\n",
       "      <td>-5.699535</td>\n",
       "      <td>-12.581805</td>\n",
       "      <td>-4.039167</td>\n",
       "      <td>-5.089839</td>\n",
       "      <td>-4.880275</td>\n",
       "      <td>-5.000555</td>\n",
       "      <td>-3.241809</td>\n",
       "      <td>0.160038</td>\n",
       "      <td>-3.808180</td>\n",
       "      <td>0.025021</td>\n",
       "      <td>-0.653375</td>\n",
       "      <td>0.034236</td>\n",
       "      <td>-10.100497</td>\n",
       "      <td>0.061685</td>\n",
       "      <td>-1.361776</td>\n",
       "      <td>0.061801</td>\n",
       "    </tr>\n",
       "    <tr>\n",
       "      <th>297</th>\n",
       "      <td>3.47</td>\n",
       "      <td>-8.048823</td>\n",
       "      <td>-5.719652</td>\n",
       "      <td>-12.618712</td>\n",
       "      <td>-4.054025</td>\n",
       "      <td>-5.106734</td>\n",
       "      <td>-4.898447</td>\n",
       "      <td>-5.017442</td>\n",
       "      <td>-3.257941</td>\n",
       "      <td>0.158156</td>\n",
       "      <td>-3.822816</td>\n",
       "      <td>0.024650</td>\n",
       "      <td>-0.658344</td>\n",
       "      <td>0.033924</td>\n",
       "      <td>-10.131200</td>\n",
       "      <td>0.060468</td>\n",
       "      <td>-1.367192</td>\n",
       "      <td>0.059665</td>\n",
       "    </tr>\n",
       "    <tr>\n",
       "      <th>298</th>\n",
       "      <td>3.48</td>\n",
       "      <td>-8.074006</td>\n",
       "      <td>-5.739733</td>\n",
       "      <td>-12.655604</td>\n",
       "      <td>-4.068866</td>\n",
       "      <td>-5.123609</td>\n",
       "      <td>-4.916588</td>\n",
       "      <td>-5.034309</td>\n",
       "      <td>-3.274041</td>\n",
       "      <td>0.156288</td>\n",
       "      <td>-3.837405</td>\n",
       "      <td>0.024283</td>\n",
       "      <td>-0.663340</td>\n",
       "      <td>0.033615</td>\n",
       "      <td>-10.161851</td>\n",
       "      <td>0.059270</td>\n",
       "      <td>-1.372607</td>\n",
       "      <td>0.057594</td>\n",
       "    </tr>\n",
       "    <tr>\n",
       "      <th>299</th>\n",
       "      <td>3.49</td>\n",
       "      <td>-8.099156</td>\n",
       "      <td>-5.759778</td>\n",
       "      <td>-12.692479</td>\n",
       "      <td>-4.083691</td>\n",
       "      <td>-5.140467</td>\n",
       "      <td>-4.934700</td>\n",
       "      <td>-5.051157</td>\n",
       "      <td>-3.290108</td>\n",
       "      <td>0.154434</td>\n",
       "      <td>-3.851949</td>\n",
       "      <td>0.023921</td>\n",
       "      <td>-0.668364</td>\n",
       "      <td>0.033308</td>\n",
       "      <td>-10.192451</td>\n",
       "      <td>0.058091</td>\n",
       "      <td>-1.378021</td>\n",
       "      <td>0.055587</td>\n",
       "    </tr>\n",
       "  </tbody>\n",
       "</table>\n",
       "<p>300 rows × 18 columns</p>\n",
       "</div>"
      ],
      "text/plain": [
       "     Price_Point   Mean_PE  PE_Segment_1  PE_Segment_2  PE_Segment_3  \\\n",
       "0           0.50 -0.094923     -0.119081     -0.030946     -0.168030   \n",
       "1           0.51 -0.098928     -0.123263     -0.032715     -0.172955   \n",
       "2           0.52 -0.103058     -0.127539     -0.034571     -0.177951   \n",
       "3           0.53 -0.107317     -0.131909     -0.036517     -0.183018   \n",
       "4           0.54 -0.111707     -0.136375     -0.038559     -0.188156   \n",
       "..           ...       ...           ...           ...           ...   \n",
       "295         3.45 -7.998353     -5.679381    -12.544880     -4.024293   \n",
       "296         3.46 -8.023605     -5.699535    -12.581805     -4.039167   \n",
       "297         3.47 -8.048823     -5.719652    -12.618712     -4.054025   \n",
       "298         3.48 -8.074006     -5.739733    -12.655604     -4.068866   \n",
       "299         3.49 -8.099156     -5.759778    -12.692479     -4.083691   \n",
       "\n",
       "     PE_Segment_0  Elasticity_Promotion_1  Elasticity_Promotion_0   Brand_5  \\\n",
       "0       -0.210925               -0.125745               -0.195656 -0.048966   \n",
       "1       -0.217501               -0.129861               -0.201778 -0.050524   \n",
       "2       -0.224186               -0.134057               -0.208002 -0.052112   \n",
       "3       -0.230980               -0.138333               -0.214330 -0.053729   \n",
       "4       -0.237884               -0.142689               -0.220762 -0.055376   \n",
       "..            ...                     ...                     ...       ...   \n",
       "295     -5.072926               -4.862072               -4.983647 -3.225645   \n",
       "296     -5.089839               -4.880275               -5.000555 -3.241809   \n",
       "297     -5.106734               -4.898447               -5.017442 -3.257941   \n",
       "298     -5.123609               -4.916588               -5.034309 -3.274041   \n",
       "299     -5.140467               -4.934700               -5.051157 -3.290108   \n",
       "\n",
       "     Brand_5_Cross_Brand_4  Brand 5 S0  Brand_5_Cross_Brand_4_S0  Brand 5 S1  \\\n",
       "0                 0.331402   -0.122321                  0.183860   -0.022131   \n",
       "1                 0.336669   -0.125531                  0.186031   -0.022679   \n",
       "2                 0.341878   -0.128777                  0.188148   -0.023231   \n",
       "3                 0.347031   -0.132060                  0.190211   -0.023788   \n",
       "4                 0.352126   -0.135381                  0.192221   -0.024349   \n",
       "..                     ...         ...                       ...         ...   \n",
       "295               0.161935   -3.793497                  0.025397   -0.648435   \n",
       "296               0.160038   -3.808180                  0.025021   -0.653375   \n",
       "297               0.158156   -3.822816                  0.024650   -0.658344   \n",
       "298               0.156288   -3.837405                  0.024283   -0.663340   \n",
       "299               0.154434   -3.851949                  0.023921   -0.668364   \n",
       "\n",
       "     Brand_5_Cross_Brand_4_S1  Brand 5 S2  Brand_5_Cross_Brand_4_S2  \\\n",
       "0                    0.098098   -0.002786                  0.488142   \n",
       "1                    0.099349   -0.002951                  0.494316   \n",
       "2                    0.100574   -0.003126                  0.500359   \n",
       "3                    0.101774   -0.003309                  0.506271   \n",
       "4                    0.102949   -0.003502                  0.512053   \n",
       "..                        ...         ...                       ...   \n",
       "295                  0.034549  -10.069740                  0.062921   \n",
       "296                  0.034236  -10.100497                  0.061685   \n",
       "297                  0.033924  -10.131200                  0.060468   \n",
       "298                  0.033615  -10.161851                  0.059270   \n",
       "299                  0.033308  -10.192451                  0.058091   \n",
       "\n",
       "     Brand_5_s3  Brand_5_Cross_Brand_4_s3  \n",
       "0     -0.120839                  0.196067  \n",
       "1     -0.123296                  0.199848  \n",
       "2     -0.125758                  0.203624  \n",
       "3     -0.128223                  0.207393  \n",
       "4     -0.130694                  0.211156  \n",
       "..          ...                       ...  \n",
       "295   -1.356358                  0.064005  \n",
       "296   -1.361776                  0.061801  \n",
       "297   -1.367192                  0.059665  \n",
       "298   -1.372607                  0.057594  \n",
       "299   -1.378021                  0.055587  \n",
       "\n",
       "[300 rows x 18 columns]"
      ]
     },
     "execution_count": 788,
     "metadata": {},
     "output_type": "execute_result"
    }
   ],
   "source": [
    "df_brand5_cross_brand4_s2 = pd.DataFrame(index = np.arange(price_range.size))\n",
    "df_brand5_cross_brand4_s2['Price_1'] = brand_choice_s2['Price_1'].mean()\n",
    "df_brand5_cross_brand4_s2['Price_2'] = brand_choice_s2['Price_2'].mean()\n",
    "df_brand5_cross_brand4_s2['Price_3'] = brand_choice_s2['Price_3'].mean()\n",
    "df_brand5_cross_brand4_s2['Price_4'] = price_range\n",
    "df_brand5_cross_brand4_s2['Price_5'] = brand_choice_s2['Price_5'].mean()\n",
    "\n",
    "predict_brand5_cross_brand4_s2 = model_brand_choice_s2.predict_proba(df_brand5_cross_brand4_s2)\n",
    "pr_cross_brand_5_s2 = predict_brand5_cross_brand4_s2[: ][: , 3]\n",
    "\n",
    "brand5_cross_brand4_price_elasticity_s2 = -beta5_s2 * price_range * pr_cross_brand_5_s2\n",
    "df_price_elasticities.insert(15, column = 'Brand_5_Cross_Brand_4_S2', value = brand5_cross_brand4_price_elasticity_s2)\n",
    "df_price_elasticities"
   ]
  },
  {
   "cell_type": "markdown",
   "metadata": {},
   "source": [
    "## Plot all"
   ]
  },
  {
   "cell_type": "code",
   "execution_count": 792,
   "metadata": {},
   "outputs": [
    {
     "data": {
      "text/plain": [
       "Text(0.5, 0, 'Price 4')"
      ]
     },
     "execution_count": 792,
     "metadata": {},
     "output_type": "execute_result"
    },
    {
     "data": {
      "image/png": "[encoded data removed]",
      "text/plain": [
       "<Figure size 792x648 with 10 Axes>"
      ]
     },
     "metadata": {},
     "output_type": "display_data"
    }
   ],
   "source": [
    "fig1, (ax1, ax2, ax3, ax4, ax5) = plt.subplots(5, 2, figsize = (11, 9), sharex = True)\n",
    "ax1[0].plot(price_range, own_price_elastiticty_brand_5, 'tab:grey')\n",
    "ax1[0].set_title('Brand 5 Average Customer')\n",
    "ax1[0].set_ylabel('Elasticity')\n",
    "ax1[1].plot(price_range, brand5_cross_brand4_price_elasticity, 'tab:grey')\n",
    "ax1[1].set_title('Cross Brand 4 Average Customer')\n",
    "\n",
    "\n",
    "ax2[0].plot(price_range, own_price_elasticity_brand_5_s0)\n",
    "ax2[0].set_title('Brand 5 Segment Standard')\n",
    "ax2[0].set_ylabel('Elasticity')\n",
    "ax2[1].plot(price_range, brand5_cross_brand4_price_elasticity_s0)\n",
    "ax2[1].set_title('Cross Brand 4 Segment Standard')\n",
    "\n",
    "ax3[0].plot(price_range, own_price_elasticity_brand_5_s1, 'tab:green')\n",
    "ax3[0].set_title('Brand 5 Segment Career-Focused')\n",
    "ax3[0].set_ylabel('Elasticity')\n",
    "ax3[1].plot(price_range, brand5_cross_brand4_price_elasticity_s1, 'tab:green')\n",
    "ax3[1].set_title('Cross Brand 4 Segment Career-Focused')\n",
    "\n",
    "ax4[0].plot(price_range, own_price_elasticity_brand_5_s2, 'tab:red')\n",
    "ax4[0].set_title('Brand 5 Segment Fewer-Opportunities')\n",
    "ax4[0].set_ylabel('Elasticity')\n",
    "ax4[1].plot(price_range, brand5_cross_brand4_price_elasticity_s2, 'tab:red')\n",
    "ax4[1].set_title('Cross Brand 4 Segment Fewer-Opportunities')\n",
    "\n",
    "ax5[0].plot(price_range, own_price_elastiticty_brand_5_s3, 'tab:orange')\n",
    "ax5[0].set_title('Brand 5 Segment Well-off')\n",
    "ax5[0].set_xlabel('Price 5')\n",
    "ax5[0].set_ylabel('Elasticity')\n",
    "ax5[1].plot(price_range, brand5_cross_brand4_price_elasticity_s3, 'tab:orange')\n",
    "ax5[1].set_title('Cross Brand 4 Segment Well-off')\n",
    "ax5[1].set_xlabel('Price 4')"
   ]
  },
  {
   "cell_type": "markdown",
   "metadata": {},
   "source": [
    "Left side: own price elasticities\n",
    "right side: cross price elasticities per segment of brand 5 to brand 4\n",
    "\n",
    "top two plots are average customers\n",
    "\n",
    "\n",
    "Analysis:\n",
    "- Standard Segment: Standard customer is more elastic than the average customer; the difference becomes more pronounced to other segments; for the observed price range of 2.04 to 2.8€ the entire range is elastic (for our own brand 5) --> If we want to get some of the standard segment we would have to lower prices in this price range to increase purchase probability for the segment. Remember that the segment is heterogeneous\n",
    "- Careerfocused: are least elastic; they are inealstic almost the entire price range of 2 - 2.8€; so the segment is not affected by the increase in the price of our won brand 5. Additionally, the cross brand 4 segment also has low values --> so this shows unlikely that segment careerfocsed will switch upon price changes --> So we can increase prices without loosing marketshare\n",
    "- Fewer opportunities: Our own price elasticity is very elastic at our price range! However, they seem to be a little inelastic regarding cross price elasticity (the reason is that there are only few purchases of brand 4 and 5 in this segment)--> so in order to target this segment we need more data from the segment!\n",
    "\n",
    "\n",
    "\n",
    "overall: if we increase prices, Welloff segment will decrease in size as they are elastic; however the career focused will not really be impacted; "
   ]
  },
  {
   "cell_type": "code",
   "execution_count": null,
   "metadata": {},
   "outputs": [],
   "source": []
  },
  {
   "cell_type": "code",
   "execution_count": null,
   "metadata": {},
   "outputs": [],
   "source": []
  },
  {
   "cell_type": "code",
   "execution_count": null,
   "metadata": {},
   "outputs": [],
   "source": []
  }
 ],
 "metadata": {
  "kernelspec": {
   "display_name": "Python 3.10.5 ('customer_analytics_2022': venv)",
   "language": "python",
   "name": "python3"
  },
  "language_info": {
   "codemirror_mode": {
    "name": "ipython",
    "version": 3
   },
   "file_extension": ".py",
   "mimetype": "text/x-python",
   "name": "python",
   "nbconvert_exporter": "python",
   "pygments_lexer": "ipython3",
   "version": "3.10.5"
  },
  "orig_nbformat": 4,
  "vscode": {
   "interpreter": {
    "hash": "9bbaf45eba04bc734665b055254105252edb0a2110284d0fcd20190490706899"
   }
  }
 },
 "nbformat": 4,
 "nbformat_minor": 2
}
