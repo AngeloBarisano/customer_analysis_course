{
 "cells": [
  {
   "cell_type": "markdown",
   "metadata": {},
   "source": [
    "## Problem\n",
    "\n",
    "You are given data from an Audiobook app. Logically, it relates only to the audio versions of books. Each customer in the database has made a purchase at least once, that's why he/she is in the database. We want to create a machine learning algorithm based on our available data that can predict if a customer will buy again from the Audiobook company.\n",
    "\n",
    "The main idea is that if a customer has a low probability of coming back, there is no reason to spend any money on advertizing to him/her. If we can focus our efforts ONLY on customers that are likely to convert again, we can make great savings. Moreover, this model can identify the most important metrics for a customer to come back again. Identifying new customers creates value and growth opportunities.\n",
    "\n",
    "You have a .csv summarizing the data. There are several variables: Customer ID, Book length in mins_avg (average of all purchases), Book length in minutes_sum (sum of all purchases), Price Paid_avg (average of all purchases), Price paid_sum (sum of all purchases), Review (a Boolean variable), Review (out of 10), Total minutes listened, Completion (from 0 to 1), Support requests (number), and Last visited minus purchase date (in days).\n",
    "\n",
    "So these are the inputs (excluding customer ID, as it is completely arbitrary. It's more like a name, than a number).\n",
    "\n",
    "The targets are a Boolean variable (so 0, or 1). We are taking a period of 2 years in our inputs, and the next 6 months as targets. So, in fact, we are predicting if: based on the last 2 years of activity and engagement, a customer will convert in the next 6 months. 6 months sounds like a reasonable time. If they don't convert after 6 months, chances are they've gone to a competitor or didn't like the Audiobook way of digesting information. \n",
    "\n",
    "The task is simple: create a machine learning algorithm, which is able to predict if a customer will buy again. \n",
    "\n",
    "This is a classification problem with two classes: won't buy and will buy, represented by 0s and 1s. \n",
    "\n",
    "Good luck!"
   ]
  },
  {
   "cell_type": "markdown",
   "metadata": {},
   "source": [
    "## Create the machine leartnign algorithm\n",
    "#### Import the relevant libabries\n"
   ]
  },
  {
   "cell_type": "code",
   "execution_count": 34,
   "metadata": {},
   "outputs": [],
   "source": [
    "import numpy as np\n",
    "import tensorflow as tf"
   ]
  },
  {
   "cell_type": "markdown",
   "metadata": {},
   "source": [
    "## data"
   ]
  },
  {
   "cell_type": "code",
   "execution_count": 35,
   "metadata": {},
   "outputs": [
    {
     "name": "stderr",
     "output_type": "stream",
     "text": [
      "/tmp/ipykernel_38990/1722363040.py:6: DeprecationWarning: `np.float` is a deprecated alias for the builtin `float`. To silence this warning, use `float` by itself. Doing this will not modify any behavior and is safe. If you specifically wanted the numpy scalar type, use `np.float64` here.\n",
      "Deprecated in NumPy 1.20; for more details and guidance: https://numpy.org/devdocs/release/1.20.0-notes.html#deprecations\n",
      "  train_inputs, train_targets = npz['inputs'].astype(np.float), npz['targets'].astype(np.int)\n",
      "/tmp/ipykernel_38990/1722363040.py:6: DeprecationWarning: `np.int` is a deprecated alias for the builtin `int`. To silence this warning, use `int` by itself. Doing this will not modify any behavior and is safe. When replacing `np.int`, you may wish to use e.g. `np.int64` or `np.int32` to specify the precision. If you wish to review your current use, check the release note link for additional information.\n",
      "Deprecated in NumPy 1.20; for more details and guidance: https://numpy.org/devdocs/release/1.20.0-notes.html#deprecations\n",
      "  train_inputs, train_targets = npz['inputs'].astype(np.float), npz['targets'].astype(np.int)\n",
      "/tmp/ipykernel_38990/1722363040.py:10: DeprecationWarning: `np.float` is a deprecated alias for the builtin `float`. To silence this warning, use `float` by itself. Doing this will not modify any behavior and is safe. If you specifically wanted the numpy scalar type, use `np.float64` here.\n",
      "Deprecated in NumPy 1.20; for more details and guidance: https://numpy.org/devdocs/release/1.20.0-notes.html#deprecations\n",
      "  validation_inputs, validation_targets = npz['inputs'].astype(np.float), npz['targets'].astype(np.int)\n",
      "/tmp/ipykernel_38990/1722363040.py:10: DeprecationWarning: `np.int` is a deprecated alias for the builtin `int`. To silence this warning, use `int` by itself. Doing this will not modify any behavior and is safe. When replacing `np.int`, you may wish to use e.g. `np.int64` or `np.int32` to specify the precision. If you wish to review your current use, check the release note link for additional information.\n",
      "Deprecated in NumPy 1.20; for more details and guidance: https://numpy.org/devdocs/release/1.20.0-notes.html#deprecations\n",
      "  validation_inputs, validation_targets = npz['inputs'].astype(np.float), npz['targets'].astype(np.int)\n",
      "/tmp/ipykernel_38990/1722363040.py:14: DeprecationWarning: `np.float` is a deprecated alias for the builtin `float`. To silence this warning, use `float` by itself. Doing this will not modify any behavior and is safe. If you specifically wanted the numpy scalar type, use `np.float64` here.\n",
      "Deprecated in NumPy 1.20; for more details and guidance: https://numpy.org/devdocs/release/1.20.0-notes.html#deprecations\n",
      "  test_inputs, test_targets = npz['inputs'].astype(np.float), npz['targets'].astype(np.int)\n",
      "/tmp/ipykernel_38990/1722363040.py:14: DeprecationWarning: `np.int` is a deprecated alias for the builtin `int`. To silence this warning, use `int` by itself. Doing this will not modify any behavior and is safe. When replacing `np.int`, you may wish to use e.g. `np.int64` or `np.int32` to specify the precision. If you wish to review your current use, check the release note link for additional information.\n",
      "Deprecated in NumPy 1.20; for more details and guidance: https://numpy.org/devdocs/release/1.20.0-notes.html#deprecations\n",
      "  test_inputs, test_targets = npz['inputs'].astype(np.float), npz['targets'].astype(np.int)\n"
     ]
    }
   ],
   "source": [
    "# get the train data\n",
    "npz = np.load(\n",
    "    \"/home/angelo/repos/vscode_repos/customer_analytics_2022/pickle_data_models/Audiobooks_data_train.npz\"\n",
    ")\n",
    "\n",
    "# remember that the npz data is in a tuple form: (inputs, targets)\n",
    "# ensure that the inputs are floats\n",
    "train_inputs, train_targets = npz[\"inputs\"].astype(np.float), npz[\"targets\"].astype(\n",
    "    np.int\n",
    ")\n",
    "\n",
    "# get validation data\n",
    "npz = np.load(\n",
    "    \"/home/angelo/repos/vscode_repos/customer_analytics_2022/pickle_data_models/Audiobooks_data_validation.npz\"\n",
    ")\n",
    "validation_inputs, validation_targets = npz[\"inputs\"].astype(np.float), npz[\n",
    "    \"targets\"\n",
    "].astype(np.int)\n",
    "\n",
    "# get test data\n",
    "npz = np.load(\n",
    "    \"/home/angelo/repos/vscode_repos/customer_analytics_2022/pickle_data_models/Audiobooks_data_test.npz\"\n",
    ")\n",
    "test_inputs, test_targets = npz[\"inputs\"].astype(np.float), npz[\"targets\"].astype(\n",
    "    np.int\n",
    ")"
   ]
  },
  {
   "cell_type": "code",
   "execution_count": 36,
   "metadata": {},
   "outputs": [
    {
     "name": "stdout",
     "output_type": "stream",
     "text": [
      "Num GPUs Available:  0\n"
     ]
    }
   ],
   "source": [
    "print(\"Num GPUs Available: \", len(tf.config.list_physical_devices(\"GPU\")))"
   ]
  },
  {
   "cell_type": "markdown",
   "metadata": {},
   "source": [
    "## Model\n",
    "Outline, optimizers, loss, early stopping & training\n",
    "\n",
    "In order to create a neuronal network we need to define its width and depth\n"
   ]
  },
  {
   "cell_type": "code",
   "execution_count": 37,
   "metadata": {},
   "outputs": [
    {
     "name": "stdout",
     "output_type": "stream",
     "text": [
      "Epoch 1/100\n",
      "36/36 - 0s - loss: 0.5855 - accuracy: 0.7418 - val_loss: 0.4388 - val_accuracy: 0.8837 - 311ms/epoch - 9ms/step\n",
      "Epoch 2/100\n",
      "36/36 - 0s - loss: 0.3849 - accuracy: 0.8731 - val_loss: 0.3240 - val_accuracy: 0.8993 - 49ms/epoch - 1ms/step\n",
      "Epoch 3/100\n",
      "36/36 - 0s - loss: 0.3267 - accuracy: 0.8807 - val_loss: 0.2885 - val_accuracy: 0.9016 - 53ms/epoch - 1ms/step\n",
      "Epoch 4/100\n",
      "36/36 - 0s - loss: 0.3075 - accuracy: 0.8849 - val_loss: 0.2697 - val_accuracy: 0.8971 - 54ms/epoch - 2ms/step\n",
      "Epoch 5/100\n",
      "36/36 - 0s - loss: 0.2939 - accuracy: 0.8902 - val_loss: 0.2540 - val_accuracy: 0.9083 - 50ms/epoch - 1ms/step\n",
      "Epoch 6/100\n",
      "36/36 - 0s - loss: 0.2838 - accuracy: 0.8924 - val_loss: 0.2422 - val_accuracy: 0.9060 - 49ms/epoch - 1ms/step\n",
      "Epoch 7/100\n",
      "36/36 - 0s - loss: 0.2773 - accuracy: 0.8938 - val_loss: 0.2421 - val_accuracy: 0.9172 - 49ms/epoch - 1ms/step\n",
      "Epoch 8/100\n",
      "36/36 - 0s - loss: 0.2696 - accuracy: 0.8975 - val_loss: 0.2330 - val_accuracy: 0.9195 - 54ms/epoch - 1ms/step\n",
      "Epoch 9/100\n",
      "36/36 - 0s - loss: 0.2656 - accuracy: 0.8991 - val_loss: 0.2287 - val_accuracy: 0.9195 - 52ms/epoch - 1ms/step\n",
      "Epoch 10/100\n",
      "36/36 - 0s - loss: 0.2601 - accuracy: 0.9025 - val_loss: 0.2208 - val_accuracy: 0.9150 - 53ms/epoch - 1ms/step\n",
      "Epoch 11/100\n",
      "36/36 - 0s - loss: 0.2555 - accuracy: 0.9014 - val_loss: 0.2268 - val_accuracy: 0.9239 - 51ms/epoch - 1ms/step\n",
      "Epoch 12/100\n",
      "36/36 - 0s - loss: 0.2522 - accuracy: 0.9039 - val_loss: 0.2189 - val_accuracy: 0.9217 - 54ms/epoch - 1ms/step\n",
      "Epoch 13/100\n",
      "36/36 - 0s - loss: 0.2507 - accuracy: 0.9033 - val_loss: 0.2166 - val_accuracy: 0.9195 - 51ms/epoch - 1ms/step\n",
      "Epoch 14/100\n",
      "36/36 - 0s - loss: 0.2481 - accuracy: 0.9056 - val_loss: 0.2233 - val_accuracy: 0.9239 - 52ms/epoch - 1ms/step\n",
      "Epoch 15/100\n",
      "36/36 - 0s - loss: 0.2462 - accuracy: 0.9056 - val_loss: 0.2164 - val_accuracy: 0.9239 - 50ms/epoch - 1ms/step\n",
      "Epoch 16/100\n",
      "36/36 - 0s - loss: 0.2442 - accuracy: 0.9064 - val_loss: 0.2146 - val_accuracy: 0.9239 - 48ms/epoch - 1ms/step\n",
      "Epoch 17/100\n",
      "36/36 - 0s - loss: 0.2417 - accuracy: 0.9078 - val_loss: 0.2143 - val_accuracy: 0.9217 - 46ms/epoch - 1ms/step\n",
      "Epoch 18/100\n",
      "36/36 - 0s - loss: 0.2405 - accuracy: 0.9086 - val_loss: 0.2118 - val_accuracy: 0.9217 - 60ms/epoch - 2ms/step\n",
      "Epoch 19/100\n",
      "36/36 - 0s - loss: 0.2385 - accuracy: 0.9106 - val_loss: 0.2131 - val_accuracy: 0.9239 - 53ms/epoch - 1ms/step\n",
      "Epoch 20/100\n",
      "36/36 - 0s - loss: 0.2363 - accuracy: 0.9109 - val_loss: 0.2190 - val_accuracy: 0.9239 - 54ms/epoch - 2ms/step\n"
     ]
    },
    {
     "data": {
      "text/plain": [
       "<keras.callbacks.History at 0x7f159477c8e0>"
      ]
     },
     "execution_count": 37,
     "metadata": {},
     "output_type": "execute_result"
    }
   ],
   "source": [
    "# Input size must equal the number of predictors\n",
    "# we have 10 predictors\n",
    "from sklearn import metrics\n",
    "\n",
    "\n",
    "input_size = 10\n",
    "\n",
    "# output_size must be two as we have only true and false\n",
    "output_size = 2\n",
    "\n",
    "# hidden layers sizes are usuaully of the same size\n",
    "hidden_layer_size = 50\n",
    "\n",
    "# init the actual model\n",
    "# sequential is the method on the package function that indicates that we are laying down the algortihm\n",
    "# with it we define the parameters and loss  & activation functions\n",
    "model = tf.keras.Sequential(\n",
    "    [\n",
    "        # 1. define the first hidden layer\n",
    "        # finds the dot products with the weights and adds the bias\n",
    "        # it can also apply an activation function\n",
    "        # takes the hiffenlayer size, and then the actiavation function\n",
    "        # relu (rectified linear unit) vs tanh vs sigmoid\n",
    "        tf.keras.layers.Dense(hidden_layer_size, activation=\"relu\"),\n",
    "        # 2. define the second hidden layer\n",
    "        tf.keras.layers.Dense(hidden_layer_size, activation=\"relu\"),\n",
    "        # --> You can stack as many layers as you want\n",
    "        # 3. define the output layer\n",
    "        # note: whenever we are building a classifier, the activation,\n",
    "        # function must transform the output values into probabilites --> SOFTWMAX\n",
    "        tf.keras.layers.Dense(output_size, activation=\"softmax\"),\n",
    "    ]\n",
    ")\n",
    "\n",
    "# choose an optimizer & loss function\n",
    "model.compile(\n",
    "    # good optimizer: Adaptive Moment Estimation (adam)\n",
    "    optimizer=\"adam\",\n",
    "    # regardign loss: we need a classifier\n",
    "    # sparse_categorical_crosstropy apploes one-hot encoding to the targets\n",
    "    loss=\"sparse_categorical_crossentropy\",\n",
    "    # define the metric on what to optimnize for\n",
    "    metrics=[\"accuracy\"],\n",
    ")\n",
    "\n",
    "\n",
    "# we need to set a batch size & set early stop observation (epochs)\n",
    "# batch size will indicate how many obserations are fet to the algorithm at once\n",
    "batch_size = 100\n",
    "\n",
    "# this is the simplest stopping mechanism, setting simply the number of iterations the algorith mhas to converge\n",
    "max_epochs = 100\n",
    "\n",
    "# better stopping\n",
    "# this one will monitor the validation loss and stop the training model the first time the validation loss starts oincreasing\n",
    "# this ensures that the model will not overfit the training data\n",
    "early_stopping = tf.keras.callbacks.EarlyStopping()\n",
    "\n",
    "# the only porblem with the early_stopping above is that the validation loss may have increased by chance\n",
    "# so the algorithm would stop optimizing while this is only by chance\n",
    "# so adjsut the early_stopping using the patience parameter\n",
    "early_stopping = tf.keras.callbacks.EarlyStopping(patience=2)\n",
    "\n",
    "\n",
    "# fit the model\n",
    "model.fit(\n",
    "    train_inputs,  # train inputs\n",
    "    train_targets,  # train targets\n",
    "    batch_size=batch_size,  # batch size\n",
    "    epochs=max_epochs,  # epochs that we will train for (assuming early stopping doesn't kick in)\n",
    "    # callbacks are functions called by a task when a task is completed\n",
    "    # task here is to check if val_loss is increasing\n",
    "    callbacks=[early_stopping],  # early stopping\n",
    "    validation_data=(validation_inputs, validation_targets),  # validation data\n",
    "    verbose=2,  # making sure we get enough information about the training process\n",
    ")"
   ]
  },
  {
   "cell_type": "code",
   "execution_count": null,
   "metadata": {},
   "outputs": [],
   "source": []
  }
 ],
 "metadata": {
  "kernelspec": {
   "display_name": "Python 3.10.5 ('customer_analytics_2022': venv)",
   "language": "python",
   "name": "python3"
  },
  "language_info": {
   "codemirror_mode": {
    "name": "ipython",
    "version": 3
   },
   "file_extension": ".py",
   "mimetype": "text/x-python",
   "name": "python",
   "nbconvert_exporter": "python",
   "pygments_lexer": "ipython3",
   "version": "3.10.5"
  },
  "orig_nbformat": 4,
  "vscode": {
   "interpreter": {
    "hash": "9bbaf45eba04bc734665b055254105252edb0a2110284d0fcd20190490706899"
   }
  }
 },
 "nbformat": 4,
 "nbformat_minor": 2
}
