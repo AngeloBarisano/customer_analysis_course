{
 "cells": [
  {
   "cell_type": "markdown",
   "metadata": {},
   "source": [
    "# Predicting on new data - Model deployment"
   ]
  },
  {
   "cell_type": "markdown",
   "metadata": {},
   "source": [
    "#### Import the relevant libraries"
   ]
  },
  {
   "cell_type": "code",
   "execution_count": 11,
   "metadata": {},
   "outputs": [],
   "source": [
    "import tensorflow as tf\n",
    "import numpy as np\n",
    "import pickle"
   ]
  },
  {
   "cell_type": "markdown",
   "metadata": {},
   "source": [
    "## Load the scaler and the model (DeepLearning)\n",
    "\n",
    "\n",
    "\n",
    "REMEMBER: it is very important to scale your data again with the same scaler - if you use another different point your prediction would be off; but by scaling model, we will make the new point comparable to the data we fed to train the mdoel"
   ]
  },
  {
   "cell_type": "code",
   "execution_count": 12,
   "metadata": {},
   "outputs": [],
   "source": [
    "scaler_deep_learning = pickle.load(\n",
    "    open(\n",
    "        \"/home/angelo/repos/vscode_repos/customer_analytics_2022/pickle_data_models/scaler_deep_learning.pickle\",\n",
    "        \"rb\",\n",
    "    )\n",
    ")"
   ]
  },
  {
   "cell_type": "code",
   "execution_count": 13,
   "metadata": {},
   "outputs": [],
   "source": [
    "model = tf.keras.models.load_model(\n",
    "    \"/home/angelo/repos/vscode_repos/customer_analytics_2022/pickle_data_models/Audiobooks_model_neuronal_network.h5\"\n",
    ")"
   ]
  },
  {
   "cell_type": "markdown",
   "metadata": {},
   "source": [
    "### Load the new data"
   ]
  },
  {
   "cell_type": "code",
   "execution_count": 14,
   "metadata": {},
   "outputs": [],
   "source": [
    "raw_data = np.loadtxt(\n",
    "    \"/home/angelo/repos/vscode_repos/customer_analytics_2022/Data/New_Audiobooks_Data.csv\",\n",
    "    delimiter=\",\",\n",
    ")\n",
    "\n",
    "# remove the ID column\n",
    "new_data_inputs = raw_data[:, 1:]"
   ]
  },
  {
   "cell_type": "markdown",
   "metadata": {},
   "source": [
    "Obviously the new data does not contain targets: we want to predict whether these clients will convert\n",
    "\n",
    "\n",
    "## Predict the probability of a customer to convert"
   ]
  },
  {
   "cell_type": "code",
   "execution_count": 15,
   "metadata": {},
   "outputs": [],
   "source": [
    "new_data_inputs_scaled = scaler_deep_learning.transform(new_data_inputs)"
   ]
  },
  {
   "cell_type": "code",
   "execution_count": 16,
   "metadata": {},
   "outputs": [
    {
     "name": "stdout",
     "output_type": "stream",
     "text": [
      "1/1 [==============================] - 0s 128ms/step\n"
     ]
    },
    {
     "data": {
      "text/plain": [
       "array([0.02, 0.  , 0.1 , 1.  , 0.  , 0.08, 0.06, 0.09, 0.06, 0.82, 0.  ,\n",
       "       0.81, 0.94, 0.  , 0.12, 0.14, 0.91, 0.77, 0.87, 0.97, 1.  , 1.  ,\n",
       "       1.  , 0.  , 0.  , 1.  , 0.47, 0.  , 1.  , 1.  ], dtype=float32)"
      ]
     },
     "execution_count": 16,
     "metadata": {},
     "output_type": "execute_result"
    }
   ],
   "source": [
    "model.predict(new_data_inputs_scaled)[:, 1].round(2)"
   ]
  },
  {
   "cell_type": "code",
   "execution_count": 17,
   "metadata": {},
   "outputs": [
    {
     "name": "stdout",
     "output_type": "stream",
     "text": [
      "1/1 [==============================] - 0s 16ms/step\n"
     ]
    },
    {
     "data": {
      "text/plain": [
       "array([0, 0, 0, 1, 0, 0, 0, 0, 0, 1, 0, 1, 1, 0, 0, 0, 1, 1, 1, 1, 1, 1,\n",
       "       1, 0, 0, 1, 0, 0, 1, 1])"
      ]
     },
     "execution_count": 17,
     "metadata": {},
     "output_type": "execute_result"
    }
   ],
   "source": [
    "np.argmax(model.predict(new_data_inputs_scaled), 1)"
   ]
  },
  {
   "cell_type": "markdown",
   "metadata": {},
   "source": [
    "thats it! You just predicted the conversion probability of 30 new customers; you can then match these customers with their ID or progress with further analysics; \n",
    "\n",
    "\n",
    "But we are aroudn 92% certain of their future pruchasing behaviour\n",
    "\n",
    "\n",
    "Note: we do not really know why neuronal networs are this good; even stochastic gradient descent has started to be disregarded as the main reason\n",
    "\n",
    "\n"
   ]
  },
  {
   "cell_type": "markdown",
   "metadata": {},
   "source": [
    "## IMPORTANT! WE may actually deploy a neuronal network to calculate the price coefficients in the Elasticities section as a suggestion\n"
   ]
  },
  {
   "cell_type": "markdown",
   "metadata": {},
   "source": []
  }
 ],
 "metadata": {
  "kernelspec": {
   "display_name": "Python 3.10.5 ('customer_analytics_2022': venv)",
   "language": "python",
   "name": "python3"
  },
  "language_info": {
   "codemirror_mode": {
    "name": "ipython",
    "version": 3
   },
   "file_extension": ".py",
   "mimetype": "text/x-python",
   "name": "python",
   "nbconvert_exporter": "python",
   "pygments_lexer": "ipython3",
   "version": "3.10.5"
  },
  "orig_nbformat": 4,
  "vscode": {
   "interpreter": {
    "hash": "9bbaf45eba04bc734665b055254105252edb0a2110284d0fcd20190490706899"
   }
  }
 },
 "nbformat": 4,
 "nbformat_minor": 2
}
